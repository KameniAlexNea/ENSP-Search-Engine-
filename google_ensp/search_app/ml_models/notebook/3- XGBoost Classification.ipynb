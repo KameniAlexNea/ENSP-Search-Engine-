{
 "cells": [
  {
   "cell_type": "code",
   "execution_count": 1,
   "metadata": {},
   "outputs": [],
   "source": [
    "import os\n",
    "\n",
    "import warnings \n",
    "warnings.filterwarnings('ignore')\n",
    "\n",
    "# importing packages\n",
    "import numpy as np\n",
    "import pandas as pd\n",
    "import spacy\n",
    "import pickle\n",
    "from scipy import spatial\n",
    "import re\n",
    "import seaborn as sns\n",
    "import matplotlib.pyplot as plt\n",
    "%matplotlib inline\n",
    "\n",
    "# nltk packages\n",
    "import nltk\n",
    "from nltk import word_tokenize\n",
    "from nltk.stem import WordNetLemmatizer \n",
    "from nltk.corpus import stopwords\n",
    "from string import punctuation\n",
    "import unidecode\n",
    "from nltk.tokenize import word_tokenize\n",
    "from nltk.tag import pos_tag\n",
    "from nltk.corpus import wordnet as wn\n",
    "from nltk.stem import PorterStemmer\n",
    "\n",
    "from sentence_transformers import SentenceTransformer\n",
    "\n",
    "# sklearn packages\n",
    "from sklearn import metrics\n",
    "from sklearn.feature_extraction.text import TfidfVectorizer, CountVectorizer\n",
    "from sklearn.model_selection import train_test_split, GridSearchCV, cross_val_score, StratifiedKFold\n",
    "from sklearn.pipeline import Pipeline, FeatureUnion\n",
    "from sklearn.preprocessing import FunctionTransformer, StandardScaler\n",
    "from sklearn.base import BaseEstimator, TransformerMixin\n",
    "from sklearn.neighbors import KNeighborsClassifier\n",
    "from sklearn.tree import DecisionTreeClassifier\n",
    "from sklearn.ensemble import RandomForestClassifier, AdaBoostClassifier\n",
    "from sklearn.naive_bayes import MultinomialNB\n",
    "from sklearn.dummy import DummyClassifier\n",
    "from sklearn.multioutput import ClassifierChain\n",
    "from sklearn.model_selection import train_test_split\n",
    "from sklearn.multiclass import OneVsRestClassifier\n",
    "from sklearn.linear_model import LogisticRegression\n",
    "from sklearn.svm import SVC\n",
    "\n",
    "from xgboost import XGBClassifier\n",
    "\n",
    "# utilies functions\n",
    "import helper\n",
    "import metrics as m"
   ]
  },
  {
   "cell_type": "code",
   "execution_count": 2,
   "metadata": {},
   "outputs": [
    {
     "data": {
      "text/html": [
       "<div>\n",
       "<style scoped>\n",
       "    .dataframe tbody tr th:only-of-type {\n",
       "        vertical-align: middle;\n",
       "    }\n",
       "\n",
       "    .dataframe tbody tr th {\n",
       "        vertical-align: top;\n",
       "    }\n",
       "\n",
       "    .dataframe thead th {\n",
       "        text-align: right;\n",
       "    }\n",
       "</style>\n",
       "<table border=\"1\" class=\"dataframe\">\n",
       "  <thead>\n",
       "    <tr style=\"text-align: right;\">\n",
       "      <th></th>\n",
       "      <th>QUERY</th>\n",
       "      <th>REMEMBERING</th>\n",
       "      <th>UNDERSTANDING</th>\n",
       "      <th>APPLYING</th>\n",
       "      <th>ANALYZING</th>\n",
       "      <th>EVALUATING</th>\n",
       "      <th>CREATING</th>\n",
       "    </tr>\n",
       "  </thead>\n",
       "  <tbody>\n",
       "    <tr>\n",
       "      <th>0</th>\n",
       "      <td>\"their own language\" means  _  .</td>\n",
       "      <td>1.0</td>\n",
       "      <td>0.0</td>\n",
       "      <td>0.0</td>\n",
       "      <td>0.0</td>\n",
       "      <td>0.0</td>\n",
       "      <td>0.0</td>\n",
       "    </tr>\n",
       "    <tr>\n",
       "      <th>1</th>\n",
       "      <td>\"you may think the popular singer jay chow is ...</td>\n",
       "      <td>0.0</td>\n",
       "      <td>1.0</td>\n",
       "      <td>0.0</td>\n",
       "      <td>0.0</td>\n",
       "      <td>0.0</td>\n",
       "      <td>0.0</td>\n",
       "    </tr>\n",
       "    <tr>\n",
       "      <th>2</th>\n",
       "      <td>. at midnight, nasreddin saw   _  in his garden.</td>\n",
       "      <td>1.0</td>\n",
       "      <td>0.0</td>\n",
       "      <td>0.0</td>\n",
       "      <td>0.0</td>\n",
       "      <td>0.0</td>\n",
       "      <td>0.0</td>\n",
       "    </tr>\n",
       "    <tr>\n",
       "      <th>3</th>\n",
       "      <td>. david beckham  is   _   years old.</td>\n",
       "      <td>1.0</td>\n",
       "      <td>0.0</td>\n",
       "      <td>0.0</td>\n",
       "      <td>0.0</td>\n",
       "      <td>0.0</td>\n",
       "      <td>0.0</td>\n",
       "    </tr>\n",
       "    <tr>\n",
       "      <th>4</th>\n",
       "      <td>. david beckham's family name is   _  and zhou...</td>\n",
       "      <td>1.0</td>\n",
       "      <td>0.0</td>\n",
       "      <td>0.0</td>\n",
       "      <td>0.0</td>\n",
       "      <td>0.0</td>\n",
       "      <td>0.0</td>\n",
       "    </tr>\n",
       "  </tbody>\n",
       "</table>\n",
       "</div>"
      ],
      "text/plain": [
       "                                               QUERY  REMEMBERING  \\\n",
       "0                   \"their own language\" means  _  .          1.0   \n",
       "1  \"you may think the popular singer jay chow is ...          0.0   \n",
       "2   . at midnight, nasreddin saw   _  in his garden.          1.0   \n",
       "3               . david beckham  is   _   years old.          1.0   \n",
       "4  . david beckham's family name is   _  and zhou...          1.0   \n",
       "\n",
       "   UNDERSTANDING  APPLYING  ANALYZING  EVALUATING  CREATING  \n",
       "0            0.0       0.0        0.0         0.0       0.0  \n",
       "1            1.0       0.0        0.0         0.0       0.0  \n",
       "2            0.0       0.0        0.0         0.0       0.0  \n",
       "3            0.0       0.0        0.0         0.0       0.0  \n",
       "4            0.0       0.0        0.0         0.0       0.0  "
      ]
     },
     "execution_count": 2,
     "metadata": {},
     "output_type": "execute_result"
    }
   ],
   "source": [
    "df = pd.read_csv(\"./output/queries_df.csv\")\n",
    "df.head()"
   ]
  },
  {
   "cell_type": "code",
   "execution_count": 3,
   "metadata": {},
   "outputs": [],
   "source": [
    "def unidecode_text(text):\n",
    "    try:\n",
    "        text = unidecode.unidecode(text)\n",
    "    except:\n",
    "        pass\n",
    "    return text"
   ]
  },
  {
   "cell_type": "code",
   "execution_count": 4,
   "metadata": {},
   "outputs": [],
   "source": [
    "df[\"QUERY_UC\"] = df.QUERY.apply(unidecode_text)"
   ]
  },
  {
   "cell_type": "code",
   "execution_count": 5,
   "metadata": {},
   "outputs": [],
   "source": [
    "categories = [\"REMEMBERING\", \"UNDERSTANDING\", \"APPLYING\", \"ANALYZING\", \"EVALUATING\", \"CREATING\"]"
   ]
  },
  {
   "cell_type": "code",
   "execution_count": 7,
   "metadata": {},
   "outputs": [
    {
     "name": "stdout",
     "output_type": "stream",
     "text": [
      "0.0    143926\n",
      "1.0     45873\n",
      "Name: REMEMBERING, dtype: int64\n",
      "0.0    181279\n",
      "1.0      8520\n",
      "Name: UNDERSTANDING, dtype: int64\n",
      "0.0    166346\n",
      "1.0     23453\n",
      "Name: APPLYING, dtype: int64\n",
      "0.0    149809\n",
      "1.0     39990\n",
      "Name: ANALYZING, dtype: int64\n",
      "0.0    173122\n",
      "1.0     16677\n",
      "Name: EVALUATING, dtype: int64\n",
      "0.0    134513\n",
      "1.0     55286\n",
      "Name: CREATING, dtype: int64\n"
     ]
    }
   ],
   "source": [
    "for category in categories:\n",
    "    print(df[category].value_counts())"
   ]
  },
  {
   "cell_type": "code",
   "execution_count": 8,
   "metadata": {},
   "outputs": [
    {
     "data": {
      "text/plain": [
       "0                     \"their own language\" means  _  .\n",
       "1    \"you may think the popular singer jay chow is ...\n",
       "2     . at midnight, nasreddin saw   _  in his garden.\n",
       "3                 . david beckham  is   _   years old.\n",
       "4    . david beckham's family name is   _  and zhou...\n",
       "Name: QUERY_UC, dtype: object"
      ]
     },
     "execution_count": 8,
     "metadata": {},
     "output_type": "execute_result"
    }
   ],
   "source": [
    "df[\"QUERY_UC\"].head()"
   ]
  },
  {
   "cell_type": "code",
   "execution_count": 9,
   "metadata": {},
   "outputs": [],
   "source": [
    "# list of word types (nouns and adjectives) to leave in the text\n",
    "# defTags = ['NN', 'NNS', 'NNP', 'NNPS', 'JJ', 'JJS', 'JJR']#, 'RB', 'RBS', 'RBR', 'VB', 'VBD', 'VBG', 'VBN', 'VBP', 'VBZ']\n",
    "\n",
    "# functions to determine the type of a word\n",
    "def is_noun(tag):\n",
    "    return tag in ['NN', 'NNS', 'NNP', 'NNPS']\n",
    "\n",
    "\n",
    "def is_verb(tag):\n",
    "    return tag in ['VB', 'VBD', 'VBG', 'VBN', 'VBP', 'VBZ']\n",
    "\n",
    "\n",
    "def is_adverb(tag):\n",
    "    return tag in ['RB', 'RBR', 'RBS']\n",
    "\n",
    "\n",
    "def is_adjective(tag):\n",
    "    return tag in ['JJ', 'JJR', 'JJS']\n",
    "\n",
    "# transform tag forms\n",
    "def penn_to_wn(tag):\n",
    "    if is_adjective(tag):\n",
    "        return nltk.stem.wordnet.wordnet.ADJ\n",
    "    elif is_noun(tag):\n",
    "        return nltk.stem.wordnet.wordnet.NOUN\n",
    "    elif is_adverb(tag):\n",
    "        return nltk.stem.wordnet.wordnet.ADV\n",
    "    elif is_verb(tag):\n",
    "        return nltk.stem.wordnet.wordnet.VERB\n",
    "    return nltk.stem.wordnet.wordnet.NOUN\n",
    "    \n",
    "# lemmatizer + tokenizer (+ stemming) class\n",
    "class LemmaTokenizer(object):\n",
    "    def __init__(self):\n",
    "        self.wnl = WordNetLemmatizer()\n",
    "        # we define (but not use) a stemming method, uncomment the last line in __call__ to get stemming tooo\n",
    "        self.stemmer = nltk.stem.SnowballStemmer('english') \n",
    "    def __call__(self, doc):\n",
    "        # pattern for numbers | words of length=2 | punctuations | words of length=1\n",
    "        pattern = re.compile(r'[0-9]+|\\b[\\w]{2,2}\\b|[%.,_`!\"&?\\')({~@;:#}+-]+|\\b[\\w]{1,1}\\b')\n",
    "        # tokenize document\n",
    "        doc_tok = word_tokenize(doc)\n",
    "        #filter out patterns from words\n",
    "        # doc_tok = [x for x in doc_tok if x not in stop_words1]\n",
    "        doc_tok = [pattern.sub('', x) for x in doc_tok]\n",
    "        # get rid of anything with length=1\n",
    "        doc_tok = [x for x in doc_tok if len(x) > 1]\n",
    "        # position tagging\n",
    "        doc_tagged = nltk.pos_tag(doc_tok)\n",
    "        # selecting nouns and adjectives\n",
    "        # doc_tagged = [(t[0], t[1]) for t in doc_tagged if t[1] in defTags]\n",
    "        # preparing lemmatization\n",
    "        doc = [(t[0], penn_to_wn(t[1])) for t in doc_tagged]\n",
    "        # lemmatization\n",
    "        doc = [self.wnl.lemmatize(t[0], t[1]) for t in doc]\n",
    "        # uncomment if you want stemming as well\n",
    "        doc = [self.stemmer.stem(x) for x in doc]\n",
    "        return doc"
   ]
  },
  {
   "cell_type": "code",
   "execution_count": 10,
   "metadata": {},
   "outputs": [],
   "source": [
    "vec_tdidf = TfidfVectorizer(ngram_range=(1,4), analyzer='word', #stop_words=stop_words1, \n",
    "                                               norm='l2', tokenizer=LemmaTokenizer())"
   ]
  },
  {
   "cell_type": "code",
   "execution_count": 11,
   "metadata": {},
   "outputs": [],
   "source": [
    "clf = XGBClassifier(random_state=42, seed=2, colsample_bytree=0.6, subsample=0.8)"
   ]
  },
  {
   "cell_type": "code",
   "execution_count": null,
   "metadata": {},
   "outputs": [],
   "source": [
    "class TextSelector(BaseEstimator, TransformerMixin):\n",
    "    \"\"\"\n",
    "    Transformer to select a single column from the data frame to perform additional transformations on\n",
    "    Use on text columns in the data\n",
    "    \"\"\"\n",
    "    def __init__(self, key):\n",
    "        self.key = key\n",
    "\n",
    "    def fit(self, X, y=None, *parg, **kwarg):\n",
    "        return self\n",
    "\n",
    "    def transform(self, X):\n",
    "        # returns the input as a string\n",
    "        return X[self.key]\n",
    "    \n",
    "class NumberSelector(BaseEstimator, TransformerMixin):\n",
    "    \"\"\"\n",
    "    Transformer to select a single column from the data frame to perform additional transformations on\n",
    "    Use on numeric columns in the data\n",
    "    \"\"\"\n",
    "    def __init__(self, key):\n",
    "        self.key = key\n",
    "\n",
    "    def fit(self, X, y=None):\n",
    "        return self\n",
    "\n",
    "    def transform(self, X):\n",
    "        # returns the input as a dataframe\n",
    "        return X[[self.key]]"
   ]
  },
  {
   "cell_type": "code",
   "execution_count": 82,
   "metadata": {},
   "outputs": [],
   "source": [
    "def print_stats(preds, target, labels, sep='-', sep_len=40, fig_size=(10,8), categories=categories):\n",
    "    print('Accuracy = %.3f' % metrics.accuracy_score(target, preds))\n",
    "    print(sep*sep_len)\n",
    "    print('Classification report:')\n",
    "    print(metrics.classification_report(target, preds, target_names=categories))\n",
    "    print(sep*sep_len)\n",
    "    print('Confusion matrix')\n",
    "    cm=metrics.confusion_matrix(target, preds)\n",
    "    cm = cm / np.sum(cm, axis=1)[:,None]\n",
    "    sns.set(rc={'figure.figsize':fig_size})\n",
    "    sns.heatmap(cm, \n",
    "        xticklabels=labels,\n",
    "        yticklabels=labels,\n",
    "           annot=True, cmap = 'YlGnBu')\n",
    "    plt.pause(0.05)"
   ]
  },
  {
   "cell_type": "code",
   "execution_count": 13,
   "metadata": {},
   "outputs": [],
   "source": [
    "pipe = Pipeline([\n",
    "    ('vect', vec_tdidf),\n",
    "    ('clf', clf)\n",
    "])"
   ]
  },
  {
   "cell_type": "code",
   "execution_count": 14,
   "metadata": {},
   "outputs": [
    {
     "data": {
      "text/plain": [
       "{'objective': 'binary:logistic',\n",
       " 'base_score': None,\n",
       " 'booster': None,\n",
       " 'colsample_bylevel': None,\n",
       " 'colsample_bynode': None,\n",
       " 'colsample_bytree': 0.6,\n",
       " 'gamma': None,\n",
       " 'gpu_id': None,\n",
       " 'importance_type': 'gain',\n",
       " 'interaction_constraints': None,\n",
       " 'learning_rate': None,\n",
       " 'max_delta_step': None,\n",
       " 'max_depth': None,\n",
       " 'min_child_weight': None,\n",
       " 'missing': nan,\n",
       " 'monotone_constraints': None,\n",
       " 'n_estimators': 100,\n",
       " 'n_jobs': None,\n",
       " 'num_parallel_tree': None,\n",
       " 'random_state': 42,\n",
       " 'reg_alpha': None,\n",
       " 'reg_lambda': None,\n",
       " 'scale_pos_weight': None,\n",
       " 'subsample': 0.8,\n",
       " 'tree_method': None,\n",
       " 'validate_parameters': None,\n",
       " 'verbosity': None,\n",
       " 'seed': 2}"
      ]
     },
     "execution_count": 14,
     "metadata": {},
     "output_type": "execute_result"
    }
   ],
   "source": [
    "pipe.named_steps['clf'].get_params()"
   ]
  },
  {
   "cell_type": "code",
   "execution_count": 15,
   "metadata": {},
   "outputs": [],
   "source": [
    "X_train, X_test, y_train, y_test = train_test_split(df[\"QUERY_UC\"], df[categories], test_size=0.25, random_state=41)"
   ]
  },
  {
   "cell_type": "code",
   "execution_count": 16,
   "metadata": {},
   "outputs": [],
   "source": [
    "labels = np.array(range(6))\n",
    "y_train, y_test = np.dot(y_train.values, labels), np.dot(y_test.values, labels)"
   ]
  },
  {
   "cell_type": "code",
   "execution_count": 17,
   "metadata": {},
   "outputs": [
    {
     "data": {
      "text/plain": [
       "array([5., 0., 0., 4., 3.])"
      ]
     },
     "execution_count": 17,
     "metadata": {},
     "output_type": "execute_result"
    }
   ],
   "source": [
    "y_train[:5]"
   ]
  },
  {
   "cell_type": "code",
   "execution_count": 18,
   "metadata": {},
   "outputs": [],
   "source": [
    "# definition of parameter grid to scan through\n",
    "param_grid = {\n",
    "    'clf__n_estimators': [50, 100, 200],\n",
    "    'clf__colsample_bytree': [0.6, 0.8, 1]\n",
    "    ,'clf__subsample': [0.6, 0.7, 0.8, 0.9]\n",
    "}"
   ]
  },
  {
   "cell_type": "code",
   "execution_count": 19,
   "metadata": {},
   "outputs": [],
   "source": [
    "# grid search cross validation instantiation\n",
    "grid_search = GridSearchCV(estimator = pipe, param_grid = param_grid, cv = 5, n_jobs=-1, verbose = 10, return_train_score=True)"
   ]
  },
  {
   "cell_type": "code",
   "execution_count": 21,
   "metadata": {},
   "outputs": [
    {
     "name": "stderr",
     "output_type": "stream",
     "text": [
      "[nltk_data] Downloading package punkt to /home/kameni_a/nltk_data...\n",
      "[nltk_data]   Unzipping tokenizers/punkt.zip.\n"
     ]
    },
    {
     "data": {
      "text/plain": [
       "True"
      ]
     },
     "execution_count": 21,
     "metadata": {},
     "output_type": "execute_result"
    }
   ],
   "source": [
    "import nltk\n",
    "nltk.download('punkt')"
   ]
  },
  {
   "cell_type": "code",
   "execution_count": null,
   "metadata": {},
   "outputs": [
    {
     "name": "stdout",
     "output_type": "stream",
     "text": [
      "Fitting 5 folds for each of 36 candidates, totalling 180 fits\n"
     ]
    },
    {
     "name": "stderr",
     "output_type": "stream",
     "text": [
      "[Parallel(n_jobs=-1)]: Using backend LokyBackend with 32 concurrent workers.\n",
      "[Parallel(n_jobs=-1)]: Done   8 tasks      | elapsed: 24.2min\n",
      "[Parallel(n_jobs=-1)]: Done  21 tasks      | elapsed: 36.0min\n",
      "[Parallel(n_jobs=-1)]: Done  34 tasks      | elapsed: 61.1min\n",
      "[Parallel(n_jobs=-1)]: Done  49 tasks      | elapsed: 85.7min\n",
      "[Parallel(n_jobs=-1)]: Done  64 tasks      | elapsed: 89.3min\n"
     ]
    }
   ],
   "source": [
    "grid_search.fit(X_train.values, y_train)"
   ]
  },
  {
   "cell_type": "code",
   "execution_count": 25,
   "metadata": {},
   "outputs": [
    {
     "data": {
      "text/plain": [
       "array([0.70087075, 0.70203514, 0.70466775, 0.70604114, 0.73888647,\n",
       "       0.7417755 , 0.74429395, 0.74649277, 0.78147195, 0.78478247,\n",
       "       0.78841615, 0.78995813, 0.70217915, 0.7042726 , 0.7060587 ,\n",
       "       0.70751814, 0.74078322, 0.74396729, 0.74632769, 0.74851246,\n",
       "       0.78374453, 0.78756612, 0.79068522, 0.79239229, 0.70348756,\n",
       "       0.70512965, 0.70718446, 0.70838573, 0.74210216, 0.74502104,\n",
       "       0.74764312, 0.7494942 , 0.78544984, 0.78992301, 0.79302103,\n",
       "       0.79435929])"
      ]
     },
     "execution_count": 25,
     "metadata": {},
     "output_type": "execute_result"
    }
   ],
   "source": [
    "grid_search.cv_results_['mean_train_score']"
   ]
  },
  {
   "cell_type": "code",
   "execution_count": 26,
   "metadata": {},
   "outputs": [
    {
     "data": {
      "text/plain": [
       "array([0.65059822, 0.6505912 , 0.65072466, 0.6508792 , 0.6675495 ,\n",
       "       0.66941112, 0.66934791, 0.66901772, 0.68077754, 0.68240033,\n",
       "       0.68188752, 0.68129037, 0.6492424 , 0.65028911, 0.65001513,\n",
       "       0.65005026, 0.66809745, 0.6691512 , 0.66871565, 0.6687016 ,\n",
       "       0.6806511 , 0.68155029, 0.68072837, 0.6812131 , 0.64938991,\n",
       "       0.64965686, 0.65014861, 0.64971306, 0.66722635, 0.66784455,\n",
       "       0.66882103, 0.66823795, 0.68103747, 0.68110069, 0.68094615,\n",
       "       0.6803982 ])"
      ]
     },
     "execution_count": 26,
     "metadata": {},
     "output_type": "execute_result"
    }
   ],
   "source": [
    "grid_search.cv_results_['mean_test_score']"
   ]
  },
  {
   "cell_type": "code",
   "execution_count": 27,
   "metadata": {},
   "outputs": [
    {
     "data": {
      "text/plain": [
       "{'clf__colsample_bytree': 0.6, 'clf__n_estimators': 200, 'clf__subsample': 0.7}"
      ]
     },
     "execution_count": 27,
     "metadata": {},
     "output_type": "execute_result"
    }
   ],
   "source": [
    "grid_search.best_params_"
   ]
  },
  {
   "cell_type": "code",
   "execution_count": 28,
   "metadata": {},
   "outputs": [],
   "source": [
    "clf_test = grid_search.best_estimator_"
   ]
  },
  {
   "cell_type": "code",
   "execution_count": 29,
   "metadata": {},
   "outputs": [],
   "source": [
    "preds = clf_test.predict(X_test)"
   ]
  },
  {
   "cell_type": "code",
   "execution_count": 30,
   "metadata": {},
   "outputs": [
    {
     "name": "stdout",
     "output_type": "stream",
     "text": [
      "Accuracy = 0.688\n",
      "----------------------------------------\n",
      "Classification report:\n",
      "               precision    recall  f1-score   support\n",
      "\n",
      "  REMEMBERING       0.79      0.67      0.72     13639\n",
      "UNDERSTANDING       0.41      0.54      0.47      1634\n",
      "     APPLYING       0.42      0.67      0.52      3722\n",
      "    ANALYZING       0.77      0.68      0.72     11108\n",
      "   EVALUATING       0.48      0.67      0.56      2957\n",
      "     CREATING       0.77      0.74      0.75     14390\n",
      "\n",
      "     accuracy                           0.69     47450\n",
      "    macro avg       0.61      0.66      0.62     47450\n",
      " weighted avg       0.72      0.69      0.70     47450\n",
      "\n",
      "----------------------------------------\n",
      "Confusion matrix\n"
     ]
    },
    {
     "data": {
      "image/png": "[encoded data removed]",
      "text/plain": [
       "<Figure size 720x576 with 2 Axes>"
      ]
     },
     "metadata": {},
     "output_type": "display_data"
    }
   ],
   "source": [
    "print_stats(y_test, preds, clf_test.classes_)"
   ]
  },
  {
   "cell_type": "markdown",
   "metadata": {},
   "source": [
    "pip install imblearn"
   ]
  },
  {
   "cell_type": "code",
   "execution_count": 32,
   "metadata": {},
   "outputs": [],
   "source": [
    "from imblearn.under_sampling import RandomUnderSampler\n",
    "from imblearn.over_sampling import RandomOverSampler\n",
    "from collections import Counter\n",
    "from imblearn.over_sampling import SMOTE  \n",
    "from imblearn.pipeline import Pipeline as imbPipeline"
   ]
  },
  {
   "cell_type": "code",
   "execution_count": 34,
   "metadata": {},
   "outputs": [],
   "source": [
    "clf = XGBClassifier(random_state=42, seed=2, colsample_bytree=0.6, subsample=0.7, \n",
    "                    n_estimators=300)\n",
    "sm = SMOTE(random_state=42, sampling_strategy='auto')\n",
    "pipe = imbPipeline([('vect', vec_tdidf),\n",
    "                    ('smote', sm),\n",
    "                    ('clf',clf)\n",
    "                 ])"
   ]
  },
  {
   "cell_type": "code",
   "execution_count": 35,
   "metadata": {},
   "outputs": [
    {
     "data": {
      "text/plain": [
       "Pipeline(steps=[('vect',\n",
       "                 TfidfVectorizer(ngram_range=(1, 4),\n",
       "                                 tokenizer=<__main__.LemmaTokenizer object at 0x7fb09daf8b38>)),\n",
       "                ('smote', SMOTE(random_state=42)),\n",
       "                ('clf',\n",
       "                 XGBClassifier(base_score=0.5, booster='gbtree',\n",
       "                               colsample_bylevel=1, colsample_bynode=1,\n",
       "                               colsample_bytree=0.6, gamma=0, gpu_id=-1,\n",
       "                               importance_type='gain',\n",
       "                               interaction_constraints='',\n",
       "                               learning_rate=0.300000012, max_delta_step=0,\n",
       "                               max_depth=6, min_child_weight=1, missing=nan,\n",
       "                               monotone_constraints='()', n_estimators=300,\n",
       "                               n_jobs=0, num_parallel_tree=1,\n",
       "                               objective='multi:softprob', random_state=42,\n",
       "                               reg_alpha=0, reg_lambda=1, scale_pos_weight=None,\n",
       "                               seed=2, subsample=0.7, tree_method='exact',\n",
       "                               validate_parameters=1, verbosity=None))])"
      ]
     },
     "execution_count": 35,
     "metadata": {},
     "output_type": "execute_result"
    }
   ],
   "source": [
    "pipe.fit(X_train, y_train)"
   ]
  },
  {
   "cell_type": "code",
   "execution_count": 36,
   "metadata": {},
   "outputs": [
    {
     "name": "stdout",
     "output_type": "stream",
     "text": [
      "Accuracy = 0.688\n",
      "----------------------------------------\n",
      "Classification report:\n",
      "               precision    recall  f1-score   support\n",
      "\n",
      "  REMEMBERING       0.74      0.71      0.72     12046\n",
      "UNDERSTANDING       0.52      0.46      0.49      2415\n",
      "     APPLYING       0.41      0.68      0.51      3539\n",
      "    ANALYZING       0.78      0.67      0.72     11556\n",
      "   EVALUATING       0.54      0.62      0.58      3640\n",
      "     CREATING       0.77      0.74      0.76     14254\n",
      "\n",
      "     accuracy                           0.69     47450\n",
      "    macro avg       0.63      0.65      0.63     47450\n",
      " weighted avg       0.71      0.69      0.69     47450\n",
      "\n",
      "----------------------------------------\n",
      "Confusion matrix\n"
     ]
    },
    {
     "data": {
      "image/png": "[encoded data removed]",
      "text/plain": [
       "<Figure size 720x576 with 2 Axes>"
      ]
     },
     "metadata": {},
     "output_type": "display_data"
    }
   ],
   "source": [
    "preds = pipe.predict(X_test)\n",
    "print_stats(y_test, preds, pipe.classes_)"
   ]
  },
  {
   "cell_type": "code",
   "execution_count": 37,
   "metadata": {},
   "outputs": [],
   "source": [
    "preds_proba = pipe.predict_proba(X_test)"
   ]
  },
  {
   "cell_type": "code",
   "execution_count": 38,
   "metadata": {},
   "outputs": [
    {
     "data": {
      "text/plain": [
       "(47450, 6)"
      ]
     },
     "execution_count": 38,
     "metadata": {},
     "output_type": "execute_result"
    }
   ],
   "source": [
    "preds_proba.shape"
   ]
  },
  {
   "cell_type": "code",
   "execution_count": 40,
   "metadata": {},
   "outputs": [
    {
     "data": {
      "text/html": [
       "<div>\n",
       "<style scoped>\n",
       "    .dataframe tbody tr th:only-of-type {\n",
       "        vertical-align: middle;\n",
       "    }\n",
       "\n",
       "    .dataframe tbody tr th {\n",
       "        vertical-align: top;\n",
       "    }\n",
       "\n",
       "    .dataframe thead th {\n",
       "        text-align: right;\n",
       "    }\n",
       "</style>\n",
       "<table border=\"1\" class=\"dataframe\">\n",
       "  <thead>\n",
       "    <tr style=\"text-align: right;\">\n",
       "      <th></th>\n",
       "      <th>TP</th>\n",
       "      <th>TN</th>\n",
       "      <th>FP</th>\n",
       "      <th>FN</th>\n",
       "      <th>Accuracy</th>\n",
       "      <th>Prevalence</th>\n",
       "      <th>Sensitivity</th>\n",
       "      <th>Specificity</th>\n",
       "      <th>PPV</th>\n",
       "      <th>NPV</th>\n",
       "      <th>AUC</th>\n",
       "      <th>F1</th>\n",
       "      <th>Threshold</th>\n",
       "    </tr>\n",
       "    <tr>\n",
       "      <th></th>\n",
       "      <th></th>\n",
       "      <th></th>\n",
       "      <th></th>\n",
       "      <th></th>\n",
       "      <th></th>\n",
       "      <th></th>\n",
       "      <th></th>\n",
       "      <th></th>\n",
       "      <th></th>\n",
       "      <th></th>\n",
       "      <th></th>\n",
       "      <th></th>\n",
       "      <th></th>\n",
       "    </tr>\n",
       "  </thead>\n",
       "  <tbody>\n",
       "    <tr>\n",
       "      <th>REMEMBERING</th>\n",
       "      <td>7820</td>\n",
       "      <td>33419</td>\n",
       "      <td>2424</td>\n",
       "      <td>3787</td>\n",
       "      <td>0.869</td>\n",
       "      <td>0.245</td>\n",
       "      <td>0.674</td>\n",
       "      <td>0.932</td>\n",
       "      <td>0.763</td>\n",
       "      <td>0.898</td>\n",
       "      <td>0.921</td>\n",
       "      <td>0.716</td>\n",
       "      <td>0.5</td>\n",
       "    </tr>\n",
       "    <tr>\n",
       "      <th>UNDERSTANDING</th>\n",
       "      <td>933</td>\n",
       "      <td>44501</td>\n",
       "      <td>811</td>\n",
       "      <td>1205</td>\n",
       "      <td>0.958</td>\n",
       "      <td>0.045</td>\n",
       "      <td>0.436</td>\n",
       "      <td>0.982</td>\n",
       "      <td>0.535</td>\n",
       "      <td>0.974</td>\n",
       "      <td>0.922</td>\n",
       "      <td>0.481</td>\n",
       "      <td>0.5</td>\n",
       "    </tr>\n",
       "    <tr>\n",
       "      <th>APPLYING</th>\n",
       "      <td>2010</td>\n",
       "      <td>40873</td>\n",
       "      <td>680</td>\n",
       "      <td>3887</td>\n",
       "      <td>0.904</td>\n",
       "      <td>0.124</td>\n",
       "      <td>0.341</td>\n",
       "      <td>0.984</td>\n",
       "      <td>0.747</td>\n",
       "      <td>0.913</td>\n",
       "      <td>0.863</td>\n",
       "      <td>0.468</td>\n",
       "      <td>0.5</td>\n",
       "    </tr>\n",
       "    <tr>\n",
       "      <th>ANALYZING</th>\n",
       "      <td>7263</td>\n",
       "      <td>34756</td>\n",
       "      <td>2858</td>\n",
       "      <td>2573</td>\n",
       "      <td>0.886</td>\n",
       "      <td>0.207</td>\n",
       "      <td>0.738</td>\n",
       "      <td>0.924</td>\n",
       "      <td>0.718</td>\n",
       "      <td>0.931</td>\n",
       "      <td>0.931</td>\n",
       "      <td>0.728</td>\n",
       "      <td>0.5</td>\n",
       "    </tr>\n",
       "    <tr>\n",
       "      <th>EVALUATING</th>\n",
       "      <td>1987</td>\n",
       "      <td>42357</td>\n",
       "      <td>946</td>\n",
       "      <td>2160</td>\n",
       "      <td>0.935</td>\n",
       "      <td>0.087</td>\n",
       "      <td>0.479</td>\n",
       "      <td>0.978</td>\n",
       "      <td>0.677</td>\n",
       "      <td>0.951</td>\n",
       "      <td>0.927</td>\n",
       "      <td>0.561</td>\n",
       "      <td>0.5</td>\n",
       "    </tr>\n",
       "    <tr>\n",
       "      <th>CREATING</th>\n",
       "      <td>9850</td>\n",
       "      <td>30855</td>\n",
       "      <td>2770</td>\n",
       "      <td>3975</td>\n",
       "      <td>0.858</td>\n",
       "      <td>0.291</td>\n",
       "      <td>0.712</td>\n",
       "      <td>0.918</td>\n",
       "      <td>0.781</td>\n",
       "      <td>0.886</td>\n",
       "      <td>0.922</td>\n",
       "      <td>0.745</td>\n",
       "      <td>0.5</td>\n",
       "    </tr>\n",
       "  </tbody>\n",
       "</table>\n",
       "</div>"
      ],
      "text/plain": [
       "                 TP     TN    FP    FN Accuracy Prevalence Sensitivity  \\\n",
       "                                                                         \n",
       "REMEMBERING    7820  33419  2424  3787    0.869      0.245       0.674   \n",
       "UNDERSTANDING   933  44501   811  1205    0.958      0.045       0.436   \n",
       "APPLYING       2010  40873   680  3887    0.904      0.124       0.341   \n",
       "ANALYZING      7263  34756  2858  2573    0.886      0.207       0.738   \n",
       "EVALUATING     1987  42357   946  2160    0.935      0.087       0.479   \n",
       "CREATING       9850  30855  2770  3975    0.858      0.291       0.712   \n",
       "\n",
       "              Specificity    PPV    NPV    AUC     F1 Threshold  \n",
       "                                                                 \n",
       "REMEMBERING         0.932  0.763  0.898  0.921  0.716       0.5  \n",
       "UNDERSTANDING       0.982  0.535  0.974  0.922  0.481       0.5  \n",
       "APPLYING            0.984  0.747  0.913  0.863  0.468       0.5  \n",
       "ANALYZING           0.924  0.718  0.931  0.931  0.728       0.5  \n",
       "EVALUATING          0.978  0.677  0.951  0.927  0.561       0.5  \n",
       "CREATING            0.918  0.781  0.886  0.922  0.745       0.5  "
      ]
     },
     "execution_count": 40,
     "metadata": {},
     "output_type": "execute_result"
    }
   ],
   "source": [
    "performances = m.get_performance_metrics(df[categories].loc[X_test.index].values, preds_proba, categories)\n",
    "performances"
   ]
  },
  {
   "cell_type": "code",
   "execution_count": 41,
   "metadata": {},
   "outputs": [
    {
     "data": {
      "text/html": [
       "<div>\n",
       "<style scoped>\n",
       "    .dataframe tbody tr th:only-of-type {\n",
       "        vertical-align: middle;\n",
       "    }\n",
       "\n",
       "    .dataframe tbody tr th {\n",
       "        vertical-align: top;\n",
       "    }\n",
       "\n",
       "    .dataframe thead th {\n",
       "        text-align: right;\n",
       "    }\n",
       "</style>\n",
       "<table border=\"1\" class=\"dataframe\">\n",
       "  <thead>\n",
       "    <tr style=\"text-align: right;\">\n",
       "      <th></th>\n",
       "      <th>TP</th>\n",
       "      <th>TN</th>\n",
       "      <th>FP</th>\n",
       "      <th>FN</th>\n",
       "      <th>Accuracy</th>\n",
       "      <th>Prevalence</th>\n",
       "      <th>Sensitivity</th>\n",
       "      <th>Specificity</th>\n",
       "      <th>PPV</th>\n",
       "      <th>NPV</th>\n",
       "      <th>AUC</th>\n",
       "      <th>F1</th>\n",
       "      <th>Threshold</th>\n",
       "    </tr>\n",
       "    <tr>\n",
       "      <th></th>\n",
       "      <th></th>\n",
       "      <th></th>\n",
       "      <th></th>\n",
       "      <th></th>\n",
       "      <th></th>\n",
       "      <th></th>\n",
       "      <th></th>\n",
       "      <th></th>\n",
       "      <th></th>\n",
       "      <th></th>\n",
       "      <th></th>\n",
       "      <th></th>\n",
       "      <th></th>\n",
       "    </tr>\n",
       "  </thead>\n",
       "  <tbody>\n",
       "    <tr>\n",
       "      <th>REMEMBERING</th>\n",
       "      <td>8328</td>\n",
       "      <td>32720</td>\n",
       "      <td>3123</td>\n",
       "      <td>3279</td>\n",
       "      <td>0.865</td>\n",
       "      <td>0.245</td>\n",
       "      <td>0.717</td>\n",
       "      <td>0.913</td>\n",
       "      <td>0.727</td>\n",
       "      <td>0.909</td>\n",
       "      <td>0.92</td>\n",
       "      <td>0.722</td>\n",
       "      <td>0.5</td>\n",
       "    </tr>\n",
       "    <tr>\n",
       "      <th>UNDERSTANDING</th>\n",
       "      <td>716</td>\n",
       "      <td>44872</td>\n",
       "      <td>440</td>\n",
       "      <td>1422</td>\n",
       "      <td>0.961</td>\n",
       "      <td>0.045</td>\n",
       "      <td>0.335</td>\n",
       "      <td>0.99</td>\n",
       "      <td>0.619</td>\n",
       "      <td>0.969</td>\n",
       "      <td>0.926</td>\n",
       "      <td>0.435</td>\n",
       "      <td>0.5</td>\n",
       "    </tr>\n",
       "    <tr>\n",
       "      <th>APPLYING</th>\n",
       "      <td>2071</td>\n",
       "      <td>40868</td>\n",
       "      <td>685</td>\n",
       "      <td>3826</td>\n",
       "      <td>0.905</td>\n",
       "      <td>0.124</td>\n",
       "      <td>0.351</td>\n",
       "      <td>0.984</td>\n",
       "      <td>0.751</td>\n",
       "      <td>0.914</td>\n",
       "      <td>0.875</td>\n",
       "      <td>0.479</td>\n",
       "      <td>0.5</td>\n",
       "    </tr>\n",
       "    <tr>\n",
       "      <th>ANALYZING</th>\n",
       "      <td>6954</td>\n",
       "      <td>35046</td>\n",
       "      <td>2568</td>\n",
       "      <td>2882</td>\n",
       "      <td>0.885</td>\n",
       "      <td>0.207</td>\n",
       "      <td>0.707</td>\n",
       "      <td>0.932</td>\n",
       "      <td>0.73</td>\n",
       "      <td>0.924</td>\n",
       "      <td>0.931</td>\n",
       "      <td>0.718</td>\n",
       "      <td>0.5</td>\n",
       "    </tr>\n",
       "    <tr>\n",
       "      <th>EVALUATING</th>\n",
       "      <td>1652</td>\n",
       "      <td>42741</td>\n",
       "      <td>562</td>\n",
       "      <td>2495</td>\n",
       "      <td>0.936</td>\n",
       "      <td>0.087</td>\n",
       "      <td>0.398</td>\n",
       "      <td>0.987</td>\n",
       "      <td>0.746</td>\n",
       "      <td>0.945</td>\n",
       "      <td>0.927</td>\n",
       "      <td>0.519</td>\n",
       "      <td>0.5</td>\n",
       "    </tr>\n",
       "    <tr>\n",
       "      <th>CREATING</th>\n",
       "      <td>9763</td>\n",
       "      <td>30894</td>\n",
       "      <td>2731</td>\n",
       "      <td>4062</td>\n",
       "      <td>0.857</td>\n",
       "      <td>0.291</td>\n",
       "      <td>0.706</td>\n",
       "      <td>0.919</td>\n",
       "      <td>0.781</td>\n",
       "      <td>0.884</td>\n",
       "      <td>0.921</td>\n",
       "      <td>0.742</td>\n",
       "      <td>0.5</td>\n",
       "    </tr>\n",
       "  </tbody>\n",
       "</table>\n",
       "</div>"
      ],
      "text/plain": [
       "                 TP     TN    FP    FN Accuracy Prevalence Sensitivity  \\\n",
       "                                                                         \n",
       "REMEMBERING    8328  32720  3123  3279    0.865      0.245       0.717   \n",
       "UNDERSTANDING   716  44872   440  1422    0.961      0.045       0.335   \n",
       "APPLYING       2071  40868   685  3826    0.905      0.124       0.351   \n",
       "ANALYZING      6954  35046  2568  2882    0.885      0.207       0.707   \n",
       "EVALUATING     1652  42741   562  2495    0.936      0.087       0.398   \n",
       "CREATING       9763  30894  2731  4062    0.857      0.291       0.706   \n",
       "\n",
       "              Specificity    PPV    NPV    AUC     F1 Threshold  \n",
       "                                                                 \n",
       "REMEMBERING         0.913  0.727  0.909   0.92  0.722       0.5  \n",
       "UNDERSTANDING        0.99  0.619  0.969  0.926  0.435       0.5  \n",
       "APPLYING            0.984  0.751  0.914  0.875  0.479       0.5  \n",
       "ANALYZING           0.932   0.73  0.924  0.931  0.718       0.5  \n",
       "EVALUATING          0.987  0.746  0.945  0.927  0.519       0.5  \n",
       "CREATING            0.919  0.781  0.884  0.921  0.742       0.5  "
      ]
     },
     "execution_count": 41,
     "metadata": {},
     "output_type": "execute_result"
    }
   ],
   "source": [
    "preds_proba = clf_test.predict_proba(X_test)\n",
    "performances = m.get_performance_metrics(df[categories].loc[X_test.index].values, preds_proba, categories)\n",
    "performances"
   ]
  },
  {
   "cell_type": "code",
   "execution_count": 42,
   "metadata": {},
   "outputs": [
    {
     "data": {
      "image/png": "[encoded data removed]",
      "text/plain": [
       "<Figure size 1440x1440 with 6 Axes>"
      ]
     },
     "metadata": {},
     "output_type": "display_data"
    }
   ],
   "source": [
    "m.plot_calibration_curve(df[categories].loc[X_test.index].values, preds_proba, categories)"
   ]
  },
  {
   "cell_type": "code",
   "execution_count": 43,
   "metadata": {},
   "outputs": [],
   "source": [
    "statistics = m.bootstrap_auc(df[categories].loc[X_test.index].values, preds_proba, categories)"
   ]
  },
  {
   "cell_type": "code",
   "execution_count": 44,
   "metadata": {},
   "outputs": [
    {
     "data": {
      "text/html": [
       "<div>\n",
       "<style scoped>\n",
       "    .dataframe tbody tr th:only-of-type {\n",
       "        vertical-align: middle;\n",
       "    }\n",
       "\n",
       "    .dataframe tbody tr th {\n",
       "        vertical-align: top;\n",
       "    }\n",
       "\n",
       "    .dataframe thead th {\n",
       "        text-align: right;\n",
       "    }\n",
       "</style>\n",
       "<table border=\"1\" class=\"dataframe\">\n",
       "  <thead>\n",
       "    <tr style=\"text-align: right;\">\n",
       "      <th></th>\n",
       "      <th>Mean AUC (CI 5%-95%)</th>\n",
       "    </tr>\n",
       "  </thead>\n",
       "  <tbody>\n",
       "    <tr>\n",
       "      <th>REMEMBERING</th>\n",
       "      <td>0.92 (0.91-0.93)</td>\n",
       "    </tr>\n",
       "    <tr>\n",
       "      <th>UNDERSTANDING</th>\n",
       "      <td>0.93 (0.89-0.95)</td>\n",
       "    </tr>\n",
       "    <tr>\n",
       "      <th>APPLYING</th>\n",
       "      <td>0.87 (0.84-0.90)</td>\n",
       "    </tr>\n",
       "    <tr>\n",
       "      <th>ANALYZING</th>\n",
       "      <td>0.93 (0.91-0.94)</td>\n",
       "    </tr>\n",
       "    <tr>\n",
       "      <th>EVALUATING</th>\n",
       "      <td>0.93 (0.91-0.95)</td>\n",
       "    </tr>\n",
       "    <tr>\n",
       "      <th>CREATING</th>\n",
       "      <td>0.92 (0.90-0.93)</td>\n",
       "    </tr>\n",
       "  </tbody>\n",
       "</table>\n",
       "</div>"
      ],
      "text/plain": [
       "              Mean AUC (CI 5%-95%)\n",
       "REMEMBERING       0.92 (0.91-0.93)\n",
       "UNDERSTANDING     0.93 (0.89-0.95)\n",
       "APPLYING          0.87 (0.84-0.90)\n",
       "ANALYZING         0.93 (0.91-0.94)\n",
       "EVALUATING        0.93 (0.91-0.95)\n",
       "CREATING          0.92 (0.90-0.93)"
      ]
     },
     "execution_count": 44,
     "metadata": {},
     "output_type": "execute_result"
    }
   ],
   "source": [
    "m.print_confidence_intervals(categories, statistics)"
   ]
  },
  {
   "cell_type": "code",
   "execution_count": 46,
   "metadata": {},
   "outputs": [
    {
     "data": {
      "image/png": "[encoded data removed]",
      "text/plain": [
       "<Figure size 504x504 with 1 Axes>"
      ]
     },
     "metadata": {},
     "output_type": "display_data"
    }
   ],
   "source": [
    "m.get_curve(df[categories].loc[X_test.index].values, preds_proba, categories, curve= 'prc')"
   ]
  },
  {
   "cell_type": "code",
   "execution_count": 47,
   "metadata": {},
   "outputs": [
    {
     "data": {
      "text/plain": [
       "{'analyzer': 'word',\n",
       " 'binary': False,\n",
       " 'decode_error': 'strict',\n",
       " 'dtype': numpy.float64,\n",
       " 'encoding': 'utf-8',\n",
       " 'input': 'content',\n",
       " 'lowercase': True,\n",
       " 'max_df': 1.0,\n",
       " 'max_features': None,\n",
       " 'min_df': 1,\n",
       " 'ngram_range': (1, 4),\n",
       " 'norm': 'l2',\n",
       " 'preprocessor': None,\n",
       " 'smooth_idf': True,\n",
       " 'stop_words': None,\n",
       " 'strip_accents': None,\n",
       " 'sublinear_tf': False,\n",
       " 'token_pattern': '(?u)\\\\b\\\\w\\\\w+\\\\b',\n",
       " 'tokenizer': <__main__.LemmaTokenizer at 0x7fb09daf8b38>,\n",
       " 'use_idf': True,\n",
       " 'vocabulary': None}"
      ]
     },
     "execution_count": 47,
     "metadata": {},
     "output_type": "execute_result"
    }
   ],
   "source": [
    "pipe.named_steps['vect'].get_params()"
   ]
  },
  {
   "cell_type": "code",
   "execution_count": 48,
   "metadata": {},
   "outputs": [],
   "source": [
    "# definition of parameter grid to scan through\n",
    "param_grid = {\n",
    "    'vect__ngram_range': [(1,1), (1, 2), (1, 3), (1,4), (1,5)],\n",
    "    'vect__max_df': [0.2, 0.15, 0.5],\n",
    "    'vect__min_df': [1, 3, 5],\n",
    "}"
   ]
  },
  {
   "cell_type": "code",
   "execution_count": 49,
   "metadata": {},
   "outputs": [],
   "source": [
    "# grid search cross validation instantiation\n",
    "grid_search = GridSearchCV(estimator = pipe, param_grid = param_grid, cv = 5, n_jobs=-1, verbose = 10, return_train_score=True)"
   ]
  },
  {
   "cell_type": "code",
   "execution_count": null,
   "metadata": {},
   "outputs": [
    {
     "name": "stdout",
     "output_type": "stream",
     "text": [
      "Fitting 5 folds for each of 45 candidates, totalling 225 fits\n"
     ]
    },
    {
     "name": "stderr",
     "output_type": "stream",
     "text": [
      "[Parallel(n_jobs=-1)]: Using backend LokyBackend with 32 concurrent workers.\n"
     ]
    }
   ],
   "source": [
    "grid_search.fit(X_train.values, y_train)"
   ]
  },
  {
   "cell_type": "code",
   "execution_count": 53,
   "metadata": {},
   "outputs": [
    {
     "data": {
      "text/plain": [
       "0.6873318599197794"
      ]
     },
     "execution_count": 53,
     "metadata": {},
     "output_type": "execute_result"
    }
   ],
   "source": [
    "grid_search.best_score_"
   ]
  },
  {
   "cell_type": "code",
   "execution_count": 54,
   "metadata": {},
   "outputs": [
    {
     "data": {
      "text/plain": [
       "array([0.61716627, 0.65963933, 0.65474293, 0.64820971, 0.64209795,\n",
       "       0.61774934, 0.65875419, 0.6595129 , 0.65895792, 0.65784096,\n",
       "       0.61829027, 0.6577426 , 0.6590071 , 0.65864181, 0.65907734,\n",
       "       0.59378006, 0.65392099, 0.65109696, 0.64640427, 0.64199961,\n",
       "       0.59295112, 0.65218584, 0.65267057, 0.65160275, 0.65210855,\n",
       "       0.59277549, 0.65108291, 0.65081596, 0.65111101, 0.65118829,\n",
       "       0.66899663, 0.6865872 , 0.67947793, 0.6701909 , 0.6628568 ,\n",
       "       0.66927061, 0.68733186, 0.68639755, 0.68695955, 0.6855124 ,\n",
       "       0.66871564, 0.6868682 , 0.68573016, 0.68662233, 0.68602521])"
      ]
     },
     "execution_count": 54,
     "metadata": {},
     "output_type": "execute_result"
    }
   ],
   "source": [
    "grid_search.cv_results_['mean_test_score']"
   ]
  },
  {
   "cell_type": "code",
   "execution_count": 55,
   "metadata": {},
   "outputs": [
    {
     "data": {
      "text/plain": [
       "{'vect__max_df': 0.5, 'vect__min_df': 3, 'vect__ngram_range': (1, 2)}"
      ]
     },
     "execution_count": 55,
     "metadata": {},
     "output_type": "execute_result"
    }
   ],
   "source": [
    "grid_search.best_params_"
   ]
  },
  {
   "cell_type": "code",
   "execution_count": 56,
   "metadata": {},
   "outputs": [
    {
     "data": {
      "text/plain": [
       "dict_keys(['mean_fit_time', 'std_fit_time', 'mean_score_time', 'std_score_time', 'param_vect__max_df', 'param_vect__min_df', 'param_vect__ngram_range', 'params', 'split0_test_score', 'split1_test_score', 'split2_test_score', 'split3_test_score', 'split4_test_score', 'mean_test_score', 'std_test_score', 'rank_test_score', 'split0_train_score', 'split1_train_score', 'split2_train_score', 'split3_train_score', 'split4_train_score', 'mean_train_score', 'std_train_score'])"
      ]
     },
     "execution_count": 56,
     "metadata": {},
     "output_type": "execute_result"
    }
   ],
   "source": [
    "grid_search.cv_results_.keys()"
   ]
  },
  {
   "cell_type": "code",
   "execution_count": 58,
   "metadata": {},
   "outputs": [],
   "source": [
    "clf_test_2 = grid_search.best_estimator_"
   ]
  },
  {
   "cell_type": "code",
   "execution_count": 59,
   "metadata": {},
   "outputs": [],
   "source": [
    "preds_proba_2 = clf_test_2.predict_proba(X_test)"
   ]
  },
  {
   "cell_type": "code",
   "execution_count": 60,
   "metadata": {},
   "outputs": [],
   "source": [
    "preds_2 = clf_test_2.predict(X_test)"
   ]
  },
  {
   "cell_type": "code",
   "execution_count": 61,
   "metadata": {},
   "outputs": [
    {
     "name": "stdout",
     "output_type": "stream",
     "text": [
      "Accuracy = 0.693\n",
      "----------------------------------------\n",
      "Classification report:\n",
      "               precision    recall  f1-score   support\n",
      "\n",
      "  REMEMBERING       0.74      0.71      0.73     12104\n",
      "UNDERSTANDING       0.54      0.49      0.51      2362\n",
      "     APPLYING       0.51      0.62      0.56      4908\n",
      "    ANALYZING       0.74      0.73      0.73      9988\n",
      "   EVALUATING       0.59      0.57      0.58      4338\n",
      "     CREATING       0.75      0.76      0.75     13750\n",
      "\n",
      "     accuracy                           0.69     47450\n",
      "    macro avg       0.65      0.64      0.64     47450\n",
      " weighted avg       0.70      0.69      0.69     47450\n",
      "\n",
      "----------------------------------------\n",
      "Confusion matrix\n"
     ]
    },
    {
     "data": {
      "image/png": "[encoded data removed]",
      "text/plain": [
       "<Figure size 720x576 with 2 Axes>"
      ]
     },
     "metadata": {},
     "output_type": "display_data"
    }
   ],
   "source": [
    "print_stats(y_test, preds_2, clf_test_2.classes_)"
   ]
  },
  {
   "cell_type": "code",
   "execution_count": 63,
   "metadata": {},
   "outputs": [],
   "source": [
    "preds_ens = np.argmax((preds_proba_2+preds_proba)/2, axis=1)"
   ]
  },
  {
   "cell_type": "code",
   "execution_count": 64,
   "metadata": {},
   "outputs": [
    {
     "name": "stdout",
     "output_type": "stream",
     "text": [
      "Accuracy = 0.701\n",
      "----------------------------------------\n",
      "Classification report:\n",
      "               precision    recall  f1-score   support\n",
      "\n",
      "  REMEMBERING       0.78      0.69      0.73     12966\n",
      "UNDERSTANDING       0.48      0.54      0.51      1916\n",
      "     APPLYING       0.47      0.66      0.55      4195\n",
      "    ANALYZING       0.76      0.71      0.73     10621\n",
      "   EVALUATING       0.54      0.64      0.59      3483\n",
      "     CREATING       0.77      0.75      0.76     14269\n",
      "\n",
      "     accuracy                           0.70     47450\n",
      "    macro avg       0.63      0.67      0.65     47450\n",
      " weighted avg       0.72      0.70      0.71     47450\n",
      "\n",
      "----------------------------------------\n",
      "Confusion matrix\n"
     ]
    },
    {
     "data": {
      "image/png": "[encoded data removed]",
      "text/plain": [
       "<Figure size 720x576 with 2 Axes>"
      ]
     },
     "metadata": {},
     "output_type": "display_data"
    }
   ],
   "source": [
    "print_stats(y_test, preds_ens, clf_test_2.classes_)"
   ]
  },
  {
   "cell_type": "code",
   "execution_count": 66,
   "metadata": {},
   "outputs": [],
   "source": [
    "preds_proba_ens = (preds_proba_2+preds_proba)/2"
   ]
  },
  {
   "cell_type": "code",
   "execution_count": 67,
   "metadata": {},
   "outputs": [
    {
     "data": {
      "text/html": [
       "<div>\n",
       "<style scoped>\n",
       "    .dataframe tbody tr th:only-of-type {\n",
       "        vertical-align: middle;\n",
       "    }\n",
       "\n",
       "    .dataframe tbody tr th {\n",
       "        vertical-align: top;\n",
       "    }\n",
       "\n",
       "    .dataframe thead th {\n",
       "        text-align: right;\n",
       "    }\n",
       "</style>\n",
       "<table border=\"1\" class=\"dataframe\">\n",
       "  <thead>\n",
       "    <tr style=\"text-align: right;\">\n",
       "      <th></th>\n",
       "      <th>TP</th>\n",
       "      <th>TN</th>\n",
       "      <th>FP</th>\n",
       "      <th>FN</th>\n",
       "      <th>Accuracy</th>\n",
       "      <th>Prevalence</th>\n",
       "      <th>Sensitivity</th>\n",
       "      <th>Specificity</th>\n",
       "      <th>PPV</th>\n",
       "      <th>NPV</th>\n",
       "      <th>AUC</th>\n",
       "      <th>F1</th>\n",
       "      <th>Threshold</th>\n",
       "    </tr>\n",
       "    <tr>\n",
       "      <th></th>\n",
       "      <th></th>\n",
       "      <th></th>\n",
       "      <th></th>\n",
       "      <th></th>\n",
       "      <th></th>\n",
       "      <th></th>\n",
       "      <th></th>\n",
       "      <th></th>\n",
       "      <th></th>\n",
       "      <th></th>\n",
       "      <th></th>\n",
       "      <th></th>\n",
       "      <th></th>\n",
       "    </tr>\n",
       "  </thead>\n",
       "  <tbody>\n",
       "    <tr>\n",
       "      <th>REMEMBERING</th>\n",
       "      <td>7956</td>\n",
       "      <td>33418</td>\n",
       "      <td>2425</td>\n",
       "      <td>3651</td>\n",
       "      <td>0.872</td>\n",
       "      <td>0.245</td>\n",
       "      <td>0.685</td>\n",
       "      <td>0.932</td>\n",
       "      <td>0.766</td>\n",
       "      <td>0.902</td>\n",
       "      <td>0.926</td>\n",
       "      <td>0.724</td>\n",
       "      <td>0.5</td>\n",
       "    </tr>\n",
       "    <tr>\n",
       "      <th>UNDERSTANDING</th>\n",
       "      <td>803</td>\n",
       "      <td>44823</td>\n",
       "      <td>489</td>\n",
       "      <td>1335</td>\n",
       "      <td>0.962</td>\n",
       "      <td>0.045</td>\n",
       "      <td>0.376</td>\n",
       "      <td>0.989</td>\n",
       "      <td>0.622</td>\n",
       "      <td>0.971</td>\n",
       "      <td>0.935</td>\n",
       "      <td>0.468</td>\n",
       "      <td>0.5</td>\n",
       "    </tr>\n",
       "    <tr>\n",
       "      <th>APPLYING</th>\n",
       "      <td>2212</td>\n",
       "      <td>40817</td>\n",
       "      <td>736</td>\n",
       "      <td>3685</td>\n",
       "      <td>0.907</td>\n",
       "      <td>0.124</td>\n",
       "      <td>0.375</td>\n",
       "      <td>0.982</td>\n",
       "      <td>0.75</td>\n",
       "      <td>0.917</td>\n",
       "      <td>0.89</td>\n",
       "      <td>0.5</td>\n",
       "      <td>0.5</td>\n",
       "    </tr>\n",
       "    <tr>\n",
       "      <th>ANALYZING</th>\n",
       "      <td>6761</td>\n",
       "      <td>35634</td>\n",
       "      <td>1980</td>\n",
       "      <td>3075</td>\n",
       "      <td>0.893</td>\n",
       "      <td>0.207</td>\n",
       "      <td>0.687</td>\n",
       "      <td>0.947</td>\n",
       "      <td>0.773</td>\n",
       "      <td>0.921</td>\n",
       "      <td>0.937</td>\n",
       "      <td>0.728</td>\n",
       "      <td>0.5</td>\n",
       "    </tr>\n",
       "    <tr>\n",
       "      <th>EVALUATING</th>\n",
       "      <td>1824</td>\n",
       "      <td>42681</td>\n",
       "      <td>622</td>\n",
       "      <td>2323</td>\n",
       "      <td>0.938</td>\n",
       "      <td>0.087</td>\n",
       "      <td>0.44</td>\n",
       "      <td>0.986</td>\n",
       "      <td>0.746</td>\n",
       "      <td>0.948</td>\n",
       "      <td>0.934</td>\n",
       "      <td>0.553</td>\n",
       "      <td>0.5</td>\n",
       "    </tr>\n",
       "    <tr>\n",
       "      <th>CREATING</th>\n",
       "      <td>9540</td>\n",
       "      <td>31325</td>\n",
       "      <td>2300</td>\n",
       "      <td>4285</td>\n",
       "      <td>0.861</td>\n",
       "      <td>0.291</td>\n",
       "      <td>0.69</td>\n",
       "      <td>0.932</td>\n",
       "      <td>0.806</td>\n",
       "      <td>0.88</td>\n",
       "      <td>0.927</td>\n",
       "      <td>0.743</td>\n",
       "      <td>0.5</td>\n",
       "    </tr>\n",
       "  </tbody>\n",
       "</table>\n",
       "</div>"
      ],
      "text/plain": [
       "                 TP     TN    FP    FN Accuracy Prevalence Sensitivity  \\\n",
       "                                                                         \n",
       "REMEMBERING    7956  33418  2425  3651    0.872      0.245       0.685   \n",
       "UNDERSTANDING   803  44823   489  1335    0.962      0.045       0.376   \n",
       "APPLYING       2212  40817   736  3685    0.907      0.124       0.375   \n",
       "ANALYZING      6761  35634  1980  3075    0.893      0.207       0.687   \n",
       "EVALUATING     1824  42681   622  2323    0.938      0.087        0.44   \n",
       "CREATING       9540  31325  2300  4285    0.861      0.291        0.69   \n",
       "\n",
       "              Specificity    PPV    NPV    AUC     F1 Threshold  \n",
       "                                                                 \n",
       "REMEMBERING         0.932  0.766  0.902  0.926  0.724       0.5  \n",
       "UNDERSTANDING       0.989  0.622  0.971  0.935  0.468       0.5  \n",
       "APPLYING            0.982   0.75  0.917   0.89    0.5       0.5  \n",
       "ANALYZING           0.947  0.773  0.921  0.937  0.728       0.5  \n",
       "EVALUATING          0.986  0.746  0.948  0.934  0.553       0.5  \n",
       "CREATING            0.932  0.806   0.88  0.927  0.743       0.5  "
      ]
     },
     "execution_count": 67,
     "metadata": {},
     "output_type": "execute_result"
    }
   ],
   "source": [
    "performances = m.get_performance_metrics(df[categories].loc[X_test.index].values, preds_proba_ens, categories)\n",
    "performances"
   ]
  },
  {
   "cell_type": "code",
   "execution_count": 68,
   "metadata": {},
   "outputs": [],
   "source": [
    "statistics = m.bootstrap_auc(df[categories].loc[X_test.index].values, preds_proba_ens, categories)"
   ]
  },
  {
   "cell_type": "code",
   "execution_count": 69,
   "metadata": {},
   "outputs": [
    {
     "data": {
      "text/html": [
       "<div>\n",
       "<style scoped>\n",
       "    .dataframe tbody tr th:only-of-type {\n",
       "        vertical-align: middle;\n",
       "    }\n",
       "\n",
       "    .dataframe tbody tr th {\n",
       "        vertical-align: top;\n",
       "    }\n",
       "\n",
       "    .dataframe thead th {\n",
       "        text-align: right;\n",
       "    }\n",
       "</style>\n",
       "<table border=\"1\" class=\"dataframe\">\n",
       "  <thead>\n",
       "    <tr style=\"text-align: right;\">\n",
       "      <th></th>\n",
       "      <th>Mean AUC (CI 5%-95%)</th>\n",
       "    </tr>\n",
       "  </thead>\n",
       "  <tbody>\n",
       "    <tr>\n",
       "      <th>REMEMBERING</th>\n",
       "      <td>0.93 (0.91-0.94)</td>\n",
       "    </tr>\n",
       "    <tr>\n",
       "      <th>UNDERSTANDING</th>\n",
       "      <td>0.93 (0.91-0.96)</td>\n",
       "    </tr>\n",
       "    <tr>\n",
       "      <th>APPLYING</th>\n",
       "      <td>0.89 (0.87-0.91)</td>\n",
       "    </tr>\n",
       "    <tr>\n",
       "      <th>ANALYZING</th>\n",
       "      <td>0.94 (0.92-0.95)</td>\n",
       "    </tr>\n",
       "    <tr>\n",
       "      <th>EVALUATING</th>\n",
       "      <td>0.93 (0.91-0.95)</td>\n",
       "    </tr>\n",
       "    <tr>\n",
       "      <th>CREATING</th>\n",
       "      <td>0.93 (0.91-0.94)</td>\n",
       "    </tr>\n",
       "  </tbody>\n",
       "</table>\n",
       "</div>"
      ],
      "text/plain": [
       "              Mean AUC (CI 5%-95%)\n",
       "REMEMBERING       0.93 (0.91-0.94)\n",
       "UNDERSTANDING     0.93 (0.91-0.96)\n",
       "APPLYING          0.89 (0.87-0.91)\n",
       "ANALYZING         0.94 (0.92-0.95)\n",
       "EVALUATING        0.93 (0.91-0.95)\n",
       "CREATING          0.93 (0.91-0.94)"
      ]
     },
     "execution_count": 69,
     "metadata": {},
     "output_type": "execute_result"
    }
   ],
   "source": [
    "m.print_confidence_intervals(categories, statistics)"
   ]
  },
  {
   "cell_type": "markdown",
   "metadata": {},
   "source": [
    "### Analise du Score dans une classification à 3 puis à 2 niveau"
   ]
  },
  {
   "cell_type": "markdown",
   "metadata": {},
   "source": [
    "#### 3 niveaux de classification\n",
    "\n",
    "- Beginner (Perception): 1 à 2\n",
    "- Medium (Reproduction): 3 à 4\n",
    "- Advanced (Perfectionnement): 5 à 6"
   ]
  },
  {
   "cell_type": "code",
   "execution_count": 71,
   "metadata": {},
   "outputs": [
    {
     "data": {
      "text/plain": [
       "(47450, 6)"
      ]
     },
     "execution_count": 71,
     "metadata": {},
     "output_type": "execute_result"
    }
   ],
   "source": [
    "preds_proba_ens.shape"
   ]
  },
  {
   "cell_type": "code",
   "execution_count": 77,
   "metadata": {},
   "outputs": [],
   "source": [
    "beginner = preds_proba_ens[:, 0]+preds_proba_ens[:, 1]\n",
    "medium = preds_proba_ens[:,2]+preds_proba_ens[:,3]\n",
    "advanced = preds_proba_ens[:,4]+preds_proba_ens[:,5]"
   ]
  },
  {
   "cell_type": "code",
   "execution_count": 78,
   "metadata": {},
   "outputs": [
    {
     "data": {
      "text/plain": [
       "array([0.14418657, 0.00446949, 0.21819617, ..., 0.00700605, 0.47928196,\n",
       "       0.8697933 ], dtype=float32)"
      ]
     },
     "execution_count": 78,
     "metadata": {},
     "output_type": "execute_result"
    }
   ],
   "source": [
    "advanced"
   ]
  },
  {
   "cell_type": "code",
   "execution_count": 79,
   "metadata": {},
   "outputs": [
    {
     "data": {
      "text/plain": [
       "array([1, 0, 0, ..., 0, 2, 2])"
      ]
     },
     "execution_count": 79,
     "metadata": {},
     "output_type": "execute_result"
    }
   ],
   "source": [
    "preds_ens_3 = np.argmax(np.array([beginner, medium, advanced]).T, axis=1)\n",
    "preds_ens_3"
   ]
  },
  {
   "cell_type": "code",
   "execution_count": 80,
   "metadata": {},
   "outputs": [],
   "source": [
    "def get_class(nb):\n",
    "    if nb <2:\n",
    "        return 0\n",
    "    elif nb < 4:\n",
    "        return 1\n",
    "    else:\n",
    "        return 2"
   ]
  },
  {
   "cell_type": "code",
   "execution_count": 85,
   "metadata": {},
   "outputs": [
    {
     "data": {
      "text/plain": [
       "array([1, 1, 0, ..., 0, 1, 2])"
      ]
     },
     "execution_count": 85,
     "metadata": {},
     "output_type": "execute_result"
    }
   ],
   "source": [
    "classes_3 = np.array([get_class(nb) for nb in y_test])\n",
    "classes_3"
   ]
  },
  {
   "cell_type": "code",
   "execution_count": 86,
   "metadata": {},
   "outputs": [
    {
     "data": {
      "text/plain": [
       "((47450,), (47450,))"
      ]
     },
     "execution_count": 86,
     "metadata": {},
     "output_type": "execute_result"
    }
   ],
   "source": [
    "preds_ens_3.shape, classes_3.shape"
   ]
  },
  {
   "cell_type": "code",
   "execution_count": 87,
   "metadata": {},
   "outputs": [
    {
     "name": "stdout",
     "output_type": "stream",
     "text": [
      "Accuracy = 0.760\n",
      "----------------------------------------\n",
      "Classification report:\n",
      "              precision    recall  f1-score   support\n",
      "\n",
      "    Beginner       0.77      0.72      0.75     14610\n",
      "      Medium       0.73      0.76      0.75     15066\n",
      "    Advanced       0.78      0.79      0.78     17774\n",
      "\n",
      "    accuracy                           0.76     47450\n",
      "   macro avg       0.76      0.76      0.76     47450\n",
      "weighted avg       0.76      0.76      0.76     47450\n",
      "\n",
      "----------------------------------------\n",
      "Confusion matrix\n"
     ]
    },
    {
     "data": {
      "image/png": "[encoded data removed]",
      "text/plain": [
       "<Figure size 720x576 with 2 Axes>"
      ]
     },
     "metadata": {},
     "output_type": "display_data"
    }
   ],
   "source": [
    "print_stats(classes_3, preds_ens_3, labels=[0, 1, 2], categories=[\"Beginner\", \"Medium\", \"Advanced\"])"
   ]
  },
  {
   "cell_type": "code",
   "execution_count": 89,
   "metadata": {},
   "outputs": [],
   "source": [
    "def get_nd_array(classes):\n",
    "    res = []\n",
    "    for classe in np.unique(classes):\n",
    "        res.append(classes==classe)\n",
    "    return np.array(res).T"
   ]
  },
  {
   "cell_type": "code",
   "execution_count": 90,
   "metadata": {},
   "outputs": [
    {
     "data": {
      "text/html": [
       "<div>\n",
       "<style scoped>\n",
       "    .dataframe tbody tr th:only-of-type {\n",
       "        vertical-align: middle;\n",
       "    }\n",
       "\n",
       "    .dataframe tbody tr th {\n",
       "        vertical-align: top;\n",
       "    }\n",
       "\n",
       "    .dataframe thead th {\n",
       "        text-align: right;\n",
       "    }\n",
       "</style>\n",
       "<table border=\"1\" class=\"dataframe\">\n",
       "  <thead>\n",
       "    <tr style=\"text-align: right;\">\n",
       "      <th></th>\n",
       "      <th>TP</th>\n",
       "      <th>TN</th>\n",
       "      <th>FP</th>\n",
       "      <th>FN</th>\n",
       "      <th>Accuracy</th>\n",
       "      <th>Prevalence</th>\n",
       "      <th>Sensitivity</th>\n",
       "      <th>Specificity</th>\n",
       "      <th>PPV</th>\n",
       "      <th>NPV</th>\n",
       "      <th>AUC</th>\n",
       "      <th>F1</th>\n",
       "      <th>Threshold</th>\n",
       "    </tr>\n",
       "    <tr>\n",
       "      <th></th>\n",
       "      <th></th>\n",
       "      <th></th>\n",
       "      <th></th>\n",
       "      <th></th>\n",
       "      <th></th>\n",
       "      <th></th>\n",
       "      <th></th>\n",
       "      <th></th>\n",
       "      <th></th>\n",
       "      <th></th>\n",
       "      <th></th>\n",
       "      <th></th>\n",
       "      <th></th>\n",
       "    </tr>\n",
       "  </thead>\n",
       "  <tbody>\n",
       "    <tr>\n",
       "      <th>Beginner</th>\n",
       "      <td>9884</td>\n",
       "      <td>30578</td>\n",
       "      <td>3127</td>\n",
       "      <td>3861</td>\n",
       "      <td>0.853</td>\n",
       "      <td>0.29</td>\n",
       "      <td>0.719</td>\n",
       "      <td>0.907</td>\n",
       "      <td>0.76</td>\n",
       "      <td>0.888</td>\n",
       "      <td>0.917</td>\n",
       "      <td>0.739</td>\n",
       "      <td>0.5</td>\n",
       "    </tr>\n",
       "    <tr>\n",
       "      <th>Medium</th>\n",
       "      <td>10909</td>\n",
       "      <td>28838</td>\n",
       "      <td>2879</td>\n",
       "      <td>4824</td>\n",
       "      <td>0.838</td>\n",
       "      <td>0.332</td>\n",
       "      <td>0.693</td>\n",
       "      <td>0.909</td>\n",
       "      <td>0.791</td>\n",
       "      <td>0.857</td>\n",
       "      <td>0.9</td>\n",
       "      <td>0.739</td>\n",
       "      <td>0.5</td>\n",
       "    </tr>\n",
       "    <tr>\n",
       "      <th>Advanced</th>\n",
       "      <td>13311</td>\n",
       "      <td>26492</td>\n",
       "      <td>2986</td>\n",
       "      <td>4661</td>\n",
       "      <td>0.839</td>\n",
       "      <td>0.379</td>\n",
       "      <td>0.741</td>\n",
       "      <td>0.899</td>\n",
       "      <td>0.817</td>\n",
       "      <td>0.85</td>\n",
       "      <td>0.915</td>\n",
       "      <td>0.777</td>\n",
       "      <td>0.5</td>\n",
       "    </tr>\n",
       "  </tbody>\n",
       "</table>\n",
       "</div>"
      ],
      "text/plain": [
       "             TP     TN    FP    FN Accuracy Prevalence Sensitivity  \\\n",
       "                                                                     \n",
       "Beginner   9884  30578  3127  3861    0.853       0.29       0.719   \n",
       "Medium    10909  28838  2879  4824    0.838      0.332       0.693   \n",
       "Advanced  13311  26492  2986  4661    0.839      0.379       0.741   \n",
       "\n",
       "         Specificity    PPV    NPV    AUC     F1 Threshold  \n",
       "                                                            \n",
       "Beginner       0.907   0.76  0.888  0.917  0.739       0.5  \n",
       "Medium         0.909  0.791  0.857    0.9  0.739       0.5  \n",
       "Advanced       0.899  0.817   0.85  0.915  0.777       0.5  "
      ]
     },
     "execution_count": 90,
     "metadata": {},
     "output_type": "execute_result"
    }
   ],
   "source": [
    "m.get_performance_metrics(get_nd_array(classes_3), np.array([beginner, medium, advanced]).T, [\"Beginner\", \"Medium\", \"Advanced\"])"
   ]
  },
  {
   "cell_type": "markdown",
   "metadata": {},
   "source": [
    "#### 2 niveaux de classification\n",
    "\n",
    "- Beginner (Perception): 1 à 2\n",
    "- Advanced (Perfectionnement): 3 à 6\n",
    "\n",
    "*Note*: Nous pouvons soit, utiliser la sommes, soit les moyennes"
   ]
  },
  {
   "cell_type": "markdown",
   "metadata": {},
   "source": [
    "##### Utilisation des sommes"
   ]
  },
  {
   "cell_type": "code",
   "execution_count": 93,
   "metadata": {},
   "outputs": [],
   "source": [
    "beginner = np.sum(preds_proba_ens[:, :2] ,axis=1)\n",
    "advanced = np.sum(preds_proba_ens[:, 2:] ,axis=1)"
   ]
  },
  {
   "cell_type": "code",
   "execution_count": 94,
   "metadata": {},
   "outputs": [
    {
     "data": {
      "text/plain": [
       "47450"
      ]
     },
     "execution_count": 94,
     "metadata": {},
     "output_type": "execute_result"
    }
   ],
   "source": [
    "len(beginner)"
   ]
  },
  {
   "cell_type": "code",
   "execution_count": 95,
   "metadata": {},
   "outputs": [
    {
     "data": {
      "text/plain": [
       "array([1, 0, 1, ..., 0, 1, 1])"
      ]
     },
     "execution_count": 95,
     "metadata": {},
     "output_type": "execute_result"
    }
   ],
   "source": [
    "preds_ens_2 = np.argmax(np.array([beginner, advanced]).T, axis=1)\n",
    "preds_ens_2"
   ]
  },
  {
   "cell_type": "code",
   "execution_count": 97,
   "metadata": {},
   "outputs": [
    {
     "data": {
      "text/plain": [
       "array([1, 1, 0, ..., 0, 1, 1])"
      ]
     },
     "execution_count": 97,
     "metadata": {},
     "output_type": "execute_result"
    }
   ],
   "source": [
    "classes_2 = np.array([0 if nb<2 else 1 for nb in y_test])\n",
    "classes_2"
   ]
  },
  {
   "cell_type": "code",
   "execution_count": 98,
   "metadata": {},
   "outputs": [
    {
     "name": "stdout",
     "output_type": "stream",
     "text": [
      "Accuracy = 0.853\n",
      "----------------------------------------\n",
      "Classification report:\n",
      "              precision    recall  f1-score   support\n",
      "\n",
      "    Beginner       0.72      0.76      0.74     13011\n",
      "    Advanced       0.91      0.89      0.90     34439\n",
      "\n",
      "    accuracy                           0.85     47450\n",
      "   macro avg       0.81      0.82      0.82     47450\n",
      "weighted avg       0.86      0.85      0.85     47450\n",
      "\n",
      "----------------------------------------\n",
      "Confusion matrix\n"
     ]
    },
    {
     "data": {
      "image/png": "[encoded data removed]",
      "text/plain": [
       "<Figure size 720x576 with 2 Axes>"
      ]
     },
     "metadata": {},
     "output_type": "display_data"
    }
   ],
   "source": [
    "print_stats(classes_2, preds_ens_2, labels=[0, 1], categories=[\"Beginner\", \"Advanced\"])"
   ]
  },
  {
   "cell_type": "code",
   "execution_count": 99,
   "metadata": {},
   "outputs": [
    {
     "data": {
      "text/html": [
       "<div>\n",
       "<style scoped>\n",
       "    .dataframe tbody tr th:only-of-type {\n",
       "        vertical-align: middle;\n",
       "    }\n",
       "\n",
       "    .dataframe tbody tr th {\n",
       "        vertical-align: top;\n",
       "    }\n",
       "\n",
       "    .dataframe thead th {\n",
       "        text-align: right;\n",
       "    }\n",
       "</style>\n",
       "<table border=\"1\" class=\"dataframe\">\n",
       "  <thead>\n",
       "    <tr style=\"text-align: right;\">\n",
       "      <th></th>\n",
       "      <th>TP</th>\n",
       "      <th>TN</th>\n",
       "      <th>FP</th>\n",
       "      <th>FN</th>\n",
       "      <th>Accuracy</th>\n",
       "      <th>Prevalence</th>\n",
       "      <th>Sensitivity</th>\n",
       "      <th>Specificity</th>\n",
       "      <th>PPV</th>\n",
       "      <th>NPV</th>\n",
       "      <th>AUC</th>\n",
       "      <th>F1</th>\n",
       "      <th>Threshold</th>\n",
       "    </tr>\n",
       "    <tr>\n",
       "      <th></th>\n",
       "      <th></th>\n",
       "      <th></th>\n",
       "      <th></th>\n",
       "      <th></th>\n",
       "      <th></th>\n",
       "      <th></th>\n",
       "      <th></th>\n",
       "      <th></th>\n",
       "      <th></th>\n",
       "      <th></th>\n",
       "      <th></th>\n",
       "      <th></th>\n",
       "      <th></th>\n",
       "    </tr>\n",
       "  </thead>\n",
       "  <tbody>\n",
       "    <tr>\n",
       "      <th>Beginner</th>\n",
       "      <td>9884</td>\n",
       "      <td>30578</td>\n",
       "      <td>3127</td>\n",
       "      <td>3861</td>\n",
       "      <td>0.853</td>\n",
       "      <td>0.29</td>\n",
       "      <td>0.719</td>\n",
       "      <td>0.907</td>\n",
       "      <td>0.76</td>\n",
       "      <td>0.888</td>\n",
       "      <td>0.917</td>\n",
       "      <td>0.739</td>\n",
       "      <td>0.5</td>\n",
       "    </tr>\n",
       "    <tr>\n",
       "      <th>Advanced</th>\n",
       "      <td>30578</td>\n",
       "      <td>9884</td>\n",
       "      <td>3861</td>\n",
       "      <td>3127</td>\n",
       "      <td>0.853</td>\n",
       "      <td>0.71</td>\n",
       "      <td>0.907</td>\n",
       "      <td>0.719</td>\n",
       "      <td>0.888</td>\n",
       "      <td>0.76</td>\n",
       "      <td>0.917</td>\n",
       "      <td>0.897</td>\n",
       "      <td>0.5</td>\n",
       "    </tr>\n",
       "  </tbody>\n",
       "</table>\n",
       "</div>"
      ],
      "text/plain": [
       "             TP     TN    FP    FN Accuracy Prevalence Sensitivity  \\\n",
       "                                                                     \n",
       "Beginner   9884  30578  3127  3861    0.853       0.29       0.719   \n",
       "Advanced  30578   9884  3861  3127    0.853       0.71       0.907   \n",
       "\n",
       "         Specificity    PPV    NPV    AUC     F1 Threshold  \n",
       "                                                            \n",
       "Beginner       0.907   0.76  0.888  0.917  0.739       0.5  \n",
       "Advanced       0.719  0.888   0.76  0.917  0.897       0.5  "
      ]
     },
     "execution_count": 99,
     "metadata": {},
     "output_type": "execute_result"
    }
   ],
   "source": [
    "m.get_performance_metrics(get_nd_array(classes_2), np.array([beginner, advanced]).T, [\"Beginner\", \"Advanced\"])"
   ]
  },
  {
   "cell_type": "markdown",
   "metadata": {},
   "source": [
    "##### Pondération de chaque somme"
   ]
  },
  {
   "cell_type": "code",
   "execution_count": 100,
   "metadata": {},
   "outputs": [
    {
     "data": {
      "text/plain": [
       "array([1, 0, 0, ..., 0, 0, 1])"
      ]
     },
     "execution_count": 100,
     "metadata": {},
     "output_type": "execute_result"
    }
   ],
   "source": [
    "preds_ens_2 = np.argmax(np.array([beginner*(2/3), advanced*(1/3)]).T, axis=1)\n",
    "preds_ens_2"
   ]
  },
  {
   "cell_type": "code",
   "execution_count": 101,
   "metadata": {},
   "outputs": [
    {
     "name": "stdout",
     "output_type": "stream",
     "text": [
      "Accuracy = 0.833\n",
      "----------------------------------------\n",
      "Classification report:\n",
      "              precision    recall  f1-score   support\n",
      "\n",
      "    Beginner       0.84      0.67      0.75     17258\n",
      "    Advanced       0.83      0.93      0.88     30192\n",
      "\n",
      "    accuracy                           0.83     47450\n",
      "   macro avg       0.84      0.80      0.81     47450\n",
      "weighted avg       0.83      0.83      0.83     47450\n",
      "\n",
      "----------------------------------------\n",
      "Confusion matrix\n"
     ]
    },
    {
     "data": {
      "image/png": "[encoded data removed]",
      "text/plain": [
       "<Figure size 720x576 with 2 Axes>"
      ]
     },
     "metadata": {},
     "output_type": "display_data"
    }
   ],
   "source": [
    "print_stats(classes_2, preds_ens_2, labels=[0, 1], categories=[\"Beginner\", \"Advanced\"])"
   ]
  },
  {
   "cell_type": "code",
   "execution_count": null,
   "metadata": {},
   "outputs": [],
   "source": []
  }
 ],
 "metadata": {
  "kernelspec": {
   "display_name": "Python 3",
   "language": "python",
   "name": "python3"
  },
  "language_info": {
   "codemirror_mode": {
    "name": "ipython",
    "version": 3
   },
   "file_extension": ".py",
   "mimetype": "text/x-python",
   "name": "python",
   "nbconvert_exporter": "python",
   "pygments_lexer": "ipython3",
   "version": "3.6.10"
  }
 },
 "nbformat": 4,
 "nbformat_minor": 4
}
