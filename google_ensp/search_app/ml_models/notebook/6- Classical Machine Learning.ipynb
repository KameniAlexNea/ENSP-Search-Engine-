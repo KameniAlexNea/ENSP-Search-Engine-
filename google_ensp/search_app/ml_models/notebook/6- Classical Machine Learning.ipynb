{
 "cells": [
  {
   "cell_type": "code",
   "execution_count": 1,
   "metadata": {},
   "outputs": [
    {
     "name": "stdout",
     "output_type": "stream",
     "text": [
      "./output/queries_df.csv\n",
      "./output/metric.pkl\n",
      "./output/model_pretrained.pkl\n",
      "./output/model.pkl\n",
      "./output/.ipynb_checkpoints/queries_df-checkpoint.csv\n",
      "./output/verbs/APPLYING.csv\n",
      "./output/verbs/REMEMBERING.csv\n",
      "./output/verbs/EVALUATING.csv\n",
      "./output/verbs/CREATING.csv\n",
      "./output/verbs/ANALYZING.csv\n",
      "./output/verbs/UNDERSTANDING.csv\n",
      "./output/verbs/.ipynb_checkpoints/REMEMBERING-checkpoint.csv\n"
     ]
    }
   ],
   "source": [
    "import numpy as np # linear algebra\n",
    "import pandas as pd # data processing, CSV file I/O (e.g. pd.read_csv)\n",
    "\n",
    "\n",
    "import os\n",
    "for dirname, _, filenames in os.walk('./output'):\n",
    "    for filename in filenames:\n",
    "        print(os.path.join(dirname, filename))"
   ]
  },
  {
   "cell_type": "markdown",
   "metadata": {},
   "source": [
    "!pip install wordcloud"
   ]
  },
  {
   "cell_type": "code",
   "execution_count": 4,
   "metadata": {},
   "outputs": [
    {
     "name": "stderr",
     "output_type": "stream",
     "text": [
      "[nltk_data] Downloading package punkt to /home/kameni_a/nltk_data...\n",
      "[nltk_data]   Package punkt is already up-to-date!\n",
      "[nltk_data] Downloading package wordnet to /home/kameni_a/nltk_data...\n",
      "[nltk_data]   Package wordnet is already up-to-date!\n",
      "[nltk_data] Downloading package stopwords to\n",
      "[nltk_data]     /home/kameni_a/nltk_data...\n",
      "[nltk_data]   Package stopwords is already up-to-date!\n"
     ]
    }
   ],
   "source": [
    "import pandas as pd #Pandas is easy-to-use data structures and data analysis tools for the Python programming language.\n",
    "import numpy as np #Linear algebra \n",
    "import re #regex applies a regular expression to a string and returns the matching substrings. \n",
    "import matplotlib.pyplot as plt\n",
    "import nltk \n",
    "import nltk.corpus\n",
    "from nltk.corpus import stopwords\n",
    "from nltk.tokenize import BlanklineTokenizer\n",
    "from nltk.tokenize import TweetTokenizer\n",
    "nltk.download('punkt')\n",
    "nltk.download('wordnet')\n",
    "nltk.download('stopwords')\n",
    "from nltk.stem import WordNetLemmatizer\n",
    "import string\n",
    "from nltk.stem import PorterStemmer \n",
    "from nltk.tokenize import word_tokenize\n",
    "from wordcloud import WordCloud\n",
    "from sklearn.model_selection import train_test_split\n",
    "from sklearn.feature_extraction.text import TfidfVectorizer\n",
    "import pickle\n",
    "from multiprocessing import Pool"
   ]
  },
  {
   "cell_type": "code",
   "execution_count": 5,
   "metadata": {},
   "outputs": [
    {
     "data": {
      "text/html": [
       "<div>\n",
       "<style scoped>\n",
       "    .dataframe tbody tr th:only-of-type {\n",
       "        vertical-align: middle;\n",
       "    }\n",
       "\n",
       "    .dataframe tbody tr th {\n",
       "        vertical-align: top;\n",
       "    }\n",
       "\n",
       "    .dataframe thead th {\n",
       "        text-align: right;\n",
       "    }\n",
       "</style>\n",
       "<table border=\"1\" class=\"dataframe\">\n",
       "  <thead>\n",
       "    <tr style=\"text-align: right;\">\n",
       "      <th></th>\n",
       "      <th>QUERY</th>\n",
       "      <th>REMEMBERING</th>\n",
       "      <th>UNDERSTANDING</th>\n",
       "      <th>APPLYING</th>\n",
       "      <th>ANALYZING</th>\n",
       "      <th>EVALUATING</th>\n",
       "      <th>CREATING</th>\n",
       "    </tr>\n",
       "  </thead>\n",
       "  <tbody>\n",
       "    <tr>\n",
       "      <th>0</th>\n",
       "      <td>\"their own language\" means  _  .</td>\n",
       "      <td>1.0</td>\n",
       "      <td>0.0</td>\n",
       "      <td>0.0</td>\n",
       "      <td>0.0</td>\n",
       "      <td>0.0</td>\n",
       "      <td>0.0</td>\n",
       "    </tr>\n",
       "    <tr>\n",
       "      <th>1</th>\n",
       "      <td>\"you may think the popular singer jay chow is ...</td>\n",
       "      <td>0.0</td>\n",
       "      <td>1.0</td>\n",
       "      <td>0.0</td>\n",
       "      <td>0.0</td>\n",
       "      <td>0.0</td>\n",
       "      <td>0.0</td>\n",
       "    </tr>\n",
       "    <tr>\n",
       "      <th>2</th>\n",
       "      <td>. at midnight, nasreddin saw   _  in his garden.</td>\n",
       "      <td>1.0</td>\n",
       "      <td>0.0</td>\n",
       "      <td>0.0</td>\n",
       "      <td>0.0</td>\n",
       "      <td>0.0</td>\n",
       "      <td>0.0</td>\n",
       "    </tr>\n",
       "    <tr>\n",
       "      <th>3</th>\n",
       "      <td>. david beckham  is   _   years old.</td>\n",
       "      <td>1.0</td>\n",
       "      <td>0.0</td>\n",
       "      <td>0.0</td>\n",
       "      <td>0.0</td>\n",
       "      <td>0.0</td>\n",
       "      <td>0.0</td>\n",
       "    </tr>\n",
       "    <tr>\n",
       "      <th>4</th>\n",
       "      <td>. david beckham's family name is   _  and zhou...</td>\n",
       "      <td>1.0</td>\n",
       "      <td>0.0</td>\n",
       "      <td>0.0</td>\n",
       "      <td>0.0</td>\n",
       "      <td>0.0</td>\n",
       "      <td>0.0</td>\n",
       "    </tr>\n",
       "  </tbody>\n",
       "</table>\n",
       "</div>"
      ],
      "text/plain": [
       "                                               QUERY  REMEMBERING  \\\n",
       "0                   \"their own language\" means  _  .          1.0   \n",
       "1  \"you may think the popular singer jay chow is ...          0.0   \n",
       "2   . at midnight, nasreddin saw   _  in his garden.          1.0   \n",
       "3               . david beckham  is   _   years old.          1.0   \n",
       "4  . david beckham's family name is   _  and zhou...          1.0   \n",
       "\n",
       "   UNDERSTANDING  APPLYING  ANALYZING  EVALUATING  CREATING  \n",
       "0            0.0       0.0        0.0         0.0       0.0  \n",
       "1            1.0       0.0        0.0         0.0       0.0  \n",
       "2            0.0       0.0        0.0         0.0       0.0  \n",
       "3            0.0       0.0        0.0         0.0       0.0  \n",
       "4            0.0       0.0        0.0         0.0       0.0  "
      ]
     },
     "execution_count": 5,
     "metadata": {},
     "output_type": "execute_result"
    }
   ],
   "source": [
    "df = pd.read_csv(\"./output/queries_df.csv\")\n",
    "df.head()"
   ]
  },
  {
   "cell_type": "code",
   "execution_count": 6,
   "metadata": {},
   "outputs": [],
   "source": [
    "categories = [\"REMEMBERING\", \"UNDERSTANDING\", \"APPLYING\", \"ANALYZING\", \"EVALUATING\", \"CREATING\"]"
   ]
  },
  {
   "cell_type": "code",
   "execution_count": 7,
   "metadata": {},
   "outputs": [],
   "source": [
    "def unidecode_text(text):\n",
    "    try:\n",
    "        text = unidecode.unidecode(text)\n",
    "    except:\n",
    "        pass\n",
    "    return text\n",
    "\n",
    "df[\"QUERY_UC\"] = df.QUERY.apply(unidecode_text)"
   ]
  },
  {
   "cell_type": "code",
   "execution_count": 9,
   "metadata": {},
   "outputs": [],
   "source": [
    "from sklearn.model_selection import train_test_split\n",
    "y = pd.Series(np.dot(df[categories], range(6)))\n",
    "X_train, X_test, y_train, y_test = train_test_split(df[\"QUERY_UC\"], y, random_state=42, test_size=.3)"
   ]
  },
  {
   "cell_type": "code",
   "execution_count": 11,
   "metadata": {},
   "outputs": [
    {
     "data": {
      "text/plain": [
       "22095     3.0\n",
       "106666    0.0\n",
       "64563     0.0\n",
       "135741    3.0\n",
       "93299     5.0\n",
       "dtype: float64"
      ]
     },
     "execution_count": 11,
     "metadata": {},
     "output_type": "execute_result"
    }
   ],
   "source": [
    "y_train.head()"
   ]
  },
  {
   "cell_type": "code",
   "execution_count": 12,
   "metadata": {},
   "outputs": [],
   "source": [
    "train_data = pd.DataFrame(X_train.values, index=X_train.index, columns=[\"text\"])\n",
    "train_data[\"target\"] = y_train.values\n",
    "\n",
    "test_data = pd.DataFrame(X_test.values, index=X_test.index, columns=[\"text\"])\n",
    "test_data[\"target\"] = y_test.values"
   ]
  },
  {
   "cell_type": "code",
   "execution_count": 13,
   "metadata": {},
   "outputs": [
    {
     "data": {
      "text/html": [
       "<div>\n",
       "<style scoped>\n",
       "    .dataframe tbody tr th:only-of-type {\n",
       "        vertical-align: middle;\n",
       "    }\n",
       "\n",
       "    .dataframe tbody tr th {\n",
       "        vertical-align: top;\n",
       "    }\n",
       "\n",
       "    .dataframe thead th {\n",
       "        text-align: right;\n",
       "    }\n",
       "</style>\n",
       "<table border=\"1\" class=\"dataframe\">\n",
       "  <thead>\n",
       "    <tr style=\"text-align: right;\">\n",
       "      <th></th>\n",
       "      <th>text</th>\n",
       "      <th>target</th>\n",
       "      <th>text_clean</th>\n",
       "    </tr>\n",
       "  </thead>\n",
       "  <tbody>\n",
       "    <tr>\n",
       "      <th>22095</th>\n",
       "      <td>4:41 , does lone pair also make bonds sometimes ?</td>\n",
       "      <td>3.0</td>\n",
       "      <td>does lone pair also make bonds sometimes</td>\n",
       "    </tr>\n",
       "    <tr>\n",
       "      <th>106666</th>\n",
       "      <td>what purpose did the monroe doctrine serve ?</td>\n",
       "      <td>0.0</td>\n",
       "      <td>what purpose did the monroe doctrine serve</td>\n",
       "    </tr>\n",
       "    <tr>\n",
       "      <th>64563</th>\n",
       "      <td>what is `` e '' ?</td>\n",
       "      <td>0.0</td>\n",
       "      <td>what is  e</td>\n",
       "    </tr>\n",
       "    <tr>\n",
       "      <th>135741</th>\n",
       "      <td>does the heart rate differ from boy to girl ?</td>\n",
       "      <td>3.0</td>\n",
       "      <td>does the heart rate differ from boy to girl</td>\n",
       "    </tr>\n",
       "    <tr>\n",
       "      <th>93299</th>\n",
       "      <td>so y=mx+b could be a function ( if of course t...</td>\n",
       "      <td>5.0</td>\n",
       "      <td>so ymxb could be a function  if of course the ...</td>\n",
       "    </tr>\n",
       "  </tbody>\n",
       "</table>\n",
       "</div>"
      ],
      "text/plain": [
       "                                                     text  target  \\\n",
       "22095   4:41 , does lone pair also make bonds sometimes ?     3.0   \n",
       "106666       what purpose did the monroe doctrine serve ?     0.0   \n",
       "64563                                   what is `` e '' ?     0.0   \n",
       "135741      does the heart rate differ from boy to girl ?     3.0   \n",
       "93299   so y=mx+b could be a function ( if of course t...     5.0   \n",
       "\n",
       "                                               text_clean  \n",
       "22095           does lone pair also make bonds sometimes   \n",
       "106666        what purpose did the monroe doctrine serve   \n",
       "64563                                        what is  e    \n",
       "135741       does the heart rate differ from boy to girl   \n",
       "93299   so ymxb could be a function  if of course the ...  "
      ]
     },
     "execution_count": 13,
     "metadata": {},
     "output_type": "execute_result"
    }
   ],
   "source": [
    "def clean_text(df, text_field, new_text_field_name):\n",
    "    df[new_text_field_name] = df[text_field].str.lower() #Convert strings in the Series/Index to lowercase.\n",
    "    df[new_text_field_name] = df[new_text_field_name].apply(lambda elem: re.sub(r\"(@[A-Za-z0-9]+)|([^0-9A-Za-z \\t])|(\\w+:\\/\\/\\S+)|^rt|http.+?\", \"\", elem))  \n",
    "    # remove numbers\n",
    "    df[new_text_field_name] = df[new_text_field_name].apply(lambda elem: re.sub(r\"\\d+\", \"\", elem))\n",
    "    \n",
    "    return df\n",
    "\n",
    "data_clean = clean_text(train_data, 'text', 'text_clean')\n",
    "data_clean_test = clean_text(test_data,'text', 'text_clean')\n",
    "data_clean.head()"
   ]
  },
  {
   "cell_type": "markdown",
   "metadata": {},
   "source": [
    "**Note**: Visualiser ce qui se passe lorsqu'on supprime \"stopwords\""
   ]
  },
  {
   "cell_type": "code",
   "execution_count": 14,
   "metadata": {},
   "outputs": [
    {
     "data": {
      "text/html": [
       "<div>\n",
       "<style scoped>\n",
       "    .dataframe tbody tr th:only-of-type {\n",
       "        vertical-align: middle;\n",
       "    }\n",
       "\n",
       "    .dataframe tbody tr th {\n",
       "        vertical-align: top;\n",
       "    }\n",
       "\n",
       "    .dataframe thead th {\n",
       "        text-align: right;\n",
       "    }\n",
       "</style>\n",
       "<table border=\"1\" class=\"dataframe\">\n",
       "  <thead>\n",
       "    <tr style=\"text-align: right;\">\n",
       "      <th></th>\n",
       "      <th>text</th>\n",
       "      <th>target</th>\n",
       "      <th>text_clean</th>\n",
       "    </tr>\n",
       "  </thead>\n",
       "  <tbody>\n",
       "    <tr>\n",
       "      <th>22095</th>\n",
       "      <td>4:41 , does lone pair also make bonds sometimes ?</td>\n",
       "      <td>3.0</td>\n",
       "      <td>lone pair also make bonds sometimes</td>\n",
       "    </tr>\n",
       "    <tr>\n",
       "      <th>106666</th>\n",
       "      <td>what purpose did the monroe doctrine serve ?</td>\n",
       "      <td>0.0</td>\n",
       "      <td>purpose monroe doctrine serve</td>\n",
       "    </tr>\n",
       "    <tr>\n",
       "      <th>64563</th>\n",
       "      <td>what is `` e '' ?</td>\n",
       "      <td>0.0</td>\n",
       "      <td>e</td>\n",
       "    </tr>\n",
       "    <tr>\n",
       "      <th>135741</th>\n",
       "      <td>does the heart rate differ from boy to girl ?</td>\n",
       "      <td>3.0</td>\n",
       "      <td>heart rate differ boy girl</td>\n",
       "    </tr>\n",
       "    <tr>\n",
       "      <th>93299</th>\n",
       "      <td>so y=mx+b could be a function ( if of course t...</td>\n",
       "      <td>5.0</td>\n",
       "      <td>ymxb could function course b numbers rather va...</td>\n",
       "    </tr>\n",
       "  </tbody>\n",
       "</table>\n",
       "</div>"
      ],
      "text/plain": [
       "                                                     text  target  \\\n",
       "22095   4:41 , does lone pair also make bonds sometimes ?     3.0   \n",
       "106666       what purpose did the monroe doctrine serve ?     0.0   \n",
       "64563                                   what is `` e '' ?     0.0   \n",
       "135741      does the heart rate differ from boy to girl ?     3.0   \n",
       "93299   so y=mx+b could be a function ( if of course t...     5.0   \n",
       "\n",
       "                                               text_clean  \n",
       "22095                 lone pair also make bonds sometimes  \n",
       "106666                      purpose monroe doctrine serve  \n",
       "64563                                                   e  \n",
       "135741                         heart rate differ boy girl  \n",
       "93299   ymxb could function course b numbers rather va...  "
      ]
     },
     "execution_count": 14,
     "metadata": {},
     "output_type": "execute_result"
    }
   ],
   "source": [
    "from nltk.corpus import stopwords\n",
    "stop = stopwords.words('english')\n",
    "data_clean['text_clean'] = data_clean['text_clean'].apply(lambda x: ' '.join([word for word in x.split() if word not in (stop)]))\n",
    "data_clean.head()"
   ]
  },
  {
   "cell_type": "code",
   "execution_count": 15,
   "metadata": {},
   "outputs": [
    {
     "data": {
      "text/html": [
       "<div>\n",
       "<style scoped>\n",
       "    .dataframe tbody tr th:only-of-type {\n",
       "        vertical-align: middle;\n",
       "    }\n",
       "\n",
       "    .dataframe tbody tr th {\n",
       "        vertical-align: top;\n",
       "    }\n",
       "\n",
       "    .dataframe thead th {\n",
       "        text-align: right;\n",
       "    }\n",
       "</style>\n",
       "<table border=\"1\" class=\"dataframe\">\n",
       "  <thead>\n",
       "    <tr style=\"text-align: right;\">\n",
       "      <th></th>\n",
       "      <th>text</th>\n",
       "      <th>target</th>\n",
       "      <th>text_clean</th>\n",
       "    </tr>\n",
       "  </thead>\n",
       "  <tbody>\n",
       "    <tr>\n",
       "      <th>22095</th>\n",
       "      <td>4:41 , does lone pair also make bonds sometimes ?</td>\n",
       "      <td>3.0</td>\n",
       "      <td>does lone pair also make bonds sometimes</td>\n",
       "    </tr>\n",
       "    <tr>\n",
       "      <th>106666</th>\n",
       "      <td>what purpose did the monroe doctrine serve ?</td>\n",
       "      <td>0.0</td>\n",
       "      <td>what purpose did the monroe doctrine serve</td>\n",
       "    </tr>\n",
       "    <tr>\n",
       "      <th>64563</th>\n",
       "      <td>what is `` e '' ?</td>\n",
       "      <td>0.0</td>\n",
       "      <td>what is  e</td>\n",
       "    </tr>\n",
       "    <tr>\n",
       "      <th>135741</th>\n",
       "      <td>does the heart rate differ from boy to girl ?</td>\n",
       "      <td>3.0</td>\n",
       "      <td>does the heart rate differ from boy to girl</td>\n",
       "    </tr>\n",
       "    <tr>\n",
       "      <th>93299</th>\n",
       "      <td>so y=mx+b could be a function ( if of course t...</td>\n",
       "      <td>5.0</td>\n",
       "      <td>so ymxb could be a function  if of course the ...</td>\n",
       "    </tr>\n",
       "  </tbody>\n",
       "</table>\n",
       "</div>"
      ],
      "text/plain": [
       "                                                     text  target  \\\n",
       "22095   4:41 , does lone pair also make bonds sometimes ?     3.0   \n",
       "106666       what purpose did the monroe doctrine serve ?     0.0   \n",
       "64563                                   what is `` e '' ?     0.0   \n",
       "135741      does the heart rate differ from boy to girl ?     3.0   \n",
       "93299   so y=mx+b could be a function ( if of course t...     5.0   \n",
       "\n",
       "                                               text_clean  \n",
       "22095           does lone pair also make bonds sometimes   \n",
       "106666        what purpose did the monroe doctrine serve   \n",
       "64563                                        what is  e    \n",
       "135741       does the heart rate differ from boy to girl   \n",
       "93299   so ymxb could be a function  if of course the ...  "
      ]
     },
     "execution_count": 15,
     "metadata": {},
     "output_type": "execute_result"
    }
   ],
   "source": [
    "data_clean = clean_text(train_data, 'text', 'text_clean')\n",
    "data_clean_test = clean_text(test_data,'text', 'text_clean')\n",
    "data_clean.head()"
   ]
  },
  {
   "cell_type": "code",
   "execution_count": 16,
   "metadata": {},
   "outputs": [
    {
     "data": {
      "text/html": [
       "<div>\n",
       "<style scoped>\n",
       "    .dataframe tbody tr th:only-of-type {\n",
       "        vertical-align: middle;\n",
       "    }\n",
       "\n",
       "    .dataframe tbody tr th {\n",
       "        vertical-align: top;\n",
       "    }\n",
       "\n",
       "    .dataframe thead th {\n",
       "        text-align: right;\n",
       "    }\n",
       "</style>\n",
       "<table border=\"1\" class=\"dataframe\">\n",
       "  <thead>\n",
       "    <tr style=\"text-align: right;\">\n",
       "      <th></th>\n",
       "      <th>text</th>\n",
       "      <th>target</th>\n",
       "      <th>text_clean</th>\n",
       "      <th>text_tokens</th>\n",
       "    </tr>\n",
       "  </thead>\n",
       "  <tbody>\n",
       "    <tr>\n",
       "      <th>22095</th>\n",
       "      <td>4:41 , does lone pair also make bonds sometimes ?</td>\n",
       "      <td>3.0</td>\n",
       "      <td>does lone pair also make bonds sometimes</td>\n",
       "      <td>[does, lone, pair, also, make, bonds, sometimes]</td>\n",
       "    </tr>\n",
       "    <tr>\n",
       "      <th>106666</th>\n",
       "      <td>what purpose did the monroe doctrine serve ?</td>\n",
       "      <td>0.0</td>\n",
       "      <td>what purpose did the monroe doctrine serve</td>\n",
       "      <td>[what, purpose, did, the, monroe, doctrine, se...</td>\n",
       "    </tr>\n",
       "    <tr>\n",
       "      <th>64563</th>\n",
       "      <td>what is `` e '' ?</td>\n",
       "      <td>0.0</td>\n",
       "      <td>what is  e</td>\n",
       "      <td>[what, is, e]</td>\n",
       "    </tr>\n",
       "    <tr>\n",
       "      <th>135741</th>\n",
       "      <td>does the heart rate differ from boy to girl ?</td>\n",
       "      <td>3.0</td>\n",
       "      <td>does the heart rate differ from boy to girl</td>\n",
       "      <td>[does, the, heart, rate, differ, from, boy, to...</td>\n",
       "    </tr>\n",
       "    <tr>\n",
       "      <th>93299</th>\n",
       "      <td>so y=mx+b could be a function ( if of course t...</td>\n",
       "      <td>5.0</td>\n",
       "      <td>so ymxb could be a function  if of course the ...</td>\n",
       "      <td>[so, ymxb, could, be, a, function, if, of, cou...</td>\n",
       "    </tr>\n",
       "  </tbody>\n",
       "</table>\n",
       "</div>"
      ],
      "text/plain": [
       "                                                     text  target  \\\n",
       "22095   4:41 , does lone pair also make bonds sometimes ?     3.0   \n",
       "106666       what purpose did the monroe doctrine serve ?     0.0   \n",
       "64563                                   what is `` e '' ?     0.0   \n",
       "135741      does the heart rate differ from boy to girl ?     3.0   \n",
       "93299   so y=mx+b could be a function ( if of course t...     5.0   \n",
       "\n",
       "                                               text_clean  \\\n",
       "22095           does lone pair also make bonds sometimes    \n",
       "106666        what purpose did the monroe doctrine serve    \n",
       "64563                                        what is  e     \n",
       "135741       does the heart rate differ from boy to girl    \n",
       "93299   so ymxb could be a function  if of course the ...   \n",
       "\n",
       "                                              text_tokens  \n",
       "22095    [does, lone, pair, also, make, bonds, sometimes]  \n",
       "106666  [what, purpose, did, the, monroe, doctrine, se...  \n",
       "64563                                       [what, is, e]  \n",
       "135741  [does, the, heart, rate, differ, from, boy, to...  \n",
       "93299   [so, ymxb, could, be, a, function, if, of, cou...  "
      ]
     },
     "execution_count": 16,
     "metadata": {},
     "output_type": "execute_result"
    }
   ],
   "source": [
    "from nltk.tokenize import sent_tokenize, word_tokenize\n",
    "data_clean['text_tokens'] = data_clean['text_clean'].apply(lambda x: word_tokenize(x))\n",
    "data_clean.head()"
   ]
  },
  {
   "cell_type": "code",
   "execution_count": 17,
   "metadata": {},
   "outputs": [
    {
     "data": {
      "text/html": [
       "<div>\n",
       "<style scoped>\n",
       "    .dataframe tbody tr th:only-of-type {\n",
       "        vertical-align: middle;\n",
       "    }\n",
       "\n",
       "    .dataframe tbody tr th {\n",
       "        vertical-align: top;\n",
       "    }\n",
       "\n",
       "    .dataframe thead th {\n",
       "        text-align: right;\n",
       "    }\n",
       "</style>\n",
       "<table border=\"1\" class=\"dataframe\">\n",
       "  <thead>\n",
       "    <tr style=\"text-align: right;\">\n",
       "      <th></th>\n",
       "      <th>text</th>\n",
       "      <th>target</th>\n",
       "      <th>text_clean</th>\n",
       "      <th>text_tokens</th>\n",
       "      <th>text_clean_tokens</th>\n",
       "    </tr>\n",
       "  </thead>\n",
       "  <tbody>\n",
       "    <tr>\n",
       "      <th>22095</th>\n",
       "      <td>4:41 , does lone pair also make bonds sometimes ?</td>\n",
       "      <td>3.0</td>\n",
       "      <td>does lone pair also make bonds sometimes</td>\n",
       "      <td>[does, lone, pair, also, make, bonds, sometimes]</td>\n",
       "      <td>[doe, lone, pair, also, make, bond, sometim]</td>\n",
       "    </tr>\n",
       "    <tr>\n",
       "      <th>106666</th>\n",
       "      <td>what purpose did the monroe doctrine serve ?</td>\n",
       "      <td>0.0</td>\n",
       "      <td>what purpose did the monroe doctrine serve</td>\n",
       "      <td>[what, purpose, did, the, monroe, doctrine, se...</td>\n",
       "      <td>[what, purpos, did, the, monro, doctrin, serv]</td>\n",
       "    </tr>\n",
       "    <tr>\n",
       "      <th>64563</th>\n",
       "      <td>what is `` e '' ?</td>\n",
       "      <td>0.0</td>\n",
       "      <td>what is  e</td>\n",
       "      <td>[what, is, e]</td>\n",
       "      <td>[what, is, e]</td>\n",
       "    </tr>\n",
       "    <tr>\n",
       "      <th>135741</th>\n",
       "      <td>does the heart rate differ from boy to girl ?</td>\n",
       "      <td>3.0</td>\n",
       "      <td>does the heart rate differ from boy to girl</td>\n",
       "      <td>[does, the, heart, rate, differ, from, boy, to...</td>\n",
       "      <td>[doe, the, heart, rate, differ, from, boy, to,...</td>\n",
       "    </tr>\n",
       "    <tr>\n",
       "      <th>93299</th>\n",
       "      <td>so y=mx+b could be a function ( if of course t...</td>\n",
       "      <td>5.0</td>\n",
       "      <td>so ymxb could be a function  if of course the ...</td>\n",
       "      <td>[so, ymxb, could, be, a, function, if, of, cou...</td>\n",
       "      <td>[so, ymxb, could, be, a, function, if, of, cou...</td>\n",
       "    </tr>\n",
       "  </tbody>\n",
       "</table>\n",
       "</div>"
      ],
      "text/plain": [
       "                                                     text  target  \\\n",
       "22095   4:41 , does lone pair also make bonds sometimes ?     3.0   \n",
       "106666       what purpose did the monroe doctrine serve ?     0.0   \n",
       "64563                                   what is `` e '' ?     0.0   \n",
       "135741      does the heart rate differ from boy to girl ?     3.0   \n",
       "93299   so y=mx+b could be a function ( if of course t...     5.0   \n",
       "\n",
       "                                               text_clean  \\\n",
       "22095           does lone pair also make bonds sometimes    \n",
       "106666        what purpose did the monroe doctrine serve    \n",
       "64563                                        what is  e     \n",
       "135741       does the heart rate differ from boy to girl    \n",
       "93299   so ymxb could be a function  if of course the ...   \n",
       "\n",
       "                                              text_tokens  \\\n",
       "22095    [does, lone, pair, also, make, bonds, sometimes]   \n",
       "106666  [what, purpose, did, the, monroe, doctrine, se...   \n",
       "64563                                       [what, is, e]   \n",
       "135741  [does, the, heart, rate, differ, from, boy, to...   \n",
       "93299   [so, ymxb, could, be, a, function, if, of, cou...   \n",
       "\n",
       "                                        text_clean_tokens  \n",
       "22095        [doe, lone, pair, also, make, bond, sometim]  \n",
       "106666     [what, purpos, did, the, monro, doctrin, serv]  \n",
       "64563                                       [what, is, e]  \n",
       "135741  [doe, the, heart, rate, differ, from, boy, to,...  \n",
       "93299   [so, ymxb, could, be, a, function, if, of, cou...  "
      ]
     },
     "execution_count": 17,
     "metadata": {},
     "output_type": "execute_result"
    }
   ],
   "source": [
    "from nltk.stem import PorterStemmer \n",
    "from nltk.tokenize import word_tokenize\n",
    "def word_stemmer(text):\n",
    "    stem_text = [PorterStemmer().stem(i) for i in text]\n",
    "    return stem_text\n",
    "data_clean['text_clean_tokens'] = data_clean['text_tokens'].apply(lambda x: word_stemmer(x))\n",
    "data_clean.head()"
   ]
  },
  {
   "cell_type": "code",
   "execution_count": 18,
   "metadata": {},
   "outputs": [
    {
     "name": "stderr",
     "output_type": "stream",
     "text": [
      "[nltk_data] Downloading package wordnet to /home/kameni_a/nltk_data...\n",
      "[nltk_data]   Package wordnet is already up-to-date!\n"
     ]
    },
    {
     "data": {
      "text/html": [
       "<div>\n",
       "<style scoped>\n",
       "    .dataframe tbody tr th:only-of-type {\n",
       "        vertical-align: middle;\n",
       "    }\n",
       "\n",
       "    .dataframe tbody tr th {\n",
       "        vertical-align: top;\n",
       "    }\n",
       "\n",
       "    .dataframe thead th {\n",
       "        text-align: right;\n",
       "    }\n",
       "</style>\n",
       "<table border=\"1\" class=\"dataframe\">\n",
       "  <thead>\n",
       "    <tr style=\"text-align: right;\">\n",
       "      <th></th>\n",
       "      <th>text</th>\n",
       "      <th>target</th>\n",
       "      <th>text_clean</th>\n",
       "      <th>text_tokens</th>\n",
       "      <th>text_clean_tokens</th>\n",
       "    </tr>\n",
       "  </thead>\n",
       "  <tbody>\n",
       "    <tr>\n",
       "      <th>22095</th>\n",
       "      <td>4:41 , does lone pair also make bonds sometimes ?</td>\n",
       "      <td>3.0</td>\n",
       "      <td>does lone pair also make bonds sometimes</td>\n",
       "      <td>[does, lone, pair, also, make, bonds, sometimes]</td>\n",
       "      <td>[doe, lone, pair, also, make, bond, sometimes]</td>\n",
       "    </tr>\n",
       "    <tr>\n",
       "      <th>106666</th>\n",
       "      <td>what purpose did the monroe doctrine serve ?</td>\n",
       "      <td>0.0</td>\n",
       "      <td>what purpose did the monroe doctrine serve</td>\n",
       "      <td>[what, purpose, did, the, monroe, doctrine, se...</td>\n",
       "      <td>[what, purpose, did, the, monroe, doctrine, se...</td>\n",
       "    </tr>\n",
       "    <tr>\n",
       "      <th>64563</th>\n",
       "      <td>what is `` e '' ?</td>\n",
       "      <td>0.0</td>\n",
       "      <td>what is  e</td>\n",
       "      <td>[what, is, e]</td>\n",
       "      <td>[what, is, e]</td>\n",
       "    </tr>\n",
       "    <tr>\n",
       "      <th>135741</th>\n",
       "      <td>does the heart rate differ from boy to girl ?</td>\n",
       "      <td>3.0</td>\n",
       "      <td>does the heart rate differ from boy to girl</td>\n",
       "      <td>[does, the, heart, rate, differ, from, boy, to...</td>\n",
       "      <td>[doe, the, heart, rate, differ, from, boy, to,...</td>\n",
       "    </tr>\n",
       "    <tr>\n",
       "      <th>93299</th>\n",
       "      <td>so y=mx+b could be a function ( if of course t...</td>\n",
       "      <td>5.0</td>\n",
       "      <td>so ymxb could be a function  if of course the ...</td>\n",
       "      <td>[so, ymxb, could, be, a, function, if, of, cou...</td>\n",
       "      <td>[so, ymxb, could, be, a, function, if, of, cou...</td>\n",
       "    </tr>\n",
       "  </tbody>\n",
       "</table>\n",
       "</div>"
      ],
      "text/plain": [
       "                                                     text  target  \\\n",
       "22095   4:41 , does lone pair also make bonds sometimes ?     3.0   \n",
       "106666       what purpose did the monroe doctrine serve ?     0.0   \n",
       "64563                                   what is `` e '' ?     0.0   \n",
       "135741      does the heart rate differ from boy to girl ?     3.0   \n",
       "93299   so y=mx+b could be a function ( if of course t...     5.0   \n",
       "\n",
       "                                               text_clean  \\\n",
       "22095           does lone pair also make bonds sometimes    \n",
       "106666        what purpose did the monroe doctrine serve    \n",
       "64563                                        what is  e     \n",
       "135741       does the heart rate differ from boy to girl    \n",
       "93299   so ymxb could be a function  if of course the ...   \n",
       "\n",
       "                                              text_tokens  \\\n",
       "22095    [does, lone, pair, also, make, bonds, sometimes]   \n",
       "106666  [what, purpose, did, the, monroe, doctrine, se...   \n",
       "64563                                       [what, is, e]   \n",
       "135741  [does, the, heart, rate, differ, from, boy, to...   \n",
       "93299   [so, ymxb, could, be, a, function, if, of, cou...   \n",
       "\n",
       "                                        text_clean_tokens  \n",
       "22095      [doe, lone, pair, also, make, bond, sometimes]  \n",
       "106666  [what, purpose, did, the, monroe, doctrine, se...  \n",
       "64563                                       [what, is, e]  \n",
       "135741  [doe, the, heart, rate, differ, from, boy, to,...  \n",
       "93299   [so, ymxb, could, be, a, function, if, of, cou...  "
      ]
     },
     "execution_count": 18,
     "metadata": {},
     "output_type": "execute_result"
    }
   ],
   "source": [
    "nltk.download('wordnet')\n",
    "from nltk.stem import WordNetLemmatizer\n",
    "\n",
    "def word_lemmatizer(text):\n",
    "    lem_text = [WordNetLemmatizer().lemmatize(i) for i in text]\n",
    "    return lem_text\n",
    "data_clean['text_clean_tokens'] = data_clean['text_tokens'].apply(lambda x: word_lemmatizer(x))\n",
    "data_clean.head()"
   ]
  },
  {
   "cell_type": "code",
   "execution_count": 19,
   "metadata": {},
   "outputs": [],
   "source": [
    "def remove_URL(text):\n",
    "    url = re.compile(r'https?://\\S+|www\\.\\S+')\n",
    "    return url.sub(r'',text)\n",
    "\n",
    "\n",
    "\n",
    "data_clean['text_clean'] = data_clean['text_clean'].apply(lambda x: remove_URL(x))"
   ]
  },
  {
   "cell_type": "code",
   "execution_count": 20,
   "metadata": {},
   "outputs": [],
   "source": [
    "def remove_html(text):\n",
    "    html=re.compile(r'<.*?>')\n",
    "    return html.sub(r'',text)\n",
    "\n",
    "data_clean['text_clean'] = data_clean['text_clean'].apply(lambda x: remove_html(x))"
   ]
  },
  {
   "cell_type": "code",
   "execution_count": 21,
   "metadata": {},
   "outputs": [],
   "source": [
    "# Reference : https://gist.github.com/slowkow/7a7f61f495e3dbb7e3d767f97bd7304b\n",
    "def remove_emoji(text):\n",
    "    emoji_pattern = re.compile(\"[\"\n",
    "                           u\"\\U0001F600-\\U0001F64F\"  # emoticons\n",
    "                           u\"\\U0001F300-\\U0001F5FF\"  # symbols & pictographs\n",
    "                           u\"\\U0001F680-\\U0001F6FF\"  # transport & map symbols\n",
    "                           u\"\\U0001F1E0-\\U0001F1FF\"  # flags (iOS)\n",
    "                           u\"\\U00002702-\\U000027B0\"\n",
    "                           u\"\\U000024C2-\\U0001F251\"\n",
    "                           \"]+\", flags=re.UNICODE)\n",
    "    return emoji_pattern.sub(r'', text)\n",
    "\n",
    "data_clean['text_clean'] = data_clean['text_clean'].apply(lambda x: remove_emoji(x))"
   ]
  },
  {
   "cell_type": "code",
   "execution_count": 22,
   "metadata": {},
   "outputs": [],
   "source": [
    "def remove_punct(text):\n",
    "    table=str.maketrans('','',string.punctuation)\n",
    "    return text.translate(table)\n",
    "\n",
    "data_clean['text_clean'] = data_clean['text_clean'].apply(lambda x: remove_punct(x))"
   ]
  },
  {
   "cell_type": "code",
   "execution_count": 23,
   "metadata": {},
   "outputs": [
    {
     "name": "stdout",
     "output_type": "stream",
     "text": [
      "Defaulting to user installation because normal site-packages is not writeable\n",
      "Collecting pyspellchecker\n",
      "  Downloading pyspellchecker-0.5.5-py2.py3-none-any.whl (1.9 MB)\n",
      "\u001b[K     |████████████████████████████████| 1.9 MB 6.9 MB/s eta 0:00:01\n",
      "\u001b[?25hInstalling collected packages: pyspellchecker\n",
      "Successfully installed pyspellchecker-0.5.5\n"
     ]
    }
   ],
   "source": [
    "!pip3 install pyspellchecker"
   ]
  },
  {
   "cell_type": "markdown",
   "metadata": {},
   "source": [
    "\n",
    "from spellchecker import SpellChecker\n",
    "\n",
    "spell = SpellChecker()\n",
    "def correct_spellings(text):\n",
    "    corrected_text = []\n",
    "    misspelled_words = spell.unknown(text.split())\n",
    "    for word in text.split():\n",
    "        if word in misspelled_words:\n",
    "            corrected_text.append(spell.correction(word))\n",
    "        else:\n",
    "            corrected_text.append(word)\n",
    "    return \" \".join(corrected_text)\n",
    "\n",
    "data_clean['text_clean'] = data_clean['text_clean'].apply(lambda x: correct_spellings(x))"
   ]
  },
  {
   "cell_type": "code",
   "execution_count": 25,
   "metadata": {},
   "outputs": [
    {
     "data": {
      "text/html": [
       "<div>\n",
       "<style scoped>\n",
       "    .dataframe tbody tr th:only-of-type {\n",
       "        vertical-align: middle;\n",
       "    }\n",
       "\n",
       "    .dataframe tbody tr th {\n",
       "        vertical-align: top;\n",
       "    }\n",
       "\n",
       "    .dataframe thead th {\n",
       "        text-align: right;\n",
       "    }\n",
       "</style>\n",
       "<table border=\"1\" class=\"dataframe\">\n",
       "  <thead>\n",
       "    <tr style=\"text-align: right;\">\n",
       "      <th></th>\n",
       "      <th>text</th>\n",
       "      <th>target</th>\n",
       "      <th>text_clean</th>\n",
       "      <th>text_tokens</th>\n",
       "      <th>text_clean_tokens</th>\n",
       "    </tr>\n",
       "  </thead>\n",
       "  <tbody>\n",
       "    <tr>\n",
       "      <th>22095</th>\n",
       "      <td>4:41 , does lone pair also make bonds sometimes ?</td>\n",
       "      <td>3.0</td>\n",
       "      <td>does lone pair also make bonds sometimes</td>\n",
       "      <td>[does, lone, pair, also, make, bonds, sometimes]</td>\n",
       "      <td>[doe, lone, pair, also, make, bond, sometimes]</td>\n",
       "    </tr>\n",
       "    <tr>\n",
       "      <th>106666</th>\n",
       "      <td>what purpose did the monroe doctrine serve ?</td>\n",
       "      <td>0.0</td>\n",
       "      <td>what purpose did the monroe doctrine serve</td>\n",
       "      <td>[what, purpose, did, the, monroe, doctrine, se...</td>\n",
       "      <td>[what, purpose, did, the, monroe, doctrine, se...</td>\n",
       "    </tr>\n",
       "    <tr>\n",
       "      <th>64563</th>\n",
       "      <td>what is `` e '' ?</td>\n",
       "      <td>0.0</td>\n",
       "      <td>what is  e</td>\n",
       "      <td>[what, is, e]</td>\n",
       "      <td>[what, is, e]</td>\n",
       "    </tr>\n",
       "    <tr>\n",
       "      <th>135741</th>\n",
       "      <td>does the heart rate differ from boy to girl ?</td>\n",
       "      <td>3.0</td>\n",
       "      <td>does the heart rate differ from boy to girl</td>\n",
       "      <td>[does, the, heart, rate, differ, from, boy, to...</td>\n",
       "      <td>[doe, the, heart, rate, differ, from, boy, to,...</td>\n",
       "    </tr>\n",
       "    <tr>\n",
       "      <th>93299</th>\n",
       "      <td>so y=mx+b could be a function ( if of course t...</td>\n",
       "      <td>5.0</td>\n",
       "      <td>so ymxb could be a function  if of course the ...</td>\n",
       "      <td>[so, ymxb, could, be, a, function, if, of, cou...</td>\n",
       "      <td>[so, ymxb, could, be, a, function, if, of, cou...</td>\n",
       "    </tr>\n",
       "  </tbody>\n",
       "</table>\n",
       "</div>"
      ],
      "text/plain": [
       "                                                     text  target  \\\n",
       "22095   4:41 , does lone pair also make bonds sometimes ?     3.0   \n",
       "106666       what purpose did the monroe doctrine serve ?     0.0   \n",
       "64563                                   what is `` e '' ?     0.0   \n",
       "135741      does the heart rate differ from boy to girl ?     3.0   \n",
       "93299   so y=mx+b could be a function ( if of course t...     5.0   \n",
       "\n",
       "                                               text_clean  \\\n",
       "22095           does lone pair also make bonds sometimes    \n",
       "106666        what purpose did the monroe doctrine serve    \n",
       "64563                                        what is  e     \n",
       "135741       does the heart rate differ from boy to girl    \n",
       "93299   so ymxb could be a function  if of course the ...   \n",
       "\n",
       "                                              text_tokens  \\\n",
       "22095    [does, lone, pair, also, make, bonds, sometimes]   \n",
       "106666  [what, purpose, did, the, monroe, doctrine, se...   \n",
       "64563                                       [what, is, e]   \n",
       "135741  [does, the, heart, rate, differ, from, boy, to...   \n",
       "93299   [so, ymxb, could, be, a, function, if, of, cou...   \n",
       "\n",
       "                                        text_clean_tokens  \n",
       "22095      [doe, lone, pair, also, make, bond, sometimes]  \n",
       "106666  [what, purpose, did, the, monroe, doctrine, se...  \n",
       "64563                                       [what, is, e]  \n",
       "135741  [doe, the, heart, rate, differ, from, boy, to,...  \n",
       "93299   [so, ymxb, could, be, a, function, if, of, cou...  "
      ]
     },
     "execution_count": 25,
     "metadata": {},
     "output_type": "execute_result"
    }
   ],
   "source": [
    "data_clean.head()"
   ]
  },
  {
   "cell_type": "code",
   "execution_count": 28,
   "metadata": {},
   "outputs": [],
   "source": [
    "freq = pd.Series(' '.join(data_clean['text_clean']).split()).value_counts() # [:10]"
   ]
  },
  {
   "cell_type": "code",
   "execution_count": 29,
   "metadata": {},
   "outputs": [
    {
     "data": {
      "text/plain": [
       "the     141691\n",
       "is       62722\n",
       "of       52900\n",
       "a        50973\n",
       "to       43197\n",
       "and      34911\n",
       "in       30280\n",
       "what     30240\n",
       "how      29708\n",
       "why      21668\n",
       "you      21402\n",
       "that     21295\n",
       "do       20548\n",
       "it       19774\n",
       "does     18086\n",
       "dtype: int64"
      ]
     },
     "execution_count": 29,
     "metadata": {},
     "output_type": "execute_result"
    }
   ],
   "source": [
    "freq.head(15)"
   ]
  },
  {
   "cell_type": "code",
   "execution_count": 31,
   "metadata": {},
   "outputs": [
    {
     "data": {
      "text/plain": [
       "fluor                1\n",
       "hipothenuse          1\n",
       "beggings             1\n",
       "neighbour            1\n",
       "gophersun            1\n",
       "orbitalselectrons    1\n",
       "npropyl              1\n",
       "malphigian           1\n",
       "wordform             1\n",
       "btech                1\n",
       "convexity            1\n",
       "oraganisoms          1\n",
       "defensins            1\n",
       "utube                1\n",
       "methed               1\n",
       "dtype: int64"
      ]
     },
     "execution_count": 31,
     "metadata": {},
     "output_type": "execute_result"
    }
   ],
   "source": [
    "freq.tail(15)"
   ]
  },
  {
   "cell_type": "markdown",
   "metadata": {},
   "source": [
    "freq = list(freq.index[:10]) + list(freq[freq==1].index)\n",
    "data_clean['text_cml_freq'] = data_clean['text_clean'].apply(lambda x: \" \".join(x for x in x.split() if x not in freq))"
   ]
  },
  {
   "cell_type": "code",
   "execution_count": 33,
   "metadata": {},
   "outputs": [
    {
     "data": {
      "text/html": [
       "<div>\n",
       "<style scoped>\n",
       "    .dataframe tbody tr th:only-of-type {\n",
       "        vertical-align: middle;\n",
       "    }\n",
       "\n",
       "    .dataframe tbody tr th {\n",
       "        vertical-align: top;\n",
       "    }\n",
       "\n",
       "    .dataframe thead th {\n",
       "        text-align: right;\n",
       "    }\n",
       "</style>\n",
       "<table border=\"1\" class=\"dataframe\">\n",
       "  <thead>\n",
       "    <tr style=\"text-align: right;\">\n",
       "      <th></th>\n",
       "      <th>text</th>\n",
       "      <th>target</th>\n",
       "      <th>text_clean</th>\n",
       "      <th>text_tokens</th>\n",
       "      <th>text_clean_tokens</th>\n",
       "    </tr>\n",
       "  </thead>\n",
       "  <tbody>\n",
       "    <tr>\n",
       "      <th>22095</th>\n",
       "      <td>4:41 , does lone pair also make bonds sometimes ?</td>\n",
       "      <td>3.0</td>\n",
       "      <td>does lone pair also make bonds sometimes</td>\n",
       "      <td>[does, lone, pair, also, make, bonds, sometimes]</td>\n",
       "      <td>[doe, lone, pair, also, make, bond, sometimes]</td>\n",
       "    </tr>\n",
       "    <tr>\n",
       "      <th>106666</th>\n",
       "      <td>what purpose did the monroe doctrine serve ?</td>\n",
       "      <td>0.0</td>\n",
       "      <td>what purpose did the monroe doctrine serve</td>\n",
       "      <td>[what, purpose, did, the, monroe, doctrine, se...</td>\n",
       "      <td>[what, purpose, did, the, monroe, doctrine, se...</td>\n",
       "    </tr>\n",
       "    <tr>\n",
       "      <th>64563</th>\n",
       "      <td>what is `` e '' ?</td>\n",
       "      <td>0.0</td>\n",
       "      <td>what is  e</td>\n",
       "      <td>[what, is, e]</td>\n",
       "      <td>[what, is, e]</td>\n",
       "    </tr>\n",
       "    <tr>\n",
       "      <th>135741</th>\n",
       "      <td>does the heart rate differ from boy to girl ?</td>\n",
       "      <td>3.0</td>\n",
       "      <td>does the heart rate differ from boy to girl</td>\n",
       "      <td>[does, the, heart, rate, differ, from, boy, to...</td>\n",
       "      <td>[doe, the, heart, rate, differ, from, boy, to,...</td>\n",
       "    </tr>\n",
       "    <tr>\n",
       "      <th>93299</th>\n",
       "      <td>so y=mx+b could be a function ( if of course t...</td>\n",
       "      <td>5.0</td>\n",
       "      <td>so ymxb could be a function  if of course the ...</td>\n",
       "      <td>[so, ymxb, could, be, a, function, if, of, cou...</td>\n",
       "      <td>[so, ymxb, could, be, a, function, if, of, cou...</td>\n",
       "    </tr>\n",
       "  </tbody>\n",
       "</table>\n",
       "</div>"
      ],
      "text/plain": [
       "                                                     text  target  \\\n",
       "22095   4:41 , does lone pair also make bonds sometimes ?     3.0   \n",
       "106666       what purpose did the monroe doctrine serve ?     0.0   \n",
       "64563                                   what is `` e '' ?     0.0   \n",
       "135741      does the heart rate differ from boy to girl ?     3.0   \n",
       "93299   so y=mx+b could be a function ( if of course t...     5.0   \n",
       "\n",
       "                                               text_clean  \\\n",
       "22095           does lone pair also make bonds sometimes    \n",
       "106666        what purpose did the monroe doctrine serve    \n",
       "64563                                        what is  e     \n",
       "135741       does the heart rate differ from boy to girl    \n",
       "93299   so ymxb could be a function  if of course the ...   \n",
       "\n",
       "                                              text_tokens  \\\n",
       "22095    [does, lone, pair, also, make, bonds, sometimes]   \n",
       "106666  [what, purpose, did, the, monroe, doctrine, se...   \n",
       "64563                                       [what, is, e]   \n",
       "135741  [does, the, heart, rate, differ, from, boy, to...   \n",
       "93299   [so, ymxb, could, be, a, function, if, of, cou...   \n",
       "\n",
       "                                        text_clean_tokens  \n",
       "22095      [doe, lone, pair, also, make, bond, sometimes]  \n",
       "106666  [what, purpose, did, the, monroe, doctrine, se...  \n",
       "64563                                       [what, is, e]  \n",
       "135741  [doe, the, heart, rate, differ, from, boy, to,...  \n",
       "93299   [so, ymxb, could, be, a, function, if, of, cou...  "
      ]
     },
     "execution_count": 33,
     "metadata": {},
     "output_type": "execute_result"
    }
   ],
   "source": [
    "data_clean.head()"
   ]
  },
  {
   "cell_type": "code",
   "execution_count": 34,
   "metadata": {},
   "outputs": [
    {
     "data": {
      "text/plain": [
       "(132859, 5)"
      ]
     },
     "execution_count": 34,
     "metadata": {},
     "output_type": "execute_result"
    }
   ],
   "source": [
    "data_clean.shape"
   ]
  },
  {
   "cell_type": "code",
   "execution_count": 36,
   "metadata": {},
   "outputs": [],
   "source": [
    "X_train, X_val, y_train, y_val = train_test_split(data_clean['text_clean'],\n",
    "                                                    data_clean['target'], \n",
    "                                                    test_size = 0.2,\n",
    "                                                    random_state = 42)"
   ]
  },
  {
   "cell_type": "code",
   "execution_count": 37,
   "metadata": {},
   "outputs": [],
   "source": [
    "tfidf = TfidfVectorizer(encoding='utf-8',\n",
    "                       ngram_range=(1, 3),\n",
    "                       max_df=1.0,\n",
    "                       min_df=3,\n",
    "                       max_features=750,\n",
    "                       norm='l2',\n",
    "                       sublinear_tf=True)"
   ]
  },
  {
   "cell_type": "code",
   "execution_count": 38,
   "metadata": {},
   "outputs": [
    {
     "name": "stdout",
     "output_type": "stream",
     "text": [
      "(106287, 750)\n"
     ]
    }
   ],
   "source": [
    "train_features = tfidf.fit_transform(X_train).toarray()\n",
    "print(train_features.shape)"
   ]
  },
  {
   "cell_type": "code",
   "execution_count": 39,
   "metadata": {},
   "outputs": [
    {
     "name": "stdout",
     "output_type": "stream",
     "text": [
      "(26572, 750)\n"
     ]
    }
   ],
   "source": [
    "val_features = tfidf.transform(X_val).toarray()\n",
    "print(val_features.shape)"
   ]
  },
  {
   "cell_type": "code",
   "execution_count": 40,
   "metadata": {},
   "outputs": [],
   "source": [
    "train_labels = y_train\n",
    "val_labels = y_val"
   ]
  },
  {
   "cell_type": "code",
   "execution_count": 41,
   "metadata": {},
   "outputs": [],
   "source": [
    "import pandas as pd\n",
    "from sklearn.naive_bayes import MultinomialNB\n",
    "from sklearn.metrics import classification_report, confusion_matrix, accuracy_score"
   ]
  },
  {
   "cell_type": "code",
   "execution_count": 53,
   "metadata": {},
   "outputs": [],
   "source": [
    "import metrics_tmp as met"
   ]
  },
  {
   "cell_type": "code",
   "execution_count": 43,
   "metadata": {},
   "outputs": [
    {
     "data": {
      "text/plain": [
       "MultinomialNB()"
      ]
     },
     "execution_count": 43,
     "metadata": {},
     "output_type": "execute_result"
    }
   ],
   "source": [
    "mnb_classifier = MultinomialNB()\n",
    "mnb_classifier.fit(train_features, train_labels)"
   ]
  },
  {
   "cell_type": "code",
   "execution_count": 44,
   "metadata": {},
   "outputs": [],
   "source": [
    "mnb_prediction = mnb_classifier.predict(val_features)"
   ]
  },
  {
   "cell_type": "code",
   "execution_count": 54,
   "metadata": {},
   "outputs": [
    {
     "name": "stdout",
     "output_type": "stream",
     "text": [
      "Accuracy = 0.654\n",
      "----------------------------------------\n",
      "Classification report:\n",
      "               precision    recall  f1-score   support\n",
      "\n",
      "  REMEMBERING       0.70      0.76      0.72      6561\n",
      "UNDERSTANDING       0.63      0.21      0.32      1253\n",
      "     APPLYING       0.69      0.43      0.53      3349\n",
      "    ANALYZING       0.73      0.66      0.69      5491\n",
      "   EVALUATING       0.69      0.33      0.44      2245\n",
      "     CREATING       0.58      0.83      0.69      7673\n",
      "\n",
      "     accuracy                           0.65     26572\n",
      "    macro avg       0.67      0.54      0.57     26572\n",
      " weighted avg       0.67      0.65      0.64     26572\n",
      "\n",
      "----------------------------------------\n",
      "Confusion matrix\n"
     ]
    },
    {
     "data": {
      "image/png": "[encoded data removed]",
      "text/plain": [
       "<Figure size 720x576 with 2 Axes>"
      ]
     },
     "metadata": {},
     "output_type": "display_data"
    }
   ],
   "source": [
    "met.print_stats(mnb_prediction, val_labels, range(6), categories=categories)"
   ]
  },
  {
   "cell_type": "code",
   "execution_count": 55,
   "metadata": {},
   "outputs": [],
   "source": [
    "from sklearn.linear_model import LogisticRegression, SGDClassifier\n",
    "from sklearn.neighbors import KNeighborsClassifier\n",
    "from sklearn.svm import SVC"
   ]
  },
  {
   "cell_type": "code",
   "execution_count": 56,
   "metadata": {},
   "outputs": [
    {
     "name": "stderr",
     "output_type": "stream",
     "text": [
      "/opt/anaconda3/lib/python3.6/site-packages/sklearn/linear_model/_logistic.py:764: ConvergenceWarning: lbfgs failed to converge (status=1):\n",
      "STOP: TOTAL NO. of ITERATIONS REACHED LIMIT.\n",
      "\n",
      "Increase the number of iterations (max_iter) or scale the data as shown in:\n",
      "    https://scikit-learn.org/stable/modules/preprocessing.html\n",
      "Please also refer to the documentation for alternative solver options:\n",
      "    https://scikit-learn.org/stable/modules/linear_model.html#logistic-regression\n",
      "  extra_warning_msg=_LOGISTIC_SOLVER_CONVERGENCE_MSG)\n"
     ]
    }
   ],
   "source": [
    "lr = LogisticRegression().fit(train_features, train_labels)"
   ]
  },
  {
   "cell_type": "code",
   "execution_count": 57,
   "metadata": {},
   "outputs": [
    {
     "name": "stdout",
     "output_type": "stream",
     "text": [
      "Accuracy = 0.877\n",
      "----------------------------------------\n",
      "Classification report:\n",
      "               precision    recall  f1-score   support\n",
      "\n",
      "  REMEMBERING       0.89      0.91      0.90      6561\n",
      "UNDERSTANDING       0.83      0.67      0.74      1253\n",
      "     APPLYING       0.85      0.82      0.84      3349\n",
      "    ANALYZING       0.88      0.90      0.89      5491\n",
      "   EVALUATING       0.85      0.81      0.83      2245\n",
      "     CREATING       0.88      0.91      0.90      7673\n",
      "\n",
      "     accuracy                           0.88     26572\n",
      "    macro avg       0.87      0.84      0.85     26572\n",
      " weighted avg       0.88      0.88      0.88     26572\n",
      "\n",
      "----------------------------------------\n",
      "Confusion matrix\n"
     ]
    },
    {
     "data": {
      "image/png": "[encoded data removed]",
      "text/plain": [
       "<Figure size 720x576 with 2 Axes>"
      ]
     },
     "metadata": {},
     "output_type": "display_data"
    }
   ],
   "source": [
    "preds = lr.predict(val_features)\n",
    "met.print_stats(preds, val_labels, categories, categories=categories)"
   ]
  },
  {
   "cell_type": "code",
   "execution_count": 58,
   "metadata": {},
   "outputs": [],
   "source": [
    "lr = LogisticRegression(class_weight=\"balanced\", max_iter=1000, random_state=42).fit(train_features, train_labels)"
   ]
  },
  {
   "cell_type": "code",
   "execution_count": 59,
   "metadata": {},
   "outputs": [
    {
     "name": "stdout",
     "output_type": "stream",
     "text": [
      "Accuracy = 0.851\n",
      "----------------------------------------\n",
      "Classification report:\n",
      "               precision    recall  f1-score   support\n",
      "\n",
      "  REMEMBERING       0.91      0.87      0.89      6561\n",
      "UNDERSTANDING       0.53      0.85      0.65      1253\n",
      "     APPLYING       0.80      0.86      0.83      3349\n",
      "    ANALYZING       0.90      0.86      0.88      5491\n",
      "   EVALUATING       0.74      0.89      0.81      2245\n",
      "     CREATING       0.93      0.82      0.87      7673\n",
      "\n",
      "     accuracy                           0.85     26572\n",
      "    macro avg       0.80      0.86      0.82     26572\n",
      " weighted avg       0.87      0.85      0.86     26572\n",
      "\n",
      "----------------------------------------\n",
      "Confusion matrix\n"
     ]
    },
    {
     "data": {
      "image/png": "[encoded data removed]",
      "text/plain": [
       "<Figure size 720x576 with 2 Axes>"
      ]
     },
     "metadata": {},
     "output_type": "display_data"
    }
   ],
   "source": [
    "preds = lr.predict(val_features)\n",
    "met.print_stats(preds, val_labels, categories, categories=categories)"
   ]
  },
  {
   "cell_type": "code",
   "execution_count": 61,
   "metadata": {},
   "outputs": [],
   "source": [
    "sgdc = SGDClassifier().fit(train_features, train_labels)"
   ]
  },
  {
   "cell_type": "code",
   "execution_count": 62,
   "metadata": {},
   "outputs": [
    {
     "name": "stdout",
     "output_type": "stream",
     "text": [
      "Accuracy = 0.822\n",
      "----------------------------------------\n",
      "Classification report:\n",
      "               precision    recall  f1-score   support\n",
      "\n",
      "  REMEMBERING       0.82      0.90      0.86      6561\n",
      "UNDERSTANDING       0.83      0.43      0.57      1253\n",
      "     APPLYING       0.81      0.77      0.79      3349\n",
      "    ANALYZING       0.82      0.87      0.84      5491\n",
      "   EVALUATING       0.91      0.56      0.69      2245\n",
      "     CREATING       0.81      0.89      0.85      7673\n",
      "\n",
      "     accuracy                           0.82     26572\n",
      "    macro avg       0.83      0.74      0.77     26572\n",
      " weighted avg       0.82      0.82      0.82     26572\n",
      "\n",
      "----------------------------------------\n",
      "Confusion matrix\n"
     ]
    },
    {
     "data": {
      "image/png": "[encoded data removed]",
      "text/plain": [
       "<Figure size 720x576 with 2 Axes>"
      ]
     },
     "metadata": {},
     "output_type": "display_data"
    }
   ],
   "source": [
    "preds = sgdc.predict(val_features)\n",
    "met.print_stats(preds, val_labels, categories, categories=categories)"
   ]
  }
 ],
 "metadata": {
  "kernelspec": {
   "display_name": "Python 3",
   "language": "python",
   "name": "python3"
  },
  "language_info": {
   "codemirror_mode": {
    "name": "ipython",
    "version": 3
   },
   "file_extension": ".py",
   "mimetype": "text/x-python",
   "name": "python",
   "nbconvert_exporter": "python",
   "pygments_lexer": "ipython3",
   "version": "3.6.10"
  }
 },
 "nbformat": 4,
 "nbformat_minor": 4
}
