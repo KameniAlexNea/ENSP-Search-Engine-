{
 "cells": [
  {
   "cell_type": "code",
   "execution_count": 1,
   "metadata": {},
   "outputs": [],
   "source": [
    "import os\n",
    "\n",
    "import warnings \n",
    "warnings.filterwarnings('ignore')\n",
    "\n",
    "# importing packages\n",
    "import numpy as np\n",
    "import pandas as pd\n",
    "import spacy\n",
    "import pickle\n",
    "from scipy import spatial\n",
    "import re\n",
    "import seaborn as sns\n",
    "import matplotlib.pyplot as plt\n",
    "%matplotlib inline\n",
    "\n",
    "# nltk packages\n",
    "import nltk\n",
    "from nltk import word_tokenize\n",
    "from nltk.stem import WordNetLemmatizer \n",
    "from nltk.corpus import stopwords\n",
    "from string import punctuation\n",
    "import unidecode\n",
    "from nltk.tokenize import word_tokenize\n",
    "from nltk.tag import pos_tag\n",
    "from nltk.corpus import wordnet as wn\n",
    "from nltk.stem import PorterStemmer\n",
    "\n",
    "from sentence_transformers import SentenceTransformer\n",
    "\n",
    "# sklearn packages\n",
    "from sklearn import metrics\n",
    "from sklearn.feature_extraction.text import TfidfVectorizer, CountVectorizer\n",
    "from sklearn.model_selection import train_test_split, GridSearchCV, cross_val_score, StratifiedKFold\n",
    "from sklearn.pipeline import Pipeline, FeatureUnion\n",
    "from sklearn.preprocessing import FunctionTransformer, StandardScaler\n",
    "from sklearn.base import BaseEstimator, TransformerMixin\n",
    "from sklearn.neighbors import KNeighborsClassifier\n",
    "from sklearn.tree import DecisionTreeClassifier\n",
    "from sklearn.ensemble import RandomForestClassifier, AdaBoostClassifier\n",
    "from sklearn.naive_bayes import MultinomialNB\n",
    "from sklearn.dummy import DummyClassifier\n",
    "from sklearn.multioutput import ClassifierChain\n",
    "from sklearn.model_selection import train_test_split\n",
    "from sklearn.multiclass import OneVsRestClassifier\n",
    "from sklearn.linear_model import LogisticRegression\n",
    "from sklearn.svm import SVC\n",
    "\n",
    "from xgboost import XGBClassifier\n",
    "\n",
    "# utilies functions\n",
    "import helper\n",
    "import metrics as m\n",
    "import models"
   ]
  },
  {
   "cell_type": "code",
   "execution_count": 2,
   "metadata": {},
   "outputs": [
    {
     "data": {
      "text/html": [
       "<div>\n",
       "<style scoped>\n",
       "    .dataframe tbody tr th:only-of-type {\n",
       "        vertical-align: middle;\n",
       "    }\n",
       "\n",
       "    .dataframe tbody tr th {\n",
       "        vertical-align: top;\n",
       "    }\n",
       "\n",
       "    .dataframe thead th {\n",
       "        text-align: right;\n",
       "    }\n",
       "</style>\n",
       "<table border=\"1\" class=\"dataframe\">\n",
       "  <thead>\n",
       "    <tr style=\"text-align: right;\">\n",
       "      <th></th>\n",
       "      <th>QUERY</th>\n",
       "      <th>REMEMBERING</th>\n",
       "      <th>UNDERSTANDING</th>\n",
       "      <th>APPLYING</th>\n",
       "      <th>ANALYZING</th>\n",
       "      <th>EVALUATING</th>\n",
       "      <th>CREATING</th>\n",
       "    </tr>\n",
       "  </thead>\n",
       "  <tbody>\n",
       "    <tr>\n",
       "      <th>0</th>\n",
       "      <td>\"their own language\" means  _  .</td>\n",
       "      <td>1.0</td>\n",
       "      <td>0.0</td>\n",
       "      <td>0.0</td>\n",
       "      <td>0.0</td>\n",
       "      <td>0.0</td>\n",
       "      <td>0.0</td>\n",
       "    </tr>\n",
       "    <tr>\n",
       "      <th>1</th>\n",
       "      <td>\"you may think the popular singer jay chow is ...</td>\n",
       "      <td>0.0</td>\n",
       "      <td>1.0</td>\n",
       "      <td>0.0</td>\n",
       "      <td>0.0</td>\n",
       "      <td>0.0</td>\n",
       "      <td>0.0</td>\n",
       "    </tr>\n",
       "    <tr>\n",
       "      <th>2</th>\n",
       "      <td>. at midnight, nasreddin saw   _  in his garden.</td>\n",
       "      <td>1.0</td>\n",
       "      <td>0.0</td>\n",
       "      <td>0.0</td>\n",
       "      <td>0.0</td>\n",
       "      <td>0.0</td>\n",
       "      <td>0.0</td>\n",
       "    </tr>\n",
       "    <tr>\n",
       "      <th>3</th>\n",
       "      <td>. david beckham  is   _   years old.</td>\n",
       "      <td>1.0</td>\n",
       "      <td>0.0</td>\n",
       "      <td>0.0</td>\n",
       "      <td>0.0</td>\n",
       "      <td>0.0</td>\n",
       "      <td>0.0</td>\n",
       "    </tr>\n",
       "    <tr>\n",
       "      <th>4</th>\n",
       "      <td>. david beckham's family name is   _  and zhou...</td>\n",
       "      <td>1.0</td>\n",
       "      <td>0.0</td>\n",
       "      <td>0.0</td>\n",
       "      <td>0.0</td>\n",
       "      <td>0.0</td>\n",
       "      <td>0.0</td>\n",
       "    </tr>\n",
       "  </tbody>\n",
       "</table>\n",
       "</div>"
      ],
      "text/plain": [
       "                                               QUERY  REMEMBERING  \\\n",
       "0                   \"their own language\" means  _  .          1.0   \n",
       "1  \"you may think the popular singer jay chow is ...          0.0   \n",
       "2   . at midnight, nasreddin saw   _  in his garden.          1.0   \n",
       "3               . david beckham  is   _   years old.          1.0   \n",
       "4  . david beckham's family name is   _  and zhou...          1.0   \n",
       "\n",
       "   UNDERSTANDING  APPLYING  ANALYZING  EVALUATING  CREATING  \n",
       "0            0.0       0.0        0.0         0.0       0.0  \n",
       "1            1.0       0.0        0.0         0.0       0.0  \n",
       "2            0.0       0.0        0.0         0.0       0.0  \n",
       "3            0.0       0.0        0.0         0.0       0.0  \n",
       "4            0.0       0.0        0.0         0.0       0.0  "
      ]
     },
     "execution_count": 2,
     "metadata": {},
     "output_type": "execute_result"
    }
   ],
   "source": [
    "df = pd.read_csv(\"./output/queries_df.csv\")\n",
    "df.head()"
   ]
  },
  {
   "cell_type": "code",
   "execution_count": 3,
   "metadata": {},
   "outputs": [
    {
     "data": {
      "text/plain": [
       "(189799, 7)"
      ]
     },
     "execution_count": 3,
     "metadata": {},
     "output_type": "execute_result"
    }
   ],
   "source": [
    "df.shape"
   ]
  },
  {
   "cell_type": "code",
   "execution_count": 4,
   "metadata": {},
   "outputs": [],
   "source": [
    "def unidecode_text(text):\n",
    "    try:\n",
    "        text = unidecode.unidecode(text)\n",
    "    except:\n",
    "        pass\n",
    "    return text"
   ]
  },
  {
   "cell_type": "code",
   "execution_count": 5,
   "metadata": {},
   "outputs": [],
   "source": [
    "df[\"QUERY_UC\"] = df.QUERY.apply(unidecode_text)\n",
    "categories = [\"REMEMBERING\", \"UNDERSTANDING\", \"APPLYING\", \"ANALYZING\", \"EVALUATING\", \"CREATING\"]"
   ]
  },
  {
   "cell_type": "code",
   "execution_count": 6,
   "metadata": {},
   "outputs": [
    {
     "name": "stdout",
     "output_type": "stream",
     "text": [
      "0.0    143926\n",
      "1.0     45873\n",
      "Name: REMEMBERING, dtype: int64\n",
      "0.0    181279\n",
      "1.0      8520\n",
      "Name: UNDERSTANDING, dtype: int64\n",
      "0.0    166346\n",
      "1.0     23453\n",
      "Name: APPLYING, dtype: int64\n",
      "0.0    149809\n",
      "1.0     39990\n",
      "Name: ANALYZING, dtype: int64\n",
      "0.0    173122\n",
      "1.0     16677\n",
      "Name: EVALUATING, dtype: int64\n",
      "0.0    134513\n",
      "1.0     55286\n",
      "Name: CREATING, dtype: int64\n"
     ]
    }
   ],
   "source": [
    "for category in categories:\n",
    "    print(df[category].value_counts())"
   ]
  },
  {
   "cell_type": "code",
   "execution_count": 7,
   "metadata": {},
   "outputs": [
    {
     "data": {
      "text/plain": [
       "137214    have n't you already given your hair a positiv...\n",
       "84468                            so whats x|y 1|7 3|21 9| ?\n",
       "15580     how do i find an explicit formula for a functi...\n",
       "55155     could i write the expression `` xx + xy + yx +...\n",
       "165744              what is `` first ionization energy '' ?\n",
       "102777         does the denominator always have to be a 9 ?\n",
       "93833     b then also be a 3x3 matrix or could a 3x1 ( w...\n",
       "100040    how do you write equations for reflections/rot...\n",
       "127273                 what is greek symbol for frequency ?\n",
       "37054                  at 2:13 , why did n't sal write +3 ?\n",
       "Name: QUERY_UC, dtype: object"
      ]
     },
     "execution_count": 7,
     "metadata": {},
     "output_type": "execute_result"
    }
   ],
   "source": [
    "df[\"QUERY_UC\"].sample(10)"
   ]
  },
  {
   "cell_type": "code",
   "execution_count": 8,
   "metadata": {},
   "outputs": [],
   "source": [
    "statistique = models.StatModel()"
   ]
  },
  {
   "cell_type": "code",
   "execution_count": 32,
   "metadata": {},
   "outputs": [],
   "source": [
    "n_questions = 10\n",
    "head_paraphases = statistique.generate_bloom_result(phrases=df[\"QUERY_UC\"].head(n_questions).values)"
   ]
  },
  {
   "cell_type": "code",
   "execution_count": 33,
   "metadata": {},
   "outputs": [],
   "source": [
    "head_paraphases.index = phrases=df[\"QUERY_UC\"].head(n_questions).values"
   ]
  },
  {
   "cell_type": "code",
   "execution_count": 34,
   "metadata": {},
   "outputs": [
    {
     "data": {
      "text/html": [
       "<div>\n",
       "<style scoped>\n",
       "    .dataframe tbody tr th:only-of-type {\n",
       "        vertical-align: middle;\n",
       "    }\n",
       "\n",
       "    .dataframe tbody tr th {\n",
       "        vertical-align: top;\n",
       "    }\n",
       "\n",
       "    .dataframe thead th {\n",
       "        text-align: right;\n",
       "    }\n",
       "</style>\n",
       "<table border=\"1\" class=\"dataframe\">\n",
       "  <thead>\n",
       "    <tr style=\"text-align: right;\">\n",
       "      <th></th>\n",
       "      <th>REMEMBERING</th>\n",
       "      <th>UNDERSTANDING</th>\n",
       "      <th>APPLYING</th>\n",
       "      <th>ANALYZING</th>\n",
       "      <th>EVALUATING</th>\n",
       "      <th>CREATING</th>\n",
       "    </tr>\n",
       "  </thead>\n",
       "  <tbody>\n",
       "    <tr>\n",
       "      <th>\"their own language\" means  _  .</th>\n",
       "      <td>0</td>\n",
       "      <td>0</td>\n",
       "      <td>0</td>\n",
       "      <td>0</td>\n",
       "      <td>0</td>\n",
       "      <td>0</td>\n",
       "    </tr>\n",
       "    <tr>\n",
       "      <th>\"you may think the popular singer jay chow is cool\". here \"cool\" means</th>\n",
       "      <td>2</td>\n",
       "      <td>0</td>\n",
       "      <td>0</td>\n",
       "      <td>0</td>\n",
       "      <td>1</td>\n",
       "      <td>1</td>\n",
       "    </tr>\n",
       "    <tr>\n",
       "      <th>. at midnight, nasreddin saw   _  in his garden.</th>\n",
       "      <td>1</td>\n",
       "      <td>2</td>\n",
       "      <td>7</td>\n",
       "      <td>2</td>\n",
       "      <td>2</td>\n",
       "      <td>2</td>\n",
       "    </tr>\n",
       "    <tr>\n",
       "      <th>. david beckham  is   _   years old.</th>\n",
       "      <td>0</td>\n",
       "      <td>0</td>\n",
       "      <td>0</td>\n",
       "      <td>0</td>\n",
       "      <td>0</td>\n",
       "      <td>0</td>\n",
       "    </tr>\n",
       "    <tr>\n",
       "      <th>. david beckham's family name is   _  and zhou jielun's given name is   _  .</th>\n",
       "      <td>0</td>\n",
       "      <td>1</td>\n",
       "      <td>2</td>\n",
       "      <td>0</td>\n",
       "      <td>0</td>\n",
       "      <td>1</td>\n",
       "    </tr>\n",
       "    <tr>\n",
       "      <th>. does mrs. green buy a bag of rice?</th>\n",
       "      <td>0</td>\n",
       "      <td>0</td>\n",
       "      <td>0</td>\n",
       "      <td>0</td>\n",
       "      <td>0</td>\n",
       "      <td>0</td>\n",
       "    </tr>\n",
       "    <tr>\n",
       "      <th>. mimi likes   _  .</th>\n",
       "      <td>0</td>\n",
       "      <td>0</td>\n",
       "      <td>0</td>\n",
       "      <td>0</td>\n",
       "      <td>0</td>\n",
       "      <td>0</td>\n",
       "    </tr>\n",
       "    <tr>\n",
       "      <th>. nasreddin was so frightened that he   _  .</th>\n",
       "      <td>0</td>\n",
       "      <td>0</td>\n",
       "      <td>0</td>\n",
       "      <td>0</td>\n",
       "      <td>0</td>\n",
       "      <td>0</td>\n",
       "    </tr>\n",
       "    <tr>\n",
       "      <th>. there isn't a   _   in my room.</th>\n",
       "      <td>0</td>\n",
       "      <td>0</td>\n",
       "      <td>0</td>\n",
       "      <td>0</td>\n",
       "      <td>0</td>\n",
       "      <td>0</td>\n",
       "    </tr>\n",
       "    <tr>\n",
       "      <th>. where's the supermarket?</th>\n",
       "      <td>0</td>\n",
       "      <td>0</td>\n",
       "      <td>0</td>\n",
       "      <td>0</td>\n",
       "      <td>0</td>\n",
       "      <td>0</td>\n",
       "    </tr>\n",
       "  </tbody>\n",
       "</table>\n",
       "</div>"
      ],
      "text/plain": [
       "                                                    REMEMBERING  \\\n",
       "\"their own language\" means  _  .                              0   \n",
       "\"you may think the popular singer jay chow is c...            2   \n",
       ". at midnight, nasreddin saw   _  in his garden.              1   \n",
       ". david beckham  is   _   years old.                          0   \n",
       ". david beckham's family name is   _  and zhou ...            0   \n",
       ". does mrs. green buy a bag of rice?                          0   \n",
       ". mimi likes   _  .                                           0   \n",
       ". nasreddin was so frightened that he   _  .                  0   \n",
       ". there isn't a   _   in my room.                             0   \n",
       ". where's the supermarket?                                    0   \n",
       "\n",
       "                                                    UNDERSTANDING  APPLYING  \\\n",
       "\"their own language\" means  _  .                                0         0   \n",
       "\"you may think the popular singer jay chow is c...              0         0   \n",
       ". at midnight, nasreddin saw   _  in his garden.                2         7   \n",
       ". david beckham  is   _   years old.                            0         0   \n",
       ". david beckham's family name is   _  and zhou ...              1         2   \n",
       ". does mrs. green buy a bag of rice?                            0         0   \n",
       ". mimi likes   _  .                                             0         0   \n",
       ". nasreddin was so frightened that he   _  .                    0         0   \n",
       ". there isn't a   _   in my room.                               0         0   \n",
       ". where's the supermarket?                                      0         0   \n",
       "\n",
       "                                                    ANALYZING  EVALUATING  \\\n",
       "\"their own language\" means  _  .                            0           0   \n",
       "\"you may think the popular singer jay chow is c...          0           1   \n",
       ". at midnight, nasreddin saw   _  in his garden.            2           2   \n",
       ". david beckham  is   _   years old.                        0           0   \n",
       ". david beckham's family name is   _  and zhou ...          0           0   \n",
       ". does mrs. green buy a bag of rice?                        0           0   \n",
       ". mimi likes   _  .                                         0           0   \n",
       ". nasreddin was so frightened that he   _  .                0           0   \n",
       ". there isn't a   _   in my room.                           0           0   \n",
       ". where's the supermarket?                                  0           0   \n",
       "\n",
       "                                                    CREATING  \n",
       "\"their own language\" means  _  .                           0  \n",
       "\"you may think the popular singer jay chow is c...         1  \n",
       ". at midnight, nasreddin saw   _  in his garden.           2  \n",
       ". david beckham  is   _   years old.                       0  \n",
       ". david beckham's family name is   _  and zhou ...         1  \n",
       ". does mrs. green buy a bag of rice?                       0  \n",
       ". mimi likes   _  .                                        0  \n",
       ". nasreddin was so frightened that he   _  .               0  \n",
       ". there isn't a   _   in my room.                          0  \n",
       ". where's the supermarket?                                 0  "
      ]
     },
     "execution_count": 34,
     "metadata": {},
     "output_type": "execute_result"
    }
   ],
   "source": [
    "head_paraphases"
   ]
  },
  {
   "cell_type": "code",
   "execution_count": 35,
   "metadata": {},
   "outputs": [
    {
     "data": {
      "text/plain": [
       "array([0, 2, 7, 0, 2, 0, 0, 0, 0, 0])"
      ]
     },
     "execution_count": 35,
     "metadata": {},
     "output_type": "execute_result"
    }
   ],
   "source": [
    "np.max(head_paraphases.values, axis=1)"
   ]
  },
  {
   "cell_type": "code",
   "execution_count": 36,
   "metadata": {},
   "outputs": [
    {
     "data": {
      "text/html": [
       "<div>\n",
       "<style scoped>\n",
       "    .dataframe tbody tr th:only-of-type {\n",
       "        vertical-align: middle;\n",
       "    }\n",
       "\n",
       "    .dataframe tbody tr th {\n",
       "        vertical-align: top;\n",
       "    }\n",
       "\n",
       "    .dataframe thead th {\n",
       "        text-align: right;\n",
       "    }\n",
       "</style>\n",
       "<table border=\"1\" class=\"dataframe\">\n",
       "  <thead>\n",
       "    <tr style=\"text-align: right;\">\n",
       "      <th></th>\n",
       "      <th>REMEMBERING</th>\n",
       "      <th>UNDERSTANDING</th>\n",
       "      <th>APPLYING</th>\n",
       "      <th>ANALYZING</th>\n",
       "      <th>EVALUATING</th>\n",
       "      <th>CREATING</th>\n",
       "    </tr>\n",
       "  </thead>\n",
       "  <tbody>\n",
       "    <tr>\n",
       "      <th>\"their own language\" means  _  .</th>\n",
       "      <td>True</td>\n",
       "      <td>True</td>\n",
       "      <td>True</td>\n",
       "      <td>True</td>\n",
       "      <td>True</td>\n",
       "      <td>True</td>\n",
       "    </tr>\n",
       "    <tr>\n",
       "      <th>\"you may think the popular singer jay chow is cool\". here \"cool\" means</th>\n",
       "      <td>True</td>\n",
       "      <td>False</td>\n",
       "      <td>False</td>\n",
       "      <td>False</td>\n",
       "      <td>False</td>\n",
       "      <td>False</td>\n",
       "    </tr>\n",
       "    <tr>\n",
       "      <th>. at midnight, nasreddin saw   _  in his garden.</th>\n",
       "      <td>False</td>\n",
       "      <td>False</td>\n",
       "      <td>True</td>\n",
       "      <td>False</td>\n",
       "      <td>False</td>\n",
       "      <td>False</td>\n",
       "    </tr>\n",
       "    <tr>\n",
       "      <th>. david beckham  is   _   years old.</th>\n",
       "      <td>True</td>\n",
       "      <td>True</td>\n",
       "      <td>True</td>\n",
       "      <td>True</td>\n",
       "      <td>True</td>\n",
       "      <td>True</td>\n",
       "    </tr>\n",
       "    <tr>\n",
       "      <th>. david beckham's family name is   _  and zhou jielun's given name is   _  .</th>\n",
       "      <td>False</td>\n",
       "      <td>False</td>\n",
       "      <td>True</td>\n",
       "      <td>False</td>\n",
       "      <td>False</td>\n",
       "      <td>False</td>\n",
       "    </tr>\n",
       "    <tr>\n",
       "      <th>. does mrs. green buy a bag of rice?</th>\n",
       "      <td>True</td>\n",
       "      <td>True</td>\n",
       "      <td>True</td>\n",
       "      <td>True</td>\n",
       "      <td>True</td>\n",
       "      <td>True</td>\n",
       "    </tr>\n",
       "    <tr>\n",
       "      <th>. mimi likes   _  .</th>\n",
       "      <td>True</td>\n",
       "      <td>True</td>\n",
       "      <td>True</td>\n",
       "      <td>True</td>\n",
       "      <td>True</td>\n",
       "      <td>True</td>\n",
       "    </tr>\n",
       "    <tr>\n",
       "      <th>. nasreddin was so frightened that he   _  .</th>\n",
       "      <td>True</td>\n",
       "      <td>True</td>\n",
       "      <td>True</td>\n",
       "      <td>True</td>\n",
       "      <td>True</td>\n",
       "      <td>True</td>\n",
       "    </tr>\n",
       "    <tr>\n",
       "      <th>. there isn't a   _   in my room.</th>\n",
       "      <td>True</td>\n",
       "      <td>True</td>\n",
       "      <td>True</td>\n",
       "      <td>True</td>\n",
       "      <td>True</td>\n",
       "      <td>True</td>\n",
       "    </tr>\n",
       "    <tr>\n",
       "      <th>. where's the supermarket?</th>\n",
       "      <td>True</td>\n",
       "      <td>True</td>\n",
       "      <td>True</td>\n",
       "      <td>True</td>\n",
       "      <td>True</td>\n",
       "      <td>True</td>\n",
       "    </tr>\n",
       "  </tbody>\n",
       "</table>\n",
       "</div>"
      ],
      "text/plain": [
       "                                                    REMEMBERING  \\\n",
       "\"their own language\" means  _  .                           True   \n",
       "\"you may think the popular singer jay chow is c...         True   \n",
       ". at midnight, nasreddin saw   _  in his garden.          False   \n",
       ". david beckham  is   _   years old.                       True   \n",
       ". david beckham's family name is   _  and zhou ...        False   \n",
       ". does mrs. green buy a bag of rice?                       True   \n",
       ". mimi likes   _  .                                        True   \n",
       ". nasreddin was so frightened that he   _  .               True   \n",
       ". there isn't a   _   in my room.                          True   \n",
       ". where's the supermarket?                                 True   \n",
       "\n",
       "                                                    UNDERSTANDING  APPLYING  \\\n",
       "\"their own language\" means  _  .                             True      True   \n",
       "\"you may think the popular singer jay chow is c...          False     False   \n",
       ". at midnight, nasreddin saw   _  in his garden.            False      True   \n",
       ". david beckham  is   _   years old.                         True      True   \n",
       ". david beckham's family name is   _  and zhou ...          False      True   \n",
       ". does mrs. green buy a bag of rice?                         True      True   \n",
       ". mimi likes   _  .                                          True      True   \n",
       ". nasreddin was so frightened that he   _  .                 True      True   \n",
       ". there isn't a   _   in my room.                            True      True   \n",
       ". where's the supermarket?                                   True      True   \n",
       "\n",
       "                                                    ANALYZING  EVALUATING  \\\n",
       "\"their own language\" means  _  .                         True        True   \n",
       "\"you may think the popular singer jay chow is c...      False       False   \n",
       ". at midnight, nasreddin saw   _  in his garden.        False       False   \n",
       ". david beckham  is   _   years old.                     True        True   \n",
       ". david beckham's family name is   _  and zhou ...      False       False   \n",
       ". does mrs. green buy a bag of rice?                     True        True   \n",
       ". mimi likes   _  .                                      True        True   \n",
       ". nasreddin was so frightened that he   _  .             True        True   \n",
       ". there isn't a   _   in my room.                        True        True   \n",
       ". where's the supermarket?                               True        True   \n",
       "\n",
       "                                                    CREATING  \n",
       "\"their own language\" means  _  .                        True  \n",
       "\"you may think the popular singer jay chow is c...     False  \n",
       ". at midnight, nasreddin saw   _  in his garden.       False  \n",
       ". david beckham  is   _   years old.                    True  \n",
       ". david beckham's family name is   _  and zhou ...     False  \n",
       ". does mrs. green buy a bag of rice?                    True  \n",
       ". mimi likes   _  .                                     True  \n",
       ". nasreddin was so frightened that he   _  .            True  \n",
       ". there isn't a   _   in my room.                       True  \n",
       ". where's the supermarket?                              True  "
      ]
     },
     "execution_count": 36,
     "metadata": {},
     "output_type": "execute_result"
    }
   ],
   "source": [
    "head_paraphases.ge(np.max(head_paraphases.values, axis=1), axis=0)"
   ]
  },
  {
   "cell_type": "code",
   "execution_count": 37,
   "metadata": {},
   "outputs": [],
   "source": [
    "preds= head_paraphases.ge(np.max(head_paraphases.values, axis=1), axis=0)"
   ]
  },
  {
   "cell_type": "code",
   "execution_count": 38,
   "metadata": {},
   "outputs": [
    {
     "data": {
      "text/plain": [
       "array([0, 0, 2, 0, 2, 0, 0, 0, 0, 0])"
      ]
     },
     "execution_count": 38,
     "metadata": {},
     "output_type": "execute_result"
    }
   ],
   "source": [
    "np.argmax(preds.values, axis=1)"
   ]
  },
  {
   "cell_type": "code",
   "execution_count": 39,
   "metadata": {},
   "outputs": [
    {
     "data": {
      "text/plain": [
       "Index(['REMEMBERING', 'REMEMBERING', 'APPLYING', 'REMEMBERING', 'APPLYING',\n",
       "       'REMEMBERING', 'REMEMBERING', 'REMEMBERING', 'REMEMBERING',\n",
       "       'REMEMBERING'],\n",
       "      dtype='object')"
      ]
     },
     "execution_count": 39,
     "metadata": {},
     "output_type": "execute_result"
    }
   ],
   "source": [
    "head_paraphases.columns[np.argmax(preds.values, axis=1)]"
   ]
  },
  {
   "cell_type": "code",
   "execution_count": 40,
   "metadata": {},
   "outputs": [],
   "source": [
    "def predict(df_paraphrase:pd.DataFrame):\n",
    "    preds = df_paraphrase.ge(np.max(df_paraphrase.values, axis=1), axis=0)\n",
    "    preds[\"predict\"] = df_paraphrase.columns[np.argmax(preds.values, axis=1)]\n",
    "    return preds"
   ]
  },
  {
   "cell_type": "code",
   "execution_count": 41,
   "metadata": {},
   "outputs": [
    {
     "data": {
      "text/html": [
       "<div>\n",
       "<style scoped>\n",
       "    .dataframe tbody tr th:only-of-type {\n",
       "        vertical-align: middle;\n",
       "    }\n",
       "\n",
       "    .dataframe tbody tr th {\n",
       "        vertical-align: top;\n",
       "    }\n",
       "\n",
       "    .dataframe thead th {\n",
       "        text-align: right;\n",
       "    }\n",
       "</style>\n",
       "<table border=\"1\" class=\"dataframe\">\n",
       "  <thead>\n",
       "    <tr style=\"text-align: right;\">\n",
       "      <th></th>\n",
       "      <th>REMEMBERING</th>\n",
       "      <th>UNDERSTANDING</th>\n",
       "      <th>APPLYING</th>\n",
       "      <th>ANALYZING</th>\n",
       "      <th>EVALUATING</th>\n",
       "      <th>CREATING</th>\n",
       "      <th>predict</th>\n",
       "    </tr>\n",
       "  </thead>\n",
       "  <tbody>\n",
       "    <tr>\n",
       "      <th>\"their own language\" means  _  .</th>\n",
       "      <td>True</td>\n",
       "      <td>True</td>\n",
       "      <td>True</td>\n",
       "      <td>True</td>\n",
       "      <td>True</td>\n",
       "      <td>True</td>\n",
       "      <td>REMEMBERING</td>\n",
       "    </tr>\n",
       "    <tr>\n",
       "      <th>\"you may think the popular singer jay chow is cool\". here \"cool\" means</th>\n",
       "      <td>True</td>\n",
       "      <td>False</td>\n",
       "      <td>False</td>\n",
       "      <td>False</td>\n",
       "      <td>False</td>\n",
       "      <td>False</td>\n",
       "      <td>REMEMBERING</td>\n",
       "    </tr>\n",
       "    <tr>\n",
       "      <th>. at midnight, nasreddin saw   _  in his garden.</th>\n",
       "      <td>False</td>\n",
       "      <td>False</td>\n",
       "      <td>True</td>\n",
       "      <td>False</td>\n",
       "      <td>False</td>\n",
       "      <td>False</td>\n",
       "      <td>APPLYING</td>\n",
       "    </tr>\n",
       "    <tr>\n",
       "      <th>. david beckham  is   _   years old.</th>\n",
       "      <td>True</td>\n",
       "      <td>True</td>\n",
       "      <td>True</td>\n",
       "      <td>True</td>\n",
       "      <td>True</td>\n",
       "      <td>True</td>\n",
       "      <td>REMEMBERING</td>\n",
       "    </tr>\n",
       "    <tr>\n",
       "      <th>. david beckham's family name is   _  and zhou jielun's given name is   _  .</th>\n",
       "      <td>False</td>\n",
       "      <td>False</td>\n",
       "      <td>True</td>\n",
       "      <td>False</td>\n",
       "      <td>False</td>\n",
       "      <td>False</td>\n",
       "      <td>APPLYING</td>\n",
       "    </tr>\n",
       "  </tbody>\n",
       "</table>\n",
       "</div>"
      ],
      "text/plain": [
       "                                                    REMEMBERING  \\\n",
       "\"their own language\" means  _  .                           True   \n",
       "\"you may think the popular singer jay chow is c...         True   \n",
       ". at midnight, nasreddin saw   _  in his garden.          False   \n",
       ". david beckham  is   _   years old.                       True   \n",
       ". david beckham's family name is   _  and zhou ...        False   \n",
       "\n",
       "                                                    UNDERSTANDING  APPLYING  \\\n",
       "\"their own language\" means  _  .                             True      True   \n",
       "\"you may think the popular singer jay chow is c...          False     False   \n",
       ". at midnight, nasreddin saw   _  in his garden.            False      True   \n",
       ". david beckham  is   _   years old.                         True      True   \n",
       ". david beckham's family name is   _  and zhou ...          False      True   \n",
       "\n",
       "                                                    ANALYZING  EVALUATING  \\\n",
       "\"their own language\" means  _  .                         True        True   \n",
       "\"you may think the popular singer jay chow is c...      False       False   \n",
       ". at midnight, nasreddin saw   _  in his garden.        False       False   \n",
       ". david beckham  is   _   years old.                     True        True   \n",
       ". david beckham's family name is   _  and zhou ...      False       False   \n",
       "\n",
       "                                                    CREATING      predict  \n",
       "\"their own language\" means  _  .                        True  REMEMBERING  \n",
       "\"you may think the popular singer jay chow is c...     False  REMEMBERING  \n",
       ". at midnight, nasreddin saw   _  in his garden.       False     APPLYING  \n",
       ". david beckham  is   _   years old.                    True  REMEMBERING  \n",
       ". david beckham's family name is   _  and zhou ...     False     APPLYING  "
      ]
     },
     "execution_count": 41,
     "metadata": {},
     "output_type": "execute_result"
    }
   ],
   "source": [
    "preds = predict(head_paraphases)\n",
    "preds.head()"
   ]
  },
  {
   "cell_type": "code",
   "execution_count": 42,
   "metadata": {},
   "outputs": [],
   "source": [
    "X_train, X_test, y_train, y_test = train_test_split(df[\"QUERY_UC\"], df[categories], test_size=0.25, random_state=41)"
   ]
  },
  {
   "cell_type": "code",
   "execution_count": 43,
   "metadata": {},
   "outputs": [
    {
     "data": {
      "text/plain": [
       "(47450,)"
      ]
     },
     "execution_count": 43,
     "metadata": {},
     "output_type": "execute_result"
    }
   ],
   "source": [
    "X_test.shape"
   ]
  },
  {
   "cell_type": "code",
   "execution_count": 44,
   "metadata": {},
   "outputs": [
    {
     "data": {
      "text/html": [
       "<div>\n",
       "<style scoped>\n",
       "    .dataframe tbody tr th:only-of-type {\n",
       "        vertical-align: middle;\n",
       "    }\n",
       "\n",
       "    .dataframe tbody tr th {\n",
       "        vertical-align: top;\n",
       "    }\n",
       "\n",
       "    .dataframe thead th {\n",
       "        text-align: right;\n",
       "    }\n",
       "</style>\n",
       "<table border=\"1\" class=\"dataframe\">\n",
       "  <thead>\n",
       "    <tr style=\"text-align: right;\">\n",
       "      <th></th>\n",
       "      <th>REMEMBERING</th>\n",
       "      <th>UNDERSTANDING</th>\n",
       "      <th>APPLYING</th>\n",
       "      <th>ANALYZING</th>\n",
       "      <th>EVALUATING</th>\n",
       "      <th>CREATING</th>\n",
       "    </tr>\n",
       "  </thead>\n",
       "  <tbody>\n",
       "    <tr>\n",
       "      <th>0</th>\n",
       "      <td>0</td>\n",
       "      <td>0</td>\n",
       "      <td>5</td>\n",
       "      <td>0</td>\n",
       "      <td>0</td>\n",
       "      <td>0</td>\n",
       "    </tr>\n",
       "    <tr>\n",
       "      <th>1</th>\n",
       "      <td>0</td>\n",
       "      <td>1</td>\n",
       "      <td>1</td>\n",
       "      <td>0</td>\n",
       "      <td>0</td>\n",
       "      <td>0</td>\n",
       "    </tr>\n",
       "    <tr>\n",
       "      <th>2</th>\n",
       "      <td>2</td>\n",
       "      <td>1</td>\n",
       "      <td>2</td>\n",
       "      <td>1</td>\n",
       "      <td>0</td>\n",
       "      <td>1</td>\n",
       "    </tr>\n",
       "    <tr>\n",
       "      <th>3</th>\n",
       "      <td>0</td>\n",
       "      <td>0</td>\n",
       "      <td>0</td>\n",
       "      <td>0</td>\n",
       "      <td>0</td>\n",
       "      <td>0</td>\n",
       "    </tr>\n",
       "    <tr>\n",
       "      <th>4</th>\n",
       "      <td>0</td>\n",
       "      <td>0</td>\n",
       "      <td>0</td>\n",
       "      <td>2</td>\n",
       "      <td>2</td>\n",
       "      <td>0</td>\n",
       "    </tr>\n",
       "  </tbody>\n",
       "</table>\n",
       "</div>"
      ],
      "text/plain": [
       "   REMEMBERING  UNDERSTANDING  APPLYING  ANALYZING  EVALUATING  CREATING\n",
       "0            0              0         5          0           0         0\n",
       "1            0              1         1          0           0         0\n",
       "2            2              1         2          1           0         1\n",
       "3            0              0         0          0           0         0\n",
       "4            0              0         0          2           2         0"
      ]
     },
     "execution_count": 44,
     "metadata": {},
     "output_type": "execute_result"
    }
   ],
   "source": [
    "test_paraphrase = statistique.generate_bloom_result(phrases=X_test.values)\n",
    "test_paraphrase.head()"
   ]
  },
  {
   "cell_type": "code",
   "execution_count": 45,
   "metadata": {},
   "outputs": [],
   "source": [
    "preds = predict(test_paraphrase)"
   ]
  },
  {
   "cell_type": "code",
   "execution_count": 46,
   "metadata": {},
   "outputs": [
    {
     "data": {
      "text/html": [
       "<div>\n",
       "<style scoped>\n",
       "    .dataframe tbody tr th:only-of-type {\n",
       "        vertical-align: middle;\n",
       "    }\n",
       "\n",
       "    .dataframe tbody tr th {\n",
       "        vertical-align: top;\n",
       "    }\n",
       "\n",
       "    .dataframe thead th {\n",
       "        text-align: right;\n",
       "    }\n",
       "</style>\n",
       "<table border=\"1\" class=\"dataframe\">\n",
       "  <thead>\n",
       "    <tr style=\"text-align: right;\">\n",
       "      <th></th>\n",
       "      <th>REMEMBERING</th>\n",
       "      <th>UNDERSTANDING</th>\n",
       "      <th>APPLYING</th>\n",
       "      <th>ANALYZING</th>\n",
       "      <th>EVALUATING</th>\n",
       "      <th>CREATING</th>\n",
       "      <th>predict</th>\n",
       "    </tr>\n",
       "  </thead>\n",
       "  <tbody>\n",
       "    <tr>\n",
       "      <th>0</th>\n",
       "      <td>False</td>\n",
       "      <td>False</td>\n",
       "      <td>True</td>\n",
       "      <td>False</td>\n",
       "      <td>False</td>\n",
       "      <td>False</td>\n",
       "      <td>APPLYING</td>\n",
       "    </tr>\n",
       "    <tr>\n",
       "      <th>1</th>\n",
       "      <td>False</td>\n",
       "      <td>True</td>\n",
       "      <td>True</td>\n",
       "      <td>False</td>\n",
       "      <td>False</td>\n",
       "      <td>False</td>\n",
       "      <td>UNDERSTANDING</td>\n",
       "    </tr>\n",
       "    <tr>\n",
       "      <th>2</th>\n",
       "      <td>True</td>\n",
       "      <td>False</td>\n",
       "      <td>True</td>\n",
       "      <td>False</td>\n",
       "      <td>False</td>\n",
       "      <td>False</td>\n",
       "      <td>REMEMBERING</td>\n",
       "    </tr>\n",
       "    <tr>\n",
       "      <th>3</th>\n",
       "      <td>True</td>\n",
       "      <td>True</td>\n",
       "      <td>True</td>\n",
       "      <td>True</td>\n",
       "      <td>True</td>\n",
       "      <td>True</td>\n",
       "      <td>REMEMBERING</td>\n",
       "    </tr>\n",
       "    <tr>\n",
       "      <th>4</th>\n",
       "      <td>False</td>\n",
       "      <td>False</td>\n",
       "      <td>False</td>\n",
       "      <td>True</td>\n",
       "      <td>True</td>\n",
       "      <td>False</td>\n",
       "      <td>ANALYZING</td>\n",
       "    </tr>\n",
       "  </tbody>\n",
       "</table>\n",
       "</div>"
      ],
      "text/plain": [
       "   REMEMBERING  UNDERSTANDING  APPLYING  ANALYZING  EVALUATING  CREATING  \\\n",
       "0        False          False      True      False       False     False   \n",
       "1        False           True      True      False       False     False   \n",
       "2         True          False      True      False       False     False   \n",
       "3         True           True      True       True        True      True   \n",
       "4        False          False     False       True        True     False   \n",
       "\n",
       "         predict  \n",
       "0       APPLYING  \n",
       "1  UNDERSTANDING  \n",
       "2    REMEMBERING  \n",
       "3    REMEMBERING  \n",
       "4      ANALYZING  "
      ]
     },
     "execution_count": 46,
     "metadata": {},
     "output_type": "execute_result"
    }
   ],
   "source": [
    "preds.head()"
   ]
  },
  {
   "cell_type": "code",
   "execution_count": 47,
   "metadata": {},
   "outputs": [
    {
     "data": {
      "text/html": [
       "<div>\n",
       "<style scoped>\n",
       "    .dataframe tbody tr th:only-of-type {\n",
       "        vertical-align: middle;\n",
       "    }\n",
       "\n",
       "    .dataframe tbody tr th {\n",
       "        vertical-align: top;\n",
       "    }\n",
       "\n",
       "    .dataframe thead th {\n",
       "        text-align: right;\n",
       "    }\n",
       "</style>\n",
       "<table border=\"1\" class=\"dataframe\">\n",
       "  <thead>\n",
       "    <tr style=\"text-align: right;\">\n",
       "      <th></th>\n",
       "      <th>REMEMBERING</th>\n",
       "      <th>UNDERSTANDING</th>\n",
       "      <th>APPLYING</th>\n",
       "      <th>ANALYZING</th>\n",
       "      <th>EVALUATING</th>\n",
       "      <th>CREATING</th>\n",
       "    </tr>\n",
       "  </thead>\n",
       "  <tbody>\n",
       "    <tr>\n",
       "      <th>54935</th>\n",
       "      <td>0.0</td>\n",
       "      <td>0.0</td>\n",
       "      <td>1.0</td>\n",
       "      <td>0.0</td>\n",
       "      <td>0.0</td>\n",
       "      <td>0.0</td>\n",
       "    </tr>\n",
       "    <tr>\n",
       "      <th>4535</th>\n",
       "      <td>0.0</td>\n",
       "      <td>0.0</td>\n",
       "      <td>0.0</td>\n",
       "      <td>1.0</td>\n",
       "      <td>0.0</td>\n",
       "      <td>0.0</td>\n",
       "    </tr>\n",
       "    <tr>\n",
       "      <th>82074</th>\n",
       "      <td>1.0</td>\n",
       "      <td>0.0</td>\n",
       "      <td>0.0</td>\n",
       "      <td>0.0</td>\n",
       "      <td>0.0</td>\n",
       "      <td>0.0</td>\n",
       "    </tr>\n",
       "    <tr>\n",
       "      <th>141706</th>\n",
       "      <td>1.0</td>\n",
       "      <td>0.0</td>\n",
       "      <td>0.0</td>\n",
       "      <td>0.0</td>\n",
       "      <td>0.0</td>\n",
       "      <td>0.0</td>\n",
       "    </tr>\n",
       "    <tr>\n",
       "      <th>158650</th>\n",
       "      <td>0.0</td>\n",
       "      <td>0.0</td>\n",
       "      <td>0.0</td>\n",
       "      <td>0.0</td>\n",
       "      <td>0.0</td>\n",
       "      <td>1.0</td>\n",
       "    </tr>\n",
       "  </tbody>\n",
       "</table>\n",
       "</div>"
      ],
      "text/plain": [
       "        REMEMBERING  UNDERSTANDING  APPLYING  ANALYZING  EVALUATING  CREATING\n",
       "54935           0.0            0.0       1.0        0.0         0.0       0.0\n",
       "4535            0.0            0.0       0.0        1.0         0.0       0.0\n",
       "82074           1.0            0.0       0.0        0.0         0.0       0.0\n",
       "141706          1.0            0.0       0.0        0.0         0.0       0.0\n",
       "158650          0.0            0.0       0.0        0.0         0.0       1.0"
      ]
     },
     "execution_count": 47,
     "metadata": {},
     "output_type": "execute_result"
    }
   ],
   "source": [
    "y_test.head()"
   ]
  },
  {
   "cell_type": "code",
   "execution_count": 48,
   "metadata": {},
   "outputs": [
    {
     "data": {
      "text/plain": [
       "54935         can the same thing apply for inferior goods ?\n",
       "4535                             where does the energy go ?\n",
       "82074     at 2:23 , sal said over the square of the dist...\n",
       "141706    is the prefix `` bis '' only applicable for sy...\n",
       "158650     are polyatomic ions considered to be molecules ?\n",
       "Name: QUERY_UC, dtype: object"
      ]
     },
     "execution_count": 48,
     "metadata": {},
     "output_type": "execute_result"
    }
   ],
   "source": [
    "X_test.head()"
   ]
  },
  {
   "cell_type": "code",
   "execution_count": 49,
   "metadata": {},
   "outputs": [],
   "source": [
    "y_true = predict(y_test)"
   ]
  },
  {
   "cell_type": "code",
   "execution_count": 50,
   "metadata": {},
   "outputs": [
    {
     "data": {
      "text/html": [
       "<div>\n",
       "<style scoped>\n",
       "    .dataframe tbody tr th:only-of-type {\n",
       "        vertical-align: middle;\n",
       "    }\n",
       "\n",
       "    .dataframe tbody tr th {\n",
       "        vertical-align: top;\n",
       "    }\n",
       "\n",
       "    .dataframe thead th {\n",
       "        text-align: right;\n",
       "    }\n",
       "</style>\n",
       "<table border=\"1\" class=\"dataframe\">\n",
       "  <thead>\n",
       "    <tr style=\"text-align: right;\">\n",
       "      <th></th>\n",
       "      <th>REMEMBERING</th>\n",
       "      <th>UNDERSTANDING</th>\n",
       "      <th>APPLYING</th>\n",
       "      <th>ANALYZING</th>\n",
       "      <th>EVALUATING</th>\n",
       "      <th>CREATING</th>\n",
       "      <th>predict</th>\n",
       "    </tr>\n",
       "  </thead>\n",
       "  <tbody>\n",
       "    <tr>\n",
       "      <th>54935</th>\n",
       "      <td>False</td>\n",
       "      <td>False</td>\n",
       "      <td>True</td>\n",
       "      <td>False</td>\n",
       "      <td>False</td>\n",
       "      <td>False</td>\n",
       "      <td>APPLYING</td>\n",
       "    </tr>\n",
       "    <tr>\n",
       "      <th>4535</th>\n",
       "      <td>False</td>\n",
       "      <td>False</td>\n",
       "      <td>False</td>\n",
       "      <td>True</td>\n",
       "      <td>False</td>\n",
       "      <td>False</td>\n",
       "      <td>ANALYZING</td>\n",
       "    </tr>\n",
       "    <tr>\n",
       "      <th>82074</th>\n",
       "      <td>True</td>\n",
       "      <td>False</td>\n",
       "      <td>False</td>\n",
       "      <td>False</td>\n",
       "      <td>False</td>\n",
       "      <td>False</td>\n",
       "      <td>REMEMBERING</td>\n",
       "    </tr>\n",
       "    <tr>\n",
       "      <th>141706</th>\n",
       "      <td>True</td>\n",
       "      <td>False</td>\n",
       "      <td>False</td>\n",
       "      <td>False</td>\n",
       "      <td>False</td>\n",
       "      <td>False</td>\n",
       "      <td>REMEMBERING</td>\n",
       "    </tr>\n",
       "    <tr>\n",
       "      <th>158650</th>\n",
       "      <td>False</td>\n",
       "      <td>False</td>\n",
       "      <td>False</td>\n",
       "      <td>False</td>\n",
       "      <td>False</td>\n",
       "      <td>True</td>\n",
       "      <td>CREATING</td>\n",
       "    </tr>\n",
       "  </tbody>\n",
       "</table>\n",
       "</div>"
      ],
      "text/plain": [
       "        REMEMBERING  UNDERSTANDING  APPLYING  ANALYZING  EVALUATING  CREATING  \\\n",
       "54935         False          False      True      False       False     False   \n",
       "4535          False          False     False       True       False     False   \n",
       "82074          True          False     False      False       False     False   \n",
       "141706         True          False     False      False       False     False   \n",
       "158650        False          False     False      False       False      True   \n",
       "\n",
       "            predict  \n",
       "54935      APPLYING  \n",
       "4535      ANALYZING  \n",
       "82074   REMEMBERING  \n",
       "141706  REMEMBERING  \n",
       "158650     CREATING  "
      ]
     },
     "execution_count": 50,
     "metadata": {},
     "output_type": "execute_result"
    }
   ],
   "source": [
    "y_true.head()"
   ]
  },
  {
   "cell_type": "code",
   "execution_count": 52,
   "metadata": {},
   "outputs": [
    {
     "name": "stdout",
     "output_type": "stream",
     "text": [
      "               precision    recall  f1-score   support\n",
      "\n",
      "    ANALYZING     0.2837    0.0610    0.1004      9836\n",
      "     APPLYING     0.2684    0.4967    0.3485      5897\n",
      "     CREATING     0.2567    0.0328    0.0581     13825\n",
      "   EVALUATING     0.1457    0.0535    0.0783      4147\n",
      "  REMEMBERING     0.2983    0.7363    0.4246     11607\n",
      "UNDERSTANDING     0.1024    0.1188    0.1100      2138\n",
      "\n",
      "     accuracy                         0.2741     47450\n",
      "    macro avg     0.2258    0.2498    0.1866     47450\n",
      " weighted avg     0.2572    0.2741    0.1967     47450\n",
      "\n"
     ]
    }
   ],
   "source": [
    "print(metrics.classification_report(y_true.predict.values, preds.predict.values, digits=4))"
   ]
  },
  {
   "cell_type": "code",
   "execution_count": 53,
   "metadata": {},
   "outputs": [
    {
     "data": {
      "text/html": [
       "<div>\n",
       "<style scoped>\n",
       "    .dataframe tbody tr th:only-of-type {\n",
       "        vertical-align: middle;\n",
       "    }\n",
       "\n",
       "    .dataframe tbody tr th {\n",
       "        vertical-align: top;\n",
       "    }\n",
       "\n",
       "    .dataframe thead th {\n",
       "        text-align: right;\n",
       "    }\n",
       "</style>\n",
       "<table border=\"1\" class=\"dataframe\">\n",
       "  <thead>\n",
       "    <tr style=\"text-align: right;\">\n",
       "      <th></th>\n",
       "      <th>REMEMBERING</th>\n",
       "      <th>UNDERSTANDING</th>\n",
       "      <th>APPLYING</th>\n",
       "      <th>ANALYZING</th>\n",
       "      <th>EVALUATING</th>\n",
       "      <th>CREATING</th>\n",
       "    </tr>\n",
       "  </thead>\n",
       "  <tbody>\n",
       "    <tr>\n",
       "      <th>0</th>\n",
       "      <td>0</td>\n",
       "      <td>0</td>\n",
       "      <td>0</td>\n",
       "      <td>0</td>\n",
       "      <td>0</td>\n",
       "      <td>0</td>\n",
       "    </tr>\n",
       "    <tr>\n",
       "      <th>1</th>\n",
       "      <td>0</td>\n",
       "      <td>0</td>\n",
       "      <td>0</td>\n",
       "      <td>2</td>\n",
       "      <td>2</td>\n",
       "      <td>0</td>\n",
       "    </tr>\n",
       "    <tr>\n",
       "      <th>2</th>\n",
       "      <td>0</td>\n",
       "      <td>0</td>\n",
       "      <td>0</td>\n",
       "      <td>0</td>\n",
       "      <td>0</td>\n",
       "      <td>0</td>\n",
       "    </tr>\n",
       "    <tr>\n",
       "      <th>3</th>\n",
       "      <td>0</td>\n",
       "      <td>0</td>\n",
       "      <td>0</td>\n",
       "      <td>0</td>\n",
       "      <td>0</td>\n",
       "      <td>0</td>\n",
       "    </tr>\n",
       "    <tr>\n",
       "      <th>4</th>\n",
       "      <td>0</td>\n",
       "      <td>0</td>\n",
       "      <td>0</td>\n",
       "      <td>0</td>\n",
       "      <td>0</td>\n",
       "      <td>0</td>\n",
       "    </tr>\n",
       "  </tbody>\n",
       "</table>\n",
       "</div>"
      ],
      "text/plain": [
       "   REMEMBERING  UNDERSTANDING  APPLYING  ANALYZING  EVALUATING  CREATING\n",
       "0            0              0         0          0           0         0\n",
       "1            0              0         0          2           2         0\n",
       "2            0              0         0          0           0         0\n",
       "3            0              0         0          0           0         0\n",
       "4            0              0         0          0           0         0"
      ]
     },
     "execution_count": 53,
     "metadata": {},
     "output_type": "execute_result"
    }
   ],
   "source": [
    "train_paraphrase= statistique.generate_bloom_result(phrases=X_train.values)\n",
    "train_paraphrase.head()"
   ]
  },
  {
   "cell_type": "code",
   "execution_count": 54,
   "metadata": {},
   "outputs": [
    {
     "data": {
      "text/html": [
       "<div>\n",
       "<style scoped>\n",
       "    .dataframe tbody tr th:only-of-type {\n",
       "        vertical-align: middle;\n",
       "    }\n",
       "\n",
       "    .dataframe tbody tr th {\n",
       "        vertical-align: top;\n",
       "    }\n",
       "\n",
       "    .dataframe thead th {\n",
       "        text-align: right;\n",
       "    }\n",
       "</style>\n",
       "<table border=\"1\" class=\"dataframe\">\n",
       "  <thead>\n",
       "    <tr style=\"text-align: right;\">\n",
       "      <th></th>\n",
       "      <th>REMEMBERING</th>\n",
       "      <th>UNDERSTANDING</th>\n",
       "      <th>APPLYING</th>\n",
       "      <th>ANALYZING</th>\n",
       "      <th>EVALUATING</th>\n",
       "      <th>CREATING</th>\n",
       "      <th>predict</th>\n",
       "    </tr>\n",
       "  </thead>\n",
       "  <tbody>\n",
       "    <tr>\n",
       "      <th>182859</th>\n",
       "      <td>False</td>\n",
       "      <td>False</td>\n",
       "      <td>False</td>\n",
       "      <td>False</td>\n",
       "      <td>False</td>\n",
       "      <td>True</td>\n",
       "      <td>CREATING</td>\n",
       "    </tr>\n",
       "    <tr>\n",
       "      <th>28322</th>\n",
       "      <td>True</td>\n",
       "      <td>False</td>\n",
       "      <td>False</td>\n",
       "      <td>False</td>\n",
       "      <td>False</td>\n",
       "      <td>False</td>\n",
       "      <td>REMEMBERING</td>\n",
       "    </tr>\n",
       "    <tr>\n",
       "      <th>176082</th>\n",
       "      <td>True</td>\n",
       "      <td>False</td>\n",
       "      <td>False</td>\n",
       "      <td>False</td>\n",
       "      <td>False</td>\n",
       "      <td>False</td>\n",
       "      <td>REMEMBERING</td>\n",
       "    </tr>\n",
       "    <tr>\n",
       "      <th>41043</th>\n",
       "      <td>False</td>\n",
       "      <td>False</td>\n",
       "      <td>False</td>\n",
       "      <td>False</td>\n",
       "      <td>True</td>\n",
       "      <td>False</td>\n",
       "      <td>EVALUATING</td>\n",
       "    </tr>\n",
       "    <tr>\n",
       "      <th>13035</th>\n",
       "      <td>False</td>\n",
       "      <td>False</td>\n",
       "      <td>False</td>\n",
       "      <td>True</td>\n",
       "      <td>False</td>\n",
       "      <td>False</td>\n",
       "      <td>ANALYZING</td>\n",
       "    </tr>\n",
       "  </tbody>\n",
       "</table>\n",
       "</div>"
      ],
      "text/plain": [
       "        REMEMBERING  UNDERSTANDING  APPLYING  ANALYZING  EVALUATING  CREATING  \\\n",
       "182859        False          False     False      False       False      True   \n",
       "28322          True          False     False      False       False     False   \n",
       "176082         True          False     False      False       False     False   \n",
       "41043         False          False     False      False        True     False   \n",
       "13035         False          False     False       True       False     False   \n",
       "\n",
       "            predict  \n",
       "182859     CREATING  \n",
       "28322   REMEMBERING  \n",
       "176082  REMEMBERING  \n",
       "41043    EVALUATING  \n",
       "13035     ANALYZING  "
      ]
     },
     "execution_count": 54,
     "metadata": {},
     "output_type": "execute_result"
    }
   ],
   "source": [
    "y_train_true = predict(y_train)\n",
    "y_train_true.head()"
   ]
  },
  {
   "cell_type": "markdown",
   "metadata": {},
   "source": [
    "### Try fit model with some machine learning techniques"
   ]
  },
  {
   "cell_type": "code",
   "execution_count": 55,
   "metadata": {},
   "outputs": [],
   "source": [
    "svm = SVC(gamma=\"auto\").fit(train_paraphrase.values, y_train_true.predict.values)"
   ]
  },
  {
   "cell_type": "code",
   "execution_count": 56,
   "metadata": {},
   "outputs": [
    {
     "data": {
      "text/plain": [
       "SVC(gamma='auto')"
      ]
     },
     "execution_count": 56,
     "metadata": {},
     "output_type": "execute_result"
    }
   ],
   "source": [
    "svm"
   ]
  },
  {
   "cell_type": "code",
   "execution_count": 57,
   "metadata": {},
   "outputs": [],
   "source": [
    "preds = svm.predict(test_paraphrase.values)"
   ]
  },
  {
   "cell_type": "code",
   "execution_count": 58,
   "metadata": {},
   "outputs": [
    {
     "data": {
      "text/plain": [
       "array(['APPLYING', 'CREATING', 'CREATING', ..., 'CREATING', 'REMEMBERING',\n",
       "       'REMEMBERING'], dtype=object)"
      ]
     },
     "execution_count": 58,
     "metadata": {},
     "output_type": "execute_result"
    }
   ],
   "source": [
    "preds"
   ]
  },
  {
   "cell_type": "code",
   "execution_count": 59,
   "metadata": {},
   "outputs": [
    {
     "name": "stdout",
     "output_type": "stream",
     "text": [
      "               precision    recall  f1-score   support\n",
      "\n",
      "    ANALYZING     0.3227    0.1057    0.1593      9836\n",
      "     APPLYING     0.4475    0.2635    0.3317      5897\n",
      "     CREATING     0.3161    0.3551    0.3345     13825\n",
      "   EVALUATING     0.4095    0.0458    0.0824      4147\n",
      "  REMEMBERING     0.3045    0.6490    0.4145     11607\n",
      "UNDERSTANDING     0.3636    0.0037    0.0074      2138\n",
      "\n",
      "     accuracy                         0.3211     47450\n",
      "    macro avg     0.3606    0.2372    0.2216     47450\n",
      " weighted avg     0.3413    0.3211    0.2806     47450\n",
      "\n"
     ]
    }
   ],
   "source": [
    "print(metrics.classification_report(y_true.predict.values, preds, digits=4))"
   ]
  },
  {
   "cell_type": "code",
   "execution_count": 60,
   "metadata": {},
   "outputs": [],
   "source": [
    "lr = LogisticRegression(\n",
    "    random_state=40, class_weight=\"balanced\", solver=\"lbfgs\", multi_class=\"auto\", max_iter=7500\n",
    ").fit(train_paraphrase.values, y_train_true.predict.values)"
   ]
  },
  {
   "cell_type": "code",
   "execution_count": 61,
   "metadata": {},
   "outputs": [],
   "source": [
    "preds = lr.predict(test_paraphrase.values)"
   ]
  },
  {
   "cell_type": "code",
   "execution_count": 62,
   "metadata": {},
   "outputs": [
    {
     "name": "stdout",
     "output_type": "stream",
     "text": [
      "               precision    recall  f1-score   support\n",
      "\n",
      "    ANALYZING     0.2764    0.0543    0.0908      9836\n",
      "     APPLYING     0.3059    0.4085    0.3498      5897\n",
      "     CREATING     0.3567    0.0430    0.0768     13825\n",
      "   EVALUATING     0.1787    0.2474    0.2075      4147\n",
      "  REMEMBERING     0.3023    0.6948    0.4213     11607\n",
      "UNDERSTANDING     0.0822    0.1366    0.1027      2138\n",
      "\n",
      "     accuracy                         0.2723     47450\n",
      "    macro avg     0.2504    0.2641    0.2081     47450\n",
      " weighted avg     0.2925    0.2723    0.2105     47450\n",
      "\n"
     ]
    }
   ],
   "source": [
    "print(metrics.classification_report(y_true.predict.values, preds, digits=4))"
   ]
  },
  {
   "cell_type": "code",
   "execution_count": 63,
   "metadata": {},
   "outputs": [],
   "source": [
    "xgb = XGBClassifier(\n",
    "    random_state=42, seed=2, colsample_bytree=0.6, subsample=0.8\n",
    ").fit(train_paraphrase.values, y_train_true.predict.values)"
   ]
  },
  {
   "cell_type": "code",
   "execution_count": 64,
   "metadata": {},
   "outputs": [],
   "source": [
    "preds = xgb.predict(test_paraphrase.values)"
   ]
  },
  {
   "cell_type": "code",
   "execution_count": 65,
   "metadata": {},
   "outputs": [
    {
     "name": "stdout",
     "output_type": "stream",
     "text": [
      "               precision    recall  f1-score   support\n",
      "\n",
      "    ANALYZING     0.3233    0.1280    0.1834      9836\n",
      "     APPLYING     0.4465    0.2620    0.3302      5897\n",
      "     CREATING     0.3202    0.3399    0.3298     13825\n",
      "   EVALUATING     0.3732    0.0564    0.0980      4147\n",
      "  REMEMBERING     0.3044    0.6496    0.4146     11607\n",
      "UNDERSTANDING     0.3571    0.0047    0.0092      2138\n",
      "\n",
      "     accuracy                         0.3222     47450\n",
      "    macro avg     0.3541    0.2401    0.2275     47450\n",
      " weighted avg     0.3390    0.3222    0.2855     47450\n",
      "\n"
     ]
    }
   ],
   "source": [
    "print(metrics.classification_report(y_true.predict.values, preds, digits=4))"
   ]
  },
  {
   "cell_type": "code",
   "execution_count": 66,
   "metadata": {},
   "outputs": [],
   "source": [
    "dtc = DecisionTreeClassifier(\n",
    "    class_weight=\"balanced\"\n",
    ").fit(train_paraphrase.values, y_train_true.predict.values)"
   ]
  },
  {
   "cell_type": "code",
   "execution_count": 67,
   "metadata": {},
   "outputs": [],
   "source": [
    "preds = dtc.predict(test_paraphrase.values)"
   ]
  },
  {
   "cell_type": "code",
   "execution_count": 68,
   "metadata": {},
   "outputs": [
    {
     "name": "stdout",
     "output_type": "stream",
     "text": [
      "               precision    recall  f1-score   support\n",
      "\n",
      "    ANALYZING     0.3398    0.0716    0.1182      9836\n",
      "     APPLYING     0.3204    0.3866    0.3504      5897\n",
      "     CREATING     0.3843    0.0711    0.1200     13825\n",
      "   EVALUATING     0.1855    0.3554    0.2438      4147\n",
      "  REMEMBERING     0.3035    0.6559    0.4149     11607\n",
      "UNDERSTANDING     0.1111    0.1389    0.1235      2138\n",
      "\n",
      "     accuracy                         0.2814     47450\n",
      "    macro avg     0.2741    0.2799    0.2285     47450\n",
      " weighted avg     0.3177    0.2814    0.2314     47450\n",
      "\n"
     ]
    }
   ],
   "source": [
    "print(metrics.classification_report(y_true.predict.values, preds, digits=4))"
   ]
  },
  {
   "cell_type": "code",
   "execution_count": 69,
   "metadata": {},
   "outputs": [],
   "source": [
    "rfc = RandomForestClassifier(\n",
    "    n_estimators=100\n",
    ").fit(train_paraphrase.values, y_train_true.predict.values)"
   ]
  },
  {
   "cell_type": "code",
   "execution_count": 70,
   "metadata": {},
   "outputs": [],
   "source": [
    "preds = rfc.predict(test_paraphrase.values)"
   ]
  },
  {
   "cell_type": "code",
   "execution_count": 71,
   "metadata": {},
   "outputs": [
    {
     "name": "stdout",
     "output_type": "stream",
     "text": [
      "               precision    recall  f1-score   support\n",
      "\n",
      "    ANALYZING     0.3147    0.1305    0.1845      9836\n",
      "     APPLYING     0.4330    0.2564    0.3221      5897\n",
      "     CREATING     0.3214    0.3030    0.3119     13825\n",
      "   EVALUATING     0.3229    0.0670    0.1110      4147\n",
      "  REMEMBERING     0.3007    0.6716    0.4154     11607\n",
      "UNDERSTANDING     0.2500    0.0075    0.0145      2138\n",
      "\n",
      "     accuracy                         0.3177     47450\n",
      "    macro avg     0.3238    0.2393    0.2266     47450\n",
      " weighted avg     0.3257    0.3177    0.2811     47450\n",
      "\n"
     ]
    }
   ],
   "source": [
    "print(metrics.classification_report(y_true.predict.values, preds, digits=4))"
   ]
  },
  {
   "cell_type": "code",
   "execution_count": null,
   "metadata": {},
   "outputs": [],
   "source": []
  }
 ],
 "metadata": {
  "kernelspec": {
   "display_name": "Python 3",
   "language": "python",
   "name": "python3"
  },
  "language_info": {
   "codemirror_mode": {
    "name": "ipython",
    "version": 3
   },
   "file_extension": ".py",
   "mimetype": "text/x-python",
   "name": "python",
   "nbconvert_exporter": "python",
   "pygments_lexer": "ipython3",
   "version": "3.6.10"
  }
 },
 "nbformat": 4,
 "nbformat_minor": 4
}
