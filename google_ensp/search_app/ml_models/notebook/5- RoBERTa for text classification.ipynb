{
 "cells": [
  {
   "cell_type": "code",
   "execution_count": 1,
   "metadata": {},
   "outputs": [],
   "source": [
    "data_path = './input'\n",
    "output_path = './output'"
   ]
  },
  {
   "cell_type": "code",
   "execution_count": 2,
   "metadata": {},
   "outputs": [
    {
     "name": "stdout",
     "output_type": "stream",
     "text": [
      "./input/tgt-dev.txt\n",
      "./input/DatasetComplet.xlsx\n",
      "./input/question_labels.csv\n",
      "./input/tgt-train-class.csv\n",
      "./input/tgt-test.txt\n",
      "./input/verbs.txt\n",
      "./input/questions_multi_classification.csv\n",
      "./input/.ipynb_checkpoints/question_labels-checkpoint.csv\n",
      "./input/.ipynb_checkpoints/verbs-checkpoint.txt\n",
      "./input/.ipynb_checkpoints/tgt-train-class-checkpoint.csv\n",
      "./input/.ipynb_checkpoints/questions_multi_classification-checkpoint.csv\n",
      "./input/verbs/Evaluating.csv\n",
      "./input/verbs/Understanding.csv\n",
      "./input/verbs/Analyzing.csv\n",
      "./input/verbs/Creating.csv\n",
      "./input/verbs/Remembering.csv\n",
      "./input/verbs/Applying.csv\n",
      "./input/verbs/.ipynb_checkpoints/Remembering-checkpoint.csv\n"
     ]
    }
   ],
   "source": [
    "# This Python 3 environment comes with many helpful analytics libraries installed\n",
    "# It is defined by the kaggle/python Docker image: https://github.com/kaggle/docker-python\n",
    "# For example, here's several helpful packages to load\n",
    "\n",
    "import numpy as np # linear algebra\n",
    "import pandas as pd # data processing, CSV file I/O (e.g. pd.read_csv)\n",
    "\n",
    "# Input data files are available in the read-only \"../input/\" directory\n",
    "# For example, running this (by clicking run or pressing Shift+Enter) will list all files under the input directory\n",
    "\n",
    "import os\n",
    "for dirname, _, filenames in os.walk('./input'):\n",
    "    for filename in filenames:\n",
    "        print(os.path.join(dirname, filename))\n"
   ]
  },
  {
   "cell_type": "code",
   "execution_count": 3,
   "metadata": {},
   "outputs": [],
   "source": [
    "import os\n",
    "import sys\n",
    "import pickle\n",
    "import helpers as h\n",
    "from sentence_transformers import SentenceTransformer, util, models\n",
    "from torch import nn\n",
    "import scipy.spatial\n",
    "from matplotlib import pyplot as plt"
   ]
  },
  {
   "cell_type": "code",
   "execution_count": 4,
   "metadata": {},
   "outputs": [
    {
     "data": {
      "text/html": [
       "<div>\n",
       "<style scoped>\n",
       "    .dataframe tbody tr th:only-of-type {\n",
       "        vertical-align: middle;\n",
       "    }\n",
       "\n",
       "    .dataframe tbody tr th {\n",
       "        vertical-align: top;\n",
       "    }\n",
       "\n",
       "    .dataframe thead th {\n",
       "        text-align: right;\n",
       "    }\n",
       "</style>\n",
       "<table border=\"1\" class=\"dataframe\">\n",
       "  <thead>\n",
       "    <tr style=\"text-align: right;\">\n",
       "      <th></th>\n",
       "      <th>QUERY</th>\n",
       "      <th>REMEMBERING</th>\n",
       "      <th>UNDERSTANDING</th>\n",
       "      <th>APPLYING</th>\n",
       "      <th>ANALYZING</th>\n",
       "      <th>EVALUATING</th>\n",
       "      <th>CREATING</th>\n",
       "    </tr>\n",
       "  </thead>\n",
       "  <tbody>\n",
       "    <tr>\n",
       "      <th>0</th>\n",
       "      <td>\"their own language\" means  _  .</td>\n",
       "      <td>1.0</td>\n",
       "      <td>0.0</td>\n",
       "      <td>0.0</td>\n",
       "      <td>0.0</td>\n",
       "      <td>0.0</td>\n",
       "      <td>0.0</td>\n",
       "    </tr>\n",
       "    <tr>\n",
       "      <th>1</th>\n",
       "      <td>\"you may think the popular singer jay chow is ...</td>\n",
       "      <td>0.0</td>\n",
       "      <td>1.0</td>\n",
       "      <td>0.0</td>\n",
       "      <td>0.0</td>\n",
       "      <td>0.0</td>\n",
       "      <td>0.0</td>\n",
       "    </tr>\n",
       "    <tr>\n",
       "      <th>2</th>\n",
       "      <td>. at midnight, nasreddin saw   _  in his garden.</td>\n",
       "      <td>1.0</td>\n",
       "      <td>0.0</td>\n",
       "      <td>0.0</td>\n",
       "      <td>0.0</td>\n",
       "      <td>0.0</td>\n",
       "      <td>0.0</td>\n",
       "    </tr>\n",
       "    <tr>\n",
       "      <th>3</th>\n",
       "      <td>. david beckham  is   _   years old.</td>\n",
       "      <td>1.0</td>\n",
       "      <td>0.0</td>\n",
       "      <td>0.0</td>\n",
       "      <td>0.0</td>\n",
       "      <td>0.0</td>\n",
       "      <td>0.0</td>\n",
       "    </tr>\n",
       "    <tr>\n",
       "      <th>4</th>\n",
       "      <td>. david beckham's family name is   _  and zhou...</td>\n",
       "      <td>1.0</td>\n",
       "      <td>0.0</td>\n",
       "      <td>0.0</td>\n",
       "      <td>0.0</td>\n",
       "      <td>0.0</td>\n",
       "      <td>0.0</td>\n",
       "    </tr>\n",
       "  </tbody>\n",
       "</table>\n",
       "</div>"
      ],
      "text/plain": [
       "                                               QUERY  REMEMBERING  \\\n",
       "0                   \"their own language\" means  _  .          1.0   \n",
       "1  \"you may think the popular singer jay chow is ...          0.0   \n",
       "2   . at midnight, nasreddin saw   _  in his garden.          1.0   \n",
       "3               . david beckham  is   _   years old.          1.0   \n",
       "4  . david beckham's family name is   _  and zhou...          1.0   \n",
       "\n",
       "   UNDERSTANDING  APPLYING  ANALYZING  EVALUATING  CREATING  \n",
       "0            0.0       0.0        0.0         0.0       0.0  \n",
       "1            1.0       0.0        0.0         0.0       0.0  \n",
       "2            0.0       0.0        0.0         0.0       0.0  \n",
       "3            0.0       0.0        0.0         0.0       0.0  \n",
       "4            0.0       0.0        0.0         0.0       0.0  "
      ]
     },
     "execution_count": 4,
     "metadata": {},
     "output_type": "execute_result"
    }
   ],
   "source": [
    "df = pd.read_csv(\"./output/queries_df.csv\")\n",
    "df.head()"
   ]
  },
  {
   "cell_type": "code",
   "execution_count": 5,
   "metadata": {},
   "outputs": [],
   "source": [
    "categories = df.columns[1:]\n",
    "def predict(df_paraphrase:pd.DataFrame, cols = categories):\n",
    "    if cols is None:\n",
    "        cols = df_paraphrase.columns\n",
    "    preds = df_paraphrase[cols].ge(np.max(df_paraphrase[cols].values, axis=1), axis=0)\n",
    "    preds[\"PREDICT\"] = cols[np.argmax(preds.values, axis=1)]\n",
    "    return preds"
   ]
  },
  {
   "cell_type": "code",
   "execution_count": 6,
   "metadata": {},
   "outputs": [
    {
     "data": {
      "text/html": [
       "<div>\n",
       "<style scoped>\n",
       "    .dataframe tbody tr th:only-of-type {\n",
       "        vertical-align: middle;\n",
       "    }\n",
       "\n",
       "    .dataframe tbody tr th {\n",
       "        vertical-align: top;\n",
       "    }\n",
       "\n",
       "    .dataframe thead th {\n",
       "        text-align: right;\n",
       "    }\n",
       "</style>\n",
       "<table border=\"1\" class=\"dataframe\">\n",
       "  <thead>\n",
       "    <tr style=\"text-align: right;\">\n",
       "      <th></th>\n",
       "      <th>REMEMBERING</th>\n",
       "      <th>UNDERSTANDING</th>\n",
       "      <th>APPLYING</th>\n",
       "      <th>ANALYZING</th>\n",
       "      <th>EVALUATING</th>\n",
       "      <th>CREATING</th>\n",
       "      <th>PREDICT</th>\n",
       "    </tr>\n",
       "  </thead>\n",
       "  <tbody>\n",
       "    <tr>\n",
       "      <th>0</th>\n",
       "      <td>True</td>\n",
       "      <td>False</td>\n",
       "      <td>False</td>\n",
       "      <td>False</td>\n",
       "      <td>False</td>\n",
       "      <td>False</td>\n",
       "      <td>REMEMBERING</td>\n",
       "    </tr>\n",
       "    <tr>\n",
       "      <th>1</th>\n",
       "      <td>False</td>\n",
       "      <td>True</td>\n",
       "      <td>False</td>\n",
       "      <td>False</td>\n",
       "      <td>False</td>\n",
       "      <td>False</td>\n",
       "      <td>UNDERSTANDING</td>\n",
       "    </tr>\n",
       "    <tr>\n",
       "      <th>2</th>\n",
       "      <td>True</td>\n",
       "      <td>False</td>\n",
       "      <td>False</td>\n",
       "      <td>False</td>\n",
       "      <td>False</td>\n",
       "      <td>False</td>\n",
       "      <td>REMEMBERING</td>\n",
       "    </tr>\n",
       "    <tr>\n",
       "      <th>3</th>\n",
       "      <td>True</td>\n",
       "      <td>False</td>\n",
       "      <td>False</td>\n",
       "      <td>False</td>\n",
       "      <td>False</td>\n",
       "      <td>False</td>\n",
       "      <td>REMEMBERING</td>\n",
       "    </tr>\n",
       "    <tr>\n",
       "      <th>4</th>\n",
       "      <td>True</td>\n",
       "      <td>False</td>\n",
       "      <td>False</td>\n",
       "      <td>False</td>\n",
       "      <td>False</td>\n",
       "      <td>False</td>\n",
       "      <td>REMEMBERING</td>\n",
       "    </tr>\n",
       "  </tbody>\n",
       "</table>\n",
       "</div>"
      ],
      "text/plain": [
       "   REMEMBERING  UNDERSTANDING  APPLYING  ANALYZING  EVALUATING  CREATING  \\\n",
       "0         True          False     False      False       False     False   \n",
       "1        False           True     False      False       False     False   \n",
       "2         True          False     False      False       False     False   \n",
       "3         True          False     False      False       False     False   \n",
       "4         True          False     False      False       False     False   \n",
       "\n",
       "         PREDICT  \n",
       "0    REMEMBERING  \n",
       "1  UNDERSTANDING  \n",
       "2    REMEMBERING  \n",
       "3    REMEMBERING  \n",
       "4    REMEMBERING  "
      ]
     },
     "execution_count": 6,
     "metadata": {},
     "output_type": "execute_result"
    }
   ],
   "source": [
    "queries = predict(df)\n",
    "queries.head()"
   ]
  },
  {
   "cell_type": "code",
   "execution_count": 7,
   "metadata": {},
   "outputs": [
    {
     "data": {
      "text/html": [
       "<div>\n",
       "<style scoped>\n",
       "    .dataframe tbody tr th:only-of-type {\n",
       "        vertical-align: middle;\n",
       "    }\n",
       "\n",
       "    .dataframe tbody tr th {\n",
       "        vertical-align: top;\n",
       "    }\n",
       "\n",
       "    .dataframe thead th {\n",
       "        text-align: right;\n",
       "    }\n",
       "</style>\n",
       "<table border=\"1\" class=\"dataframe\">\n",
       "  <thead>\n",
       "    <tr style=\"text-align: right;\">\n",
       "      <th></th>\n",
       "      <th>QUERY</th>\n",
       "      <th>PREDICT</th>\n",
       "    </tr>\n",
       "  </thead>\n",
       "  <tbody>\n",
       "    <tr>\n",
       "      <th>34259</th>\n",
       "      <td>is the hydrogen atom the smallest atom ?</td>\n",
       "      <td>REMEMBERING</td>\n",
       "    </tr>\n",
       "    <tr>\n",
       "      <th>13999</th>\n",
       "      <td>can you make your own man-made elements ?</td>\n",
       "      <td>EVALUATING</td>\n",
       "    </tr>\n",
       "    <tr>\n",
       "      <th>175492</th>\n",
       "      <td>if a hydrogen atom is neutral , why does n't i...</td>\n",
       "      <td>APPLYING</td>\n",
       "    </tr>\n",
       "    <tr>\n",
       "      <th>106340</th>\n",
       "      <td>why does current flow from the positive termin...</td>\n",
       "      <td>ANALYZING</td>\n",
       "    </tr>\n",
       "    <tr>\n",
       "      <th>151032</th>\n",
       "      <td>how do you calculate the common denominator ?</td>\n",
       "      <td>ANALYZING</td>\n",
       "    </tr>\n",
       "  </tbody>\n",
       "</table>\n",
       "</div>"
      ],
      "text/plain": [
       "                                                    QUERY      PREDICT\n",
       "34259            is the hydrogen atom the smallest atom ?  REMEMBERING\n",
       "13999           can you make your own man-made elements ?   EVALUATING\n",
       "175492  if a hydrogen atom is neutral , why does n't i...     APPLYING\n",
       "106340  why does current flow from the positive termin...    ANALYZING\n",
       "151032      how do you calculate the common denominator ?    ANALYZING"
      ]
     },
     "execution_count": 7,
     "metadata": {},
     "output_type": "execute_result"
    }
   ],
   "source": [
    "queries[\"QUERY\"] = df[\"QUERY\"]\n",
    "queries = queries[[\"QUERY\", \"PREDICT\"]]\n",
    "queries.sample(5)"
   ]
  },
  {
   "cell_type": "code",
   "execution_count": 8,
   "metadata": {},
   "outputs": [
    {
     "data": {
      "text/plain": [
       "CREATING         55286\n",
       "REMEMBERING      45873\n",
       "ANALYZING        39990\n",
       "APPLYING         23453\n",
       "EVALUATING       16677\n",
       "UNDERSTANDING     8520\n",
       "Name: PREDICT, dtype: int64"
      ]
     },
     "execution_count": 8,
     "metadata": {},
     "output_type": "execute_result"
    }
   ],
   "source": [
    "queries.PREDICT.value_counts()"
   ]
  },
  {
   "cell_type": "code",
   "execution_count": 10,
   "metadata": {},
   "outputs": [
    {
     "data": {
      "text/html": [
       "<div>\n",
       "<style scoped>\n",
       "    .dataframe tbody tr th:only-of-type {\n",
       "        vertical-align: middle;\n",
       "    }\n",
       "\n",
       "    .dataframe tbody tr th {\n",
       "        vertical-align: top;\n",
       "    }\n",
       "\n",
       "    .dataframe thead th {\n",
       "        text-align: right;\n",
       "    }\n",
       "</style>\n",
       "<table border=\"1\" class=\"dataframe\">\n",
       "  <thead>\n",
       "    <tr style=\"text-align: right;\">\n",
       "      <th></th>\n",
       "      <th>QUERY</th>\n",
       "      <th>PREDICT</th>\n",
       "    </tr>\n",
       "    <tr>\n",
       "      <th>Id</th>\n",
       "      <th></th>\n",
       "      <th></th>\n",
       "    </tr>\n",
       "  </thead>\n",
       "  <tbody>\n",
       "    <tr>\n",
       "      <th>24644</th>\n",
       "      <td>how do you figure out what numbers a principle...</td>\n",
       "      <td>ANALYZING</td>\n",
       "    </tr>\n",
       "    <tr>\n",
       "      <th>11921</th>\n",
       "      <td>its speed can be measured with precision 1 % ....</td>\n",
       "      <td>ANALYZING</td>\n",
       "    </tr>\n",
       "    <tr>\n",
       "      <th>113156</th>\n",
       "      <td>hi , can theta be the angle abc instead of bac ?</td>\n",
       "      <td>ANALYZING</td>\n",
       "    </tr>\n",
       "    <tr>\n",
       "      <th>34985</th>\n",
       "      <td>is diffusion and osmosis used by the body syst...</td>\n",
       "      <td>ANALYZING</td>\n",
       "    </tr>\n",
       "    <tr>\n",
       "      <th>82841</th>\n",
       "      <td>what is the difference between interior and ex...</td>\n",
       "      <td>ANALYZING</td>\n",
       "    </tr>\n",
       "  </tbody>\n",
       "</table>\n",
       "</div>"
      ],
      "text/plain": [
       "                                                    QUERY    PREDICT\n",
       "Id                                                                  \n",
       "24644   how do you figure out what numbers a principle...  ANALYZING\n",
       "11921   its speed can be measured with precision 1 % ....  ANALYZING\n",
       "113156   hi , can theta be the angle abc instead of bac ?  ANALYZING\n",
       "34985   is diffusion and osmosis used by the body syst...  ANALYZING\n",
       "82841   what is the difference between interior and ex...  ANALYZING"
      ]
     },
     "execution_count": 10,
     "metadata": {},
     "output_type": "execute_result"
    }
   ],
   "source": [
    "np.random.seed(41)\n",
    "queries.index.name = \"Id\"\n",
    "data =  queries[\"PREDICT\"].reset_index(   # need to keep the index as a column\n",
    "        ).groupby([\"PREDICT\"]                  # split by \"group\"\n",
    "        ).apply(lambda x: x.sample(3000) # in each group, do the random split of 3000\n",
    "        ).reset_index(drop=True              # index now is group id - reset it\n",
    "        ).set_index(\"Id\")\n",
    "data = queries.loc[data.index]\n",
    "data.head()"
   ]
  },
  {
   "cell_type": "code",
   "execution_count": 10,
   "metadata": {},
   "outputs": [],
   "source": [
    "from IPython.display import display"
   ]
  },
  {
   "cell_type": "code",
   "execution_count": 11,
   "metadata": {},
   "outputs": [],
   "source": [
    "np.random.seed(41)\n",
    "# queries.index.name = \"Id\"\n",
    "train =  data[\"PREDICT\"].reset_index(   # need to keep the index as a column\n",
    "        ).groupby([\"PREDICT\"]                  # split by \"group\"\n",
    "        ).apply(lambda x: x.sample(frac=0.75) # in each group, do the random split\n",
    "        ).reset_index(drop=True              # index now is group id - reset it\n",
    "        ).set_index(\"Id\")\n",
    "test = data.drop(train.index)\n",
    "train = data.loc[train.index]"
   ]
  },
  {
   "cell_type": "code",
   "execution_count": 12,
   "metadata": {},
   "outputs": [
    {
     "data": {
      "text/html": [
       "<div>\n",
       "<style scoped>\n",
       "    .dataframe tbody tr th:only-of-type {\n",
       "        vertical-align: middle;\n",
       "    }\n",
       "\n",
       "    .dataframe tbody tr th {\n",
       "        vertical-align: top;\n",
       "    }\n",
       "\n",
       "    .dataframe thead th {\n",
       "        text-align: right;\n",
       "    }\n",
       "</style>\n",
       "<table border=\"1\" class=\"dataframe\">\n",
       "  <thead>\n",
       "    <tr style=\"text-align: right;\">\n",
       "      <th></th>\n",
       "      <th>QUERY</th>\n",
       "      <th>PREDICT</th>\n",
       "    </tr>\n",
       "    <tr>\n",
       "      <th>Id</th>\n",
       "      <th></th>\n",
       "      <th></th>\n",
       "    </tr>\n",
       "  </thead>\n",
       "  <tbody>\n",
       "    <tr>\n",
       "      <th>97013</th>\n",
       "      <td>how do you find the interquartile range in a b...</td>\n",
       "      <td>ANALYZING</td>\n",
       "    </tr>\n",
       "    <tr>\n",
       "      <th>95386</th>\n",
       "      <td>why does sal multiply the infinite series by r...</td>\n",
       "      <td>ANALYZING</td>\n",
       "    </tr>\n",
       "    <tr>\n",
       "      <th>127950</th>\n",
       "      <td>where does the `` 1/2 '' come from ?</td>\n",
       "      <td>ANALYZING</td>\n",
       "    </tr>\n",
       "    <tr>\n",
       "      <th>39586</th>\n",
       "      <td>does the liver actually produce protein or pro...</td>\n",
       "      <td>ANALYZING</td>\n",
       "    </tr>\n",
       "    <tr>\n",
       "      <th>20149</th>\n",
       "      <td>why does n't it just directly move through the...</td>\n",
       "      <td>ANALYZING</td>\n",
       "    </tr>\n",
       "  </tbody>\n",
       "</table>\n",
       "</div>"
      ],
      "text/plain": [
       "                                                    QUERY    PREDICT\n",
       "Id                                                                  \n",
       "97013   how do you find the interquartile range in a b...  ANALYZING\n",
       "95386   why does sal multiply the infinite series by r...  ANALYZING\n",
       "127950               where does the `` 1/2 '' come from ?  ANALYZING\n",
       "39586   does the liver actually produce protein or pro...  ANALYZING\n",
       "20149   why does n't it just directly move through the...  ANALYZING"
      ]
     },
     "execution_count": 12,
     "metadata": {},
     "output_type": "execute_result"
    }
   ],
   "source": [
    "train.head()"
   ]
  },
  {
   "cell_type": "code",
   "execution_count": 13,
   "metadata": {},
   "outputs": [],
   "source": [
    "tmp =  train[\"PREDICT\"].reset_index(   # need to keep the index as a column\n",
    "        ).groupby([\"PREDICT\"]                  # split by \"group\"\n",
    "        ).apply(lambda x: x.sample(frac=0.8) # in each group, do the random split\n",
    "        ).reset_index(drop=True              # index now is group id - reset it\n",
    "        ).set_index(\"Id\")\n",
    "valid = train.drop(tmp.index)\n",
    "train = train.loc[tmp.index]\n",
    "del tmp"
   ]
  },
  {
   "cell_type": "code",
   "execution_count": 14,
   "metadata": {},
   "outputs": [
    {
     "data": {
      "text/plain": [
       "<matplotlib.axes._subplots.AxesSubplot at 0x7fa26d606d68>"
      ]
     },
     "execution_count": 14,
     "metadata": {},
     "output_type": "execute_result"
    },
    {
     "data": {
      "image/png": "[encoded data removed]",
      "text/plain": [
       "<Figure size 432x288 with 1 Axes>"
      ]
     },
     "metadata": {},
     "output_type": "display_data"
    }
   ],
   "source": [
    "pd.Series([train.shape[0], test.shape[0], valid.shape[0]], index=[\"train\", \"test\", \"valid\"]).plot.pie(autopct='%1.0f%%', pctdistance=1.1, labeldistance=1.2)"
   ]
  },
  {
   "cell_type": "code",
   "execution_count": 15,
   "metadata": {},
   "outputs": [],
   "source": [
    "import matplotlib.pyplot as plt\n",
    "import seaborn as sns\n",
    "import pandas as pd\n",
    "\n",
    "from sklearn.metrics import accuracy_score, classification_report, confusion_matrix\n",
    "\n",
    "import torch\n",
    "from torchtext import data\n",
    "from torchtext.data import Field, TabularDataset, BucketIterator, Iterator\n",
    "\n",
    "from transformers import RobertaTokenizer, RobertaModel, AdamW, get_linear_schedule_with_warmup\n",
    "\n",
    "import warnings\n",
    "warnings.filterwarnings('ignore')\n",
    "\n",
    "import logging\n",
    "logging.getLogger(\"transformers.tokenization_utils_base\").setLevel(logging.ERROR)"
   ]
  },
  {
   "cell_type": "code",
   "execution_count": 16,
   "metadata": {},
   "outputs": [
    {
     "name": "stdout",
     "output_type": "stream",
     "text": [
      "cuda:0\n"
     ]
    }
   ],
   "source": [
    "# Set random seed and set device to GPU.\n",
    "torch.manual_seed(17)\n",
    "\n",
    "if torch.cuda.is_available():\n",
    "    device = torch.device('cuda:0')\n",
    "    torch.backends.cudnn.deterministic = True\n",
    "    torch.backends.cudnn.benchmark = False\n",
    "else:\n",
    "    device = torch.device('cpu')\n",
    "print(device)"
   ]
  },
  {
   "cell_type": "code",
   "execution_count": 17,
   "metadata": {},
   "outputs": [],
   "source": [
    "# Initialize tokenizer.\n",
    "tokenizer = RobertaTokenizer.from_pretrained(\"roberta-base\")"
   ]
  },
  {
   "cell_type": "code",
   "execution_count": 18,
   "metadata": {},
   "outputs": [
    {
     "data": {
      "text/plain": [
       "Index(['QUERY', 'PREDICT'], dtype='object')"
      ]
     },
     "execution_count": 18,
     "metadata": {},
     "output_type": "execute_result"
    }
   ],
   "source": [
    "train.columns"
   ]
  },
  {
   "cell_type": "code",
   "execution_count": 19,
   "metadata": {},
   "outputs": [],
   "source": [
    "# Set tokenizer hyperparameters.\n",
    "MAX_SEQ_LEN = 256\n",
    "BATCH_SIZE = 16\n",
    "PAD_INDEX = tokenizer.convert_tokens_to_ids(tokenizer.pad_token)\n",
    "UNK_INDEX = tokenizer.convert_tokens_to_ids(tokenizer.unk_token)\n",
    "\n",
    "\n",
    "# Define columns to read.\n",
    "label_field = Field(sequential=False, use_vocab=False, batch_first=True)\n",
    "text_field = Field(use_vocab=False, \n",
    "                   tokenize=tokenizer.encode, \n",
    "                   include_lengths=False, \n",
    "                   batch_first=True,\n",
    "                   fix_length=MAX_SEQ_LEN, \n",
    "                   pad_token=PAD_INDEX, \n",
    "                   unk_token=UNK_INDEX)"
   ]
  },
  {
   "cell_type": "code",
   "execution_count": 20,
   "metadata": {},
   "outputs": [],
   "source": [
    "fields = [('QUERY', text_field), ('PREDICT', label_field)]"
   ]
  },
  {
   "cell_type": "code",
   "execution_count": 21,
   "metadata": {},
   "outputs": [
    {
     "data": {
      "text/plain": [
       "{'REMEMBERING': 0,\n",
       " 'UNDERSTANDING': 1,\n",
       " 'APPLYING': 2,\n",
       " 'ANALYZING': 3,\n",
       " 'EVALUATING': 4,\n",
       " 'CREATING': 5}"
      ]
     },
     "execution_count": 21,
     "metadata": {},
     "output_type": "execute_result"
    }
   ],
   "source": [
    "class_replace = {j:i for i,j in enumerate(categories)}\n",
    "class_replace"
   ]
  },
  {
   "cell_type": "code",
   "execution_count": 22,
   "metadata": {},
   "outputs": [
    {
     "data": {
      "text/html": [
       "<div>\n",
       "<style scoped>\n",
       "    .dataframe tbody tr th:only-of-type {\n",
       "        vertical-align: middle;\n",
       "    }\n",
       "\n",
       "    .dataframe tbody tr th {\n",
       "        vertical-align: top;\n",
       "    }\n",
       "\n",
       "    .dataframe thead th {\n",
       "        text-align: right;\n",
       "    }\n",
       "</style>\n",
       "<table border=\"1\" class=\"dataframe\">\n",
       "  <thead>\n",
       "    <tr style=\"text-align: right;\">\n",
       "      <th></th>\n",
       "      <th>QUERY</th>\n",
       "      <th>PREDICT</th>\n",
       "    </tr>\n",
       "    <tr>\n",
       "      <th>Id</th>\n",
       "      <th></th>\n",
       "      <th></th>\n",
       "    </tr>\n",
       "  </thead>\n",
       "  <tbody>\n",
       "    <tr>\n",
       "      <th>175901</th>\n",
       "      <td>so how does a 2.25 inch limestone sculpture ge...</td>\n",
       "      <td>3</td>\n",
       "    </tr>\n",
       "    <tr>\n",
       "      <th>74308</th>\n",
       "      <td>what is the difference between voltage , poten...</td>\n",
       "      <td>3</td>\n",
       "    </tr>\n",
       "    <tr>\n",
       "      <th>54140</th>\n",
       "      <td>why keep the 1/2 and ad ?</td>\n",
       "      <td>3</td>\n",
       "    </tr>\n",
       "    <tr>\n",
       "      <th>91615</th>\n",
       "      <td>what are some examples of size-exchange , chro...</td>\n",
       "      <td>3</td>\n",
       "    </tr>\n",
       "    <tr>\n",
       "      <th>105616</th>\n",
       "      <td>how do make a negative number into a percent ?</td>\n",
       "      <td>3</td>\n",
       "    </tr>\n",
       "  </tbody>\n",
       "</table>\n",
       "</div>"
      ],
      "text/plain": [
       "                                                    QUERY  PREDICT\n",
       "Id                                                                \n",
       "175901  so how does a 2.25 inch limestone sculpture ge...        3\n",
       "74308   what is the difference between voltage , poten...        3\n",
       "54140                           why keep the 1/2 and ad ?        3\n",
       "91615   what are some examples of size-exchange , chro...        3\n",
       "105616     how do make a negative number into a percent ?        3"
      ]
     },
     "execution_count": 22,
     "metadata": {},
     "output_type": "execute_result"
    }
   ],
   "source": [
    "train.PREDICT.replace(class_replace, inplace=True)\n",
    "test.PREDICT.replace(class_replace, inplace=True)\n",
    "valid.PREDICT.replace(class_replace, inplace=True)\n",
    "\n",
    "train.head()"
   ]
  },
  {
   "cell_type": "code",
   "execution_count": 23,
   "metadata": {},
   "outputs": [],
   "source": [
    "from torchtext import data\n",
    "\n",
    "class DataFrameDataset(data.Dataset):\n",
    "    def __init__(self, df, text_field, label_field, is_test=False, **kwargs):\n",
    "        fields = [('QUERY', text_field), ('PREDICT', label_field)]\n",
    "        examples = []\n",
    "        for i, row in df.iterrows():\n",
    "            label = row.PREDICT if not is_test else None\n",
    "            text = row.QUERY\n",
    "            examples.append(data.Example.fromlist([text, label], fields))\n",
    "\n",
    "        super().__init__(examples, fields, **kwargs)\n",
    "\n",
    "    @staticmethod\n",
    "    def sort_key(ex):\n",
    "        return len(ex.QUERY)\n",
    "\n",
    "    @classmethod\n",
    "    def splits(cls, text_field, label_field, train_df, val_df=None, test_df=None, **kwargs):\n",
    "        train_data, val_data, test_data = (None, None, None)\n",
    "\n",
    "        if train_df is not None:\n",
    "            train_data = cls(train_df.copy(), text_field, label_field, **kwargs)\n",
    "        if val_df is not None:\n",
    "            val_data = cls(val_df.copy(), text_field, label_field, **kwargs)\n",
    "        if test_df is not None:\n",
    "            test_data = cls(test_df.copy(), text_field, label_field, True, **kwargs)\n",
    "\n",
    "        return tuple(d for d in (train_data, val_data, test_data) if d is not None)"
   ]
  },
  {
   "cell_type": "code",
   "execution_count": 24,
   "metadata": {},
   "outputs": [],
   "source": [
    "train_ds, val_ds, test_ds = DataFrameDataset.splits(\n",
    "  text_field=text_field, label_field=label_field, train_df=train, val_df=valid, test_df=test)"
   ]
  },
  {
   "cell_type": "code",
   "execution_count": 25,
   "metadata": {},
   "outputs": [],
   "source": [
    "# Test iterator, no shuffling or sorting required.\n",
    "train_iter = BucketIterator(train_ds, batch_size=BATCH_SIZE, device=device, train=False, shuffle=False, sort=True)\n",
    "valid_iter = BucketIterator(val_ds, batch_size=BATCH_SIZE, device=device, train=False, shuffle=True, sort=True)\n",
    "test_iter = Iterator(test_ds, batch_size=BATCH_SIZE, device=device, train=False, shuffle=False, sort=False)"
   ]
  },
  {
   "cell_type": "code",
   "execution_count": 26,
   "metadata": {},
   "outputs": [
    {
     "data": {
      "text/plain": [
       "675"
      ]
     },
     "execution_count": 26,
     "metadata": {},
     "output_type": "execute_result"
    }
   ],
   "source": [
    "len(train_iter)"
   ]
  },
  {
   "cell_type": "code",
   "execution_count": 27,
   "metadata": {},
   "outputs": [],
   "source": [
    "# Functions for saving and loading model parameters and metrics.\n",
    "def save_checkpoint(path, model, valid_loss):\n",
    "    torch.save({'model_state_dict': model.state_dict(),\n",
    "                  'valid_loss': valid_loss}, path)\n",
    "\n",
    "    \n",
    "def load_checkpoint(path, model):    \n",
    "    state_dict = torch.load(path, map_location=device)\n",
    "    model.load_state_dict(state_dict['model_state_dict'])\n",
    "    \n",
    "    return state_dict['valid_loss']\n",
    "\n",
    "\n",
    "def save_metrics(path, train_loss_list, valid_loss_list, global_steps_list):   \n",
    "    state_dict = {'train_loss_list': train_loss_list,\n",
    "                  'valid_loss_list': valid_loss_list,\n",
    "                  'global_steps_list': global_steps_list}\n",
    "    \n",
    "    torch.save(state_dict, path)\n",
    "\n",
    "def load_metrics(path):    \n",
    "    state_dict = torch.load(path, map_location=device)\n",
    "    return state_dict['train_loss_list'], state_dict['valid_loss_list'], state_dict['global_steps_list']"
   ]
  },
  {
   "cell_type": "code",
   "execution_count": 28,
   "metadata": {},
   "outputs": [
    {
     "data": {
      "text/plain": [
       "6"
      ]
     },
     "execution_count": 28,
     "metadata": {},
     "output_type": "execute_result"
    }
   ],
   "source": [
    "len(categories)"
   ]
  },
  {
   "cell_type": "code",
   "execution_count": 29,
   "metadata": {},
   "outputs": [],
   "source": [
    "# Model with extra layers on top of RoBERTa\n",
    "class ROBERTAClassifier(torch.nn.Module):\n",
    "    def __init__(self, dropout_rate=0.3, dropout_rate_out=0.2):\n",
    "        super(ROBERTAClassifier, self).__init__()\n",
    "        \n",
    "        self.roberta = RobertaModel.from_pretrained('roberta-base')\n",
    "        self.d1 = torch.nn.Dropout(dropout_rate)\n",
    "        self.l1 = torch.nn.Linear(768, 64)\n",
    "        self.bn1 = torch.nn.LayerNorm(64)\n",
    "        self.d2 = torch.nn.Dropout(dropout_rate_out)\n",
    "        self.l2 = torch.nn.Linear(64, len(categories))\n",
    "        \n",
    "    def forward(self, input_ids, attention_mask):\n",
    "        _, x = self.roberta(input_ids=input_ids, attention_mask=attention_mask)\n",
    "        x = self.d1(x)\n",
    "        x = self.l1(x)\n",
    "        x = self.bn1(x)\n",
    "        x = torch.nn.ReLU()(x)\n",
    "        x = self.d2(x)\n",
    "        x = self.l2(x)\n",
    "        return x"
   ]
  },
  {
   "cell_type": "code",
   "execution_count": 30,
   "metadata": {},
   "outputs": [],
   "source": [
    "def pretrain(model, \n",
    "             optimizer, \n",
    "             train_iter, \n",
    "             valid_iter, \n",
    "             scheduler = None,\n",
    "             valid_period = len(train_iter),\n",
    "             num_epochs = 5):\n",
    "    \n",
    "    # Pretrain linear layers, do not train bert\n",
    "    for param in model.roberta.parameters():\n",
    "        param.requires_grad = False\n",
    "    \n",
    "    model.train()\n",
    "    \n",
    "    # Initialize losses and loss histories\n",
    "    train_loss = 0.0\n",
    "    valid_loss = 0.0   \n",
    "    global_step = 0  \n",
    "    \n",
    "    # Train loop\n",
    "    for epoch in range(num_epochs):\n",
    "        for (source, target), _ in train_iter:\n",
    "            mask = (source != PAD_INDEX).type(torch.uint8)\n",
    "            \n",
    "            y_pred = model(input_ids=source,  \n",
    "                           attention_mask=mask)\n",
    "            \n",
    "            loss = torch.nn.CrossEntropyLoss()(y_pred, target)\n",
    "   \n",
    "            loss.backward()\n",
    "            \n",
    "            # Optimizer and scheduler step\n",
    "            optimizer.step()    \n",
    "            scheduler.step()\n",
    "                \n",
    "            optimizer.zero_grad()\n",
    "            \n",
    "            # Update train loss and global step\n",
    "            train_loss += loss.item()\n",
    "            global_step += 1\n",
    "\n",
    "            # Validation loop. Save progress and evaluate model performance.\n",
    "            if global_step % valid_period == 0:\n",
    "                model.eval()\n",
    "                \n",
    "                with torch.no_grad():                    \n",
    "                    for (source, target), _ in valid_iter:\n",
    "                        mask = (source != PAD_INDEX).type(torch.uint8)\n",
    "                        \n",
    "                        y_pred = model(input_ids=source, \n",
    "                                       attention_mask=mask)\n",
    "                        \n",
    "                        loss = torch.nn.CrossEntropyLoss()(y_pred, target)\n",
    "                        \n",
    "                        valid_loss += loss.item()\n",
    "\n",
    "                # Store train and validation loss history\n",
    "                train_loss = train_loss / valid_period\n",
    "                valid_loss = valid_loss / len(valid_iter)\n",
    "                \n",
    "                model.train()\n",
    "\n",
    "                # print summary\n",
    "                print('Epoch [{}/{}], global step [{}/{}], PT Loss: {:.4f}, Val Loss: {:.4f}'\n",
    "                      .format(epoch+1, num_epochs, global_step, num_epochs*len(train_iter),\n",
    "                              train_loss, valid_loss))\n",
    "                \n",
    "                train_loss = 0.0                \n",
    "                valid_loss = 0.0\n",
    "    \n",
    "    # Set bert parameters back to trainable\n",
    "    for param in model.roberta.parameters():\n",
    "        param.requires_grad = True\n",
    "        \n",
    "    print('Pre-training done!')"
   ]
  },
  {
   "cell_type": "code",
   "execution_count": 31,
   "metadata": {},
   "outputs": [],
   "source": [
    "# Training Function\n",
    "def train(model,\n",
    "          optimizer,\n",
    "          train_iter,\n",
    "          valid_iter,\n",
    "          scheduler = None,\n",
    "          num_epochs = 5,\n",
    "          valid_period = len(train_iter),\n",
    "          output_path = output_path):\n",
    "    \n",
    "    # Initialize losses and loss histories\n",
    "    train_loss = 0.0\n",
    "    valid_loss = 0.0\n",
    "    train_loss_list = []\n",
    "    valid_loss_list = []\n",
    "    best_valid_loss = float('Inf')\n",
    "    \n",
    "    global_step = 0\n",
    "    global_steps_list = []\n",
    "    \n",
    "    model.train()\n",
    "    \n",
    "    # Train loop\n",
    "    for epoch in range(num_epochs):\n",
    "        for (source, target), _ in train_iter:\n",
    "            mask = (source != PAD_INDEX).type(torch.uint8)\n",
    "\n",
    "            y_pred = model(input_ids=source,  \n",
    "                           attention_mask=mask)\n",
    "            #output = model(input_ids=source,\n",
    "            #              labels=target,\n",
    "            #              attention_mask=mask)\n",
    "            \n",
    "            loss = torch.nn.CrossEntropyLoss()(y_pred, target)\n",
    "            #loss = output[0]\n",
    "            \n",
    "            loss.backward()\n",
    "            \n",
    "            #torch.nn.utils.clip_grad_norm_(model.parameters(), 0.1)\n",
    "            \n",
    "            # Optimizer and scheduler step\n",
    "            optimizer.step()    \n",
    "            scheduler.step()\n",
    "                \n",
    "            optimizer.zero_grad()\n",
    "            \n",
    "            # Update train loss and global step\n",
    "            train_loss += loss.item()\n",
    "            global_step += 1\n",
    "\n",
    "            # Validation loop. Save progress and evaluate model performance.\n",
    "            if global_step % valid_period == 0:\n",
    "                model.eval()\n",
    "                \n",
    "                with torch.no_grad():                    \n",
    "                    for (source, target), _ in valid_iter:\n",
    "                        mask = (source != PAD_INDEX).type(torch.uint8)\n",
    "\n",
    "                        y_pred = model(input_ids=source, \n",
    "                                       attention_mask=mask)\n",
    "                        #output = model(input_ids=source,\n",
    "                        #               labels=target,\n",
    "                        #               attention_mask=mask)\n",
    "                        \n",
    "                        loss = torch.nn.CrossEntropyLoss()(y_pred, target)\n",
    "                        #loss = output[0]\n",
    "                        \n",
    "                        valid_loss += loss.item()\n",
    "\n",
    "                # Store train and validation loss history\n",
    "                train_loss = train_loss / valid_period\n",
    "                valid_loss = valid_loss / len(valid_iter)\n",
    "                train_loss_list.append(train_loss)\n",
    "                valid_loss_list.append(valid_loss)\n",
    "                global_steps_list.append(global_step)\n",
    "\n",
    "                # print summary\n",
    "                print('Epoch [{}/{}], global step [{}/{}], Train Loss: {:.4f}, Valid Loss: {:.4f}'\n",
    "                      .format(epoch+1, num_epochs, global_step, num_epochs*len(train_iter),\n",
    "                              train_loss, valid_loss))\n",
    "                \n",
    "                # checkpoint\n",
    "                if best_valid_loss > valid_loss:\n",
    "                    best_valid_loss = valid_loss\n",
    "                    save_checkpoint(output_path + '/model.pkl', model, best_valid_loss)\n",
    "                    save_metrics(output_path + '/metric.pkl', train_loss_list, valid_loss_list, global_steps_list)\n",
    "                        \n",
    "                train_loss = 0.0                \n",
    "                valid_loss = 0.0\n",
    "                model.train()\n",
    "    \n",
    "    save_metrics(output_path + '/metric.pkl', train_loss_list, valid_loss_list, global_steps_list)\n",
    "    print('Training done!')"
   ]
  },
  {
   "cell_type": "code",
   "execution_count": 32,
   "metadata": {},
   "outputs": [],
   "source": [
    "# Main training loop\n",
    "NUM_EPOCHS = 5\n",
    "steps_per_epoch = len(train_iter)\n",
    "\n",
    "model = ROBERTAClassifier()\n",
    "model = model.to(device)\n",
    "\n",
    "\n",
    "optimizer = AdamW(model.parameters(), lr=1e-3)\n",
    "scheduler = get_linear_schedule_with_warmup(optimizer, \n",
    "                                            num_warmup_steps=steps_per_epoch*1, \n",
    "                                            num_training_steps=steps_per_epoch*NUM_EPOCHS)"
   ]
  },
  {
   "cell_type": "code",
   "execution_count": 33,
   "metadata": {},
   "outputs": [
    {
     "name": "stdout",
     "output_type": "stream",
     "text": [
      "======================= Start pretraining ==============================\n",
      "Epoch [1/5], global step [675/3375], PT Loss: 1.8615, Val Loss: 1.8723\n",
      "Epoch [2/5], global step [1350/3375], PT Loss: 1.8331, Val Loss: 1.8154\n",
      "Epoch [3/5], global step [2025/3375], PT Loss: 1.8119, Val Loss: 1.8126\n",
      "Epoch [4/5], global step [2700/3375], PT Loss: 1.8060, Val Loss: 1.7957\n",
      "Epoch [5/5], global step [3375/3375], PT Loss: 1.8007, Val Loss: 1.7915\n",
      "Pre-training done!\n"
     ]
    }
   ],
   "source": [
    "print(\"======================= Start pretraining ==============================\")\n",
    "\n",
    "pretrain(model=model,\n",
    "         train_iter=train_iter,\n",
    "         valid_iter=valid_iter,\n",
    "         optimizer=optimizer,\n",
    "         scheduler=scheduler,\n",
    "         num_epochs=NUM_EPOCHS)\n"
   ]
  },
  {
   "cell_type": "code",
   "execution_count": 34,
   "metadata": {},
   "outputs": [],
   "source": [
    "with open(\"./output/model_pretrained.pkl\", \"wb\") as file:\n",
    "    pickle.dump(model, file)"
   ]
  },
  {
   "cell_type": "code",
   "execution_count": 35,
   "metadata": {},
   "outputs": [
    {
     "name": "stdout",
     "output_type": "stream",
     "text": [
      "======================= Start training =================================\n",
      "Epoch [1/8], global step [675/5400], Train Loss: 1.7918, Valid Loss: 1.7909\n",
      "Epoch [2/8], global step [1350/5400], Train Loss: 1.7832, Valid Loss: 1.7087\n",
      "Epoch [3/8], global step [2025/5400], Train Loss: 1.7203, Valid Loss: 1.6131\n",
      "Epoch [4/8], global step [2700/5400], Train Loss: 1.6442, Valid Loss: 1.5585\n",
      "Epoch [5/8], global step [3375/5400], Train Loss: 1.5789, Valid Loss: 1.5017\n",
      "Epoch [6/8], global step [4050/5400], Train Loss: 1.5240, Valid Loss: 1.4672\n",
      "Epoch [7/8], global step [4725/5400], Train Loss: 1.4923, Valid Loss: 1.4390\n",
      "Epoch [8/8], global step [5400/5400], Train Loss: 1.4755, Valid Loss: 1.4163\n",
      "Training done!\n"
     ]
    }
   ],
   "source": [
    "NUM_EPOCHS = 8\n",
    "print(\"======================= Start training =================================\")\n",
    "optimizer = AdamW(model.parameters(), lr=2e-6)\n",
    "scheduler = get_linear_schedule_with_warmup(optimizer, \n",
    "                                            num_warmup_steps=steps_per_epoch*2, \n",
    "                                            num_training_steps=steps_per_epoch*NUM_EPOCHS)\n",
    "\n",
    "train(model=model, \n",
    "      train_iter=train_iter, \n",
    "      valid_iter=valid_iter, \n",
    "      optimizer=optimizer, \n",
    "      scheduler=scheduler, \n",
    "      num_epochs=NUM_EPOCHS)"
   ]
  },
  {
   "cell_type": "code",
   "execution_count": 36,
   "metadata": {},
   "outputs": [
    {
     "data": {
      "image/png": "[encoded data removed]",
      "text/plain": [
       "<Figure size 720x576 with 1 Axes>"
      ]
     },
     "metadata": {
      "needs_background": "light"
     },
     "output_type": "display_data"
    }
   ],
   "source": [
    "plt.figure(figsize=(10, 8))\n",
    "train_loss_list, valid_loss_list, global_steps_list = load_metrics(output_path + '/metric.pkl')\n",
    "plt.plot(global_steps_list, train_loss_list, label='Train')\n",
    "plt.plot(global_steps_list, valid_loss_list, label='Valid')\n",
    "plt.xlabel('Global Steps', fontsize=14)\n",
    "plt.ylabel('Loss', fontsize=14)\n",
    "plt.legend(fontsize=14)\n",
    "plt.show()"
   ]
  },
  {
   "cell_type": "code",
   "execution_count": 39,
   "metadata": {},
   "outputs": [],
   "source": [
    "# Evaluation Function\n",
    "\n",
    "def evaluate(model, test_loader):\n",
    "    y_pred = []\n",
    "    y_true = []\n",
    "\n",
    "    model.eval()\n",
    "    with torch.no_grad():\n",
    "        for (source, target), _ in test_loader:\n",
    "                mask = (source != PAD_INDEX).type(torch.uint8)\n",
    "                \n",
    "                output = model(source, attention_mask=mask)\n",
    "\n",
    "                y_pred.extend(torch.argmax(output, axis=-1).tolist())\n",
    "                y_true.extend(target.tolist())\n",
    "    \n",
    "    print('Classification Report:')\n",
    "    print(classification_report(y_true, y_pred, labels=range(len(categories)), target_names=categories, digits=4))\n",
    "    \n",
    "    cm = confusion_matrix(y_true, y_pred, labels=range(len(categories)))\n",
    "    ax = plt.subplot()\n",
    "\n",
    "    sns.heatmap(cm, annot=True, ax = ax, cmap='Blues', fmt=\"d\")\n",
    "\n",
    "    ax.set_title('Confusion Matrix')\n",
    "\n",
    "    ax.set_xlabel('Predicted Labels')\n",
    "    ax.set_ylabel('True Labels')\n",
    "\n",
    "    ax.xaxis.set_ticklabels(categories)\n",
    "    ax.yaxis.set_ticklabels(categories)"
   ]
  },
  {
   "cell_type": "code",
   "execution_count": 40,
   "metadata": {},
   "outputs": [
    {
     "name": "stdout",
     "output_type": "stream",
     "text": [
      "Classification Report:\n",
      "               precision    recall  f1-score   support\n",
      "\n",
      "  REMEMBERING     0.5228    0.7378    0.6120       450\n",
      "UNDERSTANDING     0.7126    0.4133    0.5232       450\n",
      "     APPLYING     0.5060    0.4667    0.4855       450\n",
      "    ANALYZING     0.6396    0.4022    0.4939       450\n",
      "   EVALUATING     0.4571    0.6756    0.5453       450\n",
      "     CREATING     0.4785    0.4689    0.4736       450\n",
      "\n",
      "     accuracy                         0.5274      2700\n",
      "    macro avg     0.5528    0.5274    0.5223      2700\n",
      " weighted avg     0.5528    0.5274    0.5223      2700\n",
      "\n"
     ]
    },
    {
     "data": {
      "image/png": "[encoded data removed]",
      "text/plain": [
       "<Figure size 432x288 with 2 Axes>"
      ]
     },
     "metadata": {
      "needs_background": "light"
     },
     "output_type": "display_data"
    }
   ],
   "source": [
    "model_load = ROBERTAClassifier()\n",
    "model_load = model_load.to(device)\n",
    "\n",
    "load_checkpoint(output_path + '/model.pkl', model_load)\n",
    "\n",
    "evaluate(model_load, valid_iter)"
   ]
  },
  {
   "cell_type": "code",
   "execution_count": 43,
   "metadata": {},
   "outputs": [
    {
     "data": {
      "text/plain": [
       "<torchtext.data.field.Field at 0x7fa26494e080>"
      ]
     },
     "execution_count": 43,
     "metadata": {},
     "output_type": "execute_result"
    }
   ],
   "source": [
    "test_iter.dataset.fields.pop('PREDICT', None)"
   ]
  },
  {
   "cell_type": "code",
   "execution_count": 44,
   "metadata": {},
   "outputs": [
    {
     "name": "stdout",
     "output_type": "stream",
     "text": [
      "\n",
      "[torchtext.data.batch.Batch of size 16]\n",
      "\t[.QUERY]:[torch.cuda.LongTensor of size 16x256 (GPU 0)]\n"
     ]
    }
   ],
   "source": [
    "for a in test_iter:\n",
    "    print(a)\n",
    "    break"
   ]
  },
  {
   "cell_type": "code",
   "execution_count": 45,
   "metadata": {},
   "outputs": [],
   "source": [
    "# Evaluation Function\n",
    "\n",
    "def predict_test(model, test_loader):\n",
    "    y_pred = []\n",
    "\n",
    "    model.eval()\n",
    "    with torch.no_grad():\n",
    "        for (source), _ in test_loader:\n",
    "                mask = (source != PAD_INDEX).type(torch.uint8)\n",
    "                \n",
    "                output = model(source, attention_mask=mask)\n",
    "\n",
    "                y_pred.extend(torch.argmax(output, axis=-1).tolist())\n",
    "    return y_pred"
   ]
  },
  {
   "cell_type": "code",
   "execution_count": 46,
   "metadata": {},
   "outputs": [],
   "source": [
    "preds = predict_test(model_load, test_iter)"
   ]
  },
  {
   "cell_type": "code",
   "execution_count": 48,
   "metadata": {},
   "outputs": [
    {
     "data": {
      "text/plain": [
       "(4500, 4500)"
      ]
     },
     "execution_count": 48,
     "metadata": {},
     "output_type": "execute_result"
    }
   ],
   "source": [
    "len(preds), test.shape[0]"
   ]
  },
  {
   "cell_type": "code",
   "execution_count": 50,
   "metadata": {},
   "outputs": [
    {
     "data": {
      "text/html": [
       "<div>\n",
       "<style scoped>\n",
       "    .dataframe tbody tr th:only-of-type {\n",
       "        vertical-align: middle;\n",
       "    }\n",
       "\n",
       "    .dataframe tbody tr th {\n",
       "        vertical-align: top;\n",
       "    }\n",
       "\n",
       "    .dataframe thead th {\n",
       "        text-align: right;\n",
       "    }\n",
       "</style>\n",
       "<table border=\"1\" class=\"dataframe\">\n",
       "  <thead>\n",
       "    <tr style=\"text-align: right;\">\n",
       "      <th></th>\n",
       "      <th>QUERY</th>\n",
       "      <th>PREDICT</th>\n",
       "      <th>PREDICTED</th>\n",
       "    </tr>\n",
       "    <tr>\n",
       "      <th>Id</th>\n",
       "      <th></th>\n",
       "      <th></th>\n",
       "      <th></th>\n",
       "    </tr>\n",
       "  </thead>\n",
       "  <tbody>\n",
       "    <tr>\n",
       "      <th>34985</th>\n",
       "      <td>is diffusion and osmosis used by the body syst...</td>\n",
       "      <td>3</td>\n",
       "      <td>5</td>\n",
       "    </tr>\n",
       "    <tr>\n",
       "      <th>39856</th>\n",
       "      <td>what is the difference between scalar and vect...</td>\n",
       "      <td>3</td>\n",
       "      <td>3</td>\n",
       "    </tr>\n",
       "    <tr>\n",
       "      <th>151591</th>\n",
       "      <td>can you do a proof on why the inverse function...</td>\n",
       "      <td>3</td>\n",
       "      <td>5</td>\n",
       "    </tr>\n",
       "    <tr>\n",
       "      <th>171241</th>\n",
       "      <td>in the metaphase , how do the centrosomes push...</td>\n",
       "      <td>3</td>\n",
       "      <td>3</td>\n",
       "    </tr>\n",
       "    <tr>\n",
       "      <th>161682</th>\n",
       "      <td>what does k stand for ?</td>\n",
       "      <td>3</td>\n",
       "      <td>3</td>\n",
       "    </tr>\n",
       "  </tbody>\n",
       "</table>\n",
       "</div>"
      ],
      "text/plain": [
       "                                                    QUERY  PREDICT  PREDICTED\n",
       "Id                                                                           \n",
       "34985   is diffusion and osmosis used by the body syst...        3          5\n",
       "39856   what is the difference between scalar and vect...        3          3\n",
       "151591  can you do a proof on why the inverse function...        3          5\n",
       "171241  in the metaphase , how do the centrosomes push...        3          3\n",
       "161682                            what does k stand for ?        3          3"
      ]
     },
     "execution_count": 50,
     "metadata": {},
     "output_type": "execute_result"
    }
   ],
   "source": [
    "test[\"PREDICTED\"] = preds\n",
    "test.head()"
   ]
  },
  {
   "cell_type": "code",
   "execution_count": 52,
   "metadata": {},
   "outputs": [
    {
     "name": "stdout",
     "output_type": "stream",
     "text": [
      "Classification Report:\n",
      "               precision    recall  f1-score   support\n",
      "\n",
      "  REMEMBERING     0.5128    0.7467    0.6080       750\n",
      "UNDERSTANDING     0.6767    0.3880    0.4932       750\n",
      "     APPLYING     0.5153    0.5160    0.5157       750\n",
      "    ANALYZING     0.6299    0.3880    0.4802       750\n",
      "   EVALUATING     0.4584    0.6467    0.5365       750\n",
      "     CREATING     0.4837    0.4560    0.4695       750\n",
      "\n",
      "     accuracy                         0.5236      4500\n",
      "    macro avg     0.5461    0.5236    0.5172      4500\n",
      " weighted avg     0.5461    0.5236    0.5172      4500\n",
      "\n"
     ]
    },
    {
     "data": {
      "image/png": "[encoded data removed]",
      "text/plain": [
       "<Figure size 432x288 with 2 Axes>"
      ]
     },
     "metadata": {
      "needs_background": "light"
     },
     "output_type": "display_data"
    }
   ],
   "source": [
    "print('Classification Report:')\n",
    "print(classification_report(test.PREDICT, test.PREDICTED, labels=range(len(categories)), target_names=categories, digits=4))\n",
    "\n",
    "cm = confusion_matrix(test.PREDICT, test.PREDICTED, labels=range(len(categories)))\n",
    "ax = plt.subplot()\n",
    "\n",
    "sns.heatmap(cm, annot=True, ax = ax, cmap='Blues', fmt=\"d\")\n",
    "\n",
    "ax.set_title('Confusion Matrix')\n",
    "\n",
    "ax.set_xlabel('Predicted Labels')\n",
    "ax.set_ylabel('True Labels')\n",
    "\n",
    "ax.xaxis.set_ticklabels(categories)\n",
    "ax.yaxis.set_ticklabels(categories)\n",
    "plt.show()"
   ]
  },
  {
   "cell_type": "code",
   "execution_count": 53,
   "metadata": {},
   "outputs": [],
   "source": [
    "# Evaluation Function\n",
    "\n",
    "def predict_proba(model, test_loader):\n",
    "    y_pred = []\n",
    "\n",
    "    model.eval()\n",
    "    with torch.no_grad():\n",
    "        for (source), _ in test_loader:\n",
    "                mask = (source != PAD_INDEX).type(torch.uint8)\n",
    "                \n",
    "                output = model(source, attention_mask=mask)\n",
    "\n",
    "                y_pred.extend(output.tolist())\n",
    "    return y_pred"
   ]
  },
  {
   "cell_type": "code",
   "execution_count": 55,
   "metadata": {},
   "outputs": [],
   "source": [
    "probs = predict_proba(model_load, test_iter)"
   ]
  },
  {
   "cell_type": "code",
   "execution_count": 56,
   "metadata": {},
   "outputs": [
    {
     "data": {
      "text/plain": [
       "4500"
      ]
     },
     "execution_count": 56,
     "metadata": {},
     "output_type": "execute_result"
    }
   ],
   "source": [
    "len(probs)"
   ]
  },
  {
   "cell_type": "code",
   "execution_count": 57,
   "metadata": {},
   "outputs": [
    {
     "data": {
      "text/plain": [
       "(4500, 6)"
      ]
     },
     "execution_count": 57,
     "metadata": {},
     "output_type": "execute_result"
    }
   ],
   "source": [
    "probs = np.array(probs)\n",
    "probs.shape"
   ]
  },
  {
   "cell_type": "code",
   "execution_count": 58,
   "metadata": {},
   "outputs": [
    {
     "data": {
      "text/html": [
       "<div>\n",
       "<style scoped>\n",
       "    .dataframe tbody tr th:only-of-type {\n",
       "        vertical-align: middle;\n",
       "    }\n",
       "\n",
       "    .dataframe tbody tr th {\n",
       "        vertical-align: top;\n",
       "    }\n",
       "\n",
       "    .dataframe thead th {\n",
       "        text-align: right;\n",
       "    }\n",
       "</style>\n",
       "<table border=\"1\" class=\"dataframe\">\n",
       "  <thead>\n",
       "    <tr style=\"text-align: right;\">\n",
       "      <th></th>\n",
       "      <th>QUERY</th>\n",
       "      <th>PREDICT</th>\n",
       "      <th>PREDICTED</th>\n",
       "    </tr>\n",
       "    <tr>\n",
       "      <th>Id</th>\n",
       "      <th></th>\n",
       "      <th></th>\n",
       "      <th></th>\n",
       "    </tr>\n",
       "  </thead>\n",
       "  <tbody>\n",
       "    <tr>\n",
       "      <th>34985</th>\n",
       "      <td>is diffusion and osmosis used by the body syst...</td>\n",
       "      <td>3</td>\n",
       "      <td>5</td>\n",
       "    </tr>\n",
       "    <tr>\n",
       "      <th>39856</th>\n",
       "      <td>what is the difference between scalar and vect...</td>\n",
       "      <td>3</td>\n",
       "      <td>3</td>\n",
       "    </tr>\n",
       "    <tr>\n",
       "      <th>151591</th>\n",
       "      <td>can you do a proof on why the inverse function...</td>\n",
       "      <td>3</td>\n",
       "      <td>5</td>\n",
       "    </tr>\n",
       "    <tr>\n",
       "      <th>171241</th>\n",
       "      <td>in the metaphase , how do the centrosomes push...</td>\n",
       "      <td>3</td>\n",
       "      <td>3</td>\n",
       "    </tr>\n",
       "    <tr>\n",
       "      <th>161682</th>\n",
       "      <td>what does k stand for ?</td>\n",
       "      <td>3</td>\n",
       "      <td>3</td>\n",
       "    </tr>\n",
       "  </tbody>\n",
       "</table>\n",
       "</div>"
      ],
      "text/plain": [
       "                                                    QUERY  PREDICT  PREDICTED\n",
       "Id                                                                           \n",
       "34985   is diffusion and osmosis used by the body syst...        3          5\n",
       "39856   what is the difference between scalar and vect...        3          3\n",
       "151591  can you do a proof on why the inverse function...        3          5\n",
       "171241  in the metaphase , how do the centrosomes push...        3          3\n",
       "161682                            what does k stand for ?        3          3"
      ]
     },
     "execution_count": 58,
     "metadata": {},
     "output_type": "execute_result"
    }
   ],
   "source": [
    "test.head()"
   ]
  },
  {
   "cell_type": "code",
   "execution_count": 59,
   "metadata": {},
   "outputs": [
    {
     "data": {
      "text/html": [
       "<div>\n",
       "<style scoped>\n",
       "    .dataframe tbody tr th:only-of-type {\n",
       "        vertical-align: middle;\n",
       "    }\n",
       "\n",
       "    .dataframe tbody tr th {\n",
       "        vertical-align: top;\n",
       "    }\n",
       "\n",
       "    .dataframe thead th {\n",
       "        text-align: right;\n",
       "    }\n",
       "</style>\n",
       "<table border=\"1\" class=\"dataframe\">\n",
       "  <thead>\n",
       "    <tr style=\"text-align: right;\">\n",
       "      <th></th>\n",
       "      <th>QUERY</th>\n",
       "      <th>REMEMBERING</th>\n",
       "      <th>UNDERSTANDING</th>\n",
       "      <th>APPLYING</th>\n",
       "      <th>ANALYZING</th>\n",
       "      <th>EVALUATING</th>\n",
       "      <th>CREATING</th>\n",
       "    </tr>\n",
       "    <tr>\n",
       "      <th>Id</th>\n",
       "      <th></th>\n",
       "      <th></th>\n",
       "      <th></th>\n",
       "      <th></th>\n",
       "      <th></th>\n",
       "      <th></th>\n",
       "      <th></th>\n",
       "    </tr>\n",
       "  </thead>\n",
       "  <tbody>\n",
       "    <tr>\n",
       "      <th>0</th>\n",
       "      <td>\"their own language\" means  _  .</td>\n",
       "      <td>1.0</td>\n",
       "      <td>0.0</td>\n",
       "      <td>0.0</td>\n",
       "      <td>0.0</td>\n",
       "      <td>0.0</td>\n",
       "      <td>0.0</td>\n",
       "    </tr>\n",
       "    <tr>\n",
       "      <th>1</th>\n",
       "      <td>\"you may think the popular singer jay chow is ...</td>\n",
       "      <td>0.0</td>\n",
       "      <td>1.0</td>\n",
       "      <td>0.0</td>\n",
       "      <td>0.0</td>\n",
       "      <td>0.0</td>\n",
       "      <td>0.0</td>\n",
       "    </tr>\n",
       "    <tr>\n",
       "      <th>2</th>\n",
       "      <td>. at midnight, nasreddin saw   _  in his garden.</td>\n",
       "      <td>1.0</td>\n",
       "      <td>0.0</td>\n",
       "      <td>0.0</td>\n",
       "      <td>0.0</td>\n",
       "      <td>0.0</td>\n",
       "      <td>0.0</td>\n",
       "    </tr>\n",
       "    <tr>\n",
       "      <th>3</th>\n",
       "      <td>. david beckham  is   _   years old.</td>\n",
       "      <td>1.0</td>\n",
       "      <td>0.0</td>\n",
       "      <td>0.0</td>\n",
       "      <td>0.0</td>\n",
       "      <td>0.0</td>\n",
       "      <td>0.0</td>\n",
       "    </tr>\n",
       "    <tr>\n",
       "      <th>4</th>\n",
       "      <td>. david beckham's family name is   _  and zhou...</td>\n",
       "      <td>1.0</td>\n",
       "      <td>0.0</td>\n",
       "      <td>0.0</td>\n",
       "      <td>0.0</td>\n",
       "      <td>0.0</td>\n",
       "      <td>0.0</td>\n",
       "    </tr>\n",
       "  </tbody>\n",
       "</table>\n",
       "</div>"
      ],
      "text/plain": [
       "                                                QUERY  REMEMBERING  \\\n",
       "Id                                                                   \n",
       "0                    \"their own language\" means  _  .          1.0   \n",
       "1   \"you may think the popular singer jay chow is ...          0.0   \n",
       "2    . at midnight, nasreddin saw   _  in his garden.          1.0   \n",
       "3                . david beckham  is   _   years old.          1.0   \n",
       "4   . david beckham's family name is   _  and zhou...          1.0   \n",
       "\n",
       "    UNDERSTANDING  APPLYING  ANALYZING  EVALUATING  CREATING  \n",
       "Id                                                            \n",
       "0             0.0       0.0        0.0         0.0       0.0  \n",
       "1             1.0       0.0        0.0         0.0       0.0  \n",
       "2             0.0       0.0        0.0         0.0       0.0  \n",
       "3             0.0       0.0        0.0         0.0       0.0  \n",
       "4             0.0       0.0        0.0         0.0       0.0  "
      ]
     },
     "execution_count": 59,
     "metadata": {},
     "output_type": "execute_result"
    }
   ],
   "source": [
    "df.head()"
   ]
  },
  {
   "cell_type": "code",
   "execution_count": 60,
   "metadata": {},
   "outputs": [
    {
     "data": {
      "text/plain": [
       "(4500, 6)"
      ]
     },
     "execution_count": 60,
     "metadata": {},
     "output_type": "execute_result"
    }
   ],
   "source": [
    "y_test_true = df.loc[test.index][categories].values\n",
    "y_test_true.shape"
   ]
  },
  {
   "cell_type": "code",
   "execution_count": 61,
   "metadata": {},
   "outputs": [],
   "source": [
    "import metrics as m"
   ]
  },
  {
   "cell_type": "code",
   "execution_count": 62,
   "metadata": {},
   "outputs": [
    {
     "data": {
      "text/html": [
       "<div>\n",
       "<style scoped>\n",
       "    .dataframe tbody tr th:only-of-type {\n",
       "        vertical-align: middle;\n",
       "    }\n",
       "\n",
       "    .dataframe tbody tr th {\n",
       "        vertical-align: top;\n",
       "    }\n",
       "\n",
       "    .dataframe thead th {\n",
       "        text-align: right;\n",
       "    }\n",
       "</style>\n",
       "<table border=\"1\" class=\"dataframe\">\n",
       "  <thead>\n",
       "    <tr style=\"text-align: right;\">\n",
       "      <th></th>\n",
       "      <th>TP</th>\n",
       "      <th>TN</th>\n",
       "      <th>FP</th>\n",
       "      <th>FN</th>\n",
       "      <th>Accuracy</th>\n",
       "      <th>Prevalence</th>\n",
       "      <th>Sensitivity</th>\n",
       "      <th>Specificity</th>\n",
       "      <th>PPV</th>\n",
       "      <th>NPV</th>\n",
       "      <th>AUC</th>\n",
       "      <th>F1</th>\n",
       "      <th>Threshold</th>\n",
       "    </tr>\n",
       "    <tr>\n",
       "      <th></th>\n",
       "      <th></th>\n",
       "      <th></th>\n",
       "      <th></th>\n",
       "      <th></th>\n",
       "      <th></th>\n",
       "      <th></th>\n",
       "      <th></th>\n",
       "      <th></th>\n",
       "      <th></th>\n",
       "      <th></th>\n",
       "      <th></th>\n",
       "      <th></th>\n",
       "      <th></th>\n",
       "    </tr>\n",
       "  </thead>\n",
       "  <tbody>\n",
       "    <tr>\n",
       "      <th>REMEMBERING</th>\n",
       "      <td>116</td>\n",
       "      <td>3635</td>\n",
       "      <td>115</td>\n",
       "      <td>634</td>\n",
       "      <td>0.834</td>\n",
       "      <td>0.167</td>\n",
       "      <td>0.155</td>\n",
       "      <td>0.969</td>\n",
       "      <td>0.502</td>\n",
       "      <td>0.851</td>\n",
       "      <td>0.858</td>\n",
       "      <td>0.236</td>\n",
       "      <td>0.5</td>\n",
       "    </tr>\n",
       "    <tr>\n",
       "      <th>UNDERSTANDING</th>\n",
       "      <td>215</td>\n",
       "      <td>3653</td>\n",
       "      <td>97</td>\n",
       "      <td>535</td>\n",
       "      <td>0.86</td>\n",
       "      <td>0.167</td>\n",
       "      <td>0.287</td>\n",
       "      <td>0.974</td>\n",
       "      <td>0.689</td>\n",
       "      <td>0.872</td>\n",
       "      <td>0.761</td>\n",
       "      <td>0.405</td>\n",
       "      <td>0.5</td>\n",
       "    </tr>\n",
       "    <tr>\n",
       "      <th>APPLYING</th>\n",
       "      <td>515</td>\n",
       "      <td>2818</td>\n",
       "      <td>932</td>\n",
       "      <td>235</td>\n",
       "      <td>0.741</td>\n",
       "      <td>0.167</td>\n",
       "      <td>0.687</td>\n",
       "      <td>0.751</td>\n",
       "      <td>0.356</td>\n",
       "      <td>0.923</td>\n",
       "      <td>0.803</td>\n",
       "      <td>0.469</td>\n",
       "      <td>0.5</td>\n",
       "    </tr>\n",
       "    <tr>\n",
       "      <th>ANALYZING</th>\n",
       "      <td>351</td>\n",
       "      <td>3508</td>\n",
       "      <td>242</td>\n",
       "      <td>399</td>\n",
       "      <td>0.858</td>\n",
       "      <td>0.167</td>\n",
       "      <td>0.468</td>\n",
       "      <td>0.935</td>\n",
       "      <td>0.592</td>\n",
       "      <td>0.898</td>\n",
       "      <td>0.81</td>\n",
       "      <td>0.523</td>\n",
       "      <td>0.5</td>\n",
       "    </tr>\n",
       "    <tr>\n",
       "      <th>EVALUATING</th>\n",
       "      <td>534</td>\n",
       "      <td>2985</td>\n",
       "      <td>765</td>\n",
       "      <td>216</td>\n",
       "      <td>0.782</td>\n",
       "      <td>0.167</td>\n",
       "      <td>0.712</td>\n",
       "      <td>0.796</td>\n",
       "      <td>0.411</td>\n",
       "      <td>0.933</td>\n",
       "      <td>0.827</td>\n",
       "      <td>0.521</td>\n",
       "      <td>0.5</td>\n",
       "    </tr>\n",
       "    <tr>\n",
       "      <th>CREATING</th>\n",
       "      <td>350</td>\n",
       "      <td>3278</td>\n",
       "      <td>472</td>\n",
       "      <td>400</td>\n",
       "      <td>0.806</td>\n",
       "      <td>0.167</td>\n",
       "      <td>0.467</td>\n",
       "      <td>0.874</td>\n",
       "      <td>0.426</td>\n",
       "      <td>0.891</td>\n",
       "      <td>0.762</td>\n",
       "      <td>0.445</td>\n",
       "      <td>0.5</td>\n",
       "    </tr>\n",
       "  </tbody>\n",
       "</table>\n",
       "</div>"
      ],
      "text/plain": [
       "                TP    TN   FP   FN Accuracy Prevalence Sensitivity  \\\n",
       "                                                                     \n",
       "REMEMBERING    116  3635  115  634    0.834      0.167       0.155   \n",
       "UNDERSTANDING  215  3653   97  535     0.86      0.167       0.287   \n",
       "APPLYING       515  2818  932  235    0.741      0.167       0.687   \n",
       "ANALYZING      351  3508  242  399    0.858      0.167       0.468   \n",
       "EVALUATING     534  2985  765  216    0.782      0.167       0.712   \n",
       "CREATING       350  3278  472  400    0.806      0.167       0.467   \n",
       "\n",
       "              Specificity    PPV    NPV    AUC     F1 Threshold  \n",
       "                                                                 \n",
       "REMEMBERING         0.969  0.502  0.851  0.858  0.236       0.5  \n",
       "UNDERSTANDING       0.974  0.689  0.872  0.761  0.405       0.5  \n",
       "APPLYING            0.751  0.356  0.923  0.803  0.469       0.5  \n",
       "ANALYZING           0.935  0.592  0.898   0.81  0.523       0.5  \n",
       "EVALUATING          0.796  0.411  0.933  0.827  0.521       0.5  \n",
       "CREATING            0.874  0.426  0.891  0.762  0.445       0.5  "
      ]
     },
     "execution_count": 62,
     "metadata": {},
     "output_type": "execute_result"
    }
   ],
   "source": [
    "m.get_performance_metrics(y_test_true, probs, categories)"
   ]
  },
  {
   "cell_type": "code",
   "execution_count": 63,
   "metadata": {},
   "outputs": [
    {
     "data": {
      "image/png": "[encoded data removed]",
      "text/plain": [
       "<Figure size 504x504 with 1 Axes>"
      ]
     },
     "metadata": {
      "needs_background": "light"
     },
     "output_type": "display_data"
    }
   ],
   "source": [
    "m.get_curve(y_test_true, probs, categories, curve='prc')"
   ]
  },
  {
   "cell_type": "code",
   "execution_count": null,
   "metadata": {},
   "outputs": [],
   "source": []
  }
 ],
 "metadata": {
  "kernelspec": {
   "display_name": "Python 3",
   "language": "python",
   "name": "python3"
  },
  "language_info": {
   "codemirror_mode": {
    "name": "ipython",
    "version": 3
   },
   "file_extension": ".py",
   "mimetype": "text/x-python",
   "name": "python",
   "nbconvert_exporter": "python",
   "pygments_lexer": "ipython3",
   "version": "3.6.10"
  }
 },
 "nbformat": 4,
 "nbformat_minor": 4
}
