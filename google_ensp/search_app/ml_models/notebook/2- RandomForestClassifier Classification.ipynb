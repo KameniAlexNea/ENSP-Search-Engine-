{
 "cells": [
  {
   "cell_type": "code",
   "execution_count": 1,
   "metadata": {},
   "outputs": [],
   "source": [
    "import numpy as np\n",
    "import pandas as pd\n",
    "import spacy\n",
    "import pickle\n",
    "from matplotlib import pyplot as plt\n",
    "from scipy import spatial\n",
    "\n",
    "from nltk.tokenize import word_tokenize\n",
    "from nltk.tag import pos_tag\n",
    "from nltk.corpus import wordnet as wn\n",
    "from nltk.stem import PorterStemmer\n",
    "\n",
    "from sklearn.feature_extraction.text import CountVectorizer, TfidfVectorizer\n",
    "from sentence_transformers import SentenceTransformer\n",
    "\n",
    "from sklearn.multioutput import ClassifierChain\n",
    "from sklearn.model_selection import train_test_split\n",
    "from sklearn.multiclass import OneVsRestClassifier\n",
    "from sklearn.metrics import jaccard_score\n",
    "from sklearn.linear_model import LogisticRegression\n",
    "from sklearn.svm import SVC"
   ]
  },
  {
   "cell_type": "code",
   "execution_count": 2,
   "metadata": {},
   "outputs": [
    {
     "data": {
      "text/html": [
       "<div>\n",
       "<style scoped>\n",
       "    .dataframe tbody tr th:only-of-type {\n",
       "        vertical-align: middle;\n",
       "    }\n",
       "\n",
       "    .dataframe tbody tr th {\n",
       "        vertical-align: top;\n",
       "    }\n",
       "\n",
       "    .dataframe thead th {\n",
       "        text-align: right;\n",
       "    }\n",
       "</style>\n",
       "<table border=\"1\" class=\"dataframe\">\n",
       "  <thead>\n",
       "    <tr style=\"text-align: right;\">\n",
       "      <th></th>\n",
       "      <th>QUERY</th>\n",
       "      <th>REMEMBERING</th>\n",
       "      <th>UNDERSTANDING</th>\n",
       "      <th>APPLYING</th>\n",
       "      <th>ANALYZING</th>\n",
       "      <th>EVALUATING</th>\n",
       "      <th>CREATING</th>\n",
       "    </tr>\n",
       "  </thead>\n",
       "  <tbody>\n",
       "    <tr>\n",
       "      <th>0</th>\n",
       "      <td>\"their own language\" means  _  .</td>\n",
       "      <td>1.0</td>\n",
       "      <td>0.0</td>\n",
       "      <td>0.0</td>\n",
       "      <td>0.0</td>\n",
       "      <td>0.0</td>\n",
       "      <td>0.0</td>\n",
       "    </tr>\n",
       "    <tr>\n",
       "      <th>1</th>\n",
       "      <td>\"you may think the popular singer jay chow is ...</td>\n",
       "      <td>0.0</td>\n",
       "      <td>1.0</td>\n",
       "      <td>0.0</td>\n",
       "      <td>0.0</td>\n",
       "      <td>0.0</td>\n",
       "      <td>0.0</td>\n",
       "    </tr>\n",
       "    <tr>\n",
       "      <th>2</th>\n",
       "      <td>. at midnight, nasreddin saw   _  in his garden.</td>\n",
       "      <td>1.0</td>\n",
       "      <td>0.0</td>\n",
       "      <td>0.0</td>\n",
       "      <td>0.0</td>\n",
       "      <td>0.0</td>\n",
       "      <td>0.0</td>\n",
       "    </tr>\n",
       "    <tr>\n",
       "      <th>3</th>\n",
       "      <td>. david beckham  is   _   years old.</td>\n",
       "      <td>1.0</td>\n",
       "      <td>0.0</td>\n",
       "      <td>0.0</td>\n",
       "      <td>0.0</td>\n",
       "      <td>0.0</td>\n",
       "      <td>0.0</td>\n",
       "    </tr>\n",
       "    <tr>\n",
       "      <th>4</th>\n",
       "      <td>. david beckham's family name is   _  and zhou...</td>\n",
       "      <td>1.0</td>\n",
       "      <td>0.0</td>\n",
       "      <td>0.0</td>\n",
       "      <td>0.0</td>\n",
       "      <td>0.0</td>\n",
       "      <td>0.0</td>\n",
       "    </tr>\n",
       "  </tbody>\n",
       "</table>\n",
       "</div>"
      ],
      "text/plain": [
       "                                               QUERY  REMEMBERING  \\\n",
       "0                   \"their own language\" means  _  .          1.0   \n",
       "1  \"you may think the popular singer jay chow is ...          0.0   \n",
       "2   . at midnight, nasreddin saw   _  in his garden.          1.0   \n",
       "3               . david beckham  is   _   years old.          1.0   \n",
       "4  . david beckham's family name is   _  and zhou...          1.0   \n",
       "\n",
       "   UNDERSTANDING  APPLYING  ANALYZING  EVALUATING  CREATING  \n",
       "0            0.0       0.0        0.0         0.0       0.0  \n",
       "1            1.0       0.0        0.0         0.0       0.0  \n",
       "2            0.0       0.0        0.0         0.0       0.0  \n",
       "3            0.0       0.0        0.0         0.0       0.0  \n",
       "4            0.0       0.0        0.0         0.0       0.0  "
      ]
     },
     "execution_count": 2,
     "metadata": {},
     "output_type": "execute_result"
    }
   ],
   "source": [
    "df = pd.read_csv(\"./output/queries_df.csv\")\n",
    "df.head()"
   ]
  },
  {
   "cell_type": "code",
   "execution_count": 3,
   "metadata": {},
   "outputs": [],
   "source": [
    "categories = [\"REMEMBERING\", \"UNDERSTANDING\", \"APPLYING\", \"ANALYZING\", \"EVALUATING\", \"CREATING\"]"
   ]
  },
  {
   "cell_type": "code",
   "execution_count": 4,
   "metadata": {},
   "outputs": [
    {
     "data": {
      "text/plain": [
       "<matplotlib.axes._subplots.AxesSubplot at 0x7fb4a58c4048>"
      ]
     },
     "execution_count": 4,
     "metadata": {},
     "output_type": "execute_result"
    },
    {
     "data": {
      "image/png": "[encoded data removed]",
      "text/plain": [
       "<Figure size 576x576 with 1 Axes>"
      ]
     },
     "metadata": {},
     "output_type": "display_data"
    }
   ],
   "source": [
    "df[categories].sum().plot.pie(figsize=(8, 8), title=\"Proportion Of Bloom Classes\", legend=False, \\\n",
    "                   autopct='%1.1f%%', \\\n",
    "                   shadow=True, startangle=0)"
   ]
  },
  {
   "cell_type": "code",
   "execution_count": 5,
   "metadata": {},
   "outputs": [],
   "source": [
    "X_train, X_test, y_train, y_test = train_test_split(df[\"QUERY\"], df[categories], test_size=0.25, random_state=41)\n",
    "X_train, X_valid, y_train, y_valid = train_test_split(X_train, y_train, test_size=0.15, random_state=41)"
   ]
  },
  {
   "cell_type": "code",
   "execution_count": 6,
   "metadata": {},
   "outputs": [
    {
     "data": {
      "text/html": [
       "<div>\n",
       "<style scoped>\n",
       "    .dataframe tbody tr th:only-of-type {\n",
       "        vertical-align: middle;\n",
       "    }\n",
       "\n",
       "    .dataframe tbody tr th {\n",
       "        vertical-align: top;\n",
       "    }\n",
       "\n",
       "    .dataframe thead th {\n",
       "        text-align: right;\n",
       "    }\n",
       "</style>\n",
       "<table border=\"1\" class=\"dataframe\">\n",
       "  <thead>\n",
       "    <tr style=\"text-align: right;\">\n",
       "      <th></th>\n",
       "      <th>Counts</th>\n",
       "    </tr>\n",
       "  </thead>\n",
       "  <tbody>\n",
       "    <tr>\n",
       "      <th>Train</th>\n",
       "      <td>120996</td>\n",
       "    </tr>\n",
       "    <tr>\n",
       "      <th>Valid</th>\n",
       "      <td>21353</td>\n",
       "    </tr>\n",
       "    <tr>\n",
       "      <th>Test</th>\n",
       "      <td>47450</td>\n",
       "    </tr>\n",
       "  </tbody>\n",
       "</table>\n",
       "</div>"
      ],
      "text/plain": [
       "       Counts\n",
       "Train  120996\n",
       "Valid   21353\n",
       "Test    47450"
      ]
     },
     "execution_count": 6,
     "metadata": {},
     "output_type": "execute_result"
    }
   ],
   "source": [
    "proportion_data = pd.DataFrame([X_train.shape[0], X_valid.shape[0], X_test.shape[0]], columns=[\"Counts\"], index=[\"Train\", \"Valid\", \"Test\"])\n",
    "proportion_data"
   ]
  },
  {
   "cell_type": "code",
   "execution_count": 7,
   "metadata": {},
   "outputs": [],
   "source": [
    "import helper\n",
    "import models\n",
    "import metrics"
   ]
  },
  {
   "cell_type": "code",
   "execution_count": 8,
   "metadata": {},
   "outputs": [],
   "source": [
    "def join_process(text):\n",
    "    return \" \".join(helper.process_text(text))"
   ]
  },
  {
   "cell_type": "code",
   "execution_count": 9,
   "metadata": {},
   "outputs": [
    {
     "data": {
      "text/plain": [
       "133312    book say coeffici static friction equal forc f...\n",
       "137719                               345 pi mean 345 x 3.14\n",
       "16430     forc appli constantli static friction affect o...\n",
       "109978                              exactli adjac angl mean\n",
       "48047                              what 360 degre angl call\n",
       "Name: QUERY, dtype: object"
      ]
     },
     "execution_count": 9,
     "metadata": {},
     "output_type": "execute_result"
    }
   ],
   "source": [
    "X_valid_transform = X_valid.apply(join_process)\n",
    "X_valid_transform.head()"
   ]
  },
  {
   "cell_type": "code",
   "execution_count": 10,
   "metadata": {},
   "outputs": [],
   "source": [
    "X_train_transform = X_train.apply(join_process)\n",
    "X_test_transform = X_test.apply(join_process)"
   ]
  },
  {
   "cell_type": "code",
   "execution_count": 11,
   "metadata": {},
   "outputs": [
    {
     "data": {
      "text/plain": [
       "159240                    rotat protractor tri measur degre\n",
       "168097                 call autosom cell diploid haploid g1\n",
       "95894     pure whole thing random collid one anoth resul...\n",
       "73680                                electron alpha particl\n",
       "167060                                   number line extend\n",
       "Name: QUERY, dtype: object"
      ]
     },
     "execution_count": 11,
     "metadata": {},
     "output_type": "execute_result"
    }
   ],
   "source": [
    "X_train_transform.sample(5)"
   ]
  },
  {
   "cell_type": "code",
   "execution_count": 12,
   "metadata": {},
   "outputs": [],
   "source": [
    "vect = TfidfVectorizer(max_features=1500)"
   ]
  },
  {
   "cell_type": "code",
   "execution_count": 13,
   "metadata": {},
   "outputs": [],
   "source": [
    "X_train_vect = vect.fit_transform(X_train_transform)\n",
    "X_valid_vect = vect.transform(X_valid_transform)\n",
    "X_test_vect = vect.transform(X_test_transform)"
   ]
  },
  {
   "cell_type": "code",
   "execution_count": 14,
   "metadata": {},
   "outputs": [
    {
     "data": {
      "text/plain": [
       "(120996, 1500)"
      ]
     },
     "execution_count": 14,
     "metadata": {},
     "output_type": "execute_result"
    }
   ],
   "source": [
    "X_train_vect.shape"
   ]
  },
  {
   "cell_type": "code",
   "execution_count": 15,
   "metadata": {},
   "outputs": [
    {
     "data": {
      "text/plain": [
       "6"
      ]
     },
     "execution_count": 15,
     "metadata": {},
     "output_type": "execute_result"
    }
   ],
   "source": [
    "labels = np.array(range(0, 6))\n",
    "len(labels)"
   ]
  },
  {
   "cell_type": "code",
   "execution_count": 16,
   "metadata": {},
   "outputs": [
    {
     "data": {
      "text/html": [
       "<div>\n",
       "<style scoped>\n",
       "    .dataframe tbody tr th:only-of-type {\n",
       "        vertical-align: middle;\n",
       "    }\n",
       "\n",
       "    .dataframe tbody tr th {\n",
       "        vertical-align: top;\n",
       "    }\n",
       "\n",
       "    .dataframe thead th {\n",
       "        text-align: right;\n",
       "    }\n",
       "</style>\n",
       "<table border=\"1\" class=\"dataframe\">\n",
       "  <thead>\n",
       "    <tr style=\"text-align: right;\">\n",
       "      <th></th>\n",
       "      <th>REMEMBERING</th>\n",
       "      <th>UNDERSTANDING</th>\n",
       "      <th>APPLYING</th>\n",
       "      <th>ANALYZING</th>\n",
       "      <th>EVALUATING</th>\n",
       "      <th>CREATING</th>\n",
       "    </tr>\n",
       "  </thead>\n",
       "  <tbody>\n",
       "    <tr>\n",
       "      <th>71543</th>\n",
       "      <td>0.0</td>\n",
       "      <td>0.0</td>\n",
       "      <td>0.0</td>\n",
       "      <td>1.0</td>\n",
       "      <td>0.0</td>\n",
       "      <td>0.0</td>\n",
       "    </tr>\n",
       "    <tr>\n",
       "      <th>155386</th>\n",
       "      <td>1.0</td>\n",
       "      <td>0.0</td>\n",
       "      <td>0.0</td>\n",
       "      <td>0.0</td>\n",
       "      <td>0.0</td>\n",
       "      <td>0.0</td>\n",
       "    </tr>\n",
       "    <tr>\n",
       "      <th>75048</th>\n",
       "      <td>0.0</td>\n",
       "      <td>0.0</td>\n",
       "      <td>1.0</td>\n",
       "      <td>0.0</td>\n",
       "      <td>0.0</td>\n",
       "      <td>0.0</td>\n",
       "    </tr>\n",
       "    <tr>\n",
       "      <th>130361</th>\n",
       "      <td>0.0</td>\n",
       "      <td>0.0</td>\n",
       "      <td>0.0</td>\n",
       "      <td>1.0</td>\n",
       "      <td>0.0</td>\n",
       "      <td>0.0</td>\n",
       "    </tr>\n",
       "    <tr>\n",
       "      <th>171257</th>\n",
       "      <td>0.0</td>\n",
       "      <td>0.0</td>\n",
       "      <td>0.0</td>\n",
       "      <td>1.0</td>\n",
       "      <td>0.0</td>\n",
       "      <td>0.0</td>\n",
       "    </tr>\n",
       "  </tbody>\n",
       "</table>\n",
       "</div>"
      ],
      "text/plain": [
       "        REMEMBERING  UNDERSTANDING  APPLYING  ANALYZING  EVALUATING  CREATING\n",
       "71543           0.0            0.0       0.0        1.0         0.0       0.0\n",
       "155386          1.0            0.0       0.0        0.0         0.0       0.0\n",
       "75048           0.0            0.0       1.0        0.0         0.0       0.0\n",
       "130361          0.0            0.0       0.0        1.0         0.0       0.0\n",
       "171257          0.0            0.0       0.0        1.0         0.0       0.0"
      ]
     },
     "execution_count": 16,
     "metadata": {},
     "output_type": "execute_result"
    }
   ],
   "source": [
    "y_train.head()"
   ]
  },
  {
   "cell_type": "code",
   "execution_count": 17,
   "metadata": {},
   "outputs": [],
   "source": [
    "from sklearn.ensemble import RandomForestClassifier\n",
    "\n",
    "clf = RandomForestClassifier(n_jobs=-1, random_state=27, verbose=1, class_weight=\"balanced\")"
   ]
  },
  {
   "cell_type": "code",
   "execution_count": 18,
   "metadata": {},
   "outputs": [
    {
     "name": "stderr",
     "output_type": "stream",
     "text": [
      "[Parallel(n_jobs=-1)]: Using backend ThreadingBackend with 32 concurrent workers.\n",
      "[Parallel(n_jobs=-1)]: Done 100 out of 100 | elapsed:   37.8s finished\n"
     ]
    }
   ],
   "source": [
    "clf = clf.fit(X_train_vect, y_train.values)"
   ]
  },
  {
   "cell_type": "code",
   "execution_count": 27,
   "metadata": {},
   "outputs": [
    {
     "name": "stderr",
     "output_type": "stream",
     "text": [
      "[Parallel(n_jobs=32)]: Using backend ThreadingBackend with 32 concurrent workers.\n",
      "[Parallel(n_jobs=32)]: Done 100 out of 100 | elapsed:    0.5s finished\n"
     ]
    }
   ],
   "source": [
    "valid_pred_prob = np.array(clf.predict_proba(X_valid_vect))[:, :, 1].T"
   ]
  },
  {
   "cell_type": "code",
   "execution_count": 28,
   "metadata": {},
   "outputs": [
    {
     "data": {
      "text/html": [
       "<div>\n",
       "<style scoped>\n",
       "    .dataframe tbody tr th:only-of-type {\n",
       "        vertical-align: middle;\n",
       "    }\n",
       "\n",
       "    .dataframe tbody tr th {\n",
       "        vertical-align: top;\n",
       "    }\n",
       "\n",
       "    .dataframe thead th {\n",
       "        text-align: right;\n",
       "    }\n",
       "</style>\n",
       "<table border=\"1\" class=\"dataframe\">\n",
       "  <thead>\n",
       "    <tr style=\"text-align: right;\">\n",
       "      <th></th>\n",
       "      <th>TP</th>\n",
       "      <th>TN</th>\n",
       "      <th>FP</th>\n",
       "      <th>FN</th>\n",
       "      <th>Accuracy</th>\n",
       "      <th>Prevalence</th>\n",
       "      <th>Sensitivity</th>\n",
       "      <th>Specificity</th>\n",
       "      <th>PPV</th>\n",
       "      <th>NPV</th>\n",
       "      <th>AUC</th>\n",
       "      <th>F1</th>\n",
       "      <th>Threshold</th>\n",
       "    </tr>\n",
       "    <tr>\n",
       "      <th></th>\n",
       "      <th></th>\n",
       "      <th></th>\n",
       "      <th></th>\n",
       "      <th></th>\n",
       "      <th></th>\n",
       "      <th></th>\n",
       "      <th></th>\n",
       "      <th></th>\n",
       "      <th></th>\n",
       "      <th></th>\n",
       "      <th></th>\n",
       "      <th></th>\n",
       "      <th></th>\n",
       "    </tr>\n",
       "  </thead>\n",
       "  <tbody>\n",
       "    <tr>\n",
       "      <th>REMEMBERING</th>\n",
       "      <td>1543</td>\n",
       "      <td>15204</td>\n",
       "      <td>1040</td>\n",
       "      <td>3566</td>\n",
       "      <td>0.784</td>\n",
       "      <td>0.239</td>\n",
       "      <td>0.302</td>\n",
       "      <td>0.936</td>\n",
       "      <td>0.597</td>\n",
       "      <td>0.81</td>\n",
       "      <td>0.76</td>\n",
       "      <td>0.401</td>\n",
       "      <td>0.5</td>\n",
       "    </tr>\n",
       "    <tr>\n",
       "      <th>UNDERSTANDING</th>\n",
       "      <td>151</td>\n",
       "      <td>20225</td>\n",
       "      <td>193</td>\n",
       "      <td>784</td>\n",
       "      <td>0.954</td>\n",
       "      <td>0.044</td>\n",
       "      <td>0.161</td>\n",
       "      <td>0.991</td>\n",
       "      <td>0.439</td>\n",
       "      <td>0.963</td>\n",
       "      <td>0.762</td>\n",
       "      <td>0.236</td>\n",
       "      <td>0.5</td>\n",
       "    </tr>\n",
       "    <tr>\n",
       "      <th>APPLYING</th>\n",
       "      <td>630</td>\n",
       "      <td>18247</td>\n",
       "      <td>486</td>\n",
       "      <td>1990</td>\n",
       "      <td>0.884</td>\n",
       "      <td>0.123</td>\n",
       "      <td>0.24</td>\n",
       "      <td>0.974</td>\n",
       "      <td>0.565</td>\n",
       "      <td>0.902</td>\n",
       "      <td>0.799</td>\n",
       "      <td>0.337</td>\n",
       "      <td>0.5</td>\n",
       "    </tr>\n",
       "    <tr>\n",
       "      <th>ANALYZING</th>\n",
       "      <td>1499</td>\n",
       "      <td>15938</td>\n",
       "      <td>843</td>\n",
       "      <td>3073</td>\n",
       "      <td>0.817</td>\n",
       "      <td>0.214</td>\n",
       "      <td>0.328</td>\n",
       "      <td>0.95</td>\n",
       "      <td>0.64</td>\n",
       "      <td>0.838</td>\n",
       "      <td>0.757</td>\n",
       "      <td>0.434</td>\n",
       "      <td>0.5</td>\n",
       "    </tr>\n",
       "    <tr>\n",
       "      <th>EVALUATING</th>\n",
       "      <td>395</td>\n",
       "      <td>19161</td>\n",
       "      <td>329</td>\n",
       "      <td>1468</td>\n",
       "      <td>0.916</td>\n",
       "      <td>0.087</td>\n",
       "      <td>0.212</td>\n",
       "      <td>0.983</td>\n",
       "      <td>0.546</td>\n",
       "      <td>0.929</td>\n",
       "      <td>0.799</td>\n",
       "      <td>0.305</td>\n",
       "      <td>0.5</td>\n",
       "    </tr>\n",
       "    <tr>\n",
       "      <th>CREATING</th>\n",
       "      <td>1899</td>\n",
       "      <td>13785</td>\n",
       "      <td>1314</td>\n",
       "      <td>4355</td>\n",
       "      <td>0.735</td>\n",
       "      <td>0.293</td>\n",
       "      <td>0.304</td>\n",
       "      <td>0.913</td>\n",
       "      <td>0.591</td>\n",
       "      <td>0.76</td>\n",
       "      <td>0.719</td>\n",
       "      <td>0.401</td>\n",
       "      <td>0.5</td>\n",
       "    </tr>\n",
       "  </tbody>\n",
       "</table>\n",
       "</div>"
      ],
      "text/plain": [
       "                 TP     TN    FP    FN Accuracy Prevalence Sensitivity  \\\n",
       "                                                                         \n",
       "REMEMBERING    1543  15204  1040  3566    0.784      0.239       0.302   \n",
       "UNDERSTANDING   151  20225   193   784    0.954      0.044       0.161   \n",
       "APPLYING        630  18247   486  1990    0.884      0.123        0.24   \n",
       "ANALYZING      1499  15938   843  3073    0.817      0.214       0.328   \n",
       "EVALUATING      395  19161   329  1468    0.916      0.087       0.212   \n",
       "CREATING       1899  13785  1314  4355    0.735      0.293       0.304   \n",
       "\n",
       "              Specificity    PPV    NPV    AUC     F1 Threshold  \n",
       "                                                                 \n",
       "REMEMBERING         0.936  0.597   0.81   0.76  0.401       0.5  \n",
       "UNDERSTANDING       0.991  0.439  0.963  0.762  0.236       0.5  \n",
       "APPLYING            0.974  0.565  0.902  0.799  0.337       0.5  \n",
       "ANALYZING            0.95   0.64  0.838  0.757  0.434       0.5  \n",
       "EVALUATING          0.983  0.546  0.929  0.799  0.305       0.5  \n",
       "CREATING            0.913  0.591   0.76  0.719  0.401       0.5  "
      ]
     },
     "execution_count": 28,
     "metadata": {},
     "output_type": "execute_result"
    }
   ],
   "source": [
    "performances = metrics.get_performance_metrics(y_valid.values, valid_pred_prob, categories)\n",
    "performances"
   ]
  },
  {
   "cell_type": "code",
   "execution_count": 29,
   "metadata": {},
   "outputs": [],
   "source": [
    "from sklearn.metrics import classification_report, confusion_matrix"
   ]
  },
  {
   "cell_type": "code",
   "execution_count": 34,
   "metadata": {},
   "outputs": [
    {
     "name": "stdout",
     "output_type": "stream",
     "text": [
      "               precision    recall  f1-score   support\n",
      "\n",
      "  REMEMBERING       0.49      0.50      0.49      5109\n",
      "UNDERSTANDING       0.36      0.28      0.31       935\n",
      "     APPLYING       0.46      0.42      0.44      2620\n",
      "    ANALYZING       0.52      0.47      0.49      4572\n",
      "   EVALUATING       0.42      0.36      0.39      1863\n",
      "     CREATING       0.47      0.56      0.51      6254\n",
      "\n",
      "     accuracy                           0.48     21353\n",
      "    macro avg       0.45      0.43      0.44     21353\n",
      " weighted avg       0.48      0.48      0.48     21353\n",
      "\n"
     ]
    }
   ],
   "source": [
    "print(classification_report(np.dot(y_valid.values, labels), np.argmax(valid_pred_prob, axis=1), target_names=categories))"
   ]
  },
  {
   "cell_type": "code",
   "execution_count": 37,
   "metadata": {},
   "outputs": [
    {
     "name": "stdout",
     "output_type": "stream",
     "text": [
      "               precision    recall  f1-score   support\n",
      "\n",
      "  REMEMBERING       0.60      0.30      0.40      5109\n",
      "UNDERSTANDING       0.44      0.16      0.24       935\n",
      "     APPLYING       0.56      0.24      0.34      2620\n",
      "    ANALYZING       0.64      0.33      0.43      4572\n",
      "   EVALUATING       0.55      0.21      0.31      1863\n",
      "     CREATING       0.59      0.30      0.40      6254\n",
      "\n",
      "    micro avg       0.59      0.29      0.39     21353\n",
      "    macro avg       0.56      0.26      0.35     21353\n",
      " weighted avg       0.59      0.29      0.38     21353\n",
      "  samples avg       0.29      0.29      0.29     21353\n",
      "\n"
     ]
    }
   ],
   "source": [
    "print(classification_report(y_valid.values>0.5, valid_pred_prob>0.5, target_names=categories))"
   ]
  },
  {
   "cell_type": "code",
   "execution_count": 42,
   "metadata": {},
   "outputs": [],
   "source": [
    "from sklearn.model_selection import GridSearchCV\n",
    "params = {\n",
    "    'n_estimators'      : range(100,500,50),\n",
    "    'max_depth'         : [8, 9, 10, 11, 12],\n",
    "    'max_features': ['auto'],\n",
    "    'criterion' :['gini']\n",
    "}\n",
    "#metrics to consider: f1_micro, f1_macro, roc_auc_ovr\n",
    "gsearch1 = GridSearchCV(estimator = clf, param_grid = params, n_jobs=-1,verbose = 10, cv=5)"
   ]
  },
  {
   "cell_type": "code",
   "execution_count": 43,
   "metadata": {},
   "outputs": [
    {
     "name": "stdout",
     "output_type": "stream",
     "text": [
      "Fitting 5 folds for each of 40 candidates, totalling 200 fits\n"
     ]
    },
    {
     "name": "stderr",
     "output_type": "stream",
     "text": [
      "[Parallel(n_jobs=-1)]: Using backend LokyBackend with 32 concurrent workers.\n",
      "[Parallel(n_jobs=-1)]: Done   8 tasks      | elapsed:   51.3s\n",
      "[Parallel(n_jobs=-1)]: Done  21 tasks      | elapsed:  1.2min\n",
      "[Parallel(n_jobs=-1)]: Done  34 tasks      | elapsed:  1.5min\n",
      "[Parallel(n_jobs=-1)]: Done  49 tasks      | elapsed:  2.4min\n",
      "[Parallel(n_jobs=-1)]: Done  64 tasks      | elapsed:  3.0min\n",
      "[Parallel(n_jobs=-1)]: Done  81 tasks      | elapsed:  3.7min\n",
      "[Parallel(n_jobs=-1)]: Done  98 tasks      | elapsed:  4.3min\n",
      "[Parallel(n_jobs=-1)]: Done 117 tasks      | elapsed:  5.2min\n",
      "[Parallel(n_jobs=-1)]: Done 136 tasks      | elapsed:  6.1min\n",
      "[Parallel(n_jobs=-1)]: Done 158 out of 200 | elapsed:  7.2min remaining:  1.9min\n",
      "[Parallel(n_jobs=-1)]: Done 179 out of 200 | elapsed:  8.1min remaining:   56.9s\n",
      "[Parallel(n_jobs=-1)]: Done 200 out of 200 | elapsed:  8.9min remaining:    0.0s\n",
      "[Parallel(n_jobs=-1)]: Done 200 out of 200 | elapsed:  8.9min finished\n",
      "[Parallel(n_jobs=-1)]: Using backend ThreadingBackend with 32 concurrent workers.\n",
      "[Parallel(n_jobs=-1)]: Done 100 out of 100 | elapsed:    2.0s finished\n"
     ]
    }
   ],
   "source": [
    "gsearch1 = gsearch1.fit(X_train_vect, y_train.values)"
   ]
  },
  {
   "cell_type": "code",
   "execution_count": 44,
   "metadata": {},
   "outputs": [
    {
     "data": {
      "text/plain": [
       "8.264462809917356e-06"
      ]
     },
     "execution_count": 44,
     "metadata": {},
     "output_type": "execute_result"
    }
   ],
   "source": [
    "gsearch1.best_score_"
   ]
  },
  {
   "cell_type": "code",
   "execution_count": 45,
   "metadata": {},
   "outputs": [
    {
     "data": {
      "text/plain": [
       "{'criterion': 'gini',\n",
       " 'max_depth': 11,\n",
       " 'max_features': 'auto',\n",
       " 'n_estimators': 100}"
      ]
     },
     "execution_count": 45,
     "metadata": {},
     "output_type": "execute_result"
    }
   ],
   "source": [
    "gsearch1.best_params_"
   ]
  },
  {
   "cell_type": "code",
   "execution_count": 51,
   "metadata": {},
   "outputs": [
    {
     "name": "stderr",
     "output_type": "stream",
     "text": [
      "[Parallel(n_jobs=32)]: Using backend ThreadingBackend with 32 concurrent workers.\n",
      "[Parallel(n_jobs=32)]: Done 100 out of 100 | elapsed:    0.5s finished\n"
     ]
    }
   ],
   "source": [
    "valid_pred_prob = np.array(clf.predict_proba(X_valid_vect))[:, :, 1].T"
   ]
  },
  {
   "cell_type": "code",
   "execution_count": 52,
   "metadata": {},
   "outputs": [
    {
     "data": {
      "text/html": [
       "<div>\n",
       "<style scoped>\n",
       "    .dataframe tbody tr th:only-of-type {\n",
       "        vertical-align: middle;\n",
       "    }\n",
       "\n",
       "    .dataframe tbody tr th {\n",
       "        vertical-align: top;\n",
       "    }\n",
       "\n",
       "    .dataframe thead th {\n",
       "        text-align: right;\n",
       "    }\n",
       "</style>\n",
       "<table border=\"1\" class=\"dataframe\">\n",
       "  <thead>\n",
       "    <tr style=\"text-align: right;\">\n",
       "      <th></th>\n",
       "      <th>TP</th>\n",
       "      <th>TN</th>\n",
       "      <th>FP</th>\n",
       "      <th>FN</th>\n",
       "      <th>Accuracy</th>\n",
       "      <th>Prevalence</th>\n",
       "      <th>Sensitivity</th>\n",
       "      <th>Specificity</th>\n",
       "      <th>PPV</th>\n",
       "      <th>NPV</th>\n",
       "      <th>AUC</th>\n",
       "      <th>F1</th>\n",
       "      <th>Threshold</th>\n",
       "    </tr>\n",
       "    <tr>\n",
       "      <th></th>\n",
       "      <th></th>\n",
       "      <th></th>\n",
       "      <th></th>\n",
       "      <th></th>\n",
       "      <th></th>\n",
       "      <th></th>\n",
       "      <th></th>\n",
       "      <th></th>\n",
       "      <th></th>\n",
       "      <th></th>\n",
       "      <th></th>\n",
       "      <th></th>\n",
       "      <th></th>\n",
       "    </tr>\n",
       "  </thead>\n",
       "  <tbody>\n",
       "    <tr>\n",
       "      <th>REMEMBERING</th>\n",
       "      <td>1543</td>\n",
       "      <td>15204</td>\n",
       "      <td>1040</td>\n",
       "      <td>3566</td>\n",
       "      <td>0.784</td>\n",
       "      <td>0.239</td>\n",
       "      <td>0.302</td>\n",
       "      <td>0.936</td>\n",
       "      <td>0.597</td>\n",
       "      <td>0.81</td>\n",
       "      <td>0.76</td>\n",
       "      <td>0.401</td>\n",
       "      <td>0.5</td>\n",
       "    </tr>\n",
       "    <tr>\n",
       "      <th>UNDERSTANDING</th>\n",
       "      <td>151</td>\n",
       "      <td>20225</td>\n",
       "      <td>193</td>\n",
       "      <td>784</td>\n",
       "      <td>0.954</td>\n",
       "      <td>0.044</td>\n",
       "      <td>0.161</td>\n",
       "      <td>0.991</td>\n",
       "      <td>0.439</td>\n",
       "      <td>0.963</td>\n",
       "      <td>0.762</td>\n",
       "      <td>0.236</td>\n",
       "      <td>0.5</td>\n",
       "    </tr>\n",
       "    <tr>\n",
       "      <th>APPLYING</th>\n",
       "      <td>630</td>\n",
       "      <td>18247</td>\n",
       "      <td>486</td>\n",
       "      <td>1990</td>\n",
       "      <td>0.884</td>\n",
       "      <td>0.123</td>\n",
       "      <td>0.24</td>\n",
       "      <td>0.974</td>\n",
       "      <td>0.565</td>\n",
       "      <td>0.902</td>\n",
       "      <td>0.799</td>\n",
       "      <td>0.337</td>\n",
       "      <td>0.5</td>\n",
       "    </tr>\n",
       "    <tr>\n",
       "      <th>ANALYZING</th>\n",
       "      <td>1499</td>\n",
       "      <td>15938</td>\n",
       "      <td>843</td>\n",
       "      <td>3073</td>\n",
       "      <td>0.817</td>\n",
       "      <td>0.214</td>\n",
       "      <td>0.328</td>\n",
       "      <td>0.95</td>\n",
       "      <td>0.64</td>\n",
       "      <td>0.838</td>\n",
       "      <td>0.757</td>\n",
       "      <td>0.434</td>\n",
       "      <td>0.5</td>\n",
       "    </tr>\n",
       "    <tr>\n",
       "      <th>EVALUATING</th>\n",
       "      <td>395</td>\n",
       "      <td>19161</td>\n",
       "      <td>329</td>\n",
       "      <td>1468</td>\n",
       "      <td>0.916</td>\n",
       "      <td>0.087</td>\n",
       "      <td>0.212</td>\n",
       "      <td>0.983</td>\n",
       "      <td>0.546</td>\n",
       "      <td>0.929</td>\n",
       "      <td>0.799</td>\n",
       "      <td>0.305</td>\n",
       "      <td>0.5</td>\n",
       "    </tr>\n",
       "    <tr>\n",
       "      <th>CREATING</th>\n",
       "      <td>1899</td>\n",
       "      <td>13785</td>\n",
       "      <td>1314</td>\n",
       "      <td>4355</td>\n",
       "      <td>0.735</td>\n",
       "      <td>0.293</td>\n",
       "      <td>0.304</td>\n",
       "      <td>0.913</td>\n",
       "      <td>0.591</td>\n",
       "      <td>0.76</td>\n",
       "      <td>0.719</td>\n",
       "      <td>0.401</td>\n",
       "      <td>0.5</td>\n",
       "    </tr>\n",
       "  </tbody>\n",
       "</table>\n",
       "</div>"
      ],
      "text/plain": [
       "                 TP     TN    FP    FN Accuracy Prevalence Sensitivity  \\\n",
       "                                                                         \n",
       "REMEMBERING    1543  15204  1040  3566    0.784      0.239       0.302   \n",
       "UNDERSTANDING   151  20225   193   784    0.954      0.044       0.161   \n",
       "APPLYING        630  18247   486  1990    0.884      0.123        0.24   \n",
       "ANALYZING      1499  15938   843  3073    0.817      0.214       0.328   \n",
       "EVALUATING      395  19161   329  1468    0.916      0.087       0.212   \n",
       "CREATING       1899  13785  1314  4355    0.735      0.293       0.304   \n",
       "\n",
       "              Specificity    PPV    NPV    AUC     F1 Threshold  \n",
       "                                                                 \n",
       "REMEMBERING         0.936  0.597   0.81   0.76  0.401       0.5  \n",
       "UNDERSTANDING       0.991  0.439  0.963  0.762  0.236       0.5  \n",
       "APPLYING            0.974  0.565  0.902  0.799  0.337       0.5  \n",
       "ANALYZING            0.95   0.64  0.838  0.757  0.434       0.5  \n",
       "EVALUATING          0.983  0.546  0.929  0.799  0.305       0.5  \n",
       "CREATING            0.913  0.591   0.76  0.719  0.401       0.5  "
      ]
     },
     "execution_count": 52,
     "metadata": {},
     "output_type": "execute_result"
    }
   ],
   "source": [
    "performances = metrics.get_performance_metrics(y_valid.values, valid_pred_prob, categories)\n",
    "performances"
   ]
  },
  {
   "cell_type": "code",
   "execution_count": 54,
   "metadata": {},
   "outputs": [
    {
     "name": "stdout",
     "output_type": "stream",
     "text": [
      "              precision    recall  f1-score   support\n",
      "\n",
      "       False       0.96      0.99      0.98     20418\n",
      "        True       0.44      0.16      0.24       935\n",
      "\n",
      "    accuracy                           0.95     21353\n",
      "   macro avg       0.70      0.58      0.61     21353\n",
      "weighted avg       0.94      0.95      0.94     21353\n",
      "\n"
     ]
    }
   ],
   "source": [
    "print(classification_report(y_valid.values[:, 1]>0.5, valid_pred_prob[:, 1]>0.5))"
   ]
  },
  {
   "cell_type": "code",
   "execution_count": 55,
   "metadata": {},
   "outputs": [
    {
     "name": "stdout",
     "output_type": "stream",
     "text": [
      "               precision    recall  f1-score   support\n",
      "\n",
      "  REMEMBERING       0.49      0.50      0.49      5109\n",
      "UNDERSTANDING       0.36      0.28      0.31       935\n",
      "     APPLYING       0.46      0.42      0.44      2620\n",
      "    ANALYZING       0.52      0.47      0.49      4572\n",
      "   EVALUATING       0.42      0.36      0.39      1863\n",
      "     CREATING       0.47      0.56      0.51      6254\n",
      "\n",
      "     accuracy                           0.48     21353\n",
      "    macro avg       0.45      0.43      0.44     21353\n",
      " weighted avg       0.48      0.48      0.48     21353\n",
      "\n"
     ]
    }
   ],
   "source": [
    "print(classification_report(np.dot(y_valid.values, labels), np.argmax(valid_pred_prob, axis=1), target_names=categories))"
   ]
  },
  {
   "cell_type": "code",
   "execution_count": 57,
   "metadata": {},
   "outputs": [
    {
     "name": "stdout",
     "output_type": "stream",
     "text": [
      "               precision    recall  f1-score   support\n",
      "\n",
      "  REMEMBERING       0.60      0.30      0.40      5109\n",
      "UNDERSTANDING       0.44      0.16      0.24       935\n",
      "     APPLYING       0.56      0.24      0.34      2620\n",
      "    ANALYZING       0.64      0.33      0.43      4572\n",
      "   EVALUATING       0.55      0.21      0.31      1863\n",
      "     CREATING       0.59      0.30      0.40      6254\n",
      "\n",
      "    micro avg       0.59      0.29      0.39     21353\n",
      "    macro avg       0.56      0.26      0.35     21353\n",
      " weighted avg       0.59      0.29      0.38     21353\n",
      "  samples avg       0.29      0.29      0.29     21353\n",
      "\n"
     ]
    }
   ],
   "source": [
    "print(classification_report(y_valid.values>0.5, valid_pred_prob>0.5, target_names=categories))"
   ]
  },
  {
   "cell_type": "code",
   "execution_count": 28,
   "metadata": {},
   "outputs": [
    {
     "name": "stdout",
     "output_type": "stream",
     "text": [
      "Fitting 5 folds for each of 30 candidates, totalling 150 fits\n"
     ]
    },
    {
     "name": "stderr",
     "output_type": "stream",
     "text": [
      "[Parallel(n_jobs=-1)]: Using backend LokyBackend with 32 concurrent workers.\n",
      "[Parallel(n_jobs=-1)]: Done   8 tasks      | elapsed:   35.3s\n",
      "[Parallel(n_jobs=-1)]: Done  21 tasks      | elapsed:   36.3s\n",
      "[Parallel(n_jobs=-1)]: Done  34 tasks      | elapsed:  1.2min\n",
      "[Parallel(n_jobs=-1)]: Done  49 tasks      | elapsed:  1.2min\n",
      "[Parallel(n_jobs=-1)]: Done  64 tasks      | elapsed:  1.4min\n",
      "[Parallel(n_jobs=-1)]: Done  81 tasks      | elapsed:  1.9min\n",
      "[Parallel(n_jobs=-1)]: Done 103 out of 150 | elapsed:  2.4min remaining:  1.1min\n",
      "[Parallel(n_jobs=-1)]: Done 119 out of 150 | elapsed:  2.7min remaining:   42.6s\n",
      "[Parallel(n_jobs=-1)]: Done 135 out of 150 | elapsed:  3.1min remaining:   21.0s\n",
      "[Parallel(n_jobs=-1)]: Done 150 out of 150 | elapsed:  3.3min finished\n",
      "[Parallel(n_jobs=-1)]: Using backend ThreadingBackend with 32 concurrent workers.\n",
      "[Parallel(n_jobs=-1)]: Done 136 tasks      | elapsed:    1.2s\n",
      "[Parallel(n_jobs=-1)]: Done 420 out of 420 | elapsed:    3.2s finished\n"
     ]
    },
    {
     "data": {
      "text/plain": [
       "GridSearchCV(cv=5,\n",
       "             estimator=RandomForestClassifier(max_depth=12, n_estimators=400,\n",
       "                                              n_jobs=-1, random_state=27,\n",
       "                                              verbose=1),\n",
       "             n_jobs=-1,\n",
       "             param_grid={'max_depth': [11, 12, 13],\n",
       "                         'n_estimators': range(350, 450, 10)},\n",
       "             scoring='f1_macro', verbose=10)"
      ]
     },
     "execution_count": 28,
     "metadata": {},
     "output_type": "execute_result"
    }
   ],
   "source": [
    "clf2 = gsearch1.best_estimator_\n",
    "\n",
    "params1 = {\n",
    "    'n_estimators'      : range(350,450,10),\n",
    "    'max_depth'         : [11, 12, 13]\n",
    "}\n",
    "#metrics to consider: f1_micro, f1_macro, roc_auc_ovr\n",
    "gsearch2 = GridSearchCV(estimator = clf2, param_grid = params1, scoring='f1_macro',n_jobs=-1,verbose = 10, cv=5)\n",
    "gsearch2.fit(X_train_vect, np.dot(y_train.values, labels))"
   ]
  },
  {
   "cell_type": "code",
   "execution_count": 29,
   "metadata": {},
   "outputs": [
    {
     "data": {
      "text/plain": [
       "0.1553922395853586"
      ]
     },
     "execution_count": 29,
     "metadata": {},
     "output_type": "execute_result"
    }
   ],
   "source": [
    "gsearch2.best_score_"
   ]
  },
  {
   "cell_type": "code",
   "execution_count": 30,
   "metadata": {},
   "outputs": [
    {
     "data": {
      "text/plain": [
       "{'max_depth': 13, 'n_estimators': 420}"
      ]
     },
     "execution_count": 30,
     "metadata": {},
     "output_type": "execute_result"
    }
   ],
   "source": [
    "gsearch2.best_params_"
   ]
  },
  {
   "cell_type": "code",
   "execution_count": 31,
   "metadata": {},
   "outputs": [
    {
     "name": "stdout",
     "output_type": "stream",
     "text": [
      "Fitting 5 folds for each of 24 candidates, totalling 120 fits\n"
     ]
    },
    {
     "name": "stderr",
     "output_type": "stream",
     "text": [
      "[Parallel(n_jobs=-1)]: Using backend LokyBackend with 32 concurrent workers.\n",
      "[Parallel(n_jobs=-1)]: Done   8 tasks      | elapsed:   45.1s\n",
      "[Parallel(n_jobs=-1)]: Done  21 tasks      | elapsed:   47.3s\n",
      "[Parallel(n_jobs=-1)]: Done  34 tasks      | elapsed:  1.5min\n",
      "[Parallel(n_jobs=-1)]: Done  49 tasks      | elapsed:  1.6min\n",
      "[Parallel(n_jobs=-1)]: Done  70 out of 120 | elapsed:  2.3min remaining:  1.7min\n",
      "[Parallel(n_jobs=-1)]: Done  83 out of 120 | elapsed:  2.4min remaining:  1.1min\n",
      "[Parallel(n_jobs=-1)]: Done  96 out of 120 | elapsed:  2.9min remaining:   43.4s\n",
      "[Parallel(n_jobs=-1)]: Done 109 out of 120 | elapsed:  3.1min remaining:   19.1s\n",
      "[Parallel(n_jobs=-1)]: Done 120 out of 120 | elapsed:  3.2min finished\n",
      "[Parallel(n_jobs=-1)]: Using backend ThreadingBackend with 32 concurrent workers.\n",
      "[Parallel(n_jobs=-1)]: Done 136 tasks      | elapsed:    1.3s\n",
      "[Parallel(n_jobs=-1)]: Done 435 out of 435 | elapsed:    3.3s finished\n"
     ]
    },
    {
     "data": {
      "text/plain": [
       "GridSearchCV(cv=5,\n",
       "             estimator=RandomForestClassifier(max_depth=13, n_estimators=420,\n",
       "                                              n_jobs=-1, random_state=27,\n",
       "                                              verbose=1),\n",
       "             n_jobs=-1,\n",
       "             param_grid={'max_depth': [13, 14, 15],\n",
       "                         'n_estimators': range(400, 440, 5)},\n",
       "             scoring='f1_macro', verbose=10)"
      ]
     },
     "execution_count": 31,
     "metadata": {},
     "output_type": "execute_result"
    }
   ],
   "source": [
    "clf3 = gsearch2.best_estimator_\n",
    "\n",
    "params2 = {\n",
    "    'n_estimators'      : range(400,440,5),\n",
    "    'max_depth'         : [13,14,15]\n",
    "}\n",
    "#metrics to consider: f1_micro, f1_macro, roc_auc_ovr\n",
    "gsearch3 = GridSearchCV(estimator = clf3, param_grid = params2, scoring='f1_macro',n_jobs=-1,verbose = 10, cv=5)\n",
    "gsearch3.fit(X_train_vect, np.dot(y_train.values, labels))"
   ]
  },
  {
   "cell_type": "code",
   "execution_count": 34,
   "metadata": {},
   "outputs": [
    {
     "data": {
      "text/plain": [
       "0.16349999142505417"
      ]
     },
     "execution_count": 34,
     "metadata": {},
     "output_type": "execute_result"
    }
   ],
   "source": [
    "gsearch3.best_score_"
   ]
  },
  {
   "cell_type": "code",
   "execution_count": 35,
   "metadata": {},
   "outputs": [
    {
     "data": {
      "text/plain": [
       "{'max_depth': 15, 'n_estimators': 435}"
      ]
     },
     "execution_count": 35,
     "metadata": {},
     "output_type": "execute_result"
    }
   ],
   "source": [
    "gsearch3.best_params_"
   ]
  },
  {
   "cell_type": "code",
   "execution_count": 36,
   "metadata": {},
   "outputs": [
    {
     "name": "stdout",
     "output_type": "stream",
     "text": [
      "Fitting 5 folds for each of 6 candidates, totalling 30 fits\n"
     ]
    },
    {
     "name": "stderr",
     "output_type": "stream",
     "text": [
      "[Parallel(n_jobs=-1)]: Using backend LokyBackend with 32 concurrent workers.\n",
      "[Parallel(n_jobs=-1)]: Done   3 out of  30 | elapsed:   56.5s remaining:  8.5min\n",
      "[Parallel(n_jobs=-1)]: Done   7 out of  30 | elapsed:   57.9s remaining:  3.2min\n",
      "[Parallel(n_jobs=-1)]: Done  11 out of  30 | elapsed:   58.9s remaining:  1.7min\n",
      "[Parallel(n_jobs=-1)]: Done  15 out of  30 | elapsed:   59.2s remaining:   59.2s\n",
      "[Parallel(n_jobs=-1)]: Done  19 out of  30 | elapsed:   59.7s remaining:   34.6s\n",
      "[Parallel(n_jobs=-1)]: Done  23 out of  30 | elapsed:  1.0min remaining:   18.3s\n",
      "[Parallel(n_jobs=-1)]: Done  27 out of  30 | elapsed:  1.0min remaining:    6.7s\n",
      "[Parallel(n_jobs=-1)]: Done  30 out of  30 | elapsed:  1.0min finished\n",
      "[Parallel(n_jobs=-1)]: Using backend ThreadingBackend with 32 concurrent workers.\n",
      "[Parallel(n_jobs=-1)]: Done 136 tasks      | elapsed:    1.4s\n",
      "[Parallel(n_jobs=-1)]: Done 435 out of 435 | elapsed:    3.7s finished\n"
     ]
    },
    {
     "data": {
      "text/plain": [
       "GridSearchCV(cv=5,\n",
       "             estimator=RandomForestClassifier(max_depth=15, n_estimators=435,\n",
       "                                              n_jobs=-1, random_state=27,\n",
       "                                              verbose=1),\n",
       "             n_jobs=-1, param_grid={'max_depth': range(14, 20)},\n",
       "             scoring='f1_macro', verbose=10)"
      ]
     },
     "execution_count": 36,
     "metadata": {},
     "output_type": "execute_result"
    }
   ],
   "source": [
    "clf4 = gsearch3.best_estimator_\n",
    "\n",
    "params3 = {\n",
    "    'max_depth': range(14,20,1)\n",
    "}\n",
    "#metrics to consider: f1_micro, f1_macro, roc_auc_ovr\n",
    "gsearch4 = GridSearchCV(estimator = clf4, param_grid = params3, scoring='f1_macro', n_jobs=-1,verbose=10, cv=5)\n",
    "gsearch4.fit(X_train_vect, np.dot(y_train.values, labels))"
   ]
  },
  {
   "cell_type": "code",
   "execution_count": 37,
   "metadata": {},
   "outputs": [
    {
     "data": {
      "text/plain": [
       "0.18531384405503276"
      ]
     },
     "execution_count": 37,
     "metadata": {},
     "output_type": "execute_result"
    }
   ],
   "source": [
    "gsearch4.best_score_"
   ]
  },
  {
   "cell_type": "code",
   "execution_count": 38,
   "metadata": {},
   "outputs": [
    {
     "data": {
      "text/plain": [
       "{'max_depth': 19}"
      ]
     },
     "execution_count": 38,
     "metadata": {},
     "output_type": "execute_result"
    }
   ],
   "source": [
    "gsearch4.best_params_"
   ]
  },
  {
   "cell_type": "code",
   "execution_count": 39,
   "metadata": {},
   "outputs": [
    {
     "name": "stdout",
     "output_type": "stream",
     "text": [
      "Fitting 5 folds for each of 16 candidates, totalling 80 fits\n"
     ]
    },
    {
     "name": "stderr",
     "output_type": "stream",
     "text": [
      "[Parallel(n_jobs=-1)]: Using backend LokyBackend with 32 concurrent workers.\n",
      "[Parallel(n_jobs=-1)]: Done   8 tasks      | elapsed:  1.5min\n",
      "[Parallel(n_jobs=-1)]: Done  26 out of  80 | elapsed:  2.0min remaining:  4.1min\n",
      "[Parallel(n_jobs=-1)]: Done  35 out of  80 | elapsed:  4.0min remaining:  5.1min\n",
      "[Parallel(n_jobs=-1)]: Done  44 out of  80 | elapsed:  4.8min remaining:  3.9min\n",
      "[Parallel(n_jobs=-1)]: Done  53 out of  80 | elapsed:  5.6min remaining:  2.8min\n",
      "[Parallel(n_jobs=-1)]: Done  62 out of  80 | elapsed:  6.1min remaining:  1.8min\n",
      "[Parallel(n_jobs=-1)]: Done  71 out of  80 | elapsed:  7.5min remaining:   57.4s\n",
      "[Parallel(n_jobs=-1)]: Done  80 out of  80 | elapsed:  7.7min remaining:    0.0s\n",
      "[Parallel(n_jobs=-1)]: Done  80 out of  80 | elapsed:  7.7min finished\n",
      "[Parallel(n_jobs=-1)]: Using backend ThreadingBackend with 32 concurrent workers.\n",
      "[Parallel(n_jobs=-1)]: Done 136 tasks      | elapsed:    4.3s\n",
      "[Parallel(n_jobs=-1)]: Done 435 out of 435 | elapsed:   11.4s finished\n"
     ]
    },
    {
     "data": {
      "text/plain": [
       "GridSearchCV(cv=5,\n",
       "             estimator=RandomForestClassifier(max_depth=19, n_estimators=435,\n",
       "                                              n_jobs=-1, random_state=27,\n",
       "                                              verbose=1),\n",
       "             n_jobs=-1, param_grid={'max_depth': range(19, 50, 2)},\n",
       "             scoring='f1_macro', verbose=10)"
      ]
     },
     "execution_count": 39,
     "metadata": {},
     "output_type": "execute_result"
    }
   ],
   "source": [
    "clf5 = gsearch4.best_estimator_\n",
    "\n",
    "params4 = {\n",
    "    'max_depth': range(19,50,2)\n",
    "}\n",
    "#metrics to consider: f1_micro, f1_macro, roc_auc_ovr\n",
    "gsearch5 = GridSearchCV(estimator = clf5, param_grid = params4, scoring='f1_macro',n_jobs=-1,verbose = 10, cv=5)\n",
    "gsearch5.fit(X_train_vect, np.dot(y_train.values, labels))"
   ]
  },
  {
   "cell_type": "code",
   "execution_count": 40,
   "metadata": {},
   "outputs": [
    {
     "data": {
      "text/plain": [
       "0.32143182179657337"
      ]
     },
     "execution_count": 40,
     "metadata": {},
     "output_type": "execute_result"
    }
   ],
   "source": [
    "gsearch5.best_score_"
   ]
  },
  {
   "cell_type": "code",
   "execution_count": 41,
   "metadata": {},
   "outputs": [
    {
     "data": {
      "text/plain": [
       "{'max_depth': 49}"
      ]
     },
     "execution_count": 41,
     "metadata": {},
     "output_type": "execute_result"
    }
   ],
   "source": [
    "gsearch5.best_params_"
   ]
  },
  {
   "cell_type": "code",
   "execution_count": 42,
   "metadata": {},
   "outputs": [],
   "source": [
    "final_clf = gsearch5.best_estimator_"
   ]
  },
  {
   "cell_type": "code",
   "execution_count": 43,
   "metadata": {},
   "outputs": [
    {
     "name": "stderr",
     "output_type": "stream",
     "text": [
      "[Parallel(n_jobs=-1)]: Using backend ThreadingBackend with 32 concurrent workers.\n",
      "[Parallel(n_jobs=-1)]: Done 136 tasks      | elapsed:    4.1s\n",
      "[Parallel(n_jobs=-1)]: Done 435 out of 435 | elapsed:   11.3s finished\n"
     ]
    },
    {
     "data": {
      "text/plain": [
       "RandomForestClassifier(max_depth=49, n_estimators=435, n_jobs=-1,\n",
       "                       random_state=27, verbose=1)"
      ]
     },
     "execution_count": 43,
     "metadata": {},
     "output_type": "execute_result"
    }
   ],
   "source": [
    "final_clf.fit(X_train_vect, np.dot(y_train.values, labels))"
   ]
  },
  {
   "cell_type": "code",
   "execution_count": 46,
   "metadata": {},
   "outputs": [
    {
     "name": "stderr",
     "output_type": "stream",
     "text": [
      "[Parallel(n_jobs=32)]: Using backend ThreadingBackend with 32 concurrent workers.\n",
      "[Parallel(n_jobs=32)]: Done 136 tasks      | elapsed:    0.4s\n",
      "[Parallel(n_jobs=32)]: Done 435 out of 435 | elapsed:    1.1s finished\n"
     ]
    }
   ],
   "source": [
    "valid_pred_prob = final_clf.predict_proba(X_train_vect)"
   ]
  },
  {
   "cell_type": "code",
   "execution_count": 47,
   "metadata": {},
   "outputs": [
    {
     "data": {
      "text/html": [
       "<div>\n",
       "<style scoped>\n",
       "    .dataframe tbody tr th:only-of-type {\n",
       "        vertical-align: middle;\n",
       "    }\n",
       "\n",
       "    .dataframe tbody tr th {\n",
       "        vertical-align: top;\n",
       "    }\n",
       "\n",
       "    .dataframe thead th {\n",
       "        text-align: right;\n",
       "    }\n",
       "</style>\n",
       "<table border=\"1\" class=\"dataframe\">\n",
       "  <thead>\n",
       "    <tr style=\"text-align: right;\">\n",
       "      <th></th>\n",
       "      <th>TP</th>\n",
       "      <th>TN</th>\n",
       "      <th>FP</th>\n",
       "      <th>FN</th>\n",
       "      <th>Accuracy</th>\n",
       "      <th>Prevalence</th>\n",
       "      <th>Sensitivity</th>\n",
       "      <th>Specificity</th>\n",
       "      <th>PPV</th>\n",
       "      <th>NPV</th>\n",
       "      <th>AUC</th>\n",
       "      <th>F1</th>\n",
       "      <th>Threshold</th>\n",
       "    </tr>\n",
       "    <tr>\n",
       "      <th></th>\n",
       "      <th></th>\n",
       "      <th></th>\n",
       "      <th></th>\n",
       "      <th></th>\n",
       "      <th></th>\n",
       "      <th></th>\n",
       "      <th></th>\n",
       "      <th></th>\n",
       "      <th></th>\n",
       "      <th></th>\n",
       "      <th></th>\n",
       "      <th></th>\n",
       "      <th></th>\n",
       "    </tr>\n",
       "  </thead>\n",
       "  <tbody>\n",
       "    <tr>\n",
       "      <th>REMEMBERING</th>\n",
       "      <td>760</td>\n",
       "      <td>91835</td>\n",
       "      <td>4</td>\n",
       "      <td>28397</td>\n",
       "      <td>0.765</td>\n",
       "      <td>0.241</td>\n",
       "      <td>0.026</td>\n",
       "      <td>1</td>\n",
       "      <td>0.995</td>\n",
       "      <td>0.764</td>\n",
       "      <td>0.89</td>\n",
       "      <td>0.051</td>\n",
       "      <td>0.5</td>\n",
       "    </tr>\n",
       "    <tr>\n",
       "      <th>UNDERSTANDING</th>\n",
       "      <td>2</td>\n",
       "      <td>115549</td>\n",
       "      <td>0</td>\n",
       "      <td>5445</td>\n",
       "      <td>0.955</td>\n",
       "      <td>0.045</td>\n",
       "      <td>0</td>\n",
       "      <td>1</td>\n",
       "      <td>1</td>\n",
       "      <td>0.955</td>\n",
       "      <td>0.956</td>\n",
       "      <td>0.001</td>\n",
       "      <td>0.5</td>\n",
       "    </tr>\n",
       "    <tr>\n",
       "      <th>APPLYING</th>\n",
       "      <td>158</td>\n",
       "      <td>106060</td>\n",
       "      <td>0</td>\n",
       "      <td>14778</td>\n",
       "      <td>0.878</td>\n",
       "      <td>0.123</td>\n",
       "      <td>0.011</td>\n",
       "      <td>1</td>\n",
       "      <td>1</td>\n",
       "      <td>0.878</td>\n",
       "      <td>0.921</td>\n",
       "      <td>0.021</td>\n",
       "      <td>0.5</td>\n",
       "    </tr>\n",
       "    <tr>\n",
       "      <th>ANALYZING</th>\n",
       "      <td>3512</td>\n",
       "      <td>95308</td>\n",
       "      <td>106</td>\n",
       "      <td>22070</td>\n",
       "      <td>0.817</td>\n",
       "      <td>0.211</td>\n",
       "      <td>0.137</td>\n",
       "      <td>0.999</td>\n",
       "      <td>0.971</td>\n",
       "      <td>0.812</td>\n",
       "      <td>0.901</td>\n",
       "      <td>0.241</td>\n",
       "      <td>0.5</td>\n",
       "    </tr>\n",
       "    <tr>\n",
       "      <th>EVALUATING</th>\n",
       "      <td>33</td>\n",
       "      <td>110329</td>\n",
       "      <td>0</td>\n",
       "      <td>10634</td>\n",
       "      <td>0.912</td>\n",
       "      <td>0.088</td>\n",
       "      <td>0.003</td>\n",
       "      <td>1</td>\n",
       "      <td>1</td>\n",
       "      <td>0.912</td>\n",
       "      <td>0.928</td>\n",
       "      <td>0.006</td>\n",
       "      <td>0.5</td>\n",
       "    </tr>\n",
       "    <tr>\n",
       "      <th>CREATING</th>\n",
       "      <td>2309</td>\n",
       "      <td>85783</td>\n",
       "      <td>6</td>\n",
       "      <td>32898</td>\n",
       "      <td>0.728</td>\n",
       "      <td>0.291</td>\n",
       "      <td>0.066</td>\n",
       "      <td>1</td>\n",
       "      <td>0.997</td>\n",
       "      <td>0.723</td>\n",
       "      <td>0.861</td>\n",
       "      <td>0.123</td>\n",
       "      <td>0.5</td>\n",
       "    </tr>\n",
       "  </tbody>\n",
       "</table>\n",
       "</div>"
      ],
      "text/plain": [
       "                 TP      TN   FP     FN Accuracy Prevalence Sensitivity  \\\n",
       "                                                                          \n",
       "REMEMBERING     760   91835    4  28397    0.765      0.241       0.026   \n",
       "UNDERSTANDING     2  115549    0   5445    0.955      0.045           0   \n",
       "APPLYING        158  106060    0  14778    0.878      0.123       0.011   \n",
       "ANALYZING      3512   95308  106  22070    0.817      0.211       0.137   \n",
       "EVALUATING       33  110329    0  10634    0.912      0.088       0.003   \n",
       "CREATING       2309   85783    6  32898    0.728      0.291       0.066   \n",
       "\n",
       "              Specificity    PPV    NPV    AUC     F1 Threshold  \n",
       "                                                                 \n",
       "REMEMBERING             1  0.995  0.764   0.89  0.051       0.5  \n",
       "UNDERSTANDING           1      1  0.955  0.956  0.001       0.5  \n",
       "APPLYING                1      1  0.878  0.921  0.021       0.5  \n",
       "ANALYZING           0.999  0.971  0.812  0.901  0.241       0.5  \n",
       "EVALUATING              1      1  0.912  0.928  0.006       0.5  \n",
       "CREATING                1  0.997  0.723  0.861  0.123       0.5  "
      ]
     },
     "execution_count": 47,
     "metadata": {},
     "output_type": "execute_result"
    }
   ],
   "source": [
    "performances = metrics.get_performance_metrics(y_train.values, valid_pred_prob, categories)\n",
    "performances"
   ]
  },
  {
   "cell_type": "code",
   "execution_count": null,
   "metadata": {},
   "outputs": [],
   "source": []
  }
 ],
 "metadata": {
  "kernelspec": {
   "display_name": "Python 3",
   "language": "python",
   "name": "python3"
  },
  "language_info": {
   "codemirror_mode": {
    "name": "ipython",
    "version": 3
   },
   "file_extension": ".py",
   "mimetype": "text/x-python",
   "name": "python",
   "nbconvert_exporter": "python",
   "pygments_lexer": "ipython3",
   "version": "3.6.10"
  }
 },
 "nbformat": 4,
 "nbformat_minor": 4
}
