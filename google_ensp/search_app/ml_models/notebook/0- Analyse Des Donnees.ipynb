{
 "cells": [
  {
   "cell_type": "markdown",
   "metadata": {},
   "source": [
    "### Import des librairies utiles"
   ]
  },
  {
   "cell_type": "code",
   "execution_count": 1,
   "metadata": {},
   "outputs": [],
   "source": [
    "import numpy as np\n",
    "import pandas as pd\n",
    "import spacy\n",
    "import pickle\n",
    "from matplotlib import pyplot as plt\n",
    "\n",
    "from nltk.tokenize import word_tokenize\n",
    "from nltk.tag import pos_tag\n",
    "from nltk.corpus import wordnet as wn\n",
    "from nltk.stem import PorterStemmer"
   ]
  },
  {
   "cell_type": "markdown",
   "metadata": {},
   "source": [
    "### Verbes de la Taxonomie de Bloom"
   ]
  },
  {
   "cell_type": "code",
   "execution_count": 2,
   "metadata": {},
   "outputs": [],
   "source": [
    "class StatModel():\n",
    "    \"\"\"\n",
    "        Classe Permettant de faire des opérations statistiques relatives à la taxonomie de bloom\n",
    "    \"\"\"\n",
    "    def __init__(self, bloom_verbs=None, columns=['Remembering', 'Understanding', 'Applying', 'Analyzing', 'Evaluating','Creating']):\n",
    "        \"\"\"\n",
    "            Initialisation de la classe de statistique\n",
    "        \"\"\"\n",
    "        # Contient une liste de systaxe;Grammaire\n",
    "        self.nlp = spacy.load(\"en_core_web_sm\")\n",
    "        self.columns = columns\n",
    "        self.verbs = [] # liste de verbes de chaque classe\n",
    "        self.stemmer = PorterStemmer()\n",
    "        if bloom_verbs is None:\n",
    "            i = 0\n",
    "            for column in columns:\n",
    "                self.verbs.append(pd.Series(np.ravel(pd.read_csv(\"./input/verbs/{}.csv\".format(column)).values)))\n",
    "        else:\n",
    "            self.columns = bloom_verbs.columns\n",
    "            for column in columns:\n",
    "                self.verbs.append(bloom_verbs[column])\n",
    "    \n",
    "    def tag(self, sentence):\n",
    "        \"\"\"\n",
    "            Transformer une phrase en tag (token) WordNet\n",
    "        \"\"\"\n",
    "        words = word_tokenize(sentence)\n",
    "        words = pos_tag(words)\n",
    "        return words\n",
    "\n",
    "    def paraphraseable(self, tag):\n",
    "        \"\"\"\n",
    "            Dire si un tag (token) est utilisable dans notre échelle de Bloom\n",
    "        \"\"\"\n",
    "        return tag.startswith('NN') or tag == 'VB' or tag.startswith('JJ')\n",
    "\n",
    "    def pos(self, tag):\n",
    "        \"\"\"\n",
    "            Renvoyer le tag wordnet correspondant\n",
    "        \"\"\"\n",
    "        if tag.startswith('NN'):\n",
    "            return wn.NOUN\n",
    "        elif tag.startswith('V'):\n",
    "            return wn.VERB\n",
    "\n",
    "    def synonyms(self, word, tag):\n",
    "        \"\"\"\n",
    "            Lister tous les synonymes d'un mot en observant son tag\n",
    "        \"\"\"\n",
    "        lemma_lists = [ss.lemmas() for ss in wn.synsets(word, self.pos(tag))]\n",
    "        lemmas = [lemma.name() for lemma in sum(lemma_lists, [])]\n",
    "        return set(lemmas)\n",
    "\n",
    "    def synonymIfExists(self, sentence):\n",
    "        \"\"\"\n",
    "            Chercher les synonyms de chaque mot dans une phrase s'ils existent \n",
    "            pour ses mots\n",
    "        \"\"\"\n",
    "        for (word, t) in self.tag(sentence):\n",
    "            if self.paraphraseable(t):\n",
    "                syns = self.synonyms(word, t)\n",
    "                if syns:\n",
    "                    if len(syns) > 1:\n",
    "                        yield [word, list(syns)]\n",
    "                        continue\n",
    "            yield [word, []]\n",
    "\n",
    "    def paraphrase(self, sentence):\n",
    "        \"\"\"\n",
    "            Lister tous les synonymes d'un ensemble de mots\n",
    "        \"\"\"\n",
    "        return [x for x in self.synonymIfExists(sentence)]\n",
    "    \n",
    "    def verbs_paraphrase(self, phrase_p):\n",
    "        \"\"\"\n",
    "            Extraire les verbes du résultat de paraphrase\n",
    "        \"\"\"\n",
    "        vp_save = []\n",
    "        for vp in phrase_p:\n",
    "            if len(vp[1]) > 0:\n",
    "                vp_save = np.append(vp_save, [\" \".join(v.split(\"_\")) for v in vp[1]])\n",
    "            else:\n",
    "                vp_save = np.append(vp_save, vp[0])\n",
    "        return np.unique(vp_save)\n",
    "    \n",
    "    def extract_verbs_one(self, phrase):\n",
    "        \"\"\"\n",
    "            Extraire tous les verbes et synonymes d'une phrase\n",
    "        \"\"\"\n",
    "        doc = self.nlp(phrase)\n",
    "        doc_verbs = [token.lemma_ for token in doc if token.pos_ == \"VERB\"]\n",
    "        phrase_verbs = self.verbs_paraphrase(self.paraphrase(\" \".join(doc_verbs)))\n",
    "        return list(np.unique([self.stemmer.stem(word) for word in phrase_verbs]))\n",
    "    \n",
    "    def extract_verbs(self, phrases:np.array):\n",
    "        \"\"\"\n",
    "            Extraire tous les verbes et synonymes d'un ensemble de phrases\n",
    "        \"\"\"\n",
    "        phrase_verbs = [self.extract_verbs_one(p) for p in phrases]\n",
    "        return phrase_verbs\n",
    "    \n",
    "    def count_bloom_verbs(self, verbs_extract=None, phrases=None):\n",
    "        \"\"\"\n",
    "            Compter le nombre de verbes de chaque type présent dans la liste de verbes extraite des phrases\n",
    "        \"\"\"\n",
    "        if verbs_extract is None:\n",
    "            verbs_extract = self.extract_verbs(phrases)\n",
    "        else:\n",
    "            assert verbs_extract is not None and verbs_extract.shape[1] == self.columns.size\n",
    "        return np.array([[verb.isin(verb_extract).sum() for verb in self.verbs] for verb_extract in verbs_extract])\n",
    "    \n",
    "    def generate_bloom_result(self, verbs_extract=None, phrases=None):\n",
    "        \"\"\"\n",
    "            Identique à count_bloom_verbs mais renvoie un dataframe\n",
    "        \"\"\"\n",
    "        if verbs_extract is None:\n",
    "            verbs_extract = self.count_bloom_verbs(phrases=phrases)\n",
    "        else:\n",
    "            assert verbs_extract is not None and verbs_extract.shape[1] == self.columns.size\n",
    "        return pd.DataFrame(verbs_extract, columns=self.columns)"
   ]
  },
  {
   "cell_type": "markdown",
   "metadata": {},
   "source": [
    "### Tous les verbes par niveau de la taxonomie de Bloom"
   ]
  },
  {
   "cell_type": "code",
   "execution_count": 3,
   "metadata": {},
   "outputs": [
    {
     "name": "stdout",
     "output_type": "stream",
     "text": [
      "define, describe, identify, list, associate, name, say, show, identify, collect, examine, quote, copy, memorize, recognize, repeat, remember, reproduce, record, retain, associate, cite, describe, define, duplicate, record, enumerate, label, identify, indicate, list, locate, memorize, name, order, recall, recognize, repeat, reproduce, summarize, select\n",
      "interpret, summarize, convert, distinguish, estimate, generalize, paraphrase, qualify, predict, associate, differentiate, discuss, extend, classify, express, indicate, locate, locate, report, report, select, translate, apprehend, hear, decipher, read, classify, compare, convert, demonstrate, differentiate, say in words, illustrate, explain, express, make analogies, generalize, interpret, paraphrase, predict, reformulate, represent, summarize\n",
      "apply, change, compile, demonstrate, operate, show, use, solve, calculate, complete, illustrate, examine, modify, tell, change, classify, experiment, stage, employ, illustrate, interpret, operate, practice, plan, sketch, write, implement, practice, verify, administer, apply, assemble, calculate, categorize, compile, construct, control, discover, demonstrate, draw, determine, use, establish, formulate, provide, manipulate, measure, practice, modify, demonstrate, operate, participate, prepare, produce, solve, process, find, use\n",
      "identify parts, distinguish, represent in a diagram, draw, connect, associate, deconstruct, subdivide, analyze, separate, order, explain, classify, arrange, divide, select, infer, analyze, calculate, categorize, compare, qualify, differentiate, discriminate, examine, question, test, deconstruct, dissect, study, examine, view, prioritize, analyze, target, compare, contrast, criticize, cut out, deduce, delimit, differentiate, discriminate, dissect, distinguish, examine, correlate, highlight, infer, limit, prioritize, relate, break up, organize, oppose, question, separate, subdivide\n",
      "criticize, compare, qualify, support, conclude, discriminate, synthesize, explain, infer, deduce, testify, decide, test, measure, recommend, convince, select, judge, explain, discriminate, support, argue, defend, compare, estimate, evaluate, judge, predict, select, appreciate, calculate, weigh, note, rate, consider, support, appreciate, argue, attack, choose, conclude, criticize, defend, determine, estimate, evaluate, judge, justify, support\n",
      "creating, inventing, interpreting, designing, imagining, improvising, innovating, finding, composing, making, elaborating, manufacturing, developing, modifying, writing, producing, adapting, arranging, anticipating, arranging, assembling, combining, commenting, composing, designing, connecting, building, creating, developing, writing, exhibiting, incorporating, integrating, setting up, organizing, planning, preparing, producing, proposing, writing, structuring, synthesizing\n"
     ]
    }
   ],
   "source": [
    "with open(\"./input/verbs.txt\", \"r\") as file:\n",
    "    print(file.read())"
   ]
  },
  {
   "cell_type": "code",
   "execution_count": 4,
   "metadata": {},
   "outputs": [],
   "source": [
    "with open(\"./input/verbs.txt\", \"r\") as file:\n",
    "    verbs = file.readlines()"
   ]
  },
  {
   "cell_type": "code",
   "execution_count": 5,
   "metadata": {},
   "outputs": [
    {
     "data": {
      "text/plain": [
       "6"
      ]
     },
     "execution_count": 5,
     "metadata": {},
     "output_type": "execute_result"
    }
   ],
   "source": [
    "len(verbs)"
   ]
  },
  {
   "cell_type": "markdown",
   "metadata": {},
   "source": [
    "*Les différents niveau de Bloom*"
   ]
  },
  {
   "cell_type": "code",
   "execution_count": 6,
   "metadata": {},
   "outputs": [],
   "source": [
    "categories = [\"REMEMBERING\", \"UNDERSTANDING\", \"APPLYING\", \"ANALYZING\", \"EVALUATING\", \"CREATING\"]"
   ]
  },
  {
   "cell_type": "code",
   "execution_count": 7,
   "metadata": {},
   "outputs": [],
   "source": [
    "verbs_list = []\n",
    "for cls_verbs, category in zip(verbs, categories):\n",
    "    cls_verbs = cls_verbs.split(\",\")\n",
    "    verbs_list.append(pd.Series(np.unique([v.strip() for v in cls_verbs])))"
   ]
  },
  {
   "cell_type": "code",
   "execution_count": 8,
   "metadata": {},
   "outputs": [],
   "source": [
    "from IPython import display"
   ]
  },
  {
   "cell_type": "markdown",
   "metadata": {},
   "source": [
    "*Afficher 5 par catégories*"
   ]
  },
  {
   "cell_type": "code",
   "execution_count": 10,
   "metadata": {},
   "outputs": [
    {
     "name": "stdout",
     "output_type": "stream",
     "text": [
      "REMEMBERING\n"
     ]
    },
    {
     "data": {
      "text/plain": [
       "0    associate\n",
       "1         cite\n",
       "2      collect\n",
       "3         copy\n",
       "4       define\n",
       "dtype: object"
      ]
     },
     "metadata": {},
     "output_type": "display_data"
    },
    {
     "name": "stdout",
     "output_type": "stream",
     "text": [
      "UNDERSTANDING\n"
     ]
    },
    {
     "data": {
      "text/plain": [
       "0    apprehend\n",
       "1    associate\n",
       "2     classify\n",
       "3      compare\n",
       "4      convert\n",
       "dtype: object"
      ]
     },
     "metadata": {},
     "output_type": "display_data"
    },
    {
     "name": "stdout",
     "output_type": "stream",
     "text": [
      "APPLYING\n"
     ]
    },
    {
     "data": {
      "text/plain": [
       "0    administer\n",
       "1         apply\n",
       "2      assemble\n",
       "3     calculate\n",
       "4    categorize\n",
       "dtype: object"
      ]
     },
     "metadata": {},
     "output_type": "display_data"
    },
    {
     "name": "stdout",
     "output_type": "stream",
     "text": [
      "ANALYZING\n"
     ]
    },
    {
     "data": {
      "text/plain": [
       "0      analyze\n",
       "1      arrange\n",
       "2    associate\n",
       "3     break up\n",
       "4    calculate\n",
       "dtype: object"
      ]
     },
     "metadata": {},
     "output_type": "display_data"
    },
    {
     "name": "stdout",
     "output_type": "stream",
     "text": [
      "EVALUATING\n"
     ]
    },
    {
     "data": {
      "text/plain": [
       "0    appreciate\n",
       "1         argue\n",
       "2        attack\n",
       "3     calculate\n",
       "4        choose\n",
       "dtype: object"
      ]
     },
     "metadata": {},
     "output_type": "display_data"
    },
    {
     "name": "stdout",
     "output_type": "stream",
     "text": [
      "CREATING\n"
     ]
    },
    {
     "data": {
      "text/plain": [
       "0        adapting\n",
       "1    anticipating\n",
       "2       arranging\n",
       "3      assembling\n",
       "4        building\n",
       "dtype: object"
      ]
     },
     "metadata": {},
     "output_type": "display_data"
    }
   ],
   "source": [
    "for verbs, category in zip(verbs_list, categories):\n",
    "    print(category)\n",
    "    display.display(verbs.head(5))"
   ]
  },
  {
   "cell_type": "code",
   "execution_count": 11,
   "metadata": {},
   "outputs": [],
   "source": [
    "import helper"
   ]
  },
  {
   "cell_type": "markdown",
   "metadata": {},
   "source": [
    "*Plus petite forme de chaque*"
   ]
  },
  {
   "cell_type": "code",
   "execution_count": 15,
   "metadata": {},
   "outputs": [
    {
     "name": "stdout",
     "output_type": "stream",
     "text": [
      "REMEMBERING\n"
     ]
    },
    {
     "data": {
      "text/plain": [
       "21     rememb\n",
       "17       quot\n",
       "11      label\n",
       "14      memor\n",
       "2     collect\n",
       "dtype: object"
      ]
     },
     "metadata": {},
     "output_type": "display_data"
    },
    {
     "name": "stdout",
     "output_type": "stream",
     "text": [
      "UNDERSTANDING\n"
     ]
    },
    {
     "data": {
      "text/plain": [
       "7     differenti\n",
       "6       demonstr\n",
       "10         estim\n",
       "14         gener\n",
       "17         indic\n",
       "dtype: object"
      ]
     },
     "metadata": {},
     "output_type": "display_data"
    },
    {
     "name": "stdout",
     "output_type": "stream",
     "text": [
      "APPLYING\n"
     ]
    },
    {
     "data": {
      "text/plain": [
       "22    implement\n",
       "36       sketch\n",
       "6      classifi\n",
       "41       verifi\n",
       "4       categor\n",
       "dtype: object"
      ]
     },
     "metadata": {},
     "output_type": "display_data"
    },
    {
     "name": "stdout",
     "output_type": "stream",
     "text": [
      "ANALYZING\n"
     ]
    },
    {
     "data": {
      "text/plain": [
       "28       oppos\n",
       "37       separ\n",
       "10      correl\n",
       "33    question\n",
       "7       compar\n",
       "dtype: object"
      ]
     },
     "metadata": {},
     "output_type": "display_data"
    },
    {
     "name": "stdout",
     "output_type": "stream",
     "text": [
      "EVALUATING\n"
     ]
    },
    {
     "data": {
      "text/plain": [
       "28      support\n",
       "4         choos\n",
       "1          argu\n",
       "18        infer\n",
       "26    recommend\n",
       "dtype: object"
      ]
     },
     "metadata": {},
     "output_type": "display_data"
    },
    {
     "name": "stdout",
     "output_type": "stream",
     "text": [
      "CREATING\n"
     ]
    },
    {
     "data": {
      "text/plain": [
       "8     connect\n",
       "11    develop\n",
       "7      compos\n",
       "24     modifi\n",
       "18      innov\n",
       "dtype: object"
      ]
     },
     "metadata": {},
     "output_type": "display_data"
    }
   ],
   "source": [
    "verbs_tmp = [verbs for verbs in verbs_list]\n",
    "verbs_list = []\n",
    "for verbs in verbs_tmp:\n",
    "    verbs = verbs.apply(lambda x: helper.stem_word(x))\n",
    "    verbs_list.append(verbs)\n",
    "\n",
    "for verbs, category in zip(verbs_list, categories):\n",
    "    print(category)\n",
    "    display.display(verbs.sample(5))"
   ]
  },
  {
   "cell_type": "code",
   "execution_count": 16,
   "metadata": {},
   "outputs": [],
   "source": [
    "del verbs_tmp"
   ]
  },
  {
   "cell_type": "code",
   "execution_count": 20,
   "metadata": {},
   "outputs": [],
   "source": [
    "verbs = verbs_list[0].copy()"
   ]
  },
  {
   "cell_type": "code",
   "execution_count": 21,
   "metadata": {},
   "outputs": [
    {
     "data": {
      "text/plain": [
       "(29,)"
      ]
     },
     "execution_count": 21,
     "metadata": {},
     "output_type": "execute_result"
    }
   ],
   "source": [
    "verbs.shape"
   ]
  },
  {
   "cell_type": "code",
   "execution_count": 22,
   "metadata": {},
   "outputs": [],
   "source": [
    "verbs.drop_duplicates(keep='first', inplace=True)"
   ]
  },
  {
   "cell_type": "code",
   "execution_count": 23,
   "metadata": {},
   "outputs": [],
   "source": [
    "verbs = pd.DataFrame(verbs.values, columns=[categories[0]])\n",
    "\n",
    "verbs.to_csv(f\"./output/verbs/{categories[0]}.csv\", index=False, header=True)"
   ]
  },
  {
   "cell_type": "markdown",
   "metadata": {},
   "source": [
    "*Stocker dans les fichiers les différents verbes de chaque classe*"
   ]
  },
  {
   "cell_type": "code",
   "execution_count": 26,
   "metadata": {},
   "outputs": [
    {
     "name": "stdout",
     "output_type": "stream",
     "text": [
      "REMEMBERING 29\n",
      "UNDERSTANDING 32\n",
      "APPLYING 43\n",
      "ANALYZING 43\n",
      "EVALUATING 33\n",
      "CREATING 34\n"
     ]
    }
   ],
   "source": [
    "for verbs, category in zip(verbs_list, categories):\n",
    "    verbs.drop_duplicates(keep='first', inplace=True)\n",
    "    verbs = pd.DataFrame(verbs.values, columns=[category])\n",
    "    print(category, verbs.shape[0])\n",
    "    verbs.to_csv(f\"./output/verbs/{category}.csv\", index=False, header=True)"
   ]
  },
  {
   "cell_type": "markdown",
   "metadata": {},
   "source": [
    "**Nous obtenons ainsi cette distribution de verbes associés à chaque classe**"
   ]
  },
  {
   "cell_type": "markdown",
   "metadata": {},
   "source": [
    "## Les différents jeux de données"
   ]
  },
  {
   "cell_type": "markdown",
   "metadata": {},
   "source": [
    "### Jeu de données obtenu du mémoire"
   ]
  },
  {
   "cell_type": "code",
   "execution_count": 43,
   "metadata": {},
   "outputs": [
    {
     "data": {
      "text/html": [
       "<div>\n",
       "<style scoped>\n",
       "    .dataframe tbody tr th:only-of-type {\n",
       "        vertical-align: middle;\n",
       "    }\n",
       "\n",
       "    .dataframe tbody tr th {\n",
       "        vertical-align: top;\n",
       "    }\n",
       "\n",
       "    .dataframe thead th {\n",
       "        text-align: right;\n",
       "    }\n",
       "</style>\n",
       "<table border=\"1\" class=\"dataframe\">\n",
       "  <thead>\n",
       "    <tr style=\"text-align: right;\">\n",
       "      <th></th>\n",
       "      <th>query</th>\n",
       "      <th>Analyzing</th>\n",
       "      <th>Applying</th>\n",
       "      <th>Creating</th>\n",
       "      <th>Evaluating</th>\n",
       "      <th>Remembering</th>\n",
       "      <th>Understanding</th>\n",
       "    </tr>\n",
       "  </thead>\n",
       "  <tbody>\n",
       "    <tr>\n",
       "      <th>0</th>\n",
       "      <td>\"last night i had a horrible nightmare”, said ...</td>\n",
       "      <td>1.0</td>\n",
       "      <td>0.0</td>\n",
       "      <td>0.0</td>\n",
       "      <td>0.0</td>\n",
       "      <td>0.0</td>\n",
       "      <td>1.0</td>\n",
       "    </tr>\n",
       "    <tr>\n",
       "      <th>1</th>\n",
       "      <td>\"their own language\" means  _  .</td>\n",
       "      <td>0.0</td>\n",
       "      <td>0.0</td>\n",
       "      <td>0.0</td>\n",
       "      <td>0.0</td>\n",
       "      <td>1.0</td>\n",
       "      <td>0.0</td>\n",
       "    </tr>\n",
       "    <tr>\n",
       "      <th>2</th>\n",
       "      <td>\"you may think the popular singer jay chow is ...</td>\n",
       "      <td>0.0</td>\n",
       "      <td>0.0</td>\n",
       "      <td>0.0</td>\n",
       "      <td>0.0</td>\n",
       "      <td>0.0</td>\n",
       "      <td>1.0</td>\n",
       "    </tr>\n",
       "    <tr>\n",
       "      <th>3</th>\n",
       "      <td>( from 5:59 to ~7:00 ) would n't the amount of...</td>\n",
       "      <td>1.0</td>\n",
       "      <td>0.0</td>\n",
       "      <td>0.0</td>\n",
       "      <td>0.0</td>\n",
       "      <td>0.0</td>\n",
       "      <td>1.0</td>\n",
       "    </tr>\n",
       "    <tr>\n",
       "      <th>4</th>\n",
       "      <td>(iv) the possibility of real-time online opera...</td>\n",
       "      <td>0.0</td>\n",
       "      <td>0.0</td>\n",
       "      <td>0.0</td>\n",
       "      <td>0.0</td>\n",
       "      <td>1.0</td>\n",
       "      <td>1.0</td>\n",
       "    </tr>\n",
       "  </tbody>\n",
       "</table>\n",
       "</div>"
      ],
      "text/plain": [
       "                                               query  Analyzing  Applying  \\\n",
       "0  \"last night i had a horrible nightmare”, said ...        1.0       0.0   \n",
       "1                   \"their own language\" means  _  .        0.0       0.0   \n",
       "2  \"you may think the popular singer jay chow is ...        0.0       0.0   \n",
       "3  ( from 5:59 to ~7:00 ) would n't the amount of...        1.0       0.0   \n",
       "4  (iv) the possibility of real-time online opera...        0.0       0.0   \n",
       "\n",
       "   Creating  Evaluating  Remembering  Understanding  \n",
       "0       0.0         0.0          0.0            1.0  \n",
       "1       0.0         0.0          1.0            0.0  \n",
       "2       0.0         0.0          0.0            1.0  \n",
       "3       0.0         0.0          0.0            1.0  \n",
       "4       0.0         0.0          1.0            1.0  "
      ]
     },
     "execution_count": 43,
     "metadata": {},
     "output_type": "execute_result"
    }
   ],
   "source": [
    "questions = pd.read_csv(\"./input/questions_multi_classification.csv\")\n",
    "questions.head()"
   ]
  },
  {
   "cell_type": "code",
   "execution_count": 35,
   "metadata": {},
   "outputs": [
    {
     "data": {
      "text/plain": [
       "['REMEMBERING',\n",
       " 'UNDERSTANDING',\n",
       " 'APPLYING',\n",
       " 'ANALYZING',\n",
       " 'EVALUATING',\n",
       " 'CREATING']"
      ]
     },
     "execution_count": 35,
     "metadata": {},
     "output_type": "execute_result"
    }
   ],
   "source": [
    "categories"
   ]
  },
  {
   "cell_type": "code",
   "execution_count": 36,
   "metadata": {},
   "outputs": [
    {
     "data": {
      "text/plain": [
       "'ANALYZING'"
      ]
     },
     "execution_count": 36,
     "metadata": {},
     "output_type": "execute_result"
    }
   ],
   "source": [
    "\"Analyzing\".upper()"
   ]
  },
  {
   "cell_type": "code",
   "execution_count": 44,
   "metadata": {},
   "outputs": [],
   "source": [
    "questions.columns = np.array([column.upper() for column in questions.columns])\n",
    "#questions.head()"
   ]
  },
  {
   "cell_type": "markdown",
   "metadata": {},
   "source": [
    "def renames():\n",
    "    questions.rename(columns={\"Analyzing\": categories[3], \n",
    "                              \"Applying\": categories[2], \n",
    "                              \"Creating\": categories[5], \n",
    "                              \"Evaluating\": : categories[4], \n",
    "                              \"Remembering\": categories[0], \n",
    "                              \"Understanding\": categories[2]})"
   ]
  },
  {
   "cell_type": "code",
   "execution_count": 39,
   "metadata": {},
   "outputs": [
    {
     "data": {
      "text/plain": [
       "['QUERY',\n",
       " 'REMEMBERING',\n",
       " 'UNDERSTANDING',\n",
       " 'APPLYING',\n",
       " 'ANALYZING',\n",
       " 'EVALUATING',\n",
       " 'CREATING']"
      ]
     },
     "execution_count": 39,
     "metadata": {},
     "output_type": "execute_result"
    }
   ],
   "source": [
    "list(np.append(np.array([\"QUERY\"]), categories))"
   ]
  },
  {
   "cell_type": "code",
   "execution_count": 45,
   "metadata": {},
   "outputs": [
    {
     "data": {
      "text/html": [
       "<div>\n",
       "<style scoped>\n",
       "    .dataframe tbody tr th:only-of-type {\n",
       "        vertical-align: middle;\n",
       "    }\n",
       "\n",
       "    .dataframe tbody tr th {\n",
       "        vertical-align: top;\n",
       "    }\n",
       "\n",
       "    .dataframe thead th {\n",
       "        text-align: right;\n",
       "    }\n",
       "</style>\n",
       "<table border=\"1\" class=\"dataframe\">\n",
       "  <thead>\n",
       "    <tr style=\"text-align: right;\">\n",
       "      <th></th>\n",
       "      <th>QUERY</th>\n",
       "      <th>REMEMBERING</th>\n",
       "      <th>UNDERSTANDING</th>\n",
       "      <th>APPLYING</th>\n",
       "      <th>ANALYZING</th>\n",
       "      <th>EVALUATING</th>\n",
       "      <th>CREATING</th>\n",
       "    </tr>\n",
       "  </thead>\n",
       "  <tbody>\n",
       "    <tr>\n",
       "      <th>0</th>\n",
       "      <td>\"last night i had a horrible nightmare”, said ...</td>\n",
       "      <td>0.0</td>\n",
       "      <td>1.0</td>\n",
       "      <td>0.0</td>\n",
       "      <td>1.0</td>\n",
       "      <td>0.0</td>\n",
       "      <td>0.0</td>\n",
       "    </tr>\n",
       "    <tr>\n",
       "      <th>1</th>\n",
       "      <td>\"their own language\" means  _  .</td>\n",
       "      <td>1.0</td>\n",
       "      <td>0.0</td>\n",
       "      <td>0.0</td>\n",
       "      <td>0.0</td>\n",
       "      <td>0.0</td>\n",
       "      <td>0.0</td>\n",
       "    </tr>\n",
       "    <tr>\n",
       "      <th>2</th>\n",
       "      <td>\"you may think the popular singer jay chow is ...</td>\n",
       "      <td>0.0</td>\n",
       "      <td>1.0</td>\n",
       "      <td>0.0</td>\n",
       "      <td>0.0</td>\n",
       "      <td>0.0</td>\n",
       "      <td>0.0</td>\n",
       "    </tr>\n",
       "    <tr>\n",
       "      <th>3</th>\n",
       "      <td>( from 5:59 to ~7:00 ) would n't the amount of...</td>\n",
       "      <td>0.0</td>\n",
       "      <td>1.0</td>\n",
       "      <td>0.0</td>\n",
       "      <td>1.0</td>\n",
       "      <td>0.0</td>\n",
       "      <td>0.0</td>\n",
       "    </tr>\n",
       "    <tr>\n",
       "      <th>4</th>\n",
       "      <td>(iv) the possibility of real-time online opera...</td>\n",
       "      <td>1.0</td>\n",
       "      <td>1.0</td>\n",
       "      <td>0.0</td>\n",
       "      <td>0.0</td>\n",
       "      <td>0.0</td>\n",
       "      <td>0.0</td>\n",
       "    </tr>\n",
       "  </tbody>\n",
       "</table>\n",
       "</div>"
      ],
      "text/plain": [
       "                                               QUERY  REMEMBERING  \\\n",
       "0  \"last night i had a horrible nightmare”, said ...          0.0   \n",
       "1                   \"their own language\" means  _  .          1.0   \n",
       "2  \"you may think the popular singer jay chow is ...          0.0   \n",
       "3  ( from 5:59 to ~7:00 ) would n't the amount of...          0.0   \n",
       "4  (iv) the possibility of real-time online opera...          1.0   \n",
       "\n",
       "   UNDERSTANDING  APPLYING  ANALYZING  EVALUATING  CREATING  \n",
       "0            1.0       0.0        1.0         0.0       0.0  \n",
       "1            0.0       0.0        0.0         0.0       0.0  \n",
       "2            1.0       0.0        0.0         0.0       0.0  \n",
       "3            1.0       0.0        1.0         0.0       0.0  \n",
       "4            1.0       0.0        0.0         0.0       0.0  "
      ]
     },
     "execution_count": 45,
     "metadata": {},
     "output_type": "execute_result"
    }
   ],
   "source": [
    "questions = questions[list(np.append(np.array([\"QUERY\"]), categories))]\n",
    "questions.head()"
   ]
  },
  {
   "cell_type": "code",
   "execution_count": 46,
   "metadata": {},
   "outputs": [
    {
     "data": {
      "text/plain": [
       "(1389, 7)"
      ]
     },
     "execution_count": 46,
     "metadata": {},
     "output_type": "execute_result"
    }
   ],
   "source": [
    "questions.shape"
   ]
  },
  {
   "cell_type": "code",
   "execution_count": 48,
   "metadata": {},
   "outputs": [
    {
     "data": {
      "text/plain": [
       "REMEMBERING      628.0\n",
       "UNDERSTANDING    418.0\n",
       "APPLYING         182.0\n",
       "ANALYZING        219.0\n",
       "EVALUATING       137.0\n",
       "CREATING         106.0\n",
       "dtype: float64"
      ]
     },
     "execution_count": 48,
     "metadata": {},
     "output_type": "execute_result"
    }
   ],
   "source": [
    "questions[categories].sum()"
   ]
  },
  {
   "cell_type": "markdown",
   "metadata": {},
   "source": [
    "*Distribution du jeu de données*"
   ]
  },
  {
   "cell_type": "markdown",
   "metadata": {},
   "source": [
    "### Jeu de donnéees obtenu de *Learning Q DataSet*"
   ]
  },
  {
   "cell_type": "code",
   "execution_count": 63,
   "metadata": {},
   "outputs": [
    {
     "data": {
      "text/html": [
       "<div>\n",
       "<style scoped>\n",
       "    .dataframe tbody tr th:only-of-type {\n",
       "        vertical-align: middle;\n",
       "    }\n",
       "\n",
       "    .dataframe tbody tr th {\n",
       "        vertical-align: top;\n",
       "    }\n",
       "\n",
       "    .dataframe thead th {\n",
       "        text-align: right;\n",
       "    }\n",
       "</style>\n",
       "<table border=\"1\" class=\"dataframe\">\n",
       "  <thead>\n",
       "    <tr style=\"text-align: right;\">\n",
       "      <th></th>\n",
       "      <th>text</th>\n",
       "      <th>target</th>\n",
       "    </tr>\n",
       "  </thead>\n",
       "  <tbody>\n",
       "    <tr>\n",
       "      <th>1354</th>\n",
       "      <td>how many multiplication signs are there ?</td>\n",
       "      <td>0</td>\n",
       "    </tr>\n",
       "    <tr>\n",
       "      <th>138018</th>\n",
       "      <td>is this possible : '' 2wc ( sub.2 ) '' ?</td>\n",
       "      <td>5</td>\n",
       "    </tr>\n",
       "    <tr>\n",
       "      <th>33498</th>\n",
       "      <td>in the limit of f ( x ) as x approaches negati...</td>\n",
       "      <td>1</td>\n",
       "    </tr>\n",
       "    <tr>\n",
       "      <th>114579</th>\n",
       "      <td>does the molecule nclo ( nitrogen , chlorine ,...</td>\n",
       "      <td>0</td>\n",
       "    </tr>\n",
       "    <tr>\n",
       "      <th>112261</th>\n",
       "      <td>at 3:57 what is the name of the cell that is p...</td>\n",
       "      <td>0</td>\n",
       "    </tr>\n",
       "  </tbody>\n",
       "</table>\n",
       "</div>"
      ],
      "text/plain": [
       "                                                     text  target\n",
       "1354            how many multiplication signs are there ?       0\n",
       "138018           is this possible : '' 2wc ( sub.2 ) '' ?       5\n",
       "33498   in the limit of f ( x ) as x approaches negati...       1\n",
       "114579  does the molecule nclo ( nitrogen , chlorine ,...       0\n",
       "112261  at 3:57 what is the name of the cell that is p...       0"
      ]
     },
     "execution_count": 63,
     "metadata": {},
     "output_type": "execute_result"
    }
   ],
   "source": [
    "learning_questions = pd.read_csv(\"./input/tgt-train-class.csv\")\n",
    "learning_questions.sample(5)"
   ]
  },
  {
   "cell_type": "code",
   "execution_count": 64,
   "metadata": {},
   "outputs": [
    {
     "data": {
      "text/html": [
       "<div>\n",
       "<style scoped>\n",
       "    .dataframe tbody tr th:only-of-type {\n",
       "        vertical-align: middle;\n",
       "    }\n",
       "\n",
       "    .dataframe tbody tr th {\n",
       "        vertical-align: top;\n",
       "    }\n",
       "\n",
       "    .dataframe thead th {\n",
       "        text-align: right;\n",
       "    }\n",
       "</style>\n",
       "<table border=\"1\" class=\"dataframe\">\n",
       "  <thead>\n",
       "    <tr style=\"text-align: right;\">\n",
       "      <th></th>\n",
       "      <th>text</th>\n",
       "      <th>target</th>\n",
       "      <th>REMEMBERING</th>\n",
       "      <th>UNDERSTANDING</th>\n",
       "      <th>APPLYING</th>\n",
       "      <th>ANALYZING</th>\n",
       "      <th>EVALUATING</th>\n",
       "      <th>CREATING</th>\n",
       "    </tr>\n",
       "  </thead>\n",
       "  <tbody>\n",
       "    <tr>\n",
       "      <th>0</th>\n",
       "      <td>what would a diode look like on a circuit board ?</td>\n",
       "      <td>4</td>\n",
       "      <td>0</td>\n",
       "      <td>0</td>\n",
       "      <td>0</td>\n",
       "      <td>0</td>\n",
       "      <td>1</td>\n",
       "      <td>0</td>\n",
       "    </tr>\n",
       "    <tr>\n",
       "      <th>1</th>\n",
       "      <td>what is the direction of current in a circuit ...</td>\n",
       "      <td>0</td>\n",
       "      <td>1</td>\n",
       "      <td>0</td>\n",
       "      <td>0</td>\n",
       "      <td>0</td>\n",
       "      <td>0</td>\n",
       "      <td>0</td>\n",
       "    </tr>\n",
       "    <tr>\n",
       "      <th>2</th>\n",
       "      <td>electron flow vs proton flow ?</td>\n",
       "      <td>4</td>\n",
       "      <td>0</td>\n",
       "      <td>0</td>\n",
       "      <td>0</td>\n",
       "      <td>0</td>\n",
       "      <td>1</td>\n",
       "      <td>0</td>\n",
       "    </tr>\n",
       "    <tr>\n",
       "      <th>3</th>\n",
       "      <td>why do n't the graphs at 2:33 beyond the momen...</td>\n",
       "      <td>5</td>\n",
       "      <td>0</td>\n",
       "      <td>0</td>\n",
       "      <td>0</td>\n",
       "      <td>0</td>\n",
       "      <td>0</td>\n",
       "      <td>1</td>\n",
       "    </tr>\n",
       "    <tr>\n",
       "      <th>4</th>\n",
       "      <td>ie what should the graph look like for higher ...</td>\n",
       "      <td>5</td>\n",
       "      <td>0</td>\n",
       "      <td>0</td>\n",
       "      <td>0</td>\n",
       "      <td>0</td>\n",
       "      <td>0</td>\n",
       "      <td>1</td>\n",
       "    </tr>\n",
       "  </tbody>\n",
       "</table>\n",
       "</div>"
      ],
      "text/plain": [
       "                                                text  target  REMEMBERING  \\\n",
       "0  what would a diode look like on a circuit board ?       4            0   \n",
       "1  what is the direction of current in a circuit ...       0            1   \n",
       "2                     electron flow vs proton flow ?       4            0   \n",
       "3  why do n't the graphs at 2:33 beyond the momen...       5            0   \n",
       "4  ie what should the graph look like for higher ...       5            0   \n",
       "\n",
       "   UNDERSTANDING  APPLYING  ANALYZING  EVALUATING  CREATING  \n",
       "0              0         0          0           1         0  \n",
       "1              0         0          0           0         0  \n",
       "2              0         0          0           1         0  \n",
       "3              0         0          0           0         1  \n",
       "4              0         0          0           0         1  "
      ]
     },
     "execution_count": 64,
     "metadata": {},
     "output_type": "execute_result"
    }
   ],
   "source": [
    "for i, category in enumerate(categories):\n",
    "    learning_questions[category] = (learning_questions[\"target\"]==i).astype(np.int)\n",
    "learning_questions.head()"
   ]
  },
  {
   "cell_type": "code",
   "execution_count": 65,
   "metadata": {},
   "outputs": [
    {
     "data": {
      "text/html": [
       "<div>\n",
       "<style scoped>\n",
       "    .dataframe tbody tr th:only-of-type {\n",
       "        vertical-align: middle;\n",
       "    }\n",
       "\n",
       "    .dataframe tbody tr th {\n",
       "        vertical-align: top;\n",
       "    }\n",
       "\n",
       "    .dataframe thead th {\n",
       "        text-align: right;\n",
       "    }\n",
       "</style>\n",
       "<table border=\"1\" class=\"dataframe\">\n",
       "  <thead>\n",
       "    <tr style=\"text-align: right;\">\n",
       "      <th></th>\n",
       "      <th>QUERY</th>\n",
       "      <th>REMEMBERING</th>\n",
       "      <th>UNDERSTANDING</th>\n",
       "      <th>APPLYING</th>\n",
       "      <th>ANALYZING</th>\n",
       "      <th>EVALUATING</th>\n",
       "      <th>CREATING</th>\n",
       "    </tr>\n",
       "  </thead>\n",
       "  <tbody>\n",
       "    <tr>\n",
       "      <th>113289</th>\n",
       "      <td>why do the yellow lines have two arrows ?</td>\n",
       "      <td>0</td>\n",
       "      <td>0</td>\n",
       "      <td>0</td>\n",
       "      <td>0</td>\n",
       "      <td>0</td>\n",
       "      <td>1</td>\n",
       "    </tr>\n",
       "    <tr>\n",
       "      <th>47557</th>\n",
       "      <td>at 2:44 theres a car horn ?</td>\n",
       "      <td>1</td>\n",
       "      <td>0</td>\n",
       "      <td>0</td>\n",
       "      <td>0</td>\n",
       "      <td>0</td>\n",
       "      <td>0</td>\n",
       "    </tr>\n",
       "    <tr>\n",
       "      <th>185946</th>\n",
       "      <td>how would you use the velocity to find the x a...</td>\n",
       "      <td>0</td>\n",
       "      <td>0</td>\n",
       "      <td>0</td>\n",
       "      <td>0</td>\n",
       "      <td>0</td>\n",
       "      <td>1</td>\n",
       "    </tr>\n",
       "    <tr>\n",
       "      <th>1925</th>\n",
       "      <td>how do you make a flexagon without a pattern ?</td>\n",
       "      <td>0</td>\n",
       "      <td>0</td>\n",
       "      <td>0</td>\n",
       "      <td>1</td>\n",
       "      <td>0</td>\n",
       "      <td>0</td>\n",
       "    </tr>\n",
       "    <tr>\n",
       "      <th>17144</th>\n",
       "      <td>how can we calculate the theoretical probabili...</td>\n",
       "      <td>0</td>\n",
       "      <td>0</td>\n",
       "      <td>0</td>\n",
       "      <td>1</td>\n",
       "      <td>0</td>\n",
       "      <td>0</td>\n",
       "    </tr>\n",
       "  </tbody>\n",
       "</table>\n",
       "</div>"
      ],
      "text/plain": [
       "                                                    QUERY  REMEMBERING  \\\n",
       "113289          why do the yellow lines have two arrows ?            0   \n",
       "47557                         at 2:44 theres a car horn ?            1   \n",
       "185946  how would you use the velocity to find the x a...            0   \n",
       "1925       how do you make a flexagon without a pattern ?            0   \n",
       "17144   how can we calculate the theoretical probabili...            0   \n",
       "\n",
       "        UNDERSTANDING  APPLYING  ANALYZING  EVALUATING  CREATING  \n",
       "113289              0         0          0           0         1  \n",
       "47557               0         0          0           0         0  \n",
       "185946              0         0          0           0         1  \n",
       "1925                0         0          1           0         0  \n",
       "17144               0         0          1           0         0  "
      ]
     },
     "execution_count": 65,
     "metadata": {},
     "output_type": "execute_result"
    }
   ],
   "source": [
    "learning_questions.drop(columns=[\"target\"], inplace=True)\n",
    "learning_questions.rename(columns={\"text\": \"QUERY\"}, inplace=True)\n",
    "learning_questions.sample(5)"
   ]
  },
  {
   "cell_type": "code",
   "execution_count": 52,
   "metadata": {},
   "outputs": [
    {
     "data": {
      "text/plain": [
       "(188660, 7)"
      ]
     },
     "execution_count": 52,
     "metadata": {},
     "output_type": "execute_result"
    }
   ],
   "source": [
    "learning_questions.shape"
   ]
  },
  {
   "cell_type": "code",
   "execution_count": 53,
   "metadata": {},
   "outputs": [
    {
     "data": {
      "text/plain": [
       "REMEMBERING      45376\n",
       "UNDERSTANDING     8313\n",
       "APPLYING         23334\n",
       "ANALYZING        39878\n",
       "EVALUATING       16573\n",
       "CREATING         55186\n",
       "dtype: int64"
      ]
     },
     "execution_count": 53,
     "metadata": {},
     "output_type": "execute_result"
    }
   ],
   "source": [
    "learning_questions[categories].sum()"
   ]
  },
  {
   "cell_type": "markdown",
   "metadata": {},
   "source": [
    "*Nous obtenons cette distribution pour chaque classe*"
   ]
  },
  {
   "cell_type": "code",
   "execution_count": 55,
   "metadata": {},
   "outputs": [
    {
     "data": {
      "text/plain": [
       "<matplotlib.axes._subplots.AxesSubplot at 0x7fce481b9048>"
      ]
     },
     "execution_count": 55,
     "metadata": {},
     "output_type": "execute_result"
    },
    {
     "data": {
      "image/png": "[encoded data removed]",
      "text/plain": [
       "<Figure size 360x360 with 1 Axes>"
      ]
     },
     "metadata": {},
     "output_type": "display_data"
    }
   ],
   "source": [
    "questions[categories].sum().plot.pie(figsize=(5, 5))"
   ]
  },
  {
   "cell_type": "code",
   "execution_count": 57,
   "metadata": {},
   "outputs": [
    {
     "data": {
      "text/plain": [
       "<matplotlib.axes._subplots.AxesSubplot at 0x7fce47c04048>"
      ]
     },
     "execution_count": 57,
     "metadata": {},
     "output_type": "execute_result"
    },
    {
     "data": {
      "image/png": "[encoded data removed]",
      "text/plain": [
       "<Figure size 360x360 with 1 Axes>"
      ]
     },
     "metadata": {},
     "output_type": "display_data"
    }
   ],
   "source": [
    "learning_questions[categories].sum().plot.pie(figsize=(5, 5))"
   ]
  },
  {
   "cell_type": "markdown",
   "metadata": {},
   "source": [
    "*Taille du jeu de données final*"
   ]
  },
  {
   "cell_type": "code",
   "execution_count": 58,
   "metadata": {},
   "outputs": [
    {
     "data": {
      "text/plain": [
       "190049"
      ]
     },
     "execution_count": 58,
     "metadata": {},
     "output_type": "execute_result"
    }
   ],
   "source": [
    "learning_questions.shape[0] + questions.shape[0]"
   ]
  },
  {
   "cell_type": "code",
   "execution_count": 60,
   "metadata": {},
   "outputs": [
    {
     "data": {
      "text/plain": [
       "REMEMBERING      False\n",
       "UNDERSTANDING    False\n",
       "APPLYING         False\n",
       "ANALYZING        False\n",
       "EVALUATING       False\n",
       "CREATING         False\n",
       "dtype: bool"
      ]
     },
     "execution_count": 60,
     "metadata": {},
     "output_type": "execute_result"
    }
   ],
   "source": [
    "questions[categories].sum(axis=1) == 1"
   ]
  },
  {
   "cell_type": "code",
   "execution_count": 61,
   "metadata": {},
   "outputs": [
    {
     "data": {
      "text/html": [
       "<div>\n",
       "<style scoped>\n",
       "    .dataframe tbody tr th:only-of-type {\n",
       "        vertical-align: middle;\n",
       "    }\n",
       "\n",
       "    .dataframe tbody tr th {\n",
       "        vertical-align: top;\n",
       "    }\n",
       "\n",
       "    .dataframe thead th {\n",
       "        text-align: right;\n",
       "    }\n",
       "</style>\n",
       "<table border=\"1\" class=\"dataframe\">\n",
       "  <thead>\n",
       "    <tr style=\"text-align: right;\">\n",
       "      <th></th>\n",
       "      <th>QUERY</th>\n",
       "      <th>REMEMBERING</th>\n",
       "      <th>UNDERSTANDING</th>\n",
       "      <th>APPLYING</th>\n",
       "      <th>ANALYZING</th>\n",
       "      <th>EVALUATING</th>\n",
       "      <th>CREATING</th>\n",
       "    </tr>\n",
       "  </thead>\n",
       "  <tbody>\n",
       "    <tr>\n",
       "      <th>1</th>\n",
       "      <td>\"their own language\" means  _  .</td>\n",
       "      <td>1.0</td>\n",
       "      <td>0.0</td>\n",
       "      <td>0.0</td>\n",
       "      <td>0.0</td>\n",
       "      <td>0.0</td>\n",
       "      <td>0.0</td>\n",
       "    </tr>\n",
       "    <tr>\n",
       "      <th>2</th>\n",
       "      <td>\"you may think the popular singer jay chow is ...</td>\n",
       "      <td>0.0</td>\n",
       "      <td>1.0</td>\n",
       "      <td>0.0</td>\n",
       "      <td>0.0</td>\n",
       "      <td>0.0</td>\n",
       "      <td>0.0</td>\n",
       "    </tr>\n",
       "    <tr>\n",
       "      <th>6</th>\n",
       "      <td>. at midnight, nasreddin saw   _  in his garden.</td>\n",
       "      <td>1.0</td>\n",
       "      <td>0.0</td>\n",
       "      <td>0.0</td>\n",
       "      <td>0.0</td>\n",
       "      <td>0.0</td>\n",
       "      <td>0.0</td>\n",
       "    </tr>\n",
       "    <tr>\n",
       "      <th>7</th>\n",
       "      <td>. david beckham  is   _   years old.</td>\n",
       "      <td>1.0</td>\n",
       "      <td>0.0</td>\n",
       "      <td>0.0</td>\n",
       "      <td>0.0</td>\n",
       "      <td>0.0</td>\n",
       "      <td>0.0</td>\n",
       "    </tr>\n",
       "    <tr>\n",
       "      <th>8</th>\n",
       "      <td>. david beckham's family name is   _  and zhou...</td>\n",
       "      <td>1.0</td>\n",
       "      <td>0.0</td>\n",
       "      <td>0.0</td>\n",
       "      <td>0.0</td>\n",
       "      <td>0.0</td>\n",
       "      <td>0.0</td>\n",
       "    </tr>\n",
       "    <tr>\n",
       "      <th>...</th>\n",
       "      <td>...</td>\n",
       "      <td>...</td>\n",
       "      <td>...</td>\n",
       "      <td>...</td>\n",
       "      <td>...</td>\n",
       "      <td>...</td>\n",
       "      <td>...</td>\n",
       "    </tr>\n",
       "    <tr>\n",
       "      <th>1384</th>\n",
       "      <td>Zhao haitao is proud of his father because his...</td>\n",
       "      <td>1.0</td>\n",
       "      <td>0.0</td>\n",
       "      <td>0.0</td>\n",
       "      <td>0.0</td>\n",
       "      <td>0.0</td>\n",
       "      <td>0.0</td>\n",
       "    </tr>\n",
       "    <tr>\n",
       "      <th>1385</th>\n",
       "      <td>Zjenja mentioned exciting opportunities within...</td>\n",
       "      <td>1.0</td>\n",
       "      <td>0.0</td>\n",
       "      <td>0.0</td>\n",
       "      <td>0.0</td>\n",
       "      <td>0.0</td>\n",
       "      <td>0.0</td>\n",
       "    </tr>\n",
       "    <tr>\n",
       "      <th>1386</th>\n",
       "      <td>_   and   _   are from taiwan.</td>\n",
       "      <td>1.0</td>\n",
       "      <td>0.0</td>\n",
       "      <td>0.0</td>\n",
       "      <td>0.0</td>\n",
       "      <td>0.0</td>\n",
       "      <td>0.0</td>\n",
       "    </tr>\n",
       "    <tr>\n",
       "      <th>1387</th>\n",
       "      <td>_   must be disappointed in the end.</td>\n",
       "      <td>0.0</td>\n",
       "      <td>1.0</td>\n",
       "      <td>0.0</td>\n",
       "      <td>0.0</td>\n",
       "      <td>0.0</td>\n",
       "      <td>0.0</td>\n",
       "    </tr>\n",
       "    <tr>\n",
       "      <th>1388</th>\n",
       "      <td>_  learn english.</td>\n",
       "      <td>1.0</td>\n",
       "      <td>0.0</td>\n",
       "      <td>0.0</td>\n",
       "      <td>0.0</td>\n",
       "      <td>0.0</td>\n",
       "      <td>0.0</td>\n",
       "    </tr>\n",
       "  </tbody>\n",
       "</table>\n",
       "<p>1139 rows × 7 columns</p>\n",
       "</div>"
      ],
      "text/plain": [
       "                                                  QUERY  REMEMBERING  \\\n",
       "1                      \"their own language\" means  _  .          1.0   \n",
       "2     \"you may think the popular singer jay chow is ...          0.0   \n",
       "6      . at midnight, nasreddin saw   _  in his garden.          1.0   \n",
       "7                  . david beckham  is   _   years old.          1.0   \n",
       "8     . david beckham's family name is   _  and zhou...          1.0   \n",
       "...                                                 ...          ...   \n",
       "1384  Zhao haitao is proud of his father because his...          1.0   \n",
       "1385  Zjenja mentioned exciting opportunities within...          1.0   \n",
       "1386                     _   and   _   are from taiwan.          1.0   \n",
       "1387               _   must be disappointed in the end.          0.0   \n",
       "1388                                  _  learn english.          1.0   \n",
       "\n",
       "      UNDERSTANDING  APPLYING  ANALYZING  EVALUATING  CREATING  \n",
       "1               0.0       0.0        0.0         0.0       0.0  \n",
       "2               1.0       0.0        0.0         0.0       0.0  \n",
       "6               0.0       0.0        0.0         0.0       0.0  \n",
       "7               0.0       0.0        0.0         0.0       0.0  \n",
       "8               0.0       0.0        0.0         0.0       0.0  \n",
       "...             ...       ...        ...         ...       ...  \n",
       "1384            0.0       0.0        0.0         0.0       0.0  \n",
       "1385            0.0       0.0        0.0         0.0       0.0  \n",
       "1386            0.0       0.0        0.0         0.0       0.0  \n",
       "1387            1.0       0.0        0.0         0.0       0.0  \n",
       "1388            0.0       0.0        0.0         0.0       0.0  \n",
       "\n",
       "[1139 rows x 7 columns]"
      ]
     },
     "execution_count": 61,
     "metadata": {},
     "output_type": "execute_result"
    }
   ],
   "source": [
    "questions[questions[categories].sum(axis=1) == 1]"
   ]
  },
  {
   "cell_type": "code",
   "execution_count": 66,
   "metadata": {},
   "outputs": [
    {
     "data": {
      "text/html": [
       "<div>\n",
       "<style scoped>\n",
       "    .dataframe tbody tr th:only-of-type {\n",
       "        vertical-align: middle;\n",
       "    }\n",
       "\n",
       "    .dataframe tbody tr th {\n",
       "        vertical-align: top;\n",
       "    }\n",
       "\n",
       "    .dataframe thead th {\n",
       "        text-align: right;\n",
       "    }\n",
       "</style>\n",
       "<table border=\"1\" class=\"dataframe\">\n",
       "  <thead>\n",
       "    <tr style=\"text-align: right;\">\n",
       "      <th></th>\n",
       "      <th>QUERY</th>\n",
       "      <th>REMEMBERING</th>\n",
       "      <th>UNDERSTANDING</th>\n",
       "      <th>APPLYING</th>\n",
       "      <th>ANALYZING</th>\n",
       "      <th>EVALUATING</th>\n",
       "      <th>CREATING</th>\n",
       "    </tr>\n",
       "  </thead>\n",
       "  <tbody>\n",
       "    <tr>\n",
       "      <th>0</th>\n",
       "      <td>\"their own language\" means  _  .</td>\n",
       "      <td>1.0</td>\n",
       "      <td>0.0</td>\n",
       "      <td>0.0</td>\n",
       "      <td>0.0</td>\n",
       "      <td>0.0</td>\n",
       "      <td>0.0</td>\n",
       "    </tr>\n",
       "    <tr>\n",
       "      <th>1</th>\n",
       "      <td>\"you may think the popular singer jay chow is ...</td>\n",
       "      <td>0.0</td>\n",
       "      <td>1.0</td>\n",
       "      <td>0.0</td>\n",
       "      <td>0.0</td>\n",
       "      <td>0.0</td>\n",
       "      <td>0.0</td>\n",
       "    </tr>\n",
       "    <tr>\n",
       "      <th>2</th>\n",
       "      <td>. at midnight, nasreddin saw   _  in his garden.</td>\n",
       "      <td>1.0</td>\n",
       "      <td>0.0</td>\n",
       "      <td>0.0</td>\n",
       "      <td>0.0</td>\n",
       "      <td>0.0</td>\n",
       "      <td>0.0</td>\n",
       "    </tr>\n",
       "    <tr>\n",
       "      <th>3</th>\n",
       "      <td>. david beckham  is   _   years old.</td>\n",
       "      <td>1.0</td>\n",
       "      <td>0.0</td>\n",
       "      <td>0.0</td>\n",
       "      <td>0.0</td>\n",
       "      <td>0.0</td>\n",
       "      <td>0.0</td>\n",
       "    </tr>\n",
       "    <tr>\n",
       "      <th>4</th>\n",
       "      <td>. david beckham's family name is   _  and zhou...</td>\n",
       "      <td>1.0</td>\n",
       "      <td>0.0</td>\n",
       "      <td>0.0</td>\n",
       "      <td>0.0</td>\n",
       "      <td>0.0</td>\n",
       "      <td>0.0</td>\n",
       "    </tr>\n",
       "  </tbody>\n",
       "</table>\n",
       "</div>"
      ],
      "text/plain": [
       "                                               QUERY  REMEMBERING  \\\n",
       "0                   \"their own language\" means  _  .          1.0   \n",
       "1  \"you may think the popular singer jay chow is ...          0.0   \n",
       "2   . at midnight, nasreddin saw   _  in his garden.          1.0   \n",
       "3               . david beckham  is   _   years old.          1.0   \n",
       "4  . david beckham's family name is   _  and zhou...          1.0   \n",
       "\n",
       "   UNDERSTANDING  APPLYING  ANALYZING  EVALUATING  CREATING  \n",
       "0            0.0       0.0        0.0         0.0       0.0  \n",
       "1            1.0       0.0        0.0         0.0       0.0  \n",
       "2            0.0       0.0        0.0         0.0       0.0  \n",
       "3            0.0       0.0        0.0         0.0       0.0  \n",
       "4            0.0       0.0        0.0         0.0       0.0  "
      ]
     },
     "metadata": {},
     "output_type": "display_data"
    },
    {
     "name": "stdout",
     "output_type": "stream",
     "text": [
      "Shape Of Final DataFrame (189799, 7)\n"
     ]
    }
   ],
   "source": [
    "df = pd.concat([questions[questions[categories].sum(axis=1) == 1], learning_questions], ignore_index=True)\n",
    "display.display(df.head())\n",
    "print(f\"Shape Of Final DataFrame {df.shape}\")"
   ]
  },
  {
   "cell_type": "code",
   "execution_count": 67,
   "metadata": {},
   "outputs": [
    {
     "data": {
      "text/plain": [
       "REMEMBERING      45873.0\n",
       "UNDERSTANDING     8520.0\n",
       "APPLYING         23453.0\n",
       "ANALYZING        39990.0\n",
       "EVALUATING       16677.0\n",
       "CREATING         55286.0\n",
       "dtype: float64"
      ]
     },
     "execution_count": 67,
     "metadata": {},
     "output_type": "execute_result"
    }
   ],
   "source": [
    "df[categories].sum()"
   ]
  },
  {
   "cell_type": "code",
   "execution_count": 68,
   "metadata": {},
   "outputs": [
    {
     "data": {
      "text/plain": [
       "<matplotlib.axes._subplots.AxesSubplot at 0x7fce3ff372e8>"
      ]
     },
     "execution_count": 68,
     "metadata": {},
     "output_type": "execute_result"
    },
    {
     "data": {
      "image/png": "[encoded data removed]",
      "text/plain": [
       "<Figure size 360x360 with 1 Axes>"
      ]
     },
     "metadata": {},
     "output_type": "display_data"
    }
   ],
   "source": [
    "df[categories].sum().plot.pie(figsize=(5, 5))"
   ]
  },
  {
   "cell_type": "code",
   "execution_count": 69,
   "metadata": {},
   "outputs": [],
   "source": [
    "df.to_csv(\"./output/queries_df.csv\", index=False, header=True)"
   ]
  },
  {
   "cell_type": "code",
   "execution_count": null,
   "metadata": {},
   "outputs": [],
   "source": []
  }
 ],
 "metadata": {
  "kernelspec": {
   "display_name": "Python 3",
   "language": "python",
   "name": "python3"
  },
  "language_info": {
   "codemirror_mode": {
    "name": "ipython",
    "version": 3
   },
   "file_extension": ".py",
   "mimetype": "text/x-python",
   "name": "python",
   "nbconvert_exporter": "python",
   "pygments_lexer": "ipython3",
   "version": "3.6.10"
  }
 },
 "nbformat": 4,
 "nbformat_minor": 4
}
